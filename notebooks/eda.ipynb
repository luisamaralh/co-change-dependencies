{
 "nbformat": 4,
 "nbformat_minor": 2,
 "metadata": {
  "language_info": {
   "name": "python",
   "codemirror_mode": {
    "name": "ipython",
    "version": 3
   },
   "version": "3.7.3"
  },
  "orig_nbformat": 2,
  "file_extension": ".py",
  "mimetype": "text/x-python",
  "name": "python",
  "npconvert_exporter": "python",
  "pygments_lexer": "ipython3",
  "version": 3
 },
 "cells": [
  {
   "cell_type": "code",
   "execution_count": 1,
   "metadata": {},
   "outputs": [],
   "source": [
    "import pandas as pd"
   ]
  },
  {
   "cell_type": "code",
   "execution_count": 2,
   "metadata": {},
   "outputs": [],
   "source": [
    "# temporarily loads data for all commits\n",
    "tmp = pd.read_csv('assets/data/all_Storm_commits.csv', header=None, nrows=100)\n",
    "\n",
    "# transforms date column into datetime_index\n",
    "all_commits = pd.Series(tmp[0].values, index=tmp[1].values)\n",
    "all_commits.index = pd.to_datetime(all_commits.index, infer_datetime_format=True)\n",
    "\n",
    "# removes temporary dataframe\n",
    "del tmp\n",
    "\n",
    "# loads data for cochange count of each commit\n",
    "cochange_df =\\\n",
    "    pd.read_csv(\n",
    "        'assets/data/storm-cochange.tsv', header=None, nrows=100, sep='\\t'\n",
    "    )[[2,3,6]]\\\n",
    "    .rename(\n",
    "        columns={2: 'support_count', 3: 'confidence', 6: 'commit_hash'}\n",
    "    )"
   ]
  },
  {
   "cell_type": "code",
   "execution_count": null,
   "metadata": {},
   "outputs": [],
   "source": []
  }
 ]
}