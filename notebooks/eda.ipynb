{
 "nbformat": 4,
 "nbformat_minor": 2,
 "metadata": {
  "language_info": {
   "name": "python",
   "codemirror_mode": {
    "name": "ipython",
    "version": 3
   },
   "version": "3.7.3"
  },
  "orig_nbformat": 2,
  "file_extension": ".py",
  "mimetype": "text/x-python",
  "name": "python",
  "npconvert_exporter": "python",
  "pygments_lexer": "ipython3",
  "version": 3
 },
 "cells": [
  {
   "cell_type": "code",
   "metadata": {},
   "outputs": [],
   "source": [
    "import pandas as pd\n",
    "import numpy as np\n",
    "from src.eda_methods import show_barplot, load_data"
   ]
  },
  {
   "cell_type": "code",
   "metadata": {},
   "outputs": [],
   "source": [
    "old_commits, new_commits, cc_df, bic = load_data('accumulo')"
   ]
  },
  {
   "cell_type": "code",
   "metadata": {},
   "outputs": [],
   "source": [
    "# selects cochange of at least two components with confidence higher that 0.5\n",
    "relevant_cc =\\\n",
    "    cc_df[\n",
    "        (cc_df.support_count > 1) & (cc_df.confidence >= 0.5)\n",
    "    ].reset_index(drop=True).copy()\n",
    "\n",
    "# frees memory\n",
    "del cc_df"
   ]
  },
  {
   "cell_type": "markdown",
   "metadata": {},
   "outputs": [],
   "source": [
    "**Note** that the hashes for cochange are the same as in new_commits but the hashes for bug introducing commits (bic) is the same as in old_commits. Thus, we must convert bic hashes into new_commits hashes."
   ]
  },
  {
   "cell_type": "code",
   "metadata": {},
   "outputs": [],
   "source": [
    "# relevant_cc.iloc[0].commit_hash[0] in new_commits.values\n",
    "\n",
    "# drops duplicated hashes \n",
    "bic = bic[~bic.duplicated()].reset_index(drop=True)\n",
    "print('Number of bug introducing commits: {0}'.format(len(bic)))"
   ]
  },
  {
   "cell_type": "code",
   "metadata": {},
   "outputs": [],
   "source": [
    "# creates a dataframe to support conversion of old hashes into new ones\n",
    "conv_df = pd.DataFrame()\n",
    "conv_df['old_hash'] = old_commits.sort_index()\n",
    "conv_df['new_hash'] =\\\n",
    "    new_commits.sort_index()\\\n",
    "    .reset_index(drop=True)[\n",
    "        old_commits\\\n",
    "        .sort_index()\\\n",
    "        .reset_index(drop=True)\\\n",
    "        .index\n",
    "    ].values"
   ]
  },
  {
   "cell_type": "code",
   "metadata": {},
   "outputs": [],
   "source": [
    "# converts bic's old hashes into new ones\n",
    "bic =\\\n",
    "    conv_df.set_index('old_hash')\\\n",
    "    .squeeze()[bic.values]\\\n",
    "    .reset_index(drop=True)"
   ]
  },
  {
   "cell_type": "markdown",
   "metadata": {},
   "outputs": [],
   "source": [
    "### > How common is cochange in the project?"
   ]
  },
  {
   "cell_type": "code",
   "execution_count": 49,
   "metadata": {},
   "outputs": [
    {
     "name": "stdout",
     "output_type": "stream",
     "text": "0.067 of all commits show cochange between components (support > 1, confidence >= 0.5)\n"
    }
   ],
   "source": [
    "print(\n",
    "    '{0:.3f} of all commits show cochange between components (support > 1, confidence >= 0.5).'\n",
    "    .format(\n",
    "        len(np.unique(np.hstack(relevant_cc.commit_hash.values))) / len(np.unique(old_commits.values))\n",
    "    )\n",
    ")"
   ]
  },
  {
   "cell_type": "markdown",
   "metadata": {},
   "outputs": [],
   "source": [
    "### > How does cochange relate to the introduction of bugs?"
   ]
  },
  {
   "cell_type": "code",
   "metadata": {},
   "outputs": [],
   "source": [
    "# checks if any of the commits in a cochange observation introduced bugs\n",
    "overview = relevant_cc.commit_hash.apply(lambda x: True if any(y in np.sort(bic.values) for y in x) else False).describe()\n",
    "overview.name = 'Result of Shallow Analysis'"
   ]
  },
  {
   "cell_type": "code",
   "metadata": {},
   "outputs": [],
   "source": [
    "print(\n",
    "    'Percentage of commits with cochange (support > 1, confidence >= 0.5) that introduced bugs: {0:.3f}'\n",
    "    .format(\n",
    "        overview['freq'] / overview['count']\n",
    "        if overview['top'] == True\n",
    "        else 1 - (overview['freq'] / overview['count'])\n",
    "    )\n",
    ")\n"
   ]
  },
  {
   "cell_type": "code",
   "metadata": {},
   "outputs": [],
   "source": [
    "show_barplot(relevant_cc, 'support_count')"
   ]
  },
  {
   "cell_type": "code",
   "metadata": {},
   "outputs": [],
   "source": []
  }
 ]
}