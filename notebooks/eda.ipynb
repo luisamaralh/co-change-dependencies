{
 "cells": [
  {
   "cell_type": "code",
   "execution_count": 1,
   "metadata": {},
   "outputs": [],
   "source": [
    "import sys\n",
    "sys.path.append('../')\n",
    "import numpy as np\n",
    "import pandas as pd\n",
    "import seaborn as sns\n",
    "import matplotlib.pyplot as plt\n",
    "from src.eda_methods import show_barplot, load_data, load_data_all\n",
    "from pandas.plotting import register_matplotlib_converters\n",
    "\n",
    "pd.set_option('display.max_colwidth', 125)\n",
    "register_matplotlib_converters()"
   ]
  },
  {
   "cell_type": "code",
   "execution_count": 2,
   "metadata": {},
   "outputs": [],
   "source": [
    "# old_commits, new_commits, cc_df, bic = load_data('accumulo')\n",
    "old_commits, new_commits, cc_df, bic = load_data_all(nrows=300)\n",
    "\n",
    "old_commits = old_commits.droplevel(0).sort_index()\n",
    "new_commits = new_commits.droplevel(0).sort_index()\n",
    "cc_df = cc_df.droplevel(0).sort_index().reset_index(drop=True)\n",
    "bic = bic.droplevel(0).sort_index().reset_index(drop=True)"
   ]
  },
  {
   "cell_type": "code",
   "execution_count": 0,
   "metadata": {},
   "outputs": [],
   "source": [
    "# selects cochange of at least two components with confidence higher that 0.5\n",
    "relevant_cc =\\\n",
    "    cc_df[\n",
    "        (cc_df.support_count > 1) & (cc_df.confidence >= 0.5)\n",
    "    ].reset_index(drop=True).copy()\n",
    "\n",
    "# relevant_cc = cc_df.reset_index(drop=True).copy()\n",
    "\n",
    "# frees memory\n",
    "del cc_df"
   ]
  },
  {
   "cell_type": "markdown",
   "metadata": {},
   "outputs": [],
   "source": [
    "**Note** that the hashes for cochange are the same as in new_commits but the hashes for bug introducing commits (bic) is the same as in old_commits. Thus, we must convert bic hashes into new_commits hashes."
   ]
  },
  {
   "cell_type": "code",
   "execution_count": 0,
   "metadata": {},
   "outputs": [],
   "source": [
    "# relevant_cc.iloc[0].commit_hash[0] in new_commits.values\n",
    "\n",
    "# drops duplicated hashes \n",
    "bic = bic[~bic.duplicated()].reset_index(drop=True)\n",
    "print('Number of bug introducing commits: {0}'.format(len(bic)))"
   ]
  },
  {
   "cell_type": "code",
   "execution_count": 0,
   "metadata": {},
   "outputs": [],
   "source": [
    "# creates a dataframe to support conversion of old hashes into new ones\n",
    "conv_df = pd.DataFrame()\n",
    "conv_df['old_hash'] = old_commits.sort_index()\n",
    "conv_df['new_hash'] =\\\n",
    "    new_commits.sort_index()\\\n",
    "    .reset_index(drop=True)[\n",
    "        old_commits\\\n",
    "        .sort_index()\\\n",
    "        .reset_index(drop=True)\\\n",
    "        .index\n",
    "    ].values"
   ]
  },
  {
   "cell_type": "code",
   "execution_count": 0,
   "metadata": {},
   "outputs": [],
   "source": [
    "# converts bic's old hashes into new ones\n",
    "bic =\\\n",
    "    conv_df.set_index('old_hash')\\\n",
    "    .squeeze()[bic.values]\\\n",
    "    .reset_index(drop=True)\\\n",
    "    .fillna('thereAreNoHashesHereDueToSmallSampleSize')\n",
    "\n",
    "# frees memory\n",
    "del conv_df"
   ]
  },
  {
   "cell_type": "markdown",
   "metadata": {},
   "outputs": [],
   "source": [
    "### > How frequent are commits that introduce bugs?"
   ]
  },
  {
   "cell_type": "code",
   "execution_count": 0,
   "metadata": {},
   "outputs": [],
   "source": [
    "# len(np.unique(bic.values)) / len(np.unique(old_commits.values))\n",
    "len(np.intersect1d(bic.values, new_commits.values)) / len(np.unique(new_commits.values))"
   ]
  },
  {
   "cell_type": "markdown",
   "metadata": {},
   "outputs": [],
   "source": [
    "### > How common is cochange in the project?"
   ]
  },
  {
   "cell_type": "code",
   "execution_count": 0,
   "metadata": {},
   "outputs": [],
   "source": [
    "print(\n",
    "    '{0:.3f} of all commits show cochange dependency between components (support > 1, confidence >= 0.5).'\n",
    "    .format(\n",
    "        len(np.unique(np.hstack(relevant_cc.commit_hash.values))) / len(np.unique(old_commits.values))\n",
    "    )\n",
    ")"
   ]
  },
  {
   "cell_type": "markdown",
   "metadata": {},
   "outputs": [],
   "source": [
    "### > Of all commits with cochange dependency, how many introduce bugs?"
   ]
  },
  {
   "cell_type": "code",
   "execution_count": 0,
   "metadata": {},
   "outputs": [],
   "source": [
    "len(np.intersect1d(np.hstack(relevant_cc.commit_hash.values), bic.values)) / len(np.unique(np.hstack(relevant_cc.commit_hash.values)))"
   ]
  },
  {
   "cell_type": "markdown",
   "metadata": {},
   "outputs": [],
   "source": [
    "### > Of all commits that introduce bugs, how many have cochange dependency? (questionable)"
   ]
  },
  {
   "cell_type": "code",
   "execution_count": 0,
   "metadata": {},
   "outputs": [],
   "source": [
    "len(np.intersect1d(np.hstack(relevant_cc.commit_hash.values), bic.values)) / len(bic.values)"
   ]
  },
  {
   "cell_type": "markdown",
   "metadata": {},
   "outputs": [],
   "source": [
    "## Distribuition of bug introducing commits over cochange dependency support (level)"
   ]
  },
  {
   "cell_type": "markdown",
   "metadata": {},
   "outputs": [],
   "source": [
    "### > Broad Overview"
   ]
  },
  {
   "cell_type": "code",
   "execution_count": 0,
   "metadata": {},
   "outputs": [],
   "source": [
    "show_barplot(relevant_cc, 'support_count', y_logscale='log')"
   ]
  },
  {
   "cell_type": "markdown",
   "metadata": {},
   "outputs": [],
   "source": [
    "### > How many of the observations are unique?"
   ]
  },
  {
   "cell_type": "code",
   "execution_count": 0,
   "metadata": {},
   "outputs": [],
   "source": [
    "# hashes the list of commits to check for duplicates\n",
    "relevant_cc['id_hash'] = relevant_cc.commit_hash.apply(lambda x: hash(tuple(x)))"
   ]
  },
  {
   "cell_type": "code",
   "execution_count": 0,
   "metadata": {},
   "outputs": [],
   "source": [
    "print(\n",
    "    'Unique hashes of list of commit_hash: {0}\\n'\n",
    "    .format(\n",
    "        len(relevant_cc) - relevant_cc.set_index('id_hash').index.duplicated().sum()\n",
    "    )\n",
    "    + 'Should the order of components influence the co-change dependency (a,b != b,a ?)? It does at this time.'\n",
    ")"
   ]
  },
  {
   "cell_type": "code",
   "execution_count": 0,
   "metadata": {},
   "outputs": [],
   "source": [
    "unique_cc =\\\n",
    "    relevant_cc[\n",
    "        ~relevant_cc.set_index('id_hash')\n",
    "        .index.duplicated()\n",
    "    ].reset_index(drop=True).copy()\n",
    "\n",
    "unique_cc\n",
    "\n",
    "# frees memory\n",
    "del relevant_cc"
   ]
  },
  {
   "cell_type": "code",
   "execution_count": 0,
   "metadata": {},
   "outputs": [],
   "source": [
    "show_barplot(unique_cc, 'support_count', y_logscale=True)"
   ]
  },
  {
   "cell_type": "markdown",
   "metadata": {},
   "outputs": [],
   "source": [
    "### > How are bugs distributed over support_count categories?"
   ]
  },
  {
   "cell_type": "code",
   "execution_count": 0,
   "metadata": {},
   "outputs": [],
   "source": [
    "unique_cc['bic_count'] =\\\n",
    "    unique_cc['commit_hash'].apply(\n",
    "        lambda x: len(\n",
    "            [\n",
    "                commit_h for commit_h in x\n",
    "                if commit_h in bic.values\n",
    "            ]\n",
    "        )\n",
    "    )\n",
    "\n",
    "try:\n",
    "    unique_cc['bic_percent'] =\\\n",
    "        unique_cc[unique_cc['bic_count'] > 0][['commit_hash', 'bic_count']]\\\n",
    "        .apply(lambda x: x[1] / len(x[0]), axis=1)\n",
    "\n",
    "\n",
    "    unique_cc['bic_percent'] = unique_cc['bic_percent'].fillna(0.0)\n",
    "\n",
    "except ValueError:\n",
    "    unique_cc['bic_percent'] = unique_cc['commit_hash'].apply(lambda x: 0.0)"
   ]
  },
  {
   "cell_type": "code",
   "execution_count": 0,
   "metadata": {},
   "outputs": [],
   "source": [
    "for name, group in unique_cc.groupby('support_count'):\n",
    "    print('> Support count ', name)\n",
    "    print('Cochange instances: \\t\\t', len(group))\n",
    "    print('Cochange instances with bugs: \\t', group[group['bic_count'] > 0]['bic_count'].count())\n",
    "    print('Individual bic count: \\t\\t', group['bic_count'].sum(), '\\n')"
   ]
  },
  {
   "cell_type": "code",
   "execution_count": 0,
   "metadata": {},
   "outputs": [],
   "source": [
    "# sns.catplot();\n",
    "# unique_cc.groupby('support_count').agg(lambda x: x[x.bic_count > 0].bic_count.count() / len(x)).bic_count\n",
    "compare_cc_bugs = pd.DataFrame()\n",
    "compare_cc_bugs['cc_bugs'] = unique_cc.groupby('support_count').agg(lambda x: x[x.bic_count > 0].count()).bic_count\n",
    "compare_cc_bugs['cc_count'] = unique_cc.groupby('support_count').count().commit_hash\n",
    "compare_cc_bugs['cc_groups_with_bugs_percent'] = compare_cc_bugs.cc_bugs / compare_cc_bugs.cc_count\n",
    "compare_cc_bugs['unique_commits_with_bugs_percent'] = unique_cc.groupby('support_count').mean().bic_percent\n",
    "compare_cc_bugs['unique_commits_with_bugs_std'] = unique_cc.groupby('support_count').bic_percent.std().fillna(0.0)"
   ]
  },
  {
   "cell_type": "code",
   "execution_count": 0,
   "metadata": {},
   "outputs": [],
   "source": [
    "sns.set_style(\"whitegrid\", {'axes.grid' : False})\n",
    "\n",
    "# creates the subplot\n",
    "fig, ax1 = plt.subplots(figsize=(20, 8))\n",
    "width = 0.35\n",
    "\n",
    "# sets up the primary plot\n",
    "ax1.set_title('Cochange (CC) Dependency Analysis', fontsize=14)\n",
    "ax1.set_ylabel('Count')\n",
    "ax1.set_xlabel('Support Count')\n",
    "ax1.spines['top'].set_visible(False)\n",
    "ax1.spines['right'].set_visible(False)\n",
    "ax1 .spines['left'].set_visible(False)\n",
    "\n",
    "\n",
    "# plots the first bar\n",
    "bar1 = ax1.bar(\n",
    "    compare_cc_bugs.reset_index(drop=True).index + 1 - width/2,\n",
    "    compare_cc_bugs['cc_count'],\n",
    "    width,\n",
    "    log=True,\n",
    "    label='CC groups'\n",
    ")\n",
    "\n",
    "# plots the second bar\n",
    "try:\n",
    "    bar2 = ax1.bar(\n",
    "        compare_cc_bugs.reset_index(drop=True).index + 1 + width/2,\n",
    "        compare_cc_bugs['cc_bugs'],\n",
    "        width,\n",
    "        log=True,\n",
    "        label='CC groups with bugs'\n",
    "    )\n",
    "    plt.legend(loc='upper left', bbox_to_anchor=(0.1, 1.0))\n",
    "\n",
    "except ValueError:\n",
    "    pass\n",
    "\n",
    "# sets up the secondary subplot\n",
    "ax2 = ax1.twinx()\n",
    "# ax2.spines['top'].set_visible(False)\n",
    "# ax2.spines['right'].set_visible(False)\n",
    "# ax2.spines['left'].set_visible(False)\n",
    "ax2.set_ylabel('Percentage')\n",
    "\n",
    "try:\n",
    "    # plots the first line\n",
    "    line1 = ax2.plot(\n",
    "        compare_cc_bugs.index,\n",
    "        compare_cc_bugs['cc_groups_with_bugs_percent'],\n",
    "        label='Percentage of CC groups with bugs',\n",
    "        color='b'\n",
    "    )\n",
    "\n",
    "except ValueError:\n",
    "    pass\n",
    "\n",
    "try:\n",
    "    # plots the second line\n",
    "    line2 = ax2.plot(\n",
    "        compare_cc_bugs.index,\n",
    "        compare_cc_bugs['unique_commits_with_bugs_percent'],\n",
    "        label='Mean percentage of commits with bugs within CC groups',\n",
    "        color='orange'\n",
    "    )\n",
    "except ValueError:\n",
    "    pass\n",
    "\n",
    "try:\n",
    "    # plots the standard deviation area\n",
    "    fill = ax2.fill_between(\n",
    "        compare_cc_bugs.index,\n",
    "        (compare_cc_bugs['unique_commits_with_bugs_percent'] + 2 * compare_cc_bugs['unique_commits_with_bugs_std']).values,\n",
    "        y2=(compare_cc_bugs['unique_commits_with_bugs_percent'] - 2 * compare_cc_bugs['unique_commits_with_bugs_std']).apply(lambda x: 0 if x < 0 else x).values,\n",
    "        color='orange', alpha=.1, label='Standard deviation of the mean percentage'\n",
    "    )\n",
    "    plt.legend(loc='upper right', bbox_to_anchor=(0.95, 0.95))\n",
    "\n",
    "except ValueError:\n",
    "    pass\n",
    "\n",
    "plt.show()"
   ]
  },
  {
   "cell_type": "markdown",
   "metadata": {},
   "outputs": [],
   "source": [
    "Compare the same data with commits without cochange. Relate the percentage of bugs in commits without cochange and commits with cochange"
   ]
  },
  {
   "cell_type": "code",
   "execution_count": 0,
   "metadata": {},
   "outputs": [],
   "source": [
    "# new_commits[new_commits.apply(lambda x: x in cochange_commits)]\n",
    "\n",
    "# gets an array of unique commit hashes with cochange dependency\n",
    "cochange_commits = np.unique(np.hstack(unique_cc['commit_hash'].values))\n",
    "\n",
    "# filters the series of commits to have only cochange dependency\n",
    "if type(cochange_commits) == np.ndarray:\n",
    "    cochange_commits = new_commits[new_commits.apply(lambda x: x in cochange_commits)]"
   ]
  },
  {
   "cell_type": "code",
   "execution_count": 0,
   "metadata": {},
   "outputs": [],
   "source": [
    "# initializes dataframes for plotting\n",
    "commits_monthly_count = new_commits.resample('M').count()\n",
    "bugs_commits_monthly_count= new_commits[new_commits.apply(lambda x: x in bic.values)].resample('M').count()\n",
    "cochange_commits_monthly_count = cochange_commits.resample('M').count()\n",
    "cochange_bug_commits_monthly_count = cochange_commits[cochange_commits.apply(lambda x: x in bic.values)].resample('M').count()\n",
    "\n",
    "# creates the subplots\n",
    "fig, ax = plt.subplots(2, 1, figsize=(20,5), sharex=True)\n",
    "fig.text(0.5, 0.04, 'Date', ha='center', va='center')\n",
    "fig.text(0.075, 0.5, 'Commit Count', ha='center', va='center', rotation='vertical')\n",
    "fig.text(0.95, 0.5, 'Percentage of Bugs', ha='center', va='center', rotation='vertical')\n",
    "\n",
    "# sets up the first plot\n",
    "ax[0].set_title('Total Commits', fontsize=12)\n",
    "ax[0].spines['top'].set_visible(False)\n",
    "ax[0].spines['right'].set_visible(False)\n",
    "ax[0].spines['left'].set_visible(False)\n",
    "\n",
    "line1 = ax[0].plot(\n",
    "    commits_monthly_count.index.date,\n",
    "    commits_monthly_count.values,\n",
    "    label='Monthly-aggregate commits',\n",
    "    color='lightblue'\n",
    ")\n",
    "\n",
    "\n",
    "# line2 = ax[0].plot(\n",
    "#     bugs_commits_monthly_count.index.date,\n",
    "#     bugs_commits_monthly_count,\n",
    "#     label='Monthly-aggregate commits with bugs',\n",
    "#     color='#FF9AA2',\n",
    "#     linewidth=2.0\n",
    "# )\n",
    "ax[0].legend(loc='upper left', bbox_to_anchor=(0.01, 1.5))\n",
    "\n",
    "# ax2 = ax[0].twinx()\n",
    "# ax2.spines['top'].set_visible(False)\n",
    "# ax2.spines['right'].set_visible(False)\n",
    "# ax2.spines['left'].set_visible(False)\n",
    "\n",
    "try:\n",
    "    agg_ratio = (bugs_commits_monthly_count / commits_monthly_count).fillna(0.0)\n",
    "    fill = ax[0].fill_between(\n",
    "        commits_monthly_count.index.date,\n",
    "        (commits_monthly_count * agg_ratio).fillna(0.0).values,\n",
    "        # y2=(bugs_commits_monthly_count - 100*ratio).fillna(0.0).values,\n",
    "        color='#FF9AA2', alpha=.9, label='Width as percentage of bugs'\n",
    "    )\n",
    "    # fill = ax2.bar(ratio.index.date, ratio.values, 5.0, color='red', alpha=.5, label='Monthly Percentage of Bugs')\n",
    "    ax[0].legend(loc='upper right', bbox_to_anchor=(1.0, 1.5))\n",
    "\n",
    "except ZeroDivisionError:\n",
    "    pass\n",
    "\n",
    "# sets up the second plot\n",
    "ax[1].set_title('Commits with Cochange Dependency', fontsize=12)\n",
    "ax[1].spines['top'].set_visible(False)\n",
    "ax[1].spines['right'].set_visible(False)\n",
    "ax[1].spines['left'].set_visible(False)\n",
    "\n",
    "line3 = ax[1].plot(\n",
    "    cochange_commits_monthly_count.index.date,\n",
    "    cochange_commits_monthly_count.values,\n",
    "    label='Monthly-aggregate commits with cochange dependency',\n",
    "    color='lightblue',\n",
    ")\n",
    "\n",
    "# line4 = ax[1].plot(\n",
    "#     cochange_bug_commits_monthly_count.index.date,\n",
    "#     cochange_bug_commits_monthly_count.values,\n",
    "#     label='Monthly-aggregate commits with cochange dependency and bugs',\n",
    "#     color='#B5EAD7',\n",
    "#     linewidth=2.0\n",
    "# )\n",
    "ax[1].legend(loc='lower left', bbox_to_anchor=(0.01, -0.7))\n",
    "\n",
    "# ax3 = ax[1].twinx()\n",
    "# # ax3.set_ylabel('Percentage of Bugs')\n",
    "# ax3.spines['top'].set_visible(False)\n",
    "# ax3.spines['right'].set_visible(False)\n",
    "# ax3.spines['left'].set_visible(False)\n",
    "\n",
    "# ratio = (cochange_bug_commits_monthly_count / cochange_commits_monthly_count).fillna(0.0)\n",
    "# fill = ax3.bar(ratio.index.date, ratio.values, 7.0, color='red', alpha=.5, label='Monthly Percentage of Bugs')\n",
    "try:\n",
    "    cc_ratio = (cochange_bug_commits_monthly_count / cochange_commits_monthly_count).fillna(0.0)\n",
    "    fill = ax[1].fill_between(\n",
    "        cochange_commits_monthly_count.index.date,\n",
    "        (cochange_commits_monthly_count * cc_ratio).fillna(0.0).values,\n",
    "        # y2=(bugs_commits_monthly_count - 100*ratio).fillna(0.0).values,\n",
    "        color='#FF9AA2', alpha=.9, label='Width as percentage of bugs'\n",
    "    )\n",
    "\n",
    "except ZeroDivisionError:\n",
    "    pass\n",
    "\n",
    "plt.show()\n",
    "# new_commits.resample('M').count().plot(kind='bar', figsize=(20,5))"
   ]
  },
  {
   "cell_type": "markdown",
   "metadata": {},
   "outputs": [],
   "source": [
    "## Normality Test"
   ]
  },
  {
   "cell_type": "code",
   "execution_count": 0,
   "metadata": {},
   "outputs": [],
   "source": [
    "fig, ax = plt.subplots(3, 1, sharex=True, figsize=(20,8),)\n",
    "\n",
    "try:\n",
    "    cc_ratio.plot(\n",
    "        ax=ax[0],\n",
    "        kind='hist',\n",
    "        label='Cochange',\n",
    "        weights=(np.ones_like(cc_ratio.values) / len(cc_ratio.values))\n",
    "    )\n",
    "\n",
    "except NameError:\n",
    "    pass\n",
    "\n",
    "try:\n",
    "    agg_ratio.plot(\n",
    "        ax=ax[0],\n",
    "        kind='hist',\n",
    "        label='Aggregate',\n",
    "        color='orange',\n",
    "        weights=(np.ones_like(agg_ratio.values) / len(agg_ratio.values))\n",
    "    )\n",
    "    ax[0].set_title('Probability Density Function (PDF)', fontsize=14)\n",
    "    ax[0].set_ylabel('')\n",
    "    ax[0].legend(loc='upper right')\n",
    "\n",
    "except NameError:\n",
    "    pass\n",
    "# --------------------------------------------------------------------\n",
    "\n",
    "try:\n",
    "    cc_ratio.plot(\n",
    "        ax=ax[1],\n",
    "        kind='hist',\n",
    "        label='Cochange',\n",
    "        density=1,\n",
    "        cumulative=True\n",
    "    )\n",
    "    ax[1].set_title('Cumulative Distribution Function (CDF)', fontsize=14)\n",
    "    ax[1].legend(loc='upper left')\n",
    "    ax[1].set_ylabel('')\n",
    "\n",
    "except NameError:\n",
    "    pass\n",
    "# --------------------------------------------------------------------\n",
    "\n",
    "try:\n",
    "    agg_ratio.plot(\n",
    "        ax=ax[2],\n",
    "        kind='hist',\n",
    "        label='Aggregate',\n",
    "        density=1,\n",
    "        cumulative=True,\n",
    "        color='orange'\n",
    "    )\n",
    "    ax[2].legend(loc='upper left')\n",
    "    ax[2].set_ylabel('')\n",
    "    ax[2].set_xlabel('Percentage of Bugs')\n",
    "\n",
    "except NameError:\n",
    "    pass\n",
    "\n",
    "plt.show()"
   ]
  },
  {
   "cell_type": "code",
   "execution_count": 0,
   "metadata": {},
   "outputs": [],
   "source": [
    "from statsmodels.graphics.gofplots import qqplot\n",
    "\n",
    "fig, ax = plt.subplots(1, 2, figsize=(15,5), sharey=True)\n",
    "\n",
    "try:\n",
    "    qqplot(agg_ratio, line='s', ax=ax[0], label='Aggregate').gca().lines\n",
    "    qqplot(cc_ratio, line='s', ax=ax[1], label='Cochange').gca().lines\n",
    "\n",
    "    ax[0].legend(loc='upper left')\n",
    "    ax[1].legend(loc='upper left')\n",
    "\n",
    "except NameError:\n",
    "    pass"
   ]
  },
  {
   "cell_type": "markdown",
   "metadata": {},
   "outputs": [],
   "source": [
    "Both distributions are far from normal; thus we cannot apply paired t-tests.<br />\n",
    "Perhaps bootstrapping?"
   ]
  }
 ],
 "metadata": {
  "file_extension": ".py",
  "hide_input": false,
  "kernelspec": {
   "display_name": "Python 3",
   "language": "python",
   "name": "python3"
  },
  "language_info": {
   "codemirror_mode": {
    "name": "ipython",
    "version": 3
   },
   "file_extension": ".py",
   "mimetype": "text/x-python",
   "name": "python",
   "nbconvert_exporter": "python",
   "pygments_lexer": "ipython3",
   "version": "3.7.3"
  },
  "mimetype": "text/x-python",
  "name": "python",
  "npconvert_exporter": "python",
  "pygments_lexer": "ipython3",
  "version": 3
 },
 "nbformat": 4,
 "nbformat_minor": 2
}