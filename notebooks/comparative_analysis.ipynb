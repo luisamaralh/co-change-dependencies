{
 "nbformat": 4,
 "nbformat_minor": 2,
 "metadata": {
  "language_info": {
   "name": "python",
   "codemirror_mode": {
    "name": "ipython",
    "version": 3
   },
   "version": "3.7.3"
  },
  "orig_nbformat": 2,
  "file_extension": ".py",
  "mimetype": "text/x-python",
  "name": "python",
  "npconvert_exporter": "python",
  "pygments_lexer": "ipython3",
  "version": 3
 },
 "cells": [
  {
   "cell_type": "code",
   "metadata": {},
   "outputs": [],
   "source": [
    "import sys\n",
    "sys.path.append('../')\n",
    "import numpy as np\n",
    "import pandas as pd\n",
    "import seaborn as sns\n",
    "import matplotlib.pyplot as plt\n",
    "from src.eda_methods import show_barplot, load_data, load_data_all\n",
    "from pandas.plotting import register_matplotlib_converters\n",
    "from scipy.stats import boxcox, skew, shapiro, probplot, ttest_rel, ttest_ind\n",
    "from sklearn import preprocessing\n",
    "\n",
    "pd.set_option('display.max_colwidth', 125)\n",
    "register_matplotlib_converters()"
   ]
  },
  {
   "cell_type": "code",
   "metadata": {},
   "outputs": [],
   "source": [
    "# IMPORTANT - Figure out how to correctly convert old hashes to new hashes\n",
    "\n",
    "# project_name = 'zeppelin'\n",
    "# try:\n",
    "#     tmp =\\\n",
    "#         pd.read_csv(\n",
    "#             'assets/data/{0}/new_{0}_commits.csv'.format(project_name),\n",
    "#             nrows=None,\n",
    "#             header=None\n",
    "#         )\n",
    "# except UnicodeDecodeError:\n",
    "#     tmp =\\\n",
    "#         pd.read_csv(\n",
    "#             'assets/data/{0}/new_{0}_commits.csv'.format(project_name),\n",
    "#             nrows=None,\n",
    "#             header=None,\n",
    "#             encoding='utf-16'\n",
    "#         )\n",
    "# tmp = tmp.set_index(0).apply(pd.to_datetime, axis=1)\n",
    "# tmp['dates_match'] = tmp.apply(lambda x: x.duplicated().sum(), axis=1).astype('bool')\n",
    "\n",
    "# # finds\n",
    "# grouped = tmp.groupby(2)\n",
    "# g_index =\\\n",
    "#     [\n",
    "#             x for x in grouped[1].apply(\n",
    "#                 lambda x: pd.to_datetime(x[0], utc=True) \n",
    "#                 if (x.count() > 1).sum() else ''\n",
    "#             ).values if x\n",
    "#     ]\n",
    "# tmp = tmp.reset_index().set_index(1)\n",
    "# tmp.index = pd.to_datetime(tmp.index, utc=True, infer_datetime_format=True)\n",
    "\n",
    "# transforms date column into datetime_index\n",
    "# new_commits =\\\n",
    "#     pd.Series(\n",
    "#         tmp[0].values,\n",
    "#         index=pd.to_datetime(\n",
    "#                 tmp[1].values,\n",
    "#                 infer_datetime_format=True,\n",
    "#                 utc=True\n",
    "#             )\n",
    "#     )\n",
    "# new_commits.name = project_name"
   ]
  },
  {
   "cell_type": "code",
   "metadata": {},
   "outputs": [],
   "source": [
    "old, new, cc, bic = load_data_all()"
   ]
  },
  {
   "cell_type": "code",
   "metadata": {},
   "outputs": [],
   "source": [
    "# shows duplicated bug introducing commits (BIC) for each project\n",
    "print('Total and duplicated bug introducing commits (BIC) for each project:\\n\\n\\t\\t\\t(total, duplicated)')\n",
    "bic.groupby(level=0).apply(lambda x: (x.count(), x.duplicated().sum()))"
   ]
  },
  {
   "cell_type": "code",
   "metadata": {},
   "outputs": [],
   "source": [
    "# removes duplicated BICs\n",
    "print('Total BICs after removal of duplicates:\\n')\n",
    "\n",
    "project_bic = bic.groupby(level=0)\n",
    "\n",
    "# saves unique BICs\n",
    "ubic = project_bic.apply(lambda x: x.drop_duplicates(keep='first')).droplevel(0, axis=0)\n",
    "\n",
    "print(ubic.groupby(level=0, axis=0).count())\n",
    "# del bic"
   ]
  },
  {
   "cell_type": "code",
   "metadata": {},
   "outputs": [],
   "source": [
    "# '''\n",
    "# shows all conflicting 'created_at' commits\n",
    "# proceed with manual investigation of how to solve this (HUGE ISSUE!!!)\n",
    "# '''\n",
    "# old.droplevel(0, axis=0)[old.droplevel(0, axis=0).index.duplicated(keep=False)]\n",
    "# new.droplevel(0, axis=0)[new.droplevel(0, axis=0).index.duplicated(keep=False)]"
   ]
  },
  {
   "cell_type": "code",
   "metadata": {},
   "outputs": [],
   "source": [
    "# new.reset_index().iloc[old.reset_index().index][0].values\n",
    "'''\n",
    "prints projects with different number of commits\n",
    "'''\n",
    "new_g = new.groupby(level=0)\n",
    "old_g = old.groupby(level=0)\n",
    "\n",
    "for ng, og in zip(new_g, old_g):\n",
    "    # ng[1] = ng[1][ng[1].index.isin(og[1].index)]\n",
    "    if len(ng[1])-1 != len(og[1]):\n",
    "        print(ng[0], (len(ng[1]) - len(og[1]))-1)"
   ]
  },
  {
   "cell_type": "code",
   "metadata": {},
   "outputs": [],
   "source": [
    "# '''\n",
    "# ensures that only commits present in 'old' are considered\n",
    "# '''\n",
    "# new_g = new.groupby(level=0)\n",
    "# old_g = old.groupby(level=0)\n",
    "# tmp = []\n",
    "\n",
    "# for ng, og in zip(new_g, old_g):\n",
    "#     tmp.append(ng[1][ng[1].index.isin(og[1].index)])\n",
    "\n",
    "# new = pd.concat(tmp)\n",
    "# del tmp\n",
    "# del new_g, old_g"
   ]
  },
  {
   "cell_type": "code",
   "metadata": {},
   "outputs": [],
   "source": [
    "# drops the latest commit of each project, since it is actually from the tool not the project itself\n",
    "new = new_g.apply(lambda x: x.iloc[1:]).droplevel(0)"
   ]
  },
  {
   "cell_type": "code",
   "metadata": {},
   "outputs": [],
   "source": [
    "# aggregates old and new commits to facilitate conversion\n",
    "convert = pd.DataFrame()\n",
    "\n",
    "convert['old_hash'] = old\n",
    "convert['new_hash'] =\\\n",
    "    new.reset_index()\\\n",
    "    .iloc[old.reset_index()\\\n",
    "    .index][0].values\n",
    "\n",
    "# converts bic commits to their equivalent in 'new'\n",
    "nbic =\\\n",
    "    convert.set_index('old_hash')\\\n",
    "    .squeeze()[ubic.values]\\\n",
    "    .dropna()\\\n",
    "    .reset_index(drop=True)\n",
    "\n",
    "del convert"
   ]
  },
  {
   "cell_type": "code",
   "metadata": {},
   "outputs": [],
   "source": [
    "'''\n",
    "selects relevant support count (>1) and confidence (>=0.5)\n",
    "'''\n",
    "# selects cochange of at least two components with confidence higher that 0.5\n",
    "rcc = cc[\n",
    "    (cc.support_count > 1) & (cc.confidence >= 0.5)\n",
    "].reset_index(drop=True)\n",
    "\n",
    "print(\n",
    "    'Selects components with relevant cochange dependency\\n',\n",
    "    'Of {0} entries, {1} ({2:.2f}%) were found to have support_count > 1 and confidence >= 0.5'\n",
    "    .format(len(cc), len(rcc), (100*len(rcc)/len(cc)))\n",
    ")\n",
    "\n",
    "del cc"
   ]
  },
  {
   "cell_type": "code",
   "metadata": {},
   "outputs": [],
   "source": [
    "{1,2,3,4,5,6} - {1,2,3}"
   ]
  },
  {
   "cell_type": "code",
   "metadata": {},
   "outputs": [],
   "source": [
    "import itertools\n",
    "\n",
    "# operates with sets due to performance gains\n",
    "set_rcc = set(itertools.chain.from_iterable(rcc['commit_hash'].values))\n",
    "set_bic = set(bic.values)\n",
    "\n",
    "# defines implicit functions to compute count and percentage metrics\n",
    "get_total_bic_count = lambda x: len(set_bic) - (len(set_bic - set(x.values)))\n",
    "get_total_bic_percent = lambda x: (len(set_bic) - (len(set_bic - set(x.values)))) / len(x)\n",
    "\n",
    "get_cochange_count = lambda x: len(set(x.values) & set(set_rcc))\n",
    "get_cochange_bic_count = lambda x: len(set(x.values) & set(set_rcc) & set(nbic.values))\n",
    "get_cochange_bic_percent = lambda x:\\\n",
    "    len(set(x.values) & set(set_rcc) & set(nbic.values)) / len(set(x.values) & set_rcc) if len(set(x.values) & set_rcc) != 0 else 0.0\n",
    "\n",
    "get_nocochange_count = lambda x: len(set(x.values) - set(set_rcc))\n",
    "get_nocochange_bic_count = lambda x: len((set(x.values) - set(set_rcc)) & set(nbic.values))\n",
    "get_nocochange_bic_percent = lambda x:\\\n",
    "    len((set(x.values) - set(set_rcc)) & set(nbic.values)) / len(set(x.values) - set_rcc) if len(set(x.values) & set_rcc) != 0 else 0.0\n",
    "\n",
    "# applies count functions over each group (project)\n",
    "total_bic_df =\\\n",
    "    old_g.agg(['count', get_total_bic_count, get_total_bic_percent])\\\n",
    "    .rename(columns={\n",
    "        '<lambda_0>': 'bic_count', '<lambda_1>': 'bic_percent'\n",
    "    })\n",
    "\n",
    "cc_bic_df =\\\n",
    "    new_g.agg([get_cochange_count, get_cochange_bic_count, get_cochange_bic_percent])\\\n",
    "    .rename(columns={\n",
    "        '<lambda_0>': 'cochange_count', '<lambda_1>': 'bic_count', '<lambda_2>': 'bic_percent'\n",
    "    })\n",
    "\n",
    "nocc_bic_df =\\\n",
    "    new_g.agg([get_nocochange_count, get_nocochange_bic_count, get_nocochange_bic_percent])\\\n",
    "    .rename(columns={\n",
    "        '<lambda_0>': 'nocochange_count', '<lambda_1>': 'bic_count', '<lambda_2>': 'bic_percent'\n",
    "    })"
   ]
  },
  {
   "cell_type": "markdown",
   "metadata": {},
   "outputs": [],
   "source": [
    "## Assumptions of the paired t-test\n",
    "* The dependent variable (DV) must be continuous which is measured on an interval or ratio scale\n",
    "* The DV should not contain any significant outliers\n",
    "* The DV should be approximately normally distributed\n",
    "    * Testing for normality needs to be conducted on the differences between the two conditions, not the raw values of each condition itself\n",
    "    * If there is a violation of normality, as long as it’s not in a major violation, the test results can be considered valid"
   ]
  },
  {
   "cell_type": "code",
   "metadata": {},
   "outputs": [],
   "source": [
    "'''\n",
    "Assumption 2. Outliers\n",
    "'''\n",
    "mean = cc_bic_df['bic_percent'].mean()\n",
    "std = cc_bic_df['bic_percent'].std()\n",
    "cc_bic = cc_bic_df['bic_percent'][cc_bic_df['bic_percent'].apply(lambda x: (x > mean - 2*std) and (x < mean + 2*std))]\n",
    "\n",
    "mean = total_bic_df['bic_percent'].mean()\n",
    "std = total_bic_df['bic_percent'].std()\n",
    "total_bic = total_bic_df['bic_percent'][total_bic_df['bic_percent'].apply(lambda x: (x > mean - 2*std) and (x < mean + 2*std))]"
   ]
  },
  {
   "cell_type": "code",
   "metadata": {},
   "outputs": [],
   "source": [
    "print(\n",
    "    '\\t\\t---Summary of Variables---\\n\\n',\n",
    "    'Percentage of BICs in all commits:\\n',\n",
    "    total_bic.describe(),\n",
    "    '\\n------------------------------------------------------\\n'\n",
    "    '\\nPercentage of BICs in commits with cochange dependency:\\n',\n",
    "    cc_bic.describe(),\n",
    ")"
   ]
  },
  {
   "cell_type": "code",
   "metadata": {},
   "outputs": [],
   "source": [
    "'''\n",
    "test both samples for normality\n",
    "'''\n",
    "print(\n",
    "    '\\t\\t---Shapiro Wilk Normality Test - Individual Samples---\\n',\n",
    "    '\\tAssume normality if p-value > 0.05\\n\\n'\n",
    "    '\\t\\tTotal BICs\\n W-statistic\\t\\tp-value\\n',\n",
    "    shapiro(total_bic.values),\n",
    "    '\\n\\n\\t\\tCochange BICs\\n W-statistic\\t\\tp-value\\n',\n",
    "    shapiro(cc_bic.values)\n",
    ")"
   ]
  },
  {
   "cell_type": "code",
   "metadata": {},
   "outputs": [],
   "source": [
    "'''\n",
    "pairs the two variables\n",
    "'''\n",
    "total_bic = total_bic[total_bic.index.isin(cc_bic.index)]\n",
    "cc_bic = cc_bic[cc_bic.index.isin(total_bic.index)]"
   ]
  },
  {
   "cell_type": "code",
   "metadata": {},
   "outputs": [],
   "source": [
    "'''\n",
    "Assumption 3. Normality of the differences\n",
    "'''\n",
    "bic_diff = total_bic - cc_bic\n",
    "print(\n",
    "    '\\t\\t---Shapiro Wilk Normality Test - Paired Samples---\\n',\n",
    "    '\\tAssume normality if p-value > 0.05\\n\\n'\n",
    "    '\\tDifference of BICs (total - cocahnge)\\n W-statistic\\t\\tp-value\\n',\n",
    "    shapiro(bic_diff.values),\n",
    "    '\\n\\n'\n",
    ")\n",
    "bic_diff.plot(kind='hist')\n",
    "plt.show()"
   ]
  },
  {
   "cell_type": "code",
   "metadata": {},
   "outputs": [],
   "source": [
    "plot = probplot(bic_diff, plot=plt)"
   ]
  },
  {
   "cell_type": "markdown",
   "metadata": {},
   "outputs": [],
   "source": [
    "### Normality can be assumed."
   ]
  },
  {
   "cell_type": "code",
   "metadata": {},
   "outputs": [],
   "source": [
    "ttest_rel(total_bic, cc_bic)"
   ]
  },
  {
   "cell_type": "code",
   "metadata": {},
   "outputs": [],
   "source": [
    "mean = cc_bic_df['bic_percent'].mean()\n",
    "std = cc_bic_df['bic_percent'].std()\n",
    "cc_bic = cc_bic_df['bic_percent'][cc_bic_df['bic_percent'].apply(lambda x: (x > mean - 2*std) and (x < mean + 2*std))]\n",
    "\n",
    "mean = nocc_bic_df['bic_percent'].mean()\n",
    "std = nocc_bic_df['bic_percent'].std()\n",
    "nocc_bic = nocc_bic_df['bic_percent'][nocc_bic_df['bic_percent'].apply(lambda x: (x > mean - 2*std) and (x < mean + 2*std))]"
   ]
  },
  {
   "cell_type": "code",
   "metadata": {},
   "outputs": [],
   "source": [
    "print(\n",
    "    '\\t\\t---Summary of Variables---\\n\\n',\n",
    "    'Percentage of BICs in commits without cochange dependency:\\n',\n",
    "    nocc_bic.describe(),\n",
    "    '\\n------------------------------------------------------\\n'\n",
    "    '\\nPercentage of BICs in commits with cochange dependency:\\n',\n",
    "    cc_bic.describe(),\n",
    ")"
   ]
  },
  {
   "cell_type": "code",
   "metadata": {},
   "outputs": [],
   "source": [
    "'''\n",
    "test both samples for normality\n",
    "'''\n",
    "print(\n",
    "    '\\t\\t---Shapiro Wilk Normality Test - Individual Samples---\\n',\n",
    "    '\\tAssume normality if p-value > 0.05\\n\\n'\n",
    "    '\\t\\tCochange BICs\\n W-statistic\\t\\tp-value\\n',\n",
    "    shapiro(cc_bic.values),\n",
    "    '\\n\\n\\t\\tNo-Cochange BICs\\n W-statistic\\t\\tp-value\\n',\n",
    "    shapiro(nocc_bic.values)\n",
    ")"
   ]
  },
  {
   "cell_type": "code",
   "metadata": {},
   "outputs": [],
   "source": [
    "# plot1 = probplot(cc_bic, plot=plt)\n",
    "plot2 = probplot(nocc_bic, plot=plt)"
   ]
  },
  {
   "cell_type": "code",
   "metadata": {},
   "outputs": [],
   "source": [
    "ttest_ind(cc_bic, nocc_bic)"
   ]
  },
  {
   "cell_type": "markdown",
   "metadata": {},
   "outputs": [],
   "source": [
    "## Assumptions of the unpaired t-test\n",
    "\n",
    "* Assumption of independence\n",
    "* Assumption of normality: the dependent variable should be continuous and approximately normally distributed.\n",
    "* Assumption of homogeneity of variance: The variances of the dependent variable should be equal.\n",
    "\n"
   ]
  },
  {
   "cell_type": "code",
   "metadata": {},
   "outputs": [],
   "source": [
    "total_bic = total_bic_df['bic_percent']\n",
    "total_bic.name = 'all_commits'\n",
    "\n",
    "cc_bic = cc_bic_df['bic_percent']\n",
    "cc_bic.name = 'cochange_commit'\n",
    "\n",
    "bic_percent = pd.concat([total_bic, cc_bic], keys=['all', 'cochange'], names=['commits', 'projects'], axis=0, sort=False)"
   ]
  },
  {
   "cell_type": "code",
   "metadata": {},
   "outputs": [],
   "source": [
    "bic_percent = bic_percent.reset_index(level=0).rename(columns={0: 'bic_percent'})\n",
    "bic_percent"
   ]
  },
  {
   "cell_type": "code",
   "metadata": {},
   "outputs": [],
   "source": [
    "sns.set(style=\"white\", rc={\"axes.facecolor\": (0, 0, 0, 0)})\n",
    "\n",
    "\n",
    "pal = sns.cubehelix_palette(10, rot=-.25, light=.7)\n",
    "g = sns.FacetGrid(bic_percent, row='commits', hue='commits', aspect=15, height=.5, palette=pal)\n",
    "\n",
    "g.map(sns.kdeplot, 'bic_percent', clip_on=False, shade=True, alpha=1, lw=1.5, bw=.2)\n",
    "g.map(sns.kdeplot, 'bic_percent', clip_on=False, color=\"w\", lw=2, bw=.2)\n",
    "g.map(plt.axhline, y=0, lw=2, clip_on=True)\n",
    "\n",
    "# Define and use a simple function to label the plot in axes coordinates\n",
    "def label(x, color, label):\n",
    "    ax = plt.gca()\n",
    "    ax.text(0, .2, label, fontweight=\"bold\", color=color,\n",
    "            ha=\"left\", va=\"center\", transform=ax.transAxes)\n",
    "\n",
    "\n",
    "g.map(label, 'bic_percent')\n",
    "\n",
    "# Set the subplots to overlap\n",
    "g.fig.subplots_adjust(hspace=-.25)\n",
    "\n",
    "# Remove axes details that don't play well with overlap\n",
    "g.set_titles(\"\")\n",
    "g.set(yticks=[])\n",
    "g.despine(bottom=True, left=True)\n",
    "\n",
    "plt.xlabel('Kernel density estimation')\n",
    "\n",
    "plt.tight_layout\n",
    "plt.show()\n",
    "\n",
    "# sns.violinplot(\n",
    "#     ax=ax,\n",
    "#     # data=bic_percent,\n",
    "#     x=bic_percent['commits'],\n",
    "#     y=bic_percent['bic_percent'],\n",
    "#     # hue=bic_percent['commits'],\n",
    "#     inner=\"quartile\",\n",
    "#     split=True,\n",
    "# )"
   ]
  },
  {
   "cell_type": "code",
   "metadata": {},
   "outputs": [],
   "source": [
    "sns.set(style=\"white\")\n",
    "fig, ax = plt.subplots(1, 1, figsize=(20, 6))\n",
    "\n",
    "pd.concat([total_bic_df['count'], bic_agg], axis=1).plot(kind='bar', ax=ax, logscale=True)\n"
   ]
  },
  {
   "cell_type": "code",
   "metadata": {},
   "outputs": [],
   "source": [
    "total_bic_count = total_bic_df['bic_count']\n",
    "total_bic_count.name = 'BIC count in all commits'\n",
    "\n",
    "cc_bic_count = cc_bic_df['bic_count']\n",
    "cc_bic_count.name = 'BIC count in commits with cocahnge dependency'\n",
    "\n",
    "bic_agg = pd.concat([total_bic_count, cc_bic_count], axis=1)"
   ]
  },
  {
   "cell_type": "code",
   "metadata": {},
   "outputs": [],
   "source": [
    "# def transform_skew(df: pd.DataFrame) -> pd.DataFrame:\n",
    "#     '''\n",
    "#     Transforms data with Boxcox transformation\n",
    "#     Keeps the transformation only if it is less skewed than the original\n",
    "#     '''\n",
    "#     data = df.values\n",
    "#     posdata = data[data > 0]\n",
    "#     # posdata = eda.data[eda.data[feat]>0][feat]\n",
    "\n",
    "#     x, lmbda = boxcox(posdata, lmbda=None)\n",
    "    \n",
    "#     transform = np.empty_like(data)\n",
    "#     transform[data > 0] = x\n",
    "#     transform[data == 0] = -1/lmbda\n",
    "\n",
    "#     if abs(skew(transform)) < abs(skew(data)):\n",
    "#         return transform\n",
    "\n",
    "#     else:\n",
    "#         return data"
   ]
  },
  {
   "cell_type": "code",
   "metadata": {},
   "outputs": [],
   "source": [
    "# '''\n",
    "# standardizes (and transforms skewness)\n",
    "# '''\n",
    "# print('> performs standardization on both variables...')\n",
    "# std_cc_bic = preprocessing.scale(cc_bic)\n",
    "# std_total_bic = preprocessing.scale(total_bic)"
   ]
  },
  {
   "cell_type": "code",
   "metadata": {},
   "outputs": [],
   "source": [
    "# print(\n",
    "#     '\\t\\t---Shapiro Wilk Normality Test - Individual Samples---\\n',\n",
    "#     'Assume normality if p-value > 0.05\\n\\n'\n",
    "#     '\\t\\tTotal BICs\\n W-statistic\\t\\tp-value\\n',\n",
    "#     shapiro(std_total_bic),\n",
    "#     '\\n\\n\\t\\tCochange BICs\\n W-statistic\\t\\tp-value\\n',\n",
    "#     shapiro(std_cc_bic)\n",
    "# )"
   ]
  },
  {
   "cell_type": "code",
   "metadata": {},
   "outputs": [],
   "source": [
    "# bic_diff = std_total_bic - std_cc_bic\n",
    "# print(\n",
    "#     '\\t\\t---Shapiro Wilk Normality Test---\\n',\n",
    "#     'Assume normality if p-value > 0.05\\n\\n'\n",
    "#     '\\t\\tDifference of BICs (total - cocahnge)\\n W-statistic\\t\\tp-value\\n',\n",
    "#     shapiro(bic_diff),\n",
    "#     '\\n\\n'\n",
    "# )\n",
    "# print(pd.Series(bic_diff).plot(kind='hist'))"
   ]
  },
  {
   "cell_type": "code",
   "metadata": {},
   "outputs": [],
   "source": [
    "# set(new.values) & set_rcc & set(nbic.values)\n",
    "# new_g.apply(lambda x: len(set(x.values) & set(set_rcc) & set(nbic.values)))"
   ]
  }
 ]
}