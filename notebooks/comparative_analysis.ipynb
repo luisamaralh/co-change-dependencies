{
 "nbformat": 4,
 "nbformat_minor": 2,
 "metadata": {
  "language_info": {
   "name": "python",
   "codemirror_mode": {
    "name": "ipython",
    "version": 3
   },
   "version": "3.7.3"
  },
  "orig_nbformat": 2,
  "file_extension": ".py",
  "mimetype": "text/x-python",
  "name": "python",
  "npconvert_exporter": "python",
  "pygments_lexer": "ipython3",
  "version": 3
 },
 "cells": [
  {
   "cell_type": "code",
   "execution_count": 1,
   "metadata": {},
   "outputs": [],
   "source": [
    "import sys\n",
    "sys.path.append('../')\n",
    "import numpy as np\n",
    "import pandas as pd\n",
    "import seaborn as sns\n",
    "import matplotlib.pyplot as plt\n",
    "from src.eda_methods import show_barplot, load_data, load_data_all\n",
    "from pandas.plotting import register_matplotlib_converters\n",
    "from scipy.stats import boxcox, skew, shapiro, probplot, ttest_rel, ttest_ind\n",
    "from sklearn import preprocessing\n",
    "\n",
    "pd.set_option('display.max_colwidth', 125)\n",
    "register_matplotlib_converters()"
   ]
  },
  {
   "cell_type": "code",
   "execution_count": 2,
   "metadata": {},
   "outputs": [],
   "source": [
    "# IMPORTANT - Figure out how to correctly convert old hashes to new hashes\n",
    "\n",
    "# project_name = 'zeppelin'\n",
    "# try:\n",
    "#     tmp =\\\n",
    "#         pd.read_csv(\n",
    "#             'assets/data/{0}/new_{0}_commits.csv'.format(project_name),\n",
    "#             nrows=None,\n",
    "#             header=None\n",
    "#         )\n",
    "# except UnicodeDecodeError:\n",
    "#     tmp =\\\n",
    "#         pd.read_csv(\n",
    "#             'assets/data/{0}/new_{0}_commits.csv'.format(project_name),\n",
    "#             nrows=None,\n",
    "#             header=None,\n",
    "#             encoding='utf-16'\n",
    "#         )\n",
    "# tmp = tmp.set_index(0).apply(pd.to_datetime, axis=1)\n",
    "# tmp['dates_match'] = tmp.apply(lambda x: x.duplicated().sum(), axis=1).astype('bool')\n",
    "\n",
    "# # finds\n",
    "# grouped = tmp.groupby(2)\n",
    "# g_index =\\\n",
    "#     [\n",
    "#             x for x in grouped[1].apply(\n",
    "#                 lambda x: pd.to_datetime(x[0], utc=True) \n",
    "#                 if (x.count() > 1).sum() else ''\n",
    "#             ).values if x\n",
    "#     ]\n",
    "# tmp = tmp.reset_index().set_index(1)\n",
    "# tmp.index = pd.to_datetime(tmp.index, utc=True, infer_datetime_format=True)\n",
    "\n",
    "# transforms date column into datetime_index\n",
    "# new_commits =\\\n",
    "#     pd.Series(\n",
    "#         tmp[0].values,\n",
    "#         index=pd.to_datetime(\n",
    "#                 tmp[1].values,\n",
    "#                 infer_datetime_format=True,\n",
    "#                 utc=True\n",
    "#             )\n",
    "#     )\n",
    "# new_commits.name = project_name"
   ]
  },
  {
   "cell_type": "code",
   "execution_count": 3,
   "metadata": {},
   "outputs": [],
   "source": [
    "old, new, cc, bic = load_data_all()"
   ]
  },
  {
   "cell_type": "code",
   "execution_count": 4,
   "metadata": {},
   "outputs": [
    {
     "name": "stdout",
     "output_type": "stream",
     "text": "Total and duplicated bug introducing commits (BIC) for each project:\n\n\t\t\t(total, duplicated)\n"
    },
    {
     "data": {
      "text/plain": "accumulo                      (3603, 2828)\nactivemq                      (8803, 7157)\nambari                      (47658, 40607)\navro                           (1099, 797)\nbeam                          (5690, 3538)\ncalcite                       (9083, 7843)\ncamel                        (10091, 6687)\ncassandra                   (52036, 48730)\ncommons-lang                  (1503, 1003)\ncordova-android                (1435, 922)\ncxf                           (4902, 3446)\neagle                           (689, 456)\nfineract                       (1051, 634)\nflink                         (4421, 2765)\ngeode                        (10888, 9437)\ngroovy                      (17500, 14629)\njames-project                  (1019, 511)\njena                            (930, 594)\nkafka                         (1875, 1174)\nkaraf                         (1795, 1218)\nkylin                         (3278, 2280)\nlucene-solr                   (9854, 6606)\nmahout                        (1824, 1198)\nmaven                         (6792, 5461)\nnetbeans                        (552, 482)\nnifi                          (3603, 2707)\nnutch                         (1495, 1180)\nofbiz                         (4239, 3088)\nparquet-mr                      (468, 317)\nphoenix                       (3274, 2650)\nservicecomb-java-chassis        (340, 172)\nspark                         (6835, 4453)\nstorm                          (1530, 949)\nstruts                        (2517, 1909)\ntika                          (1973, 1362)\nwicket                        (4573, 3133)\nzeppelin                      (3299, 2441)\ndtype: object"
     },
     "execution_count": 4,
     "metadata": {},
     "output_type": "execute_result"
    }
   ],
   "source": [
    "# shows duplicated bug introducing commits (BIC) for each project\n",
    "print('Total and duplicated bug introducing commits (BIC) for each project:\\n\\n\\t\\t\\t(total, duplicated)')\n",
    "bic.groupby(level=0).apply(lambda x: (x.count(), x.duplicated().sum()))"
   ]
  },
  {
   "cell_type": "code",
   "execution_count": 5,
   "metadata": {},
   "outputs": [
    {
     "name": "stdout",
     "output_type": "stream",
     "text": "Total BICs after removal of duplicates:\n\naccumulo                     775\nactivemq                    1646\nambari                      7051\navro                         302\nbeam                        2152\ncalcite                     1240\ncamel                       3404\ncassandra                   3306\ncommons-lang                 500\ncordova-android              513\ncxf                         1456\neagle                        233\nfineract                     417\nflink                       1656\ngeode                       1451\ngroovy                      2871\njames-project                508\njena                         336\nkafka                        701\nkaraf                        577\nkylin                        998\nlucene-solr                 3248\nmahout                       626\nmaven                       1331\nnetbeans                      70\nnifi                         896\nnutch                        315\nofbiz                       1151\nparquet-mr                   151\nphoenix                      624\nservicecomb-java-chassis     168\nspark                       2382\nstorm                        581\nstruts                       608\ntika                         611\nwicket                      1440\nzeppelin                     858\ndtype: int64\n"
    }
   ],
   "source": [
    "# removes duplicated BICs\n",
    "print('Total BICs after removal of duplicates:\\n')\n",
    "\n",
    "project_bic = bic.groupby(level=0)\n",
    "\n",
    "# saves unique BICs\n",
    "ubic = project_bic.apply(lambda x: x.drop_duplicates(keep='first')).droplevel(0, axis=0)\n",
    "\n",
    "print(ubic.groupby(level=0, axis=0).count())\n",
    "# del bic"
   ]
  },
  {
   "cell_type": "code",
   "execution_count": 6,
   "metadata": {},
   "outputs": [],
   "source": [
    "# '''\n",
    "# shows all conflicting 'created_at' commits\n",
    "# proceed with manual investigation of how to solve this (HUGE ISSUE!!!)\n",
    "# '''\n",
    "# old.droplevel(0, axis=0)[old.droplevel(0, axis=0).index.duplicated(keep=False)]\n",
    "# new.droplevel(0, axis=0)[new.droplevel(0, axis=0).index.duplicated(keep=False)]"
   ]
  },
  {
   "cell_type": "code",
   "execution_count": 7,
   "metadata": {},
   "outputs": [
    {
     "name": "stdout",
     "output_type": "stream",
     "text": "camel 96\nlucene-solr 30\nnetbeans 2\n"
    }
   ],
   "source": [
    "# new.reset_index().iloc[old.reset_index().index][0].values\n",
    "'''\n",
    "prints projects with different number of commits\n",
    "'''\n",
    "new_g = new.groupby(level=0)\n",
    "old_g = old.groupby(level=0)\n",
    "\n",
    "for ng, og in zip(new_g, old_g):\n",
    "    # ng[1] = ng[1][ng[1].index.isin(og[1].index)]\n",
    "    if len(ng[1])-1 != len(og[1]):\n",
    "        print(ng[0], (len(ng[1]) - len(og[1]))-1)"
   ]
  },
  {
   "cell_type": "code",
   "execution_count": 8,
   "metadata": {},
   "outputs": [],
   "source": [
    "# '''\n",
    "# ensures that only commits present in 'old' are considered\n",
    "# '''\n",
    "# new_g = new.groupby(level=0)\n",
    "# old_g = old.groupby(level=0)\n",
    "# tmp = []\n",
    "\n",
    "# for ng, og in zip(new_g, old_g):\n",
    "#     tmp.append(ng[1][ng[1].index.isin(og[1].index)])\n",
    "\n",
    "# new = pd.concat(tmp)\n",
    "# del tmp\n",
    "# del new_g, old_g"
   ]
  },
  {
   "cell_type": "code",
   "execution_count": 9,
   "metadata": {},
   "outputs": [],
   "source": [
    "# drops the latest commit of each project, since it is actually from the tool not the project itself\n",
    "new = new_g.apply(lambda x: x.iloc[1:]).droplevel(0)"
   ]
  },
  {
   "cell_type": "code",
   "execution_count": 10,
   "metadata": {},
   "outputs": [],
   "source": [
    "# aggregates old and new commits to facilitate conversion\n",
    "convert = pd.DataFrame()\n",
    "\n",
    "convert['old_hash'] = old\n",
    "convert['new_hash'] =\\\n",
    "    new.reset_index()\\\n",
    "    .iloc[old.reset_index()\\\n",
    "    .index][0].values\n",
    "\n",
    "# converts bic commits to their equivalent in 'new'\n",
    "nbic =\\\n",
    "    convert.set_index('old_hash')\\\n",
    "    .squeeze()[ubic.values]\\\n",
    "    .dropna()\\\n",
    "    .reset_index(drop=True)\n",
    "\n",
    "del convert"
   ]
  },
  {
   "cell_type": "code",
   "execution_count": 11,
   "metadata": {},
   "outputs": [
    {
     "name": "stdout",
     "output_type": "stream",
     "text": "Selects components with relevant cochange dependency\n Of 8932894 entries, 312681 (3.50%) were found to have support_count > 1 and confidence >= 0.5\n"
    }
   ],
   "source": [
    "'''\n",
    "selects relevant support count (>1) and confidence (>=0.5)\n",
    "'''\n",
    "# selects cochange of at least two components with confidence higher that 0.5\n",
    "rcc = cc[\n",
    "    (cc.support_count > 1) & (cc.confidence >= 0.5)\n",
    "].reset_index(drop=True)\n",
    "\n",
    "print(\n",
    "    'Selects components with relevant cochange dependency\\n',\n",
    "    'Of {0} entries, {1} ({2:.2f}%) were found to have support_count > 1 and confidence >= 0.5'\n",
    "    .format(len(cc), len(rcc), (100*len(rcc)/len(cc)))\n",
    ")\n",
    "\n",
    "del cc"
   ]
  },
  {
   "cell_type": "code",
   "execution_count": 13,
   "metadata": {},
   "outputs": [],
   "source": [
    "import itertools\n",
    "\n",
    "# operates with sets due to performance gains\n",
    "set_rcc = set(itertools.chain.from_iterable(rcc['commit_hash'].values))\n",
    "set_bic = set(bic.values)\n",
    "\n",
    "# defines implicit functions to compute count and percentage metrics\n",
    "get_total_bic_count = lambda x: len(set_bic) - (len(set_bic - set(x.values)))\n",
    "get_total_bic_percent = lambda x: (len(set_bic) - (len(set_bic - set(x.values)))) / len(x)\n",
    "\n",
    "get_cochange_count = lambda x: len(set(x.values) & set(set_rcc))\n",
    "get_cochange_bic_count = lambda x: len(set(x.values) & set(set_rcc) & set(nbic.values))\n",
    "get_cochange_bic_percent = lambda x:\\\n",
    "    len(set(x.values) & set(set_rcc) & set(nbic.values)) / len(set(x.values) & set_rcc) if len(set(x.values) & set_rcc) != 0 else 0.0\n",
    "\n",
    "get_nocochange_count = lambda x: len(set(x.values) - set(set_rcc))\n",
    "get_nocochange_bic_count = lambda x: len((set(x.values) - set(set_rcc)) & set(nbic.values))\n",
    "get_nocochange_bic_percent = lambda x:\\\n",
    "    len((set(x.values) - set(set_rcc)) & set(nbic.values)) / len(set(x.values) - set_rcc) if len(set(x.values) & set_rcc) != 0 else 0.0\n",
    "\n",
    "# applies count functions over each group (project)\n",
    "total_bic_df =\\\n",
    "    old_g.agg(['count', get_total_bic_count, get_total_bic_percent])\\\n",
    "    .rename(columns={\n",
    "        '<lambda_0>': 'bic_count', '<lambda_1>': 'bic_percent'\n",
    "    })\n",
    "\n",
    "cc_bic_df =\\\n",
    "    new_g.agg([get_cochange_count, get_cochange_bic_count, get_cochange_bic_percent])\\\n",
    "    .rename(columns={\n",
    "        '<lambda_0>': 'cochange_count', '<lambda_1>': 'bic_count', '<lambda_2>': 'bic_percent'\n",
    "    })\n",
    "\n",
    "nocc_bic_df =\\\n",
    "    new_g.agg([get_nocochange_count, get_nocochange_bic_count, get_nocochange_bic_percent])\\\n",
    "    .rename(columns={\n",
    "        '<lambda_0>': 'nocochange_count', '<lambda_1>': 'bic_count', '<lambda_2>': 'bic_percent'\n",
    "    })"
   ]
  },
  {
   "cell_type": "markdown",
   "metadata": {},
   "outputs": [],
   "source": [
    "## Assumptions of the paired t-test\n",
    "* The dependent variable (DV) must be continuous which is measured on an interval or ratio scale\n",
    "* The DV should not contain any significant outliers\n",
    "* The DV should be approximately normally distributed\n",
    "    * Testing for normality needs to be conducted on the differences between the two conditions, not the raw values of each condition itself\n",
    "    * If there is a violation of normality, as long as it’s not in a major violation, the test results can be considered valid"
   ]
  },
  {
   "cell_type": "code",
   "execution_count": 14,
   "metadata": {},
   "outputs": [],
   "source": [
    "'''\n",
    "Assumption 2. Outliers\n",
    "'''\n",
    "mean = cc_bic_df['bic_percent'].mean()\n",
    "std = cc_bic_df['bic_percent'].std()\n",
    "cc_bic = cc_bic_df['bic_percent'][cc_bic_df['bic_percent'].apply(lambda x: (x > mean - 2*std) and (x < mean + 2*std))]\n",
    "\n",
    "mean = total_bic_df['bic_percent'].mean()\n",
    "std = total_bic_df['bic_percent'].std()\n",
    "total_bic = total_bic_df['bic_percent'][total_bic_df['bic_percent'].apply(lambda x: (x > mean - 2*std) and (x < mean + 2*std))]"
   ]
  },
  {
   "cell_type": "code",
   "execution_count": 15,
   "metadata": {},
   "outputs": [
    {
     "name": "stdout",
     "output_type": "stream",
     "text": "---Summary of Variables---\n\n Percentage of BICs in all commits:\n count    35.000000\nmean      0.108511\nstd       0.050879\nmin       0.000205\n25%       0.073946\n50%       0.099504\n75%       0.137217\nmax       0.221905\nName: bic_percent, dtype: float64 \n------------------------------------------------------\n\nPercentage of BICs in commits with cochange dependency:\n count    36.000000\nmean      0.098130\nstd       0.063570\nmin       0.000000\n25%       0.048638\n50%       0.101623\n75%       0.133526\nmax       0.257143\nName: bic_percent, dtype: float64\n"
    }
   ],
   "source": [
    "print(\n",
    "    '\\t\\t---Summary of Variables---\\n\\n',\n",
    "    'Percentage of BICs in all commits:\\n',\n",
    "    total_bic.describe(),\n",
    "    '\\n------------------------------------------------------\\n'\n",
    "    '\\nPercentage of BICs in commits with cochange dependency:\\n',\n",
    "    cc_bic.describe(),\n",
    ")"
   ]
  },
  {
   "cell_type": "code",
   "execution_count": 16,
   "metadata": {},
   "outputs": [
    {
     "name": "stdout",
     "output_type": "stream",
     "text": "---Shapiro Wilk Normality Test - Individual Samples---\n \tAssume normality if p-value > 0.05\n\n\t\tTotal BICs\n W-statistic\t\tp-value\n (0.9772871732711792, 0.6693524122238159) \n\n\t\tCochange BICs\n W-statistic\t\tp-value\n (0.9681053161621094, 0.37607207894325256)\n"
    }
   ],
   "source": [
    "'''\n",
    "test both samples for normality\n",
    "'''\n",
    "print(\n",
    "    '\\t\\t---Shapiro Wilk Normality Test - Individual Samples---\\n',\n",
    "    '\\tAssume normality if p-value > 0.05\\n\\n'\n",
    "    '\\t\\tTotal BICs\\n W-statistic\\t\\tp-value\\n',\n",
    "    shapiro(total_bic.values),\n",
    "    '\\n\\n\\t\\tCochange BICs\\n W-statistic\\t\\tp-value\\n',\n",
    "    shapiro(cc_bic.values)\n",
    ")"
   ]
  },
  {
   "cell_type": "code",
   "execution_count": 17,
   "metadata": {},
   "outputs": [],
   "source": [
    "'''\n",
    "pairs the two variables\n",
    "'''\n",
    "total_bic = total_bic[total_bic.index.isin(cc_bic.index)]\n",
    "cc_bic = cc_bic[cc_bic.index.isin(total_bic.index)]"
   ]
  },
  {
   "cell_type": "code",
   "execution_count": 18,
   "metadata": {},
   "outputs": [
    {
     "name": "stdout",
     "output_type": "stream",
     "text": "---Shapiro Wilk Normality Test - Paired Samples---\n \tAssume normality if p-value > 0.05\n\n\tDifference of BICs (total - cocahnge)\n W-statistic\t\tp-value\n (0.9722103476524353, 0.5250150561332703) \n\n\n"
    },
    {
     "data": {
      "image/png": "[encoded data removed]",
      "image/svg+xml": "<?xml version=\"1.0\" encoding=\"utf-8\" standalone=\"no\"?>\n<!DOCTYPE svg PUBLIC \"-//W3C//DTD SVG 1.1//EN\"\n  \"http://www.w3.org/Graphics/SVG/1.1/DTD/svg11.dtd\">\n<!-- Created with matplotlib (https://matplotlib.org/) -->\n<svg height=\"248.518125pt\" version=\"1.1\" viewBox=\"0 0 376.240625 248.518125\" width=\"376.240625pt\" xmlns=\"http://www.w3.org/2000/svg\" xmlns:xlink=\"http://www.w3.org/1999/xlink\">\n <defs>\n  <style type=\"text/css\">\n*{stroke-linecap:butt;stroke-linejoin:round;}\n  </style>\n </defs>\n <g id=\"figure_1\">\n  <g id=\"patch_1\">\n   <path d=\"M 0 248.518125 \nL 376.240625 248.518125 \nL 376.240625 0 \nL 0 0 \nz\n\" style=\"fill:none;\"/>\n  </g>\n  <g id=\"axes_1\">\n   <g id=\"patch_2\">\n    <path d=\"M 34.240625 224.64 \nL 369.040625 224.64 \nL 369.040625 7.2 \nL 34.240625 7.2 \nz\n\" style=\"fill:#ffffff;\"/>\n   </g>\n   <g id=\"patch_3\">\n    <path clip-path=\"url(#p331cc26fb8)\" d=\"M 49.458807 224.64 \nL 79.89517 224.64 \nL 79.89517 195.056327 \nL 49.458807 195.056327 \nz\n\" style=\"fill:#1f77b4;\"/>\n   </g>\n   <g id=\"patch_4\">\n    <path clip-path=\"url(#p331cc26fb8)\" d=\"M 79.89517 224.64 \nL 110.331534 224.64 \nL 110.331534 224.64 \nL 79.89517 224.64 \nz\n\" style=\"fill:#1f77b4;\"/>\n   </g>\n   <g id=\"patch_5\">\n    <path clip-path=\"url(#p331cc26fb8)\" d=\"M 110.331534 224.64 \nL 140.767898 224.64 \nL 140.767898 224.64 \nL 110.331534 224.64 \nz\n\" style=\"fill:#1f77b4;\"/>\n   </g>\n   <g id=\"patch_6\">\n    <path clip-path=\"url(#p331cc26fb8)\" d=\"M 140.767898 224.64 \nL 171.204261 224.64 \nL 171.204261 106.305306 \nL 140.767898 106.305306 \nz\n\" style=\"fill:#1f77b4;\"/>\n   </g>\n   <g id=\"patch_7\">\n    <path clip-path=\"url(#p331cc26fb8)\" d=\"M 171.204261 224.64 \nL 201.640625 224.64 \nL 201.640625 17.554286 \nL 171.204261 17.554286 \nz\n\" style=\"fill:#1f77b4;\"/>\n   </g>\n   <g id=\"patch_8\">\n    <path clip-path=\"url(#p331cc26fb8)\" d=\"M 201.640625 224.64 \nL 232.076989 224.64 \nL 232.076989 17.554286 \nL 201.640625 17.554286 \nz\n\" style=\"fill:#1f77b4;\"/>\n   </g>\n   <g id=\"patch_9\">\n    <path clip-path=\"url(#p331cc26fb8)\" d=\"M 232.076989 224.64 \nL 262.513352 224.64 \nL 262.513352 17.554286 \nL 232.076989 17.554286 \nz\n\" style=\"fill:#1f77b4;\"/>\n   </g>\n   <g id=\"patch_10\">\n    <path clip-path=\"url(#p331cc26fb8)\" d=\"M 262.513352 224.64 \nL 292.949716 224.64 \nL 292.949716 76.721633 \nL 262.513352 76.721633 \nz\n\" style=\"fill:#1f77b4;\"/>\n   </g>\n   <g id=\"patch_11\">\n    <path clip-path=\"url(#p331cc26fb8)\" d=\"M 292.949716 224.64 \nL 323.38608 224.64 \nL 323.38608 195.056327 \nL 292.949716 195.056327 \nz\n\" style=\"fill:#1f77b4;\"/>\n   </g>\n   <g id=\"patch_12\">\n    <path clip-path=\"url(#p331cc26fb8)\" d=\"M 323.38608 224.64 \nL 353.822443 224.64 \nL 353.822443 165.472653 \nL 323.38608 165.472653 \nz\n\" style=\"fill:#1f77b4;\"/>\n   </g>\n   <g id=\"matplotlib.axis_1\">\n    <g id=\"xtick_1\">\n     <g id=\"line2d_1\">\n      <defs>\n       <path d=\"M 0 0 \nL 0 3.5 \n\" id=\"m56e93cd0a8\" style=\"stroke:#000000;stroke-width:0.8;\"/>\n      </defs>\n      <g>\n       <use style=\"stroke:#000000;stroke-width:0.8;\" x=\"85.650021\" xlink:href=\"#m56e93cd0a8\" y=\"224.64\"/>\n      </g>\n     </g>\n     <g id=\"text_1\">\n      <!-- −0.2 -->\n      <defs>\n       <path d=\"M 10.59375 35.5 \nL 73.1875 35.5 \nL 73.1875 27.203125 \nL 10.59375 27.203125 \nz\n\" id=\"DejaVuSans-8722\"/>\n       <path d=\"M 31.78125 66.40625 \nQ 24.171875 66.40625 20.328125 58.90625 \nQ 16.5 51.421875 16.5 36.375 \nQ 16.5 21.390625 20.328125 13.890625 \nQ 24.171875 6.390625 31.78125 6.390625 \nQ 39.453125 6.390625 43.28125 13.890625 \nQ 47.125 21.390625 47.125 36.375 \nQ 47.125 51.421875 43.28125 58.90625 \nQ 39.453125 66.40625 31.78125 66.40625 \nz\nM 31.78125 74.21875 \nQ 44.046875 74.21875 50.515625 64.515625 \nQ 56.984375 54.828125 56.984375 36.375 \nQ 56.984375 17.96875 50.515625 8.265625 \nQ 44.046875 -1.421875 31.78125 -1.421875 \nQ 19.53125 -1.421875 13.0625 8.265625 \nQ 6.59375 17.96875 6.59375 36.375 \nQ 6.59375 54.828125 13.0625 64.515625 \nQ 19.53125 74.21875 31.78125 74.21875 \nz\n\" id=\"DejaVuSans-48\"/>\n       <path d=\"M 10.6875 12.40625 \nL 21 12.40625 \nL 21 0 \nL 10.6875 0 \nz\n\" id=\"DejaVuSans-46\"/>\n       <path d=\"M 19.1875 8.296875 \nL 53.609375 8.296875 \nL 53.609375 0 \nL 7.328125 0 \nL 7.328125 8.296875 \nQ 12.9375 14.109375 22.625 23.890625 \nQ 32.328125 33.6875 34.8125 36.53125 \nQ 39.546875 41.84375 41.421875 45.53125 \nQ 43.3125 49.21875 43.3125 52.78125 \nQ 43.3125 58.59375 39.234375 62.25 \nQ 35.15625 65.921875 28.609375 65.921875 \nQ 23.96875 65.921875 18.8125 64.3125 \nQ 13.671875 62.703125 7.8125 59.421875 \nL 7.8125 69.390625 \nQ 13.765625 71.78125 18.9375 73 \nQ 24.125 74.21875 28.421875 74.21875 \nQ 39.75 74.21875 46.484375 68.546875 \nQ 53.21875 62.890625 53.21875 53.421875 \nQ 53.21875 48.921875 51.53125 44.890625 \nQ 49.859375 40.875 45.40625 35.40625 \nQ 44.1875 33.984375 37.640625 27.21875 \nQ 31.109375 20.453125 19.1875 8.296875 \nz\n\" id=\"DejaVuSans-50\"/>\n      </defs>\n      <g transform=\"translate(73.508615 239.238437)scale(0.1 -0.1)\">\n       <use xlink:href=\"#DejaVuSans-8722\"/>\n       <use x=\"83.789062\" xlink:href=\"#DejaVuSans-48\"/>\n       <use x=\"147.412109\" xlink:href=\"#DejaVuSans-46\"/>\n       <use x=\"179.199219\" xlink:href=\"#DejaVuSans-50\"/>\n      </g>\n     </g>\n    </g>\n    <g id=\"xtick_2\">\n     <g id=\"line2d_2\">\n      <g>\n       <use style=\"stroke:#000000;stroke-width:0.8;\" x=\"149.212334\" xlink:href=\"#m56e93cd0a8\" y=\"224.64\"/>\n      </g>\n     </g>\n     <g id=\"text_2\">\n      <!-- −0.1 -->\n      <defs>\n       <path d=\"M 12.40625 8.296875 \nL 28.515625 8.296875 \nL 28.515625 63.921875 \nL 10.984375 60.40625 \nL 10.984375 69.390625 \nL 28.421875 72.90625 \nL 38.28125 72.90625 \nL 38.28125 8.296875 \nL 54.390625 8.296875 \nL 54.390625 0 \nL 12.40625 0 \nz\n\" id=\"DejaVuSans-49\"/>\n      </defs>\n      <g transform=\"translate(137.070927 239.238437)scale(0.1 -0.1)\">\n       <use xlink:href=\"#DejaVuSans-8722\"/>\n       <use x=\"83.789062\" xlink:href=\"#DejaVuSans-48\"/>\n       <use x=\"147.412109\" xlink:href=\"#DejaVuSans-46\"/>\n       <use x=\"179.199219\" xlink:href=\"#DejaVuSans-49\"/>\n      </g>\n     </g>\n    </g>\n    <g id=\"xtick_3\">\n     <g id=\"line2d_3\">\n      <g>\n       <use style=\"stroke:#000000;stroke-width:0.8;\" x=\"212.774646\" xlink:href=\"#m56e93cd0a8\" y=\"224.64\"/>\n      </g>\n     </g>\n     <g id=\"text_3\">\n      <!-- 0.0 -->\n      <g transform=\"translate(204.823083 239.238437)scale(0.1 -0.1)\">\n       <use xlink:href=\"#DejaVuSans-48\"/>\n       <use x=\"63.623047\" xlink:href=\"#DejaVuSans-46\"/>\n       <use x=\"95.410156\" xlink:href=\"#DejaVuSans-48\"/>\n      </g>\n     </g>\n    </g>\n    <g id=\"xtick_4\">\n     <g id=\"line2d_4\">\n      <g>\n       <use style=\"stroke:#000000;stroke-width:0.8;\" x=\"276.336958\" xlink:href=\"#m56e93cd0a8\" y=\"224.64\"/>\n      </g>\n     </g>\n     <g id=\"text_4\">\n      <!-- 0.1 -->\n      <g transform=\"translate(268.385395 239.238437)scale(0.1 -0.1)\">\n       <use xlink:href=\"#DejaVuSans-48\"/>\n       <use x=\"63.623047\" xlink:href=\"#DejaVuSans-46\"/>\n       <use x=\"95.410156\" xlink:href=\"#DejaVuSans-49\"/>\n      </g>\n     </g>\n    </g>\n    <g id=\"xtick_5\">\n     <g id=\"line2d_5\">\n      <g>\n       <use style=\"stroke:#000000;stroke-width:0.8;\" x=\"339.89927\" xlink:href=\"#m56e93cd0a8\" y=\"224.64\"/>\n      </g>\n     </g>\n     <g id=\"text_5\">\n      <!-- 0.2 -->\n      <g transform=\"translate(331.947708 239.238437)scale(0.1 -0.1)\">\n       <use xlink:href=\"#DejaVuSans-48\"/>\n       <use x=\"63.623047\" xlink:href=\"#DejaVuSans-46\"/>\n       <use x=\"95.410156\" xlink:href=\"#DejaVuSans-50\"/>\n      </g>\n     </g>\n    </g>\n   </g>\n   <g id=\"matplotlib.axis_2\">\n    <g id=\"ytick_1\">\n     <g id=\"line2d_6\">\n      <defs>\n       <path d=\"M 0 0 \nL -3.5 0 \n\" id=\"m288601fa84\" style=\"stroke:#000000;stroke-width:0.8;\"/>\n      </defs>\n      <g>\n       <use style=\"stroke:#000000;stroke-width:0.8;\" x=\"34.240625\" xlink:href=\"#m288601fa84\" y=\"224.64\"/>\n      </g>\n     </g>\n     <g id=\"text_6\">\n      <!-- 0 -->\n      <g transform=\"translate(20.878125 228.439219)scale(0.1 -0.1)\">\n       <use xlink:href=\"#DejaVuSans-48\"/>\n      </g>\n     </g>\n    </g>\n    <g id=\"ytick_2\">\n     <g id=\"line2d_7\">\n      <g>\n       <use style=\"stroke:#000000;stroke-width:0.8;\" x=\"34.240625\" xlink:href=\"#m288601fa84\" y=\"195.056327\"/>\n      </g>\n     </g>\n     <g id=\"text_7\">\n      <!-- 1 -->\n      <g transform=\"translate(20.878125 198.855545)scale(0.1 -0.1)\">\n       <use xlink:href=\"#DejaVuSans-49\"/>\n      </g>\n     </g>\n    </g>\n    <g id=\"ytick_3\">\n     <g id=\"line2d_8\">\n      <g>\n       <use style=\"stroke:#000000;stroke-width:0.8;\" x=\"34.240625\" xlink:href=\"#m288601fa84\" y=\"165.472653\"/>\n      </g>\n     </g>\n     <g id=\"text_8\">\n      <!-- 2 -->\n      <g transform=\"translate(20.878125 169.271872)scale(0.1 -0.1)\">\n       <use xlink:href=\"#DejaVuSans-50\"/>\n      </g>\n     </g>\n    </g>\n    <g id=\"ytick_4\">\n     <g id=\"line2d_9\">\n      <g>\n       <use style=\"stroke:#000000;stroke-width:0.8;\" x=\"34.240625\" xlink:href=\"#m288601fa84\" y=\"135.88898\"/>\n      </g>\n     </g>\n     <g id=\"text_9\">\n      <!-- 3 -->\n      <defs>\n       <path d=\"M 40.578125 39.3125 \nQ 47.65625 37.796875 51.625 33 \nQ 55.609375 28.21875 55.609375 21.1875 \nQ 55.609375 10.40625 48.1875 4.484375 \nQ 40.765625 -1.421875 27.09375 -1.421875 \nQ 22.515625 -1.421875 17.65625 -0.515625 \nQ 12.796875 0.390625 7.625 2.203125 \nL 7.625 11.71875 \nQ 11.71875 9.328125 16.59375 8.109375 \nQ 21.484375 6.890625 26.8125 6.890625 \nQ 36.078125 6.890625 40.9375 10.546875 \nQ 45.796875 14.203125 45.796875 21.1875 \nQ 45.796875 27.640625 41.28125 31.265625 \nQ 36.765625 34.90625 28.71875 34.90625 \nL 20.21875 34.90625 \nL 20.21875 43.015625 \nL 29.109375 43.015625 \nQ 36.375 43.015625 40.234375 45.921875 \nQ 44.09375 48.828125 44.09375 54.296875 \nQ 44.09375 59.90625 40.109375 62.90625 \nQ 36.140625 65.921875 28.71875 65.921875 \nQ 24.65625 65.921875 20.015625 65.03125 \nQ 15.375 64.15625 9.8125 62.3125 \nL 9.8125 71.09375 \nQ 15.4375 72.65625 20.34375 73.4375 \nQ 25.25 74.21875 29.59375 74.21875 \nQ 40.828125 74.21875 47.359375 69.109375 \nQ 53.90625 64.015625 53.90625 55.328125 \nQ 53.90625 49.265625 50.4375 45.09375 \nQ 46.96875 40.921875 40.578125 39.3125 \nz\n\" id=\"DejaVuSans-51\"/>\n      </defs>\n      <g transform=\"translate(20.878125 139.688198)scale(0.1 -0.1)\">\n       <use xlink:href=\"#DejaVuSans-51\"/>\n      </g>\n     </g>\n    </g>\n    <g id=\"ytick_5\">\n     <g id=\"line2d_10\">\n      <g>\n       <use style=\"stroke:#000000;stroke-width:0.8;\" x=\"34.240625\" xlink:href=\"#m288601fa84\" y=\"106.305306\"/>\n      </g>\n     </g>\n     <g id=\"text_10\">\n      <!-- 4 -->\n      <defs>\n       <path d=\"M 37.796875 64.3125 \nL 12.890625 25.390625 \nL 37.796875 25.390625 \nz\nM 35.203125 72.90625 \nL 47.609375 72.90625 \nL 47.609375 25.390625 \nL 58.015625 25.390625 \nL 58.015625 17.1875 \nL 47.609375 17.1875 \nL 47.609375 0 \nL 37.796875 0 \nL 37.796875 17.1875 \nL 4.890625 17.1875 \nL 4.890625 26.703125 \nz\n\" id=\"DejaVuSans-52\"/>\n      </defs>\n      <g transform=\"translate(20.878125 110.104525)scale(0.1 -0.1)\">\n       <use xlink:href=\"#DejaVuSans-52\"/>\n      </g>\n     </g>\n    </g>\n    <g id=\"ytick_6\">\n     <g id=\"line2d_11\">\n      <g>\n       <use style=\"stroke:#000000;stroke-width:0.8;\" x=\"34.240625\" xlink:href=\"#m288601fa84\" y=\"76.721633\"/>\n      </g>\n     </g>\n     <g id=\"text_11\">\n      <!-- 5 -->\n      <defs>\n       <path d=\"M 10.796875 72.90625 \nL 49.515625 72.90625 \nL 49.515625 64.59375 \nL 19.828125 64.59375 \nL 19.828125 46.734375 \nQ 21.96875 47.46875 24.109375 47.828125 \nQ 26.265625 48.1875 28.421875 48.1875 \nQ 40.625 48.1875 47.75 41.5 \nQ 54.890625 34.8125 54.890625 23.390625 \nQ 54.890625 11.625 47.5625 5.09375 \nQ 40.234375 -1.421875 26.90625 -1.421875 \nQ 22.3125 -1.421875 17.546875 -0.640625 \nQ 12.796875 0.140625 7.71875 1.703125 \nL 7.71875 11.625 \nQ 12.109375 9.234375 16.796875 8.0625 \nQ 21.484375 6.890625 26.703125 6.890625 \nQ 35.15625 6.890625 40.078125 11.328125 \nQ 45.015625 15.765625 45.015625 23.390625 \nQ 45.015625 31 40.078125 35.4375 \nQ 35.15625 39.890625 26.703125 39.890625 \nQ 22.75 39.890625 18.8125 39.015625 \nQ 14.890625 38.140625 10.796875 36.28125 \nz\n\" id=\"DejaVuSans-53\"/>\n      </defs>\n      <g transform=\"translate(20.878125 80.520851)scale(0.1 -0.1)\">\n       <use xlink:href=\"#DejaVuSans-53\"/>\n      </g>\n     </g>\n    </g>\n    <g id=\"ytick_7\">\n     <g id=\"line2d_12\">\n      <g>\n       <use style=\"stroke:#000000;stroke-width:0.8;\" x=\"34.240625\" xlink:href=\"#m288601fa84\" y=\"47.137959\"/>\n      </g>\n     </g>\n     <g id=\"text_12\">\n      <!-- 6 -->\n      <defs>\n       <path d=\"M 33.015625 40.375 \nQ 26.375 40.375 22.484375 35.828125 \nQ 18.609375 31.296875 18.609375 23.390625 \nQ 18.609375 15.53125 22.484375 10.953125 \nQ 26.375 6.390625 33.015625 6.390625 \nQ 39.65625 6.390625 43.53125 10.953125 \nQ 47.40625 15.53125 47.40625 23.390625 \nQ 47.40625 31.296875 43.53125 35.828125 \nQ 39.65625 40.375 33.015625 40.375 \nz\nM 52.59375 71.296875 \nL 52.59375 62.3125 \nQ 48.875 64.0625 45.09375 64.984375 \nQ 41.3125 65.921875 37.59375 65.921875 \nQ 27.828125 65.921875 22.671875 59.328125 \nQ 17.53125 52.734375 16.796875 39.40625 \nQ 19.671875 43.65625 24.015625 45.921875 \nQ 28.375 48.1875 33.59375 48.1875 \nQ 44.578125 48.1875 50.953125 41.515625 \nQ 57.328125 34.859375 57.328125 23.390625 \nQ 57.328125 12.15625 50.6875 5.359375 \nQ 44.046875 -1.421875 33.015625 -1.421875 \nQ 20.359375 -1.421875 13.671875 8.265625 \nQ 6.984375 17.96875 6.984375 36.375 \nQ 6.984375 53.65625 15.1875 63.9375 \nQ 23.390625 74.21875 37.203125 74.21875 \nQ 40.921875 74.21875 44.703125 73.484375 \nQ 48.484375 72.75 52.59375 71.296875 \nz\n\" id=\"DejaVuSans-54\"/>\n      </defs>\n      <g transform=\"translate(20.878125 50.937178)scale(0.1 -0.1)\">\n       <use xlink:href=\"#DejaVuSans-54\"/>\n      </g>\n     </g>\n    </g>\n    <g id=\"ytick_8\">\n     <g id=\"line2d_13\">\n      <g>\n       <use style=\"stroke:#000000;stroke-width:0.8;\" x=\"34.240625\" xlink:href=\"#m288601fa84\" y=\"17.554286\"/>\n      </g>\n     </g>\n     <g id=\"text_13\">\n      <!-- 7 -->\n      <defs>\n       <path d=\"M 8.203125 72.90625 \nL 55.078125 72.90625 \nL 55.078125 68.703125 \nL 28.609375 0 \nL 18.3125 0 \nL 43.21875 64.59375 \nL 8.203125 64.59375 \nz\n\" id=\"DejaVuSans-55\"/>\n      </defs>\n      <g transform=\"translate(20.878125 21.353504)scale(0.1 -0.1)\">\n       <use xlink:href=\"#DejaVuSans-55\"/>\n      </g>\n     </g>\n    </g>\n    <g id=\"text_14\">\n     <!-- Frequency -->\n     <defs>\n      <path d=\"M 9.8125 72.90625 \nL 51.703125 72.90625 \nL 51.703125 64.59375 \nL 19.671875 64.59375 \nL 19.671875 43.109375 \nL 48.578125 43.109375 \nL 48.578125 34.8125 \nL 19.671875 34.8125 \nL 19.671875 0 \nL 9.8125 0 \nz\n\" id=\"DejaVuSans-70\"/>\n      <path d=\"M 41.109375 46.296875 \nQ 39.59375 47.171875 37.8125 47.578125 \nQ 36.03125 48 33.890625 48 \nQ 26.265625 48 22.1875 43.046875 \nQ 18.109375 38.09375 18.109375 28.8125 \nL 18.109375 0 \nL 9.078125 0 \nL 9.078125 54.6875 \nL 18.109375 54.6875 \nL 18.109375 46.1875 \nQ 20.953125 51.171875 25.484375 53.578125 \nQ 30.03125 56 36.53125 56 \nQ 37.453125 56 38.578125 55.875 \nQ 39.703125 55.765625 41.0625 55.515625 \nz\n\" id=\"DejaVuSans-114\"/>\n      <path d=\"M 56.203125 29.59375 \nL 56.203125 25.203125 \nL 14.890625 25.203125 \nQ 15.484375 15.921875 20.484375 11.0625 \nQ 25.484375 6.203125 34.421875 6.203125 \nQ 39.59375 6.203125 44.453125 7.46875 \nQ 49.3125 8.734375 54.109375 11.28125 \nL 54.109375 2.78125 \nQ 49.265625 0.734375 44.1875 -0.34375 \nQ 39.109375 -1.421875 33.890625 -1.421875 \nQ 20.796875 -1.421875 13.15625 6.1875 \nQ 5.515625 13.8125 5.515625 26.8125 \nQ 5.515625 40.234375 12.765625 48.109375 \nQ 20.015625 56 32.328125 56 \nQ 43.359375 56 49.78125 48.890625 \nQ 56.203125 41.796875 56.203125 29.59375 \nz\nM 47.21875 32.234375 \nQ 47.125 39.59375 43.09375 43.984375 \nQ 39.0625 48.390625 32.421875 48.390625 \nQ 24.90625 48.390625 20.390625 44.140625 \nQ 15.875 39.890625 15.1875 32.171875 \nz\n\" id=\"DejaVuSans-101\"/>\n      <path d=\"M 14.796875 27.296875 \nQ 14.796875 17.390625 18.875 11.75 \nQ 22.953125 6.109375 30.078125 6.109375 \nQ 37.203125 6.109375 41.296875 11.75 \nQ 45.40625 17.390625 45.40625 27.296875 \nQ 45.40625 37.203125 41.296875 42.84375 \nQ 37.203125 48.484375 30.078125 48.484375 \nQ 22.953125 48.484375 18.875 42.84375 \nQ 14.796875 37.203125 14.796875 27.296875 \nz\nM 45.40625 8.203125 \nQ 42.578125 3.328125 38.25 0.953125 \nQ 33.9375 -1.421875 27.875 -1.421875 \nQ 17.96875 -1.421875 11.734375 6.484375 \nQ 5.515625 14.40625 5.515625 27.296875 \nQ 5.515625 40.1875 11.734375 48.09375 \nQ 17.96875 56 27.875 56 \nQ 33.9375 56 38.25 53.625 \nQ 42.578125 51.265625 45.40625 46.390625 \nL 45.40625 54.6875 \nL 54.390625 54.6875 \nL 54.390625 -20.796875 \nL 45.40625 -20.796875 \nz\n\" id=\"DejaVuSans-113\"/>\n      <path d=\"M 8.5 21.578125 \nL 8.5 54.6875 \nL 17.484375 54.6875 \nL 17.484375 21.921875 \nQ 17.484375 14.15625 20.5 10.265625 \nQ 23.53125 6.390625 29.59375 6.390625 \nQ 36.859375 6.390625 41.078125 11.03125 \nQ 45.3125 15.671875 45.3125 23.6875 \nL 45.3125 54.6875 \nL 54.296875 54.6875 \nL 54.296875 0 \nL 45.3125 0 \nL 45.3125 8.40625 \nQ 42.046875 3.421875 37.71875 1 \nQ 33.40625 -1.421875 27.6875 -1.421875 \nQ 18.265625 -1.421875 13.375 4.4375 \nQ 8.5 10.296875 8.5 21.578125 \nz\nM 31.109375 56 \nz\n\" id=\"DejaVuSans-117\"/>\n      <path d=\"M 54.890625 33.015625 \nL 54.890625 0 \nL 45.90625 0 \nL 45.90625 32.71875 \nQ 45.90625 40.484375 42.875 44.328125 \nQ 39.84375 48.1875 33.796875 48.1875 \nQ 26.515625 48.1875 22.3125 43.546875 \nQ 18.109375 38.921875 18.109375 30.90625 \nL 18.109375 0 \nL 9.078125 0 \nL 9.078125 54.6875 \nL 18.109375 54.6875 \nL 18.109375 46.1875 \nQ 21.34375 51.125 25.703125 53.5625 \nQ 30.078125 56 35.796875 56 \nQ 45.21875 56 50.046875 50.171875 \nQ 54.890625 44.34375 54.890625 33.015625 \nz\n\" id=\"DejaVuSans-110\"/>\n      <path d=\"M 48.78125 52.59375 \nL 48.78125 44.1875 \nQ 44.96875 46.296875 41.140625 47.34375 \nQ 37.3125 48.390625 33.40625 48.390625 \nQ 24.65625 48.390625 19.8125 42.84375 \nQ 14.984375 37.3125 14.984375 27.296875 \nQ 14.984375 17.28125 19.8125 11.734375 \nQ 24.65625 6.203125 33.40625 6.203125 \nQ 37.3125 6.203125 41.140625 7.25 \nQ 44.96875 8.296875 48.78125 10.40625 \nL 48.78125 2.09375 \nQ 45.015625 0.34375 40.984375 -0.53125 \nQ 36.96875 -1.421875 32.421875 -1.421875 \nQ 20.0625 -1.421875 12.78125 6.34375 \nQ 5.515625 14.109375 5.515625 27.296875 \nQ 5.515625 40.671875 12.859375 48.328125 \nQ 20.21875 56 33.015625 56 \nQ 37.15625 56 41.109375 55.140625 \nQ 45.0625 54.296875 48.78125 52.59375 \nz\n\" id=\"DejaVuSans-99\"/>\n      <path d=\"M 32.171875 -5.078125 \nQ 28.375 -14.84375 24.75 -17.8125 \nQ 21.140625 -20.796875 15.09375 -20.796875 \nL 7.90625 -20.796875 \nL 7.90625 -13.28125 \nL 13.1875 -13.28125 \nQ 16.890625 -13.28125 18.9375 -11.515625 \nQ 21 -9.765625 23.484375 -3.21875 \nL 25.09375 0.875 \nL 2.984375 54.6875 \nL 12.5 54.6875 \nL 29.59375 11.921875 \nL 46.6875 54.6875 \nL 56.203125 54.6875 \nz\n\" id=\"DejaVuSans-121\"/>\n     </defs>\n     <g transform=\"translate(14.798437 142.217656)rotate(-90)scale(0.1 -0.1)\">\n      <use xlink:href=\"#DejaVuSans-70\"/>\n      <use x=\"57.410156\" xlink:href=\"#DejaVuSans-114\"/>\n      <use x=\"98.492188\" xlink:href=\"#DejaVuSans-101\"/>\n      <use x=\"160.015625\" xlink:href=\"#DejaVuSans-113\"/>\n      <use x=\"223.492188\" xlink:href=\"#DejaVuSans-117\"/>\n      <use x=\"286.871094\" xlink:href=\"#DejaVuSans-101\"/>\n      <use x=\"348.394531\" xlink:href=\"#DejaVuSans-110\"/>\n      <use x=\"411.773438\" xlink:href=\"#DejaVuSans-99\"/>\n      <use x=\"466.753906\" xlink:href=\"#DejaVuSans-121\"/>\n     </g>\n    </g>\n   </g>\n   <g id=\"patch_13\">\n    <path d=\"M 34.240625 224.64 \nL 34.240625 7.2 \n\" style=\"fill:none;stroke:#000000;stroke-linecap:square;stroke-linejoin:miter;stroke-width:0.8;\"/>\n   </g>\n   <g id=\"patch_14\">\n    <path d=\"M 369.040625 224.64 \nL 369.040625 7.2 \n\" style=\"fill:none;stroke:#000000;stroke-linecap:square;stroke-linejoin:miter;stroke-width:0.8;\"/>\n   </g>\n   <g id=\"patch_15\">\n    <path d=\"M 34.240625 224.64 \nL 369.040625 224.64 \n\" style=\"fill:none;stroke:#000000;stroke-linecap:square;stroke-linejoin:miter;stroke-width:0.8;\"/>\n   </g>\n   <g id=\"patch_16\">\n    <path d=\"M 34.240625 7.2 \nL 369.040625 7.2 \n\" style=\"fill:none;stroke:#000000;stroke-linecap:square;stroke-linejoin:miter;stroke-width:0.8;\"/>\n   </g>\n  </g>\n </g>\n <defs>\n  <clipPath id=\"p331cc26fb8\">\n   <rect height=\"217.44\" width=\"334.8\" x=\"34.240625\" y=\"7.2\"/>\n  </clipPath>\n </defs>\n</svg>\n",
      "text/plain": "<Figure size 432x288 with 1 Axes>"
     },
     "metadata": {
      "needs_background": "light"
     },
     "output_type": "display_data"
    }
   ],
   "source": [
    "'''\n",
    "Assumption 3. Normality of the differences\n",
    "'''\n",
    "bic_diff = total_bic - cc_bic\n",
    "print(\n",
    "    '\\t\\t---Shapiro Wilk Normality Test - Paired Samples---\\n',\n",
    "    '\\tAssume normality if p-value > 0.05\\n\\n'\n",
    "    '\\tDifference of BICs (total - cocahnge)\\n W-statistic\\t\\tp-value\\n',\n",
    "    shapiro(bic_diff.values),\n",
    "    '\\n\\n'\n",
    ")\n",
    "bic_diff.plot(kind='hist')\n",
    "plt.show()"
   ]
  },
  {
   "cell_type": "code",
   "execution_count": 19,
   "metadata": {},
   "outputs": [
    {
     "data": {
      "image/png": "[encoded data removed]",
      "image/svg+xml": "<?xml version=\"1.0\" encoding=\"utf-8\" standalone=\"no\"?>\n<!DOCTYPE svg PUBLIC \"-//W3C//DTD SVG 1.1//EN\"\n  \"http://www.w3.org/Graphics/SVG/1.1/DTD/svg11.dtd\">\n<!-- Created with matplotlib (https://matplotlib.org/) -->\n<svg height=\"277.314375pt\" version=\"1.1\" viewBox=\"0 0 394.160937 277.314375\" width=\"394.160937pt\" xmlns=\"http://www.w3.org/2000/svg\" xmlns:xlink=\"http://www.w3.org/1999/xlink\">\n <defs>\n  <style type=\"text/css\">\n*{stroke-linecap:butt;stroke-linejoin:round;}\n  </style>\n </defs>\n <g id=\"figure_1\">\n  <g id=\"patch_1\">\n   <path d=\"M 0 277.314375 \nL 394.160937 277.314375 \nL 394.160937 0 \nL 0 0 \nz\n\" style=\"fill:none;\"/>\n  </g>\n  <g id=\"axes_1\">\n   <g id=\"patch_2\">\n    <path d=\"M 52.160938 239.758125 \nL 386.960938 239.758125 \nL 386.960938 22.318125 \nL 52.160938 22.318125 \nz\n\" style=\"fill:#ffffff;\"/>\n   </g>\n   <g id=\"matplotlib.axis_1\">\n    <g id=\"xtick_1\">\n     <g id=\"line2d_1\">\n      <defs>\n       <path d=\"M 0 0 \nL 0 3.5 \n\" id=\"md67492c4b5\" style=\"stroke:#000000;stroke-width:0.8;\"/>\n      </defs>\n      <g>\n       <use style=\"stroke:#000000;stroke-width:0.8;\" x=\"71.093746\" xlink:href=\"#md67492c4b5\" y=\"239.758125\"/>\n      </g>\n     </g>\n     <g id=\"text_1\">\n      <!-- −2 -->\n      <defs>\n       <path d=\"M 10.59375 35.5 \nL 73.1875 35.5 \nL 73.1875 27.203125 \nL 10.59375 27.203125 \nz\n\" id=\"DejaVuSans-8722\"/>\n       <path d=\"M 19.1875 8.296875 \nL 53.609375 8.296875 \nL 53.609375 0 \nL 7.328125 0 \nL 7.328125 8.296875 \nQ 12.9375 14.109375 22.625 23.890625 \nQ 32.328125 33.6875 34.8125 36.53125 \nQ 39.546875 41.84375 41.421875 45.53125 \nQ 43.3125 49.21875 43.3125 52.78125 \nQ 43.3125 58.59375 39.234375 62.25 \nQ 35.15625 65.921875 28.609375 65.921875 \nQ 23.96875 65.921875 18.8125 64.3125 \nQ 13.671875 62.703125 7.8125 59.421875 \nL 7.8125 69.390625 \nQ 13.765625 71.78125 18.9375 73 \nQ 24.125 74.21875 28.421875 74.21875 \nQ 39.75 74.21875 46.484375 68.546875 \nQ 53.21875 62.890625 53.21875 53.421875 \nQ 53.21875 48.921875 51.53125 44.890625 \nQ 49.859375 40.875 45.40625 35.40625 \nQ 44.1875 33.984375 37.640625 27.21875 \nQ 31.109375 20.453125 19.1875 8.296875 \nz\n\" id=\"DejaVuSans-50\"/>\n      </defs>\n      <g transform=\"translate(63.722653 254.356562)scale(0.1 -0.1)\">\n       <use xlink:href=\"#DejaVuSans-8722\"/>\n       <use x=\"83.789062\" xlink:href=\"#DejaVuSans-50\"/>\n      </g>\n     </g>\n    </g>\n    <g id=\"xtick_2\">\n     <g id=\"line2d_2\">\n      <g>\n       <use style=\"stroke:#000000;stroke-width:0.8;\" x=\"145.327342\" xlink:href=\"#md67492c4b5\" y=\"239.758125\"/>\n      </g>\n     </g>\n     <g id=\"text_2\">\n      <!-- −1 -->\n      <defs>\n       <path d=\"M 12.40625 8.296875 \nL 28.515625 8.296875 \nL 28.515625 63.921875 \nL 10.984375 60.40625 \nL 10.984375 69.390625 \nL 28.421875 72.90625 \nL 38.28125 72.90625 \nL 38.28125 8.296875 \nL 54.390625 8.296875 \nL 54.390625 0 \nL 12.40625 0 \nz\n\" id=\"DejaVuSans-49\"/>\n      </defs>\n      <g transform=\"translate(137.956248 254.356562)scale(0.1 -0.1)\">\n       <use xlink:href=\"#DejaVuSans-8722\"/>\n       <use x=\"83.789062\" xlink:href=\"#DejaVuSans-49\"/>\n      </g>\n     </g>\n    </g>\n    <g id=\"xtick_3\">\n     <g id=\"line2d_3\">\n      <g>\n       <use style=\"stroke:#000000;stroke-width:0.8;\" x=\"219.560937\" xlink:href=\"#md67492c4b5\" y=\"239.758125\"/>\n      </g>\n     </g>\n     <g id=\"text_3\">\n      <!-- 0 -->\n      <defs>\n       <path d=\"M 31.78125 66.40625 \nQ 24.171875 66.40625 20.328125 58.90625 \nQ 16.5 51.421875 16.5 36.375 \nQ 16.5 21.390625 20.328125 13.890625 \nQ 24.171875 6.390625 31.78125 6.390625 \nQ 39.453125 6.390625 43.28125 13.890625 \nQ 47.125 21.390625 47.125 36.375 \nQ 47.125 51.421875 43.28125 58.90625 \nQ 39.453125 66.40625 31.78125 66.40625 \nz\nM 31.78125 74.21875 \nQ 44.046875 74.21875 50.515625 64.515625 \nQ 56.984375 54.828125 56.984375 36.375 \nQ 56.984375 17.96875 50.515625 8.265625 \nQ 44.046875 -1.421875 31.78125 -1.421875 \nQ 19.53125 -1.421875 13.0625 8.265625 \nQ 6.59375 17.96875 6.59375 36.375 \nQ 6.59375 54.828125 13.0625 64.515625 \nQ 19.53125 74.21875 31.78125 74.21875 \nz\n\" id=\"DejaVuSans-48\"/>\n      </defs>\n      <g transform=\"translate(216.379687 254.356562)scale(0.1 -0.1)\">\n       <use xlink:href=\"#DejaVuSans-48\"/>\n      </g>\n     </g>\n    </g>\n    <g id=\"xtick_4\">\n     <g id=\"line2d_4\">\n      <g>\n       <use style=\"stroke:#000000;stroke-width:0.8;\" x=\"293.794533\" xlink:href=\"#md67492c4b5\" y=\"239.758125\"/>\n      </g>\n     </g>\n     <g id=\"text_4\">\n      <!-- 1 -->\n      <g transform=\"translate(290.613283 254.356562)scale(0.1 -0.1)\">\n       <use xlink:href=\"#DejaVuSans-49\"/>\n      </g>\n     </g>\n    </g>\n    <g id=\"xtick_5\">\n     <g id=\"line2d_5\">\n      <g>\n       <use style=\"stroke:#000000;stroke-width:0.8;\" x=\"368.028129\" xlink:href=\"#md67492c4b5\" y=\"239.758125\"/>\n      </g>\n     </g>\n     <g id=\"text_5\">\n      <!-- 2 -->\n      <g transform=\"translate(364.846879 254.356562)scale(0.1 -0.1)\">\n       <use xlink:href=\"#DejaVuSans-50\"/>\n      </g>\n     </g>\n    </g>\n    <g id=\"text_6\">\n     <!-- Theoretical quantiles -->\n     <defs>\n      <path d=\"M -0.296875 72.90625 \nL 61.375 72.90625 \nL 61.375 64.59375 \nL 35.5 64.59375 \nL 35.5 0 \nL 25.59375 0 \nL 25.59375 64.59375 \nL -0.296875 64.59375 \nz\n\" id=\"DejaVuSans-84\"/>\n      <path d=\"M 54.890625 33.015625 \nL 54.890625 0 \nL 45.90625 0 \nL 45.90625 32.71875 \nQ 45.90625 40.484375 42.875 44.328125 \nQ 39.84375 48.1875 33.796875 48.1875 \nQ 26.515625 48.1875 22.3125 43.546875 \nQ 18.109375 38.921875 18.109375 30.90625 \nL 18.109375 0 \nL 9.078125 0 \nL 9.078125 75.984375 \nL 18.109375 75.984375 \nL 18.109375 46.1875 \nQ 21.34375 51.125 25.703125 53.5625 \nQ 30.078125 56 35.796875 56 \nQ 45.21875 56 50.046875 50.171875 \nQ 54.890625 44.34375 54.890625 33.015625 \nz\n\" id=\"DejaVuSans-104\"/>\n      <path d=\"M 56.203125 29.59375 \nL 56.203125 25.203125 \nL 14.890625 25.203125 \nQ 15.484375 15.921875 20.484375 11.0625 \nQ 25.484375 6.203125 34.421875 6.203125 \nQ 39.59375 6.203125 44.453125 7.46875 \nQ 49.3125 8.734375 54.109375 11.28125 \nL 54.109375 2.78125 \nQ 49.265625 0.734375 44.1875 -0.34375 \nQ 39.109375 -1.421875 33.890625 -1.421875 \nQ 20.796875 -1.421875 13.15625 6.1875 \nQ 5.515625 13.8125 5.515625 26.8125 \nQ 5.515625 40.234375 12.765625 48.109375 \nQ 20.015625 56 32.328125 56 \nQ 43.359375 56 49.78125 48.890625 \nQ 56.203125 41.796875 56.203125 29.59375 \nz\nM 47.21875 32.234375 \nQ 47.125 39.59375 43.09375 43.984375 \nQ 39.0625 48.390625 32.421875 48.390625 \nQ 24.90625 48.390625 20.390625 44.140625 \nQ 15.875 39.890625 15.1875 32.171875 \nz\n\" id=\"DejaVuSans-101\"/>\n      <path d=\"M 30.609375 48.390625 \nQ 23.390625 48.390625 19.1875 42.75 \nQ 14.984375 37.109375 14.984375 27.296875 \nQ 14.984375 17.484375 19.15625 11.84375 \nQ 23.34375 6.203125 30.609375 6.203125 \nQ 37.796875 6.203125 41.984375 11.859375 \nQ 46.1875 17.53125 46.1875 27.296875 \nQ 46.1875 37.015625 41.984375 42.703125 \nQ 37.796875 48.390625 30.609375 48.390625 \nz\nM 30.609375 56 \nQ 42.328125 56 49.015625 48.375 \nQ 55.71875 40.765625 55.71875 27.296875 \nQ 55.71875 13.875 49.015625 6.21875 \nQ 42.328125 -1.421875 30.609375 -1.421875 \nQ 18.84375 -1.421875 12.171875 6.21875 \nQ 5.515625 13.875 5.515625 27.296875 \nQ 5.515625 40.765625 12.171875 48.375 \nQ 18.84375 56 30.609375 56 \nz\n\" id=\"DejaVuSans-111\"/>\n      <path d=\"M 41.109375 46.296875 \nQ 39.59375 47.171875 37.8125 47.578125 \nQ 36.03125 48 33.890625 48 \nQ 26.265625 48 22.1875 43.046875 \nQ 18.109375 38.09375 18.109375 28.8125 \nL 18.109375 0 \nL 9.078125 0 \nL 9.078125 54.6875 \nL 18.109375 54.6875 \nL 18.109375 46.1875 \nQ 20.953125 51.171875 25.484375 53.578125 \nQ 30.03125 56 36.53125 56 \nQ 37.453125 56 38.578125 55.875 \nQ 39.703125 55.765625 41.0625 55.515625 \nz\n\" id=\"DejaVuSans-114\"/>\n      <path d=\"M 18.3125 70.21875 \nL 18.3125 54.6875 \nL 36.8125 54.6875 \nL 36.8125 47.703125 \nL 18.3125 47.703125 \nL 18.3125 18.015625 \nQ 18.3125 11.328125 20.140625 9.421875 \nQ 21.96875 7.515625 27.59375 7.515625 \nL 36.8125 7.515625 \nL 36.8125 0 \nL 27.59375 0 \nQ 17.1875 0 13.234375 3.875 \nQ 9.28125 7.765625 9.28125 18.015625 \nL 9.28125 47.703125 \nL 2.6875 47.703125 \nL 2.6875 54.6875 \nL 9.28125 54.6875 \nL 9.28125 70.21875 \nz\n\" id=\"DejaVuSans-116\"/>\n      <path d=\"M 9.421875 54.6875 \nL 18.40625 54.6875 \nL 18.40625 0 \nL 9.421875 0 \nz\nM 9.421875 75.984375 \nL 18.40625 75.984375 \nL 18.40625 64.59375 \nL 9.421875 64.59375 \nz\n\" id=\"DejaVuSans-105\"/>\n      <path d=\"M 48.78125 52.59375 \nL 48.78125 44.1875 \nQ 44.96875 46.296875 41.140625 47.34375 \nQ 37.3125 48.390625 33.40625 48.390625 \nQ 24.65625 48.390625 19.8125 42.84375 \nQ 14.984375 37.3125 14.984375 27.296875 \nQ 14.984375 17.28125 19.8125 11.734375 \nQ 24.65625 6.203125 33.40625 6.203125 \nQ 37.3125 6.203125 41.140625 7.25 \nQ 44.96875 8.296875 48.78125 10.40625 \nL 48.78125 2.09375 \nQ 45.015625 0.34375 40.984375 -0.53125 \nQ 36.96875 -1.421875 32.421875 -1.421875 \nQ 20.0625 -1.421875 12.78125 6.34375 \nQ 5.515625 14.109375 5.515625 27.296875 \nQ 5.515625 40.671875 12.859375 48.328125 \nQ 20.21875 56 33.015625 56 \nQ 37.15625 56 41.109375 55.140625 \nQ 45.0625 54.296875 48.78125 52.59375 \nz\n\" id=\"DejaVuSans-99\"/>\n      <path d=\"M 34.28125 27.484375 \nQ 23.390625 27.484375 19.1875 25 \nQ 14.984375 22.515625 14.984375 16.5 \nQ 14.984375 11.71875 18.140625 8.90625 \nQ 21.296875 6.109375 26.703125 6.109375 \nQ 34.1875 6.109375 38.703125 11.40625 \nQ 43.21875 16.703125 43.21875 25.484375 \nL 43.21875 27.484375 \nz\nM 52.203125 31.203125 \nL 52.203125 0 \nL 43.21875 0 \nL 43.21875 8.296875 \nQ 40.140625 3.328125 35.546875 0.953125 \nQ 30.953125 -1.421875 24.3125 -1.421875 \nQ 15.921875 -1.421875 10.953125 3.296875 \nQ 6 8.015625 6 15.921875 \nQ 6 25.140625 12.171875 29.828125 \nQ 18.359375 34.515625 30.609375 34.515625 \nL 43.21875 34.515625 \nL 43.21875 35.40625 \nQ 43.21875 41.609375 39.140625 45 \nQ 35.0625 48.390625 27.6875 48.390625 \nQ 23 48.390625 18.546875 47.265625 \nQ 14.109375 46.140625 10.015625 43.890625 \nL 10.015625 52.203125 \nQ 14.9375 54.109375 19.578125 55.046875 \nQ 24.21875 56 28.609375 56 \nQ 40.484375 56 46.34375 49.84375 \nQ 52.203125 43.703125 52.203125 31.203125 \nz\n\" id=\"DejaVuSans-97\"/>\n      <path d=\"M 9.421875 75.984375 \nL 18.40625 75.984375 \nL 18.40625 0 \nL 9.421875 0 \nz\n\" id=\"DejaVuSans-108\"/>\n      <path id=\"DejaVuSans-32\"/>\n      <path d=\"M 14.796875 27.296875 \nQ 14.796875 17.390625 18.875 11.75 \nQ 22.953125 6.109375 30.078125 6.109375 \nQ 37.203125 6.109375 41.296875 11.75 \nQ 45.40625 17.390625 45.40625 27.296875 \nQ 45.40625 37.203125 41.296875 42.84375 \nQ 37.203125 48.484375 30.078125 48.484375 \nQ 22.953125 48.484375 18.875 42.84375 \nQ 14.796875 37.203125 14.796875 27.296875 \nz\nM 45.40625 8.203125 \nQ 42.578125 3.328125 38.25 0.953125 \nQ 33.9375 -1.421875 27.875 -1.421875 \nQ 17.96875 -1.421875 11.734375 6.484375 \nQ 5.515625 14.40625 5.515625 27.296875 \nQ 5.515625 40.1875 11.734375 48.09375 \nQ 17.96875 56 27.875 56 \nQ 33.9375 56 38.25 53.625 \nQ 42.578125 51.265625 45.40625 46.390625 \nL 45.40625 54.6875 \nL 54.390625 54.6875 \nL 54.390625 -20.796875 \nL 45.40625 -20.796875 \nz\n\" id=\"DejaVuSans-113\"/>\n      <path d=\"M 8.5 21.578125 \nL 8.5 54.6875 \nL 17.484375 54.6875 \nL 17.484375 21.921875 \nQ 17.484375 14.15625 20.5 10.265625 \nQ 23.53125 6.390625 29.59375 6.390625 \nQ 36.859375 6.390625 41.078125 11.03125 \nQ 45.3125 15.671875 45.3125 23.6875 \nL 45.3125 54.6875 \nL 54.296875 54.6875 \nL 54.296875 0 \nL 45.3125 0 \nL 45.3125 8.40625 \nQ 42.046875 3.421875 37.71875 1 \nQ 33.40625 -1.421875 27.6875 -1.421875 \nQ 18.265625 -1.421875 13.375 4.4375 \nQ 8.5 10.296875 8.5 21.578125 \nz\nM 31.109375 56 \nz\n\" id=\"DejaVuSans-117\"/>\n      <path d=\"M 54.890625 33.015625 \nL 54.890625 0 \nL 45.90625 0 \nL 45.90625 32.71875 \nQ 45.90625 40.484375 42.875 44.328125 \nQ 39.84375 48.1875 33.796875 48.1875 \nQ 26.515625 48.1875 22.3125 43.546875 \nQ 18.109375 38.921875 18.109375 30.90625 \nL 18.109375 0 \nL 9.078125 0 \nL 9.078125 54.6875 \nL 18.109375 54.6875 \nL 18.109375 46.1875 \nQ 21.34375 51.125 25.703125 53.5625 \nQ 30.078125 56 35.796875 56 \nQ 45.21875 56 50.046875 50.171875 \nQ 54.890625 44.34375 54.890625 33.015625 \nz\n\" id=\"DejaVuSans-110\"/>\n      <path d=\"M 44.28125 53.078125 \nL 44.28125 44.578125 \nQ 40.484375 46.53125 36.375 47.5 \nQ 32.28125 48.484375 27.875 48.484375 \nQ 21.1875 48.484375 17.84375 46.4375 \nQ 14.5 44.390625 14.5 40.28125 \nQ 14.5 37.15625 16.890625 35.375 \nQ 19.28125 33.59375 26.515625 31.984375 \nL 29.59375 31.296875 \nQ 39.15625 29.25 43.1875 25.515625 \nQ 47.21875 21.78125 47.21875 15.09375 \nQ 47.21875 7.46875 41.1875 3.015625 \nQ 35.15625 -1.421875 24.609375 -1.421875 \nQ 20.21875 -1.421875 15.453125 -0.5625 \nQ 10.6875 0.296875 5.421875 2 \nL 5.421875 11.28125 \nQ 10.40625 8.6875 15.234375 7.390625 \nQ 20.0625 6.109375 24.8125 6.109375 \nQ 31.15625 6.109375 34.5625 8.28125 \nQ 37.984375 10.453125 37.984375 14.40625 \nQ 37.984375 18.0625 35.515625 20.015625 \nQ 33.0625 21.96875 24.703125 23.78125 \nL 21.578125 24.515625 \nQ 13.234375 26.265625 9.515625 29.90625 \nQ 5.8125 33.546875 5.8125 39.890625 \nQ 5.8125 47.609375 11.28125 51.796875 \nQ 16.75 56 26.8125 56 \nQ 31.78125 56 36.171875 55.265625 \nQ 40.578125 54.546875 44.28125 53.078125 \nz\n\" id=\"DejaVuSans-115\"/>\n     </defs>\n     <g transform=\"translate(166.935938 268.034687)scale(0.1 -0.1)\">\n      <use xlink:href=\"#DejaVuSans-84\"/>\n      <use x=\"61.083984\" xlink:href=\"#DejaVuSans-104\"/>\n      <use x=\"124.462891\" xlink:href=\"#DejaVuSans-101\"/>\n      <use x=\"185.986328\" xlink:href=\"#DejaVuSans-111\"/>\n      <use x=\"247.167969\" xlink:href=\"#DejaVuSans-114\"/>\n      <use x=\"288.25\" xlink:href=\"#DejaVuSans-101\"/>\n      <use x=\"349.773438\" xlink:href=\"#DejaVuSans-116\"/>\n      <use x=\"388.982422\" xlink:href=\"#DejaVuSans-105\"/>\n      <use x=\"416.765625\" xlink:href=\"#DejaVuSans-99\"/>\n      <use x=\"471.746094\" xlink:href=\"#DejaVuSans-97\"/>\n      <use x=\"533.025391\" xlink:href=\"#DejaVuSans-108\"/>\n      <use x=\"560.808594\" xlink:href=\"#DejaVuSans-32\"/>\n      <use x=\"592.595703\" xlink:href=\"#DejaVuSans-113\"/>\n      <use x=\"656.072266\" xlink:href=\"#DejaVuSans-117\"/>\n      <use x=\"719.451172\" xlink:href=\"#DejaVuSans-97\"/>\n      <use x=\"780.730469\" xlink:href=\"#DejaVuSans-110\"/>\n      <use x=\"844.109375\" xlink:href=\"#DejaVuSans-116\"/>\n      <use x=\"883.318359\" xlink:href=\"#DejaVuSans-105\"/>\n      <use x=\"911.101562\" xlink:href=\"#DejaVuSans-108\"/>\n      <use x=\"938.884766\" xlink:href=\"#DejaVuSans-101\"/>\n      <use x=\"1000.408203\" xlink:href=\"#DejaVuSans-115\"/>\n     </g>\n    </g>\n   </g>\n   <g id=\"matplotlib.axis_2\">\n    <g id=\"ytick_1\">\n     <g id=\"line2d_6\">\n      <defs>\n       <path d=\"M 0 0 \nL -3.5 0 \n\" id=\"me5717264b4\" style=\"stroke:#000000;stroke-width:0.8;\"/>\n      </defs>\n      <g>\n       <use style=\"stroke:#000000;stroke-width:0.8;\" x=\"52.160938\" xlink:href=\"#me5717264b4\" y=\"206.369657\"/>\n      </g>\n     </g>\n     <g id=\"text_7\">\n      <!-- −0.2 -->\n      <defs>\n       <path d=\"M 10.6875 12.40625 \nL 21 12.40625 \nL 21 0 \nL 10.6875 0 \nz\n\" id=\"DejaVuSans-46\"/>\n      </defs>\n      <g transform=\"translate(20.878125 210.168876)scale(0.1 -0.1)\">\n       <use xlink:href=\"#DejaVuSans-8722\"/>\n       <use x=\"83.789062\" xlink:href=\"#DejaVuSans-48\"/>\n       <use x=\"147.412109\" xlink:href=\"#DejaVuSans-46\"/>\n       <use x=\"179.199219\" xlink:href=\"#DejaVuSans-50\"/>\n      </g>\n     </g>\n    </g>\n    <g id=\"ytick_2\">\n     <g id=\"line2d_7\">\n      <g>\n       <use style=\"stroke:#000000;stroke-width:0.8;\" x=\"52.160938\" xlink:href=\"#me5717264b4\" y=\"165.088327\"/>\n      </g>\n     </g>\n     <g id=\"text_8\">\n      <!-- −0.1 -->\n      <g transform=\"translate(20.878125 168.887546)scale(0.1 -0.1)\">\n       <use xlink:href=\"#DejaVuSans-8722\"/>\n       <use x=\"83.789062\" xlink:href=\"#DejaVuSans-48\"/>\n       <use x=\"147.412109\" xlink:href=\"#DejaVuSans-46\"/>\n       <use x=\"179.199219\" xlink:href=\"#DejaVuSans-49\"/>\n      </g>\n     </g>\n    </g>\n    <g id=\"ytick_3\">\n     <g id=\"line2d_8\">\n      <g>\n       <use style=\"stroke:#000000;stroke-width:0.8;\" x=\"52.160938\" xlink:href=\"#me5717264b4\" y=\"123.806998\"/>\n      </g>\n     </g>\n     <g id=\"text_9\">\n      <!-- 0.0 -->\n      <g transform=\"translate(29.257812 127.606216)scale(0.1 -0.1)\">\n       <use xlink:href=\"#DejaVuSans-48\"/>\n       <use x=\"63.623047\" xlink:href=\"#DejaVuSans-46\"/>\n       <use x=\"95.410156\" xlink:href=\"#DejaVuSans-48\"/>\n      </g>\n     </g>\n    </g>\n    <g id=\"ytick_4\">\n     <g id=\"line2d_9\">\n      <g>\n       <use style=\"stroke:#000000;stroke-width:0.8;\" x=\"52.160938\" xlink:href=\"#me5717264b4\" y=\"82.525668\"/>\n      </g>\n     </g>\n     <g id=\"text_10\">\n      <!-- 0.1 -->\n      <g transform=\"translate(29.257812 86.324887)scale(0.1 -0.1)\">\n       <use xlink:href=\"#DejaVuSans-48\"/>\n       <use x=\"63.623047\" xlink:href=\"#DejaVuSans-46\"/>\n       <use x=\"95.410156\" xlink:href=\"#DejaVuSans-49\"/>\n      </g>\n     </g>\n    </g>\n    <g id=\"ytick_5\">\n     <g id=\"line2d_10\">\n      <g>\n       <use style=\"stroke:#000000;stroke-width:0.8;\" x=\"52.160938\" xlink:href=\"#me5717264b4\" y=\"41.244338\"/>\n      </g>\n     </g>\n     <g id=\"text_11\">\n      <!-- 0.2 -->\n      <g transform=\"translate(29.257812 45.043557)scale(0.1 -0.1)\">\n       <use xlink:href=\"#DejaVuSans-48\"/>\n       <use x=\"63.623047\" xlink:href=\"#DejaVuSans-46\"/>\n       <use x=\"95.410156\" xlink:href=\"#DejaVuSans-50\"/>\n      </g>\n     </g>\n    </g>\n    <g id=\"text_12\">\n     <!-- Ordered Values -->\n     <defs>\n      <path d=\"M 39.40625 66.21875 \nQ 28.65625 66.21875 22.328125 58.203125 \nQ 16.015625 50.203125 16.015625 36.375 \nQ 16.015625 22.609375 22.328125 14.59375 \nQ 28.65625 6.59375 39.40625 6.59375 \nQ 50.140625 6.59375 56.421875 14.59375 \nQ 62.703125 22.609375 62.703125 36.375 \nQ 62.703125 50.203125 56.421875 58.203125 \nQ 50.140625 66.21875 39.40625 66.21875 \nz\nM 39.40625 74.21875 \nQ 54.734375 74.21875 63.90625 63.9375 \nQ 73.09375 53.65625 73.09375 36.375 \nQ 73.09375 19.140625 63.90625 8.859375 \nQ 54.734375 -1.421875 39.40625 -1.421875 \nQ 24.03125 -1.421875 14.8125 8.828125 \nQ 5.609375 19.09375 5.609375 36.375 \nQ 5.609375 53.65625 14.8125 63.9375 \nQ 24.03125 74.21875 39.40625 74.21875 \nz\n\" id=\"DejaVuSans-79\"/>\n      <path d=\"M 45.40625 46.390625 \nL 45.40625 75.984375 \nL 54.390625 75.984375 \nL 54.390625 0 \nL 45.40625 0 \nL 45.40625 8.203125 \nQ 42.578125 3.328125 38.25 0.953125 \nQ 33.9375 -1.421875 27.875 -1.421875 \nQ 17.96875 -1.421875 11.734375 6.484375 \nQ 5.515625 14.40625 5.515625 27.296875 \nQ 5.515625 40.1875 11.734375 48.09375 \nQ 17.96875 56 27.875 56 \nQ 33.9375 56 38.25 53.625 \nQ 42.578125 51.265625 45.40625 46.390625 \nz\nM 14.796875 27.296875 \nQ 14.796875 17.390625 18.875 11.75 \nQ 22.953125 6.109375 30.078125 6.109375 \nQ 37.203125 6.109375 41.296875 11.75 \nQ 45.40625 17.390625 45.40625 27.296875 \nQ 45.40625 37.203125 41.296875 42.84375 \nQ 37.203125 48.484375 30.078125 48.484375 \nQ 22.953125 48.484375 18.875 42.84375 \nQ 14.796875 37.203125 14.796875 27.296875 \nz\n\" id=\"DejaVuSans-100\"/>\n      <path d=\"M 28.609375 0 \nL 0.78125 72.90625 \nL 11.078125 72.90625 \nL 34.1875 11.53125 \nL 57.328125 72.90625 \nL 67.578125 72.90625 \nL 39.796875 0 \nz\n\" id=\"DejaVuSans-86\"/>\n     </defs>\n     <g transform=\"translate(14.798437 169.89125)rotate(-90)scale(0.1 -0.1)\">\n      <use xlink:href=\"#DejaVuSans-79\"/>\n      <use x=\"78.710938\" xlink:href=\"#DejaVuSans-114\"/>\n      <use x=\"119.808594\" xlink:href=\"#DejaVuSans-100\"/>\n      <use x=\"183.285156\" xlink:href=\"#DejaVuSans-101\"/>\n      <use x=\"244.808594\" xlink:href=\"#DejaVuSans-114\"/>\n      <use x=\"285.890625\" xlink:href=\"#DejaVuSans-101\"/>\n      <use x=\"347.414062\" xlink:href=\"#DejaVuSans-100\"/>\n      <use x=\"410.890625\" xlink:href=\"#DejaVuSans-32\"/>\n      <use x=\"442.677734\" xlink:href=\"#DejaVuSans-86\"/>\n      <use x=\"510.976562\" xlink:href=\"#DejaVuSans-97\"/>\n      <use x=\"572.255859\" xlink:href=\"#DejaVuSans-108\"/>\n      <use x=\"600.039062\" xlink:href=\"#DejaVuSans-117\"/>\n      <use x=\"663.417969\" xlink:href=\"#DejaVuSans-101\"/>\n      <use x=\"724.941406\" xlink:href=\"#DejaVuSans-115\"/>\n     </g>\n    </g>\n   </g>\n   <g id=\"line2d_11\">\n    <defs>\n     <path d=\"M 0 3 \nC 0.795609 3 1.55874 2.683901 2.12132 2.12132 \nC 2.683901 1.55874 3 0.795609 3 0 \nC 3 -0.795609 2.683901 -1.55874 2.12132 -2.12132 \nC 1.55874 -2.683901 0.795609 -3 0 -3 \nC -0.795609 -3 -1.55874 -2.683901 -2.12132 -2.12132 \nC -2.683901 -1.55874 -3 -0.795609 -3 0 \nC -3 0.795609 -2.683901 1.55874 -2.12132 2.12132 \nC -1.55874 2.683901 -0.795609 3 0 3 \nz\n\" id=\"mb47e257b90\" style=\"stroke:#0000ff;\"/>\n    </defs>\n    <g clip-path=\"url(#p507aa5ce4c)\">\n     <use style=\"fill:#0000ff;stroke:#0000ff;\" x=\"67.379119\" xlink:href=\"#mb47e257b90\" y=\"229.874489\"/>\n     <use style=\"fill:#0000ff;stroke:#0000ff;\" x=\"96.702469\" xlink:href=\"#mb47e257b90\" y=\"166.350061\"/>\n     <use style=\"fill:#0000ff;stroke:#0000ff;\" x=\"114.279231\" xlink:href=\"#mb47e257b90\" y=\"159.893393\"/>\n     <use style=\"fill:#0000ff;stroke:#0000ff;\" x=\"127.378972\" xlink:href=\"#mb47e257b90\" y=\"156.153267\"/>\n     <use style=\"fill:#0000ff;stroke:#0000ff;\" x=\"138.105325\" xlink:href=\"#mb47e257b90\" y=\"152.822676\"/>\n     <use style=\"fill:#0000ff;stroke:#0000ff;\" x=\"147.355706\" xlink:href=\"#mb47e257b90\" y=\"150.563234\"/>\n     <use style=\"fill:#0000ff;stroke:#0000ff;\" x=\"155.602009\" xlink:href=\"#mb47e257b90\" y=\"148.76287\"/>\n     <use style=\"fill:#0000ff;stroke:#0000ff;\" x=\"163.125682\" xlink:href=\"#mb47e257b90\" y=\"143.118169\"/>\n     <use style=\"fill:#0000ff;stroke:#0000ff;\" x=\"170.109694\" xlink:href=\"#mb47e257b90\" y=\"141.455856\"/>\n     <use style=\"fill:#0000ff;stroke:#0000ff;\" x=\"176.680884\" xlink:href=\"#mb47e257b90\" y=\"138.929718\"/>\n     <use style=\"fill:#0000ff;stroke:#0000ff;\" x=\"182.931785\" xlink:href=\"#mb47e257b90\" y=\"138.051066\"/>\n     <use style=\"fill:#0000ff;stroke:#0000ff;\" x=\"188.932883\" xlink:href=\"#mb47e257b90\" y=\"136.571204\"/>\n     <use style=\"fill:#0000ff;stroke:#0000ff;\" x=\"194.739967\" xlink:href=\"#mb47e257b90\" y=\"130.259334\"/>\n     <use style=\"fill:#0000ff;stroke:#0000ff;\" x=\"200.398808\" xlink:href=\"#mb47e257b90\" y=\"128.918983\"/>\n     <use style=\"fill:#0000ff;stroke:#0000ff;\" x=\"205.948289\" xlink:href=\"#mb47e257b90\" y=\"127.584658\"/>\n     <use style=\"fill:#0000ff;stroke:#0000ff;\" x=\"211.42262\" xlink:href=\"#mb47e257b90\" y=\"123.182505\"/>\n     <use style=\"fill:#0000ff;stroke:#0000ff;\" x=\"216.852989\" xlink:href=\"#mb47e257b90\" y=\"121.485858\"/>\n     <use style=\"fill:#0000ff;stroke:#0000ff;\" x=\"222.268886\" xlink:href=\"#mb47e257b90\" y=\"116.947464\"/>\n     <use style=\"fill:#0000ff;stroke:#0000ff;\" x=\"227.699255\" xlink:href=\"#mb47e257b90\" y=\"114.107042\"/>\n     <use style=\"fill:#0000ff;stroke:#0000ff;\" x=\"233.173586\" xlink:href=\"#mb47e257b90\" y=\"108.824837\"/>\n     <use style=\"fill:#0000ff;stroke:#0000ff;\" x=\"238.723067\" xlink:href=\"#mb47e257b90\" y=\"108.640395\"/>\n     <use style=\"fill:#0000ff;stroke:#0000ff;\" x=\"244.381908\" xlink:href=\"#mb47e257b90\" y=\"108.294049\"/>\n     <use style=\"fill:#0000ff;stroke:#0000ff;\" x=\"250.188992\" xlink:href=\"#mb47e257b90\" y=\"100.175394\"/>\n     <use style=\"fill:#0000ff;stroke:#0000ff;\" x=\"256.19009\" xlink:href=\"#mb47e257b90\" y=\"95.080619\"/>\n     <use style=\"fill:#0000ff;stroke:#0000ff;\" x=\"262.440991\" xlink:href=\"#mb47e257b90\" y=\"93.789664\"/>\n     <use style=\"fill:#0000ff;stroke:#0000ff;\" x=\"269.012181\" xlink:href=\"#mb47e257b90\" y=\"91.575136\"/>\n     <use style=\"fill:#0000ff;stroke:#0000ff;\" x=\"275.996193\" xlink:href=\"#mb47e257b90\" y=\"91.172132\"/>\n     <use style=\"fill:#0000ff;stroke:#0000ff;\" x=\"283.519866\" xlink:href=\"#mb47e257b90\" y=\"89.862834\"/>\n     <use style=\"fill:#0000ff;stroke:#0000ff;\" x=\"291.766169\" xlink:href=\"#mb47e257b90\" y=\"89.826906\"/>\n     <use style=\"fill:#0000ff;stroke:#0000ff;\" x=\"301.01655\" xlink:href=\"#mb47e257b90\" y=\"74.61516\"/>\n     <use style=\"fill:#0000ff;stroke:#0000ff;\" x=\"311.742903\" xlink:href=\"#mb47e257b90\" y=\"72.370588\"/>\n     <use style=\"fill:#0000ff;stroke:#0000ff;\" x=\"324.842644\" xlink:href=\"#mb47e257b90\" y=\"63.862409\"/>\n     <use style=\"fill:#0000ff;stroke:#0000ff;\" x=\"342.419406\" xlink:href=\"#mb47e257b90\" y=\"50.855927\"/>\n     <use style=\"fill:#0000ff;stroke:#0000ff;\" x=\"371.742756\" xlink:href=\"#mb47e257b90\" y=\"32.201761\"/>\n    </g>\n   </g>\n   <g id=\"line2d_12\">\n    <path clip-path=\"url(#p507aa5ce4c)\" d=\"M 67.379119 196.462725 \nL 96.702469 181.254376 \nL 114.279231 172.138312 \nL 127.378972 165.344224 \nL 138.105325 159.781076 \nL 147.355706 154.983431 \nL 155.602009 150.706544 \nL 163.125682 146.804444 \nL 170.109694 143.182235 \nL 176.680884 139.774134 \nL 182.931785 136.532148 \nL 188.932883 133.419721 \nL 194.739967 130.407917 \nL 200.398808 127.472999 \nL 205.948289 124.5948 \nL 211.42262 121.755577 \nL 216.852989 118.939154 \nL 222.268886 116.130237 \nL 227.699255 113.313815 \nL 233.173586 110.474592 \nL 238.723067 107.596392 \nL 244.381908 104.661474 \nL 250.188992 101.649671 \nL 256.19009 98.537244 \nL 262.440991 95.295258 \nL 269.012181 91.887157 \nL 275.996193 88.264948 \nL 283.519866 84.362848 \nL 291.766169 80.08596 \nL 301.01655 75.288316 \nL 311.742903 69.725168 \nL 324.842644 62.93108 \nL 342.419406 53.815016 \nL 371.742756 38.606667 \n\" style=\"fill:none;stroke:#ff0000;stroke-linecap:square;stroke-width:1.5;\"/>\n   </g>\n   <g id=\"patch_3\">\n    <path d=\"M 52.160938 239.758125 \nL 52.160938 22.318125 \n\" style=\"fill:none;stroke:#000000;stroke-linecap:square;stroke-linejoin:miter;stroke-width:0.8;\"/>\n   </g>\n   <g id=\"patch_4\">\n    <path d=\"M 386.960938 239.758125 \nL 386.960938 22.318125 \n\" style=\"fill:none;stroke:#000000;stroke-linecap:square;stroke-linejoin:miter;stroke-width:0.8;\"/>\n   </g>\n   <g id=\"patch_5\">\n    <path d=\"M 52.160937 239.758125 \nL 386.960938 239.758125 \n\" style=\"fill:none;stroke:#000000;stroke-linecap:square;stroke-linejoin:miter;stroke-width:0.8;\"/>\n   </g>\n   <g id=\"patch_6\">\n    <path d=\"M 52.160937 22.318125 \nL 386.960938 22.318125 \n\" style=\"fill:none;stroke:#000000;stroke-linecap:square;stroke-linejoin:miter;stroke-width:0.8;\"/>\n   </g>\n   <g id=\"text_13\">\n    <!-- Probability Plot -->\n    <defs>\n     <path d=\"M 19.671875 64.796875 \nL 19.671875 37.40625 \nL 32.078125 37.40625 \nQ 38.96875 37.40625 42.71875 40.96875 \nQ 46.484375 44.53125 46.484375 51.125 \nQ 46.484375 57.671875 42.71875 61.234375 \nQ 38.96875 64.796875 32.078125 64.796875 \nz\nM 9.8125 72.90625 \nL 32.078125 72.90625 \nQ 44.34375 72.90625 50.609375 67.359375 \nQ 56.890625 61.8125 56.890625 51.125 \nQ 56.890625 40.328125 50.609375 34.8125 \nQ 44.34375 29.296875 32.078125 29.296875 \nL 19.671875 29.296875 \nL 19.671875 0 \nL 9.8125 0 \nz\n\" id=\"DejaVuSans-80\"/>\n     <path d=\"M 48.6875 27.296875 \nQ 48.6875 37.203125 44.609375 42.84375 \nQ 40.53125 48.484375 33.40625 48.484375 \nQ 26.265625 48.484375 22.1875 42.84375 \nQ 18.109375 37.203125 18.109375 27.296875 \nQ 18.109375 17.390625 22.1875 11.75 \nQ 26.265625 6.109375 33.40625 6.109375 \nQ 40.53125 6.109375 44.609375 11.75 \nQ 48.6875 17.390625 48.6875 27.296875 \nz\nM 18.109375 46.390625 \nQ 20.953125 51.265625 25.265625 53.625 \nQ 29.59375 56 35.59375 56 \nQ 45.5625 56 51.78125 48.09375 \nQ 58.015625 40.1875 58.015625 27.296875 \nQ 58.015625 14.40625 51.78125 6.484375 \nQ 45.5625 -1.421875 35.59375 -1.421875 \nQ 29.59375 -1.421875 25.265625 0.953125 \nQ 20.953125 3.328125 18.109375 8.203125 \nL 18.109375 0 \nL 9.078125 0 \nL 9.078125 75.984375 \nL 18.109375 75.984375 \nz\n\" id=\"DejaVuSans-98\"/>\n     <path d=\"M 32.171875 -5.078125 \nQ 28.375 -14.84375 24.75 -17.8125 \nQ 21.140625 -20.796875 15.09375 -20.796875 \nL 7.90625 -20.796875 \nL 7.90625 -13.28125 \nL 13.1875 -13.28125 \nQ 16.890625 -13.28125 18.9375 -11.515625 \nQ 21 -9.765625 23.484375 -3.21875 \nL 25.09375 0.875 \nL 2.984375 54.6875 \nL 12.5 54.6875 \nL 29.59375 11.921875 \nL 46.6875 54.6875 \nL 56.203125 54.6875 \nz\n\" id=\"DejaVuSans-121\"/>\n    </defs>\n    <g transform=\"translate(174.394063 16.318125)scale(0.12 -0.12)\">\n     <use xlink:href=\"#DejaVuSans-80\"/>\n     <use x=\"60.287109\" xlink:href=\"#DejaVuSans-114\"/>\n     <use x=\"101.369141\" xlink:href=\"#DejaVuSans-111\"/>\n     <use x=\"162.550781\" xlink:href=\"#DejaVuSans-98\"/>\n     <use x=\"226.027344\" xlink:href=\"#DejaVuSans-97\"/>\n     <use x=\"287.306641\" xlink:href=\"#DejaVuSans-98\"/>\n     <use x=\"350.783203\" xlink:href=\"#DejaVuSans-105\"/>\n     <use x=\"378.566406\" xlink:href=\"#DejaVuSans-108\"/>\n     <use x=\"406.349609\" xlink:href=\"#DejaVuSans-105\"/>\n     <use x=\"434.132812\" xlink:href=\"#DejaVuSans-116\"/>\n     <use x=\"473.341797\" xlink:href=\"#DejaVuSans-121\"/>\n     <use x=\"532.521484\" xlink:href=\"#DejaVuSans-32\"/>\n     <use x=\"564.308594\" xlink:href=\"#DejaVuSans-80\"/>\n     <use x=\"624.611328\" xlink:href=\"#DejaVuSans-108\"/>\n     <use x=\"652.394531\" xlink:href=\"#DejaVuSans-111\"/>\n     <use x=\"713.576172\" xlink:href=\"#DejaVuSans-116\"/>\n    </g>\n   </g>\n  </g>\n </g>\n <defs>\n  <clipPath id=\"p507aa5ce4c\">\n   <rect height=\"217.44\" width=\"334.8\" x=\"52.160938\" y=\"22.318125\"/>\n  </clipPath>\n </defs>\n</svg>\n",
      "text/plain": "<Figure size 432x288 with 1 Axes>"
     },
     "metadata": {
      "needs_background": "light"
     },
     "output_type": "display_data"
    }
   ],
   "source": [
    "plot = probplot(bic_diff, plot=plt)"
   ]
  },
  {
   "cell_type": "markdown",
   "metadata": {},
   "outputs": [],
   "source": [
    "### Normality can be assumed."
   ]
  },
  {
   "cell_type": "code",
   "execution_count": 20,
   "metadata": {},
   "outputs": [
    {
     "data": {
      "text/plain": "Ttest_relResult(statistic=0.9637708999732242, pvalue=0.34217056660914646)"
     },
     "execution_count": 20,
     "metadata": {},
     "output_type": "execute_result"
    }
   ],
   "source": [
    "ttest_rel(total_bic, cc_bic)"
   ]
  },
  {
   "cell_type": "code",
   "execution_count": 21,
   "metadata": {},
   "outputs": [],
   "source": [
    "mean = cc_bic_df['bic_percent'].mean()\n",
    "std = cc_bic_df['bic_percent'].std()\n",
    "cc_bic = cc_bic_df['bic_percent'][cc_bic_df['bic_percent'].apply(lambda x: (x > mean - 2*std) and (x < mean + 2*std))]\n",
    "\n",
    "mean = nocc_bic_df['bic_percent'].mean()\n",
    "std = nocc_bic_df['bic_percent'].std()\n",
    "nocc_bic = nocc_bic_df['bic_percent'][nocc_bic_df['bic_percent'].apply(lambda x: (x > mean - 2*std) and (x < mean + 2*std))]"
   ]
  },
  {
   "cell_type": "code",
   "execution_count": 22,
   "metadata": {},
   "outputs": [
    {
     "name": "stdout",
     "output_type": "stream",
     "text": "---Summary of Variables---\n\n Percentage of BICs in commits without cochange dependency:\n count    36.000000\nmean      0.099275\nstd       0.062616\nmin       0.000000\n25%       0.058507\n50%       0.095595\n75%       0.134648\nmax       0.232843\nName: bic_percent, dtype: float64 \n------------------------------------------------------\n\nPercentage of BICs in commits with cochange dependency:\n count    36.000000\nmean      0.098130\nstd       0.063570\nmin       0.000000\n25%       0.048638\n50%       0.101623\n75%       0.133526\nmax       0.257143\nName: bic_percent, dtype: float64\n"
    }
   ],
   "source": [
    "print(\n",
    "    '\\t\\t---Summary of Variables---\\n\\n',\n",
    "    'Percentage of BICs in commits without cochange dependency:\\n',\n",
    "    nocc_bic.describe(),\n",
    "    '\\n------------------------------------------------------\\n'\n",
    "    '\\nPercentage of BICs in commits with cochange dependency:\\n',\n",
    "    cc_bic.describe(),\n",
    ")"
   ]
  },
  {
   "cell_type": "code",
   "execution_count": 23,
   "metadata": {},
   "outputs": [
    {
     "name": "stdout",
     "output_type": "stream",
     "text": "---Shapiro Wilk Normality Test - Individual Samples---\n \tAssume normality if p-value > 0.05\n\n\t\tCochange BICs\n W-statistic\t\tp-value\n (0.9681053161621094, 0.37607207894325256) \n\n\t\tNo-Cochange BICs\n W-statistic\t\tp-value\n (0.9676910042762756, 0.36587467789649963)\n"
    }
   ],
   "source": [
    "'''\n",
    "test both samples for normality\n",
    "'''\n",
    "print(\n",
    "    '\\t\\t---Shapiro Wilk Normality Test - Individual Samples---\\n',\n",
    "    '\\tAssume normality if p-value > 0.05\\n\\n'\n",
    "    '\\t\\tCochange BICs\\n W-statistic\\t\\tp-value\\n',\n",
    "    shapiro(cc_bic.values),\n",
    "    '\\n\\n\\t\\tNo-Cochange BICs\\n W-statistic\\t\\tp-value\\n',\n",
    "    shapiro(nocc_bic.values)\n",
    ")"
   ]
  },
  {
   "cell_type": "code",
   "execution_count": 24,
   "metadata": {},
   "outputs": [
    {
     "data": {
      "image/png": "[encoded data removed]",
      "image/svg+xml": "<?xml version=\"1.0\" encoding=\"utf-8\" standalone=\"no\"?>\n<!DOCTYPE svg PUBLIC \"-//W3C//DTD SVG 1.1//EN\"\n  \"http://www.w3.org/Graphics/SVG/1.1/DTD/svg11.dtd\">\n<!-- Created with matplotlib (https://matplotlib.org/) -->\n<svg height=\"277.314375pt\" version=\"1.1\" viewBox=\"0 0 392.14375 277.314375\" width=\"392.14375pt\" xmlns=\"http://www.w3.org/2000/svg\" xmlns:xlink=\"http://www.w3.org/1999/xlink\">\n <defs>\n  <style type=\"text/css\">\n*{stroke-linecap:butt;stroke-linejoin:round;}\n  </style>\n </defs>\n <g id=\"figure_1\">\n  <g id=\"patch_1\">\n   <path d=\"M 0 277.314375 \nL 392.14375 277.314375 \nL 392.14375 0 \nL 0 0 \nz\n\" style=\"fill:none;\"/>\n  </g>\n  <g id=\"axes_1\">\n   <g id=\"patch_2\">\n    <path d=\"M 50.14375 239.758125 \nL 384.94375 239.758125 \nL 384.94375 22.318125 \nL 50.14375 22.318125 \nz\n\" style=\"fill:#ffffff;\"/>\n   </g>\n   <g id=\"matplotlib.axis_1\">\n    <g id=\"xtick_1\">\n     <g id=\"line2d_1\">\n      <defs>\n       <path d=\"M 0 0 \nL 0 3.5 \n\" id=\"ma7a9171eae\" style=\"stroke:#000000;stroke-width:0.8;\"/>\n      </defs>\n      <g>\n       <use style=\"stroke:#000000;stroke-width:0.8;\" x=\"70.745668\" xlink:href=\"#ma7a9171eae\" y=\"239.758125\"/>\n      </g>\n     </g>\n     <g id=\"text_1\">\n      <!-- −2 -->\n      <defs>\n       <path d=\"M 10.59375 35.5 \nL 73.1875 35.5 \nL 73.1875 27.203125 \nL 10.59375 27.203125 \nz\n\" id=\"DejaVuSans-8722\"/>\n       <path d=\"M 19.1875 8.296875 \nL 53.609375 8.296875 \nL 53.609375 0 \nL 7.328125 0 \nL 7.328125 8.296875 \nQ 12.9375 14.109375 22.625 23.890625 \nQ 32.328125 33.6875 34.8125 36.53125 \nQ 39.546875 41.84375 41.421875 45.53125 \nQ 43.3125 49.21875 43.3125 52.78125 \nQ 43.3125 58.59375 39.234375 62.25 \nQ 35.15625 65.921875 28.609375 65.921875 \nQ 23.96875 65.921875 18.8125 64.3125 \nQ 13.671875 62.703125 7.8125 59.421875 \nL 7.8125 69.390625 \nQ 13.765625 71.78125 18.9375 73 \nQ 24.125 74.21875 28.421875 74.21875 \nQ 39.75 74.21875 46.484375 68.546875 \nQ 53.21875 62.890625 53.21875 53.421875 \nQ 53.21875 48.921875 51.53125 44.890625 \nQ 49.859375 40.875 45.40625 35.40625 \nQ 44.1875 33.984375 37.640625 27.21875 \nQ 31.109375 20.453125 19.1875 8.296875 \nz\n\" id=\"DejaVuSans-50\"/>\n      </defs>\n      <g transform=\"translate(63.374574 254.356562)scale(0.1 -0.1)\">\n       <use xlink:href=\"#DejaVuSans-8722\"/>\n       <use x=\"83.789062\" xlink:href=\"#DejaVuSans-50\"/>\n      </g>\n     </g>\n    </g>\n    <g id=\"xtick_2\">\n     <g id=\"line2d_2\">\n      <g>\n       <use style=\"stroke:#000000;stroke-width:0.8;\" x=\"144.144709\" xlink:href=\"#ma7a9171eae\" y=\"239.758125\"/>\n      </g>\n     </g>\n     <g id=\"text_2\">\n      <!-- −1 -->\n      <defs>\n       <path d=\"M 12.40625 8.296875 \nL 28.515625 8.296875 \nL 28.515625 63.921875 \nL 10.984375 60.40625 \nL 10.984375 69.390625 \nL 28.421875 72.90625 \nL 38.28125 72.90625 \nL 38.28125 8.296875 \nL 54.390625 8.296875 \nL 54.390625 0 \nL 12.40625 0 \nz\n\" id=\"DejaVuSans-49\"/>\n      </defs>\n      <g transform=\"translate(136.773615 254.356562)scale(0.1 -0.1)\">\n       <use xlink:href=\"#DejaVuSans-8722\"/>\n       <use x=\"83.789062\" xlink:href=\"#DejaVuSans-49\"/>\n      </g>\n     </g>\n    </g>\n    <g id=\"xtick_3\">\n     <g id=\"line2d_3\">\n      <g>\n       <use style=\"stroke:#000000;stroke-width:0.8;\" x=\"217.54375\" xlink:href=\"#ma7a9171eae\" y=\"239.758125\"/>\n      </g>\n     </g>\n     <g id=\"text_3\">\n      <!-- 0 -->\n      <defs>\n       <path d=\"M 31.78125 66.40625 \nQ 24.171875 66.40625 20.328125 58.90625 \nQ 16.5 51.421875 16.5 36.375 \nQ 16.5 21.390625 20.328125 13.890625 \nQ 24.171875 6.390625 31.78125 6.390625 \nQ 39.453125 6.390625 43.28125 13.890625 \nQ 47.125 21.390625 47.125 36.375 \nQ 47.125 51.421875 43.28125 58.90625 \nQ 39.453125 66.40625 31.78125 66.40625 \nz\nM 31.78125 74.21875 \nQ 44.046875 74.21875 50.515625 64.515625 \nQ 56.984375 54.828125 56.984375 36.375 \nQ 56.984375 17.96875 50.515625 8.265625 \nQ 44.046875 -1.421875 31.78125 -1.421875 \nQ 19.53125 -1.421875 13.0625 8.265625 \nQ 6.59375 17.96875 6.59375 36.375 \nQ 6.59375 54.828125 13.0625 64.515625 \nQ 19.53125 74.21875 31.78125 74.21875 \nz\n\" id=\"DejaVuSans-48\"/>\n      </defs>\n      <g transform=\"translate(214.3625 254.356562)scale(0.1 -0.1)\">\n       <use xlink:href=\"#DejaVuSans-48\"/>\n      </g>\n     </g>\n    </g>\n    <g id=\"xtick_4\">\n     <g id=\"line2d_4\">\n      <g>\n       <use style=\"stroke:#000000;stroke-width:0.8;\" x=\"290.942791\" xlink:href=\"#ma7a9171eae\" y=\"239.758125\"/>\n      </g>\n     </g>\n     <g id=\"text_4\">\n      <!-- 1 -->\n      <g transform=\"translate(287.761541 254.356562)scale(0.1 -0.1)\">\n       <use xlink:href=\"#DejaVuSans-49\"/>\n      </g>\n     </g>\n    </g>\n    <g id=\"xtick_5\">\n     <g id=\"line2d_5\">\n      <g>\n       <use style=\"stroke:#000000;stroke-width:0.8;\" x=\"364.341832\" xlink:href=\"#ma7a9171eae\" y=\"239.758125\"/>\n      </g>\n     </g>\n     <g id=\"text_5\">\n      <!-- 2 -->\n      <g transform=\"translate(361.160582 254.356562)scale(0.1 -0.1)\">\n       <use xlink:href=\"#DejaVuSans-50\"/>\n      </g>\n     </g>\n    </g>\n    <g id=\"text_6\">\n     <!-- Theoretical quantiles -->\n     <defs>\n      <path d=\"M -0.296875 72.90625 \nL 61.375 72.90625 \nL 61.375 64.59375 \nL 35.5 64.59375 \nL 35.5 0 \nL 25.59375 0 \nL 25.59375 64.59375 \nL -0.296875 64.59375 \nz\n\" id=\"DejaVuSans-84\"/>\n      <path d=\"M 54.890625 33.015625 \nL 54.890625 0 \nL 45.90625 0 \nL 45.90625 32.71875 \nQ 45.90625 40.484375 42.875 44.328125 \nQ 39.84375 48.1875 33.796875 48.1875 \nQ 26.515625 48.1875 22.3125 43.546875 \nQ 18.109375 38.921875 18.109375 30.90625 \nL 18.109375 0 \nL 9.078125 0 \nL 9.078125 75.984375 \nL 18.109375 75.984375 \nL 18.109375 46.1875 \nQ 21.34375 51.125 25.703125 53.5625 \nQ 30.078125 56 35.796875 56 \nQ 45.21875 56 50.046875 50.171875 \nQ 54.890625 44.34375 54.890625 33.015625 \nz\n\" id=\"DejaVuSans-104\"/>\n      <path d=\"M 56.203125 29.59375 \nL 56.203125 25.203125 \nL 14.890625 25.203125 \nQ 15.484375 15.921875 20.484375 11.0625 \nQ 25.484375 6.203125 34.421875 6.203125 \nQ 39.59375 6.203125 44.453125 7.46875 \nQ 49.3125 8.734375 54.109375 11.28125 \nL 54.109375 2.78125 \nQ 49.265625 0.734375 44.1875 -0.34375 \nQ 39.109375 -1.421875 33.890625 -1.421875 \nQ 20.796875 -1.421875 13.15625 6.1875 \nQ 5.515625 13.8125 5.515625 26.8125 \nQ 5.515625 40.234375 12.765625 48.109375 \nQ 20.015625 56 32.328125 56 \nQ 43.359375 56 49.78125 48.890625 \nQ 56.203125 41.796875 56.203125 29.59375 \nz\nM 47.21875 32.234375 \nQ 47.125 39.59375 43.09375 43.984375 \nQ 39.0625 48.390625 32.421875 48.390625 \nQ 24.90625 48.390625 20.390625 44.140625 \nQ 15.875 39.890625 15.1875 32.171875 \nz\n\" id=\"DejaVuSans-101\"/>\n      <path d=\"M 30.609375 48.390625 \nQ 23.390625 48.390625 19.1875 42.75 \nQ 14.984375 37.109375 14.984375 27.296875 \nQ 14.984375 17.484375 19.15625 11.84375 \nQ 23.34375 6.203125 30.609375 6.203125 \nQ 37.796875 6.203125 41.984375 11.859375 \nQ 46.1875 17.53125 46.1875 27.296875 \nQ 46.1875 37.015625 41.984375 42.703125 \nQ 37.796875 48.390625 30.609375 48.390625 \nz\nM 30.609375 56 \nQ 42.328125 56 49.015625 48.375 \nQ 55.71875 40.765625 55.71875 27.296875 \nQ 55.71875 13.875 49.015625 6.21875 \nQ 42.328125 -1.421875 30.609375 -1.421875 \nQ 18.84375 -1.421875 12.171875 6.21875 \nQ 5.515625 13.875 5.515625 27.296875 \nQ 5.515625 40.765625 12.171875 48.375 \nQ 18.84375 56 30.609375 56 \nz\n\" id=\"DejaVuSans-111\"/>\n      <path d=\"M 41.109375 46.296875 \nQ 39.59375 47.171875 37.8125 47.578125 \nQ 36.03125 48 33.890625 48 \nQ 26.265625 48 22.1875 43.046875 \nQ 18.109375 38.09375 18.109375 28.8125 \nL 18.109375 0 \nL 9.078125 0 \nL 9.078125 54.6875 \nL 18.109375 54.6875 \nL 18.109375 46.1875 \nQ 20.953125 51.171875 25.484375 53.578125 \nQ 30.03125 56 36.53125 56 \nQ 37.453125 56 38.578125 55.875 \nQ 39.703125 55.765625 41.0625 55.515625 \nz\n\" id=\"DejaVuSans-114\"/>\n      <path d=\"M 18.3125 70.21875 \nL 18.3125 54.6875 \nL 36.8125 54.6875 \nL 36.8125 47.703125 \nL 18.3125 47.703125 \nL 18.3125 18.015625 \nQ 18.3125 11.328125 20.140625 9.421875 \nQ 21.96875 7.515625 27.59375 7.515625 \nL 36.8125 7.515625 \nL 36.8125 0 \nL 27.59375 0 \nQ 17.1875 0 13.234375 3.875 \nQ 9.28125 7.765625 9.28125 18.015625 \nL 9.28125 47.703125 \nL 2.6875 47.703125 \nL 2.6875 54.6875 \nL 9.28125 54.6875 \nL 9.28125 70.21875 \nz\n\" id=\"DejaVuSans-116\"/>\n      <path d=\"M 9.421875 54.6875 \nL 18.40625 54.6875 \nL 18.40625 0 \nL 9.421875 0 \nz\nM 9.421875 75.984375 \nL 18.40625 75.984375 \nL 18.40625 64.59375 \nL 9.421875 64.59375 \nz\n\" id=\"DejaVuSans-105\"/>\n      <path d=\"M 48.78125 52.59375 \nL 48.78125 44.1875 \nQ 44.96875 46.296875 41.140625 47.34375 \nQ 37.3125 48.390625 33.40625 48.390625 \nQ 24.65625 48.390625 19.8125 42.84375 \nQ 14.984375 37.3125 14.984375 27.296875 \nQ 14.984375 17.28125 19.8125 11.734375 \nQ 24.65625 6.203125 33.40625 6.203125 \nQ 37.3125 6.203125 41.140625 7.25 \nQ 44.96875 8.296875 48.78125 10.40625 \nL 48.78125 2.09375 \nQ 45.015625 0.34375 40.984375 -0.53125 \nQ 36.96875 -1.421875 32.421875 -1.421875 \nQ 20.0625 -1.421875 12.78125 6.34375 \nQ 5.515625 14.109375 5.515625 27.296875 \nQ 5.515625 40.671875 12.859375 48.328125 \nQ 20.21875 56 33.015625 56 \nQ 37.15625 56 41.109375 55.140625 \nQ 45.0625 54.296875 48.78125 52.59375 \nz\n\" id=\"DejaVuSans-99\"/>\n      <path d=\"M 34.28125 27.484375 \nQ 23.390625 27.484375 19.1875 25 \nQ 14.984375 22.515625 14.984375 16.5 \nQ 14.984375 11.71875 18.140625 8.90625 \nQ 21.296875 6.109375 26.703125 6.109375 \nQ 34.1875 6.109375 38.703125 11.40625 \nQ 43.21875 16.703125 43.21875 25.484375 \nL 43.21875 27.484375 \nz\nM 52.203125 31.203125 \nL 52.203125 0 \nL 43.21875 0 \nL 43.21875 8.296875 \nQ 40.140625 3.328125 35.546875 0.953125 \nQ 30.953125 -1.421875 24.3125 -1.421875 \nQ 15.921875 -1.421875 10.953125 3.296875 \nQ 6 8.015625 6 15.921875 \nQ 6 25.140625 12.171875 29.828125 \nQ 18.359375 34.515625 30.609375 34.515625 \nL 43.21875 34.515625 \nL 43.21875 35.40625 \nQ 43.21875 41.609375 39.140625 45 \nQ 35.0625 48.390625 27.6875 48.390625 \nQ 23 48.390625 18.546875 47.265625 \nQ 14.109375 46.140625 10.015625 43.890625 \nL 10.015625 52.203125 \nQ 14.9375 54.109375 19.578125 55.046875 \nQ 24.21875 56 28.609375 56 \nQ 40.484375 56 46.34375 49.84375 \nQ 52.203125 43.703125 52.203125 31.203125 \nz\n\" id=\"DejaVuSans-97\"/>\n      <path d=\"M 9.421875 75.984375 \nL 18.40625 75.984375 \nL 18.40625 0 \nL 9.421875 0 \nz\n\" id=\"DejaVuSans-108\"/>\n      <path id=\"DejaVuSans-32\"/>\n      <path d=\"M 14.796875 27.296875 \nQ 14.796875 17.390625 18.875 11.75 \nQ 22.953125 6.109375 30.078125 6.109375 \nQ 37.203125 6.109375 41.296875 11.75 \nQ 45.40625 17.390625 45.40625 27.296875 \nQ 45.40625 37.203125 41.296875 42.84375 \nQ 37.203125 48.484375 30.078125 48.484375 \nQ 22.953125 48.484375 18.875 42.84375 \nQ 14.796875 37.203125 14.796875 27.296875 \nz\nM 45.40625 8.203125 \nQ 42.578125 3.328125 38.25 0.953125 \nQ 33.9375 -1.421875 27.875 -1.421875 \nQ 17.96875 -1.421875 11.734375 6.484375 \nQ 5.515625 14.40625 5.515625 27.296875 \nQ 5.515625 40.1875 11.734375 48.09375 \nQ 17.96875 56 27.875 56 \nQ 33.9375 56 38.25 53.625 \nQ 42.578125 51.265625 45.40625 46.390625 \nL 45.40625 54.6875 \nL 54.390625 54.6875 \nL 54.390625 -20.796875 \nL 45.40625 -20.796875 \nz\n\" id=\"DejaVuSans-113\"/>\n      <path d=\"M 8.5 21.578125 \nL 8.5 54.6875 \nL 17.484375 54.6875 \nL 17.484375 21.921875 \nQ 17.484375 14.15625 20.5 10.265625 \nQ 23.53125 6.390625 29.59375 6.390625 \nQ 36.859375 6.390625 41.078125 11.03125 \nQ 45.3125 15.671875 45.3125 23.6875 \nL 45.3125 54.6875 \nL 54.296875 54.6875 \nL 54.296875 0 \nL 45.3125 0 \nL 45.3125 8.40625 \nQ 42.046875 3.421875 37.71875 1 \nQ 33.40625 -1.421875 27.6875 -1.421875 \nQ 18.265625 -1.421875 13.375 4.4375 \nQ 8.5 10.296875 8.5 21.578125 \nz\nM 31.109375 56 \nz\n\" id=\"DejaVuSans-117\"/>\n      <path d=\"M 54.890625 33.015625 \nL 54.890625 0 \nL 45.90625 0 \nL 45.90625 32.71875 \nQ 45.90625 40.484375 42.875 44.328125 \nQ 39.84375 48.1875 33.796875 48.1875 \nQ 26.515625 48.1875 22.3125 43.546875 \nQ 18.109375 38.921875 18.109375 30.90625 \nL 18.109375 0 \nL 9.078125 0 \nL 9.078125 54.6875 \nL 18.109375 54.6875 \nL 18.109375 46.1875 \nQ 21.34375 51.125 25.703125 53.5625 \nQ 30.078125 56 35.796875 56 \nQ 45.21875 56 50.046875 50.171875 \nQ 54.890625 44.34375 54.890625 33.015625 \nz\n\" id=\"DejaVuSans-110\"/>\n      <path d=\"M 44.28125 53.078125 \nL 44.28125 44.578125 \nQ 40.484375 46.53125 36.375 47.5 \nQ 32.28125 48.484375 27.875 48.484375 \nQ 21.1875 48.484375 17.84375 46.4375 \nQ 14.5 44.390625 14.5 40.28125 \nQ 14.5 37.15625 16.890625 35.375 \nQ 19.28125 33.59375 26.515625 31.984375 \nL 29.59375 31.296875 \nQ 39.15625 29.25 43.1875 25.515625 \nQ 47.21875 21.78125 47.21875 15.09375 \nQ 47.21875 7.46875 41.1875 3.015625 \nQ 35.15625 -1.421875 24.609375 -1.421875 \nQ 20.21875 -1.421875 15.453125 -0.5625 \nQ 10.6875 0.296875 5.421875 2 \nL 5.421875 11.28125 \nQ 10.40625 8.6875 15.234375 7.390625 \nQ 20.0625 6.109375 24.8125 6.109375 \nQ 31.15625 6.109375 34.5625 8.28125 \nQ 37.984375 10.453125 37.984375 14.40625 \nQ 37.984375 18.0625 35.515625 20.015625 \nQ 33.0625 21.96875 24.703125 23.78125 \nL 21.578125 24.515625 \nQ 13.234375 26.265625 9.515625 29.90625 \nQ 5.8125 33.546875 5.8125 39.890625 \nQ 5.8125 47.609375 11.28125 51.796875 \nQ 16.75 56 26.8125 56 \nQ 31.78125 56 36.171875 55.265625 \nQ 40.578125 54.546875 44.28125 53.078125 \nz\n\" id=\"DejaVuSans-115\"/>\n     </defs>\n     <g transform=\"translate(164.91875 268.034687)scale(0.1 -0.1)\">\n      <use xlink:href=\"#DejaVuSans-84\"/>\n      <use x=\"61.083984\" xlink:href=\"#DejaVuSans-104\"/>\n      <use x=\"124.462891\" xlink:href=\"#DejaVuSans-101\"/>\n      <use x=\"185.986328\" xlink:href=\"#DejaVuSans-111\"/>\n      <use x=\"247.167969\" xlink:href=\"#DejaVuSans-114\"/>\n      <use x=\"288.25\" xlink:href=\"#DejaVuSans-101\"/>\n      <use x=\"349.773438\" xlink:href=\"#DejaVuSans-116\"/>\n      <use x=\"388.982422\" xlink:href=\"#DejaVuSans-105\"/>\n      <use x=\"416.765625\" xlink:href=\"#DejaVuSans-99\"/>\n      <use x=\"471.746094\" xlink:href=\"#DejaVuSans-97\"/>\n      <use x=\"533.025391\" xlink:href=\"#DejaVuSans-108\"/>\n      <use x=\"560.808594\" xlink:href=\"#DejaVuSans-32\"/>\n      <use x=\"592.595703\" xlink:href=\"#DejaVuSans-113\"/>\n      <use x=\"656.072266\" xlink:href=\"#DejaVuSans-117\"/>\n      <use x=\"719.451172\" xlink:href=\"#DejaVuSans-97\"/>\n      <use x=\"780.730469\" xlink:href=\"#DejaVuSans-110\"/>\n      <use x=\"844.109375\" xlink:href=\"#DejaVuSans-116\"/>\n      <use x=\"883.318359\" xlink:href=\"#DejaVuSans-105\"/>\n      <use x=\"911.101562\" xlink:href=\"#DejaVuSans-108\"/>\n      <use x=\"938.884766\" xlink:href=\"#DejaVuSans-101\"/>\n      <use x=\"1000.408203\" xlink:href=\"#DejaVuSans-115\"/>\n     </g>\n    </g>\n   </g>\n   <g id=\"matplotlib.axis_2\">\n    <g id=\"ytick_1\">\n     <g id=\"line2d_6\">\n      <defs>\n       <path d=\"M 0 0 \nL -3.5 0 \n\" id=\"m668f015ff2\" style=\"stroke:#000000;stroke-width:0.8;\"/>\n      </defs>\n      <g>\n       <use style=\"stroke:#000000;stroke-width:0.8;\" x=\"50.14375\" xlink:href=\"#m668f015ff2\" y=\"205.03161\"/>\n      </g>\n     </g>\n     <g id=\"text_7\">\n      <!-- 0.00 -->\n      <defs>\n       <path d=\"M 10.6875 12.40625 \nL 21 12.40625 \nL 21 0 \nL 10.6875 0 \nz\n\" id=\"DejaVuSans-46\"/>\n      </defs>\n      <g transform=\"translate(20.878125 208.830829)scale(0.1 -0.1)\">\n       <use xlink:href=\"#DejaVuSans-48\"/>\n       <use x=\"63.623047\" xlink:href=\"#DejaVuSans-46\"/>\n       <use x=\"95.410156\" xlink:href=\"#DejaVuSans-48\"/>\n       <use x=\"159.033203\" xlink:href=\"#DejaVuSans-48\"/>\n      </g>\n     </g>\n    </g>\n    <g id=\"ytick_2\">\n     <g id=\"line2d_7\">\n      <g>\n       <use style=\"stroke:#000000;stroke-width:0.8;\" x=\"50.14375\" xlink:href=\"#m668f015ff2\" y=\"167.918674\"/>\n      </g>\n     </g>\n     <g id=\"text_8\">\n      <!-- 0.05 -->\n      <defs>\n       <path d=\"M 10.796875 72.90625 \nL 49.515625 72.90625 \nL 49.515625 64.59375 \nL 19.828125 64.59375 \nL 19.828125 46.734375 \nQ 21.96875 47.46875 24.109375 47.828125 \nQ 26.265625 48.1875 28.421875 48.1875 \nQ 40.625 48.1875 47.75 41.5 \nQ 54.890625 34.8125 54.890625 23.390625 \nQ 54.890625 11.625 47.5625 5.09375 \nQ 40.234375 -1.421875 26.90625 -1.421875 \nQ 22.3125 -1.421875 17.546875 -0.640625 \nQ 12.796875 0.140625 7.71875 1.703125 \nL 7.71875 11.625 \nQ 12.109375 9.234375 16.796875 8.0625 \nQ 21.484375 6.890625 26.703125 6.890625 \nQ 35.15625 6.890625 40.078125 11.328125 \nQ 45.015625 15.765625 45.015625 23.390625 \nQ 45.015625 31 40.078125 35.4375 \nQ 35.15625 39.890625 26.703125 39.890625 \nQ 22.75 39.890625 18.8125 39.015625 \nQ 14.890625 38.140625 10.796875 36.28125 \nz\n\" id=\"DejaVuSans-53\"/>\n      </defs>\n      <g transform=\"translate(20.878125 171.717893)scale(0.1 -0.1)\">\n       <use xlink:href=\"#DejaVuSans-48\"/>\n       <use x=\"63.623047\" xlink:href=\"#DejaVuSans-46\"/>\n       <use x=\"95.410156\" xlink:href=\"#DejaVuSans-48\"/>\n       <use x=\"159.033203\" xlink:href=\"#DejaVuSans-53\"/>\n      </g>\n     </g>\n    </g>\n    <g id=\"ytick_3\">\n     <g id=\"line2d_8\">\n      <g>\n       <use style=\"stroke:#000000;stroke-width:0.8;\" x=\"50.14375\" xlink:href=\"#m668f015ff2\" y=\"130.805738\"/>\n      </g>\n     </g>\n     <g id=\"text_9\">\n      <!-- 0.10 -->\n      <g transform=\"translate(20.878125 134.604957)scale(0.1 -0.1)\">\n       <use xlink:href=\"#DejaVuSans-48\"/>\n       <use x=\"63.623047\" xlink:href=\"#DejaVuSans-46\"/>\n       <use x=\"95.410156\" xlink:href=\"#DejaVuSans-49\"/>\n       <use x=\"159.033203\" xlink:href=\"#DejaVuSans-48\"/>\n      </g>\n     </g>\n    </g>\n    <g id=\"ytick_4\">\n     <g id=\"line2d_9\">\n      <g>\n       <use style=\"stroke:#000000;stroke-width:0.8;\" x=\"50.14375\" xlink:href=\"#m668f015ff2\" y=\"93.692802\"/>\n      </g>\n     </g>\n     <g id=\"text_10\">\n      <!-- 0.15 -->\n      <g transform=\"translate(20.878125 97.492021)scale(0.1 -0.1)\">\n       <use xlink:href=\"#DejaVuSans-48\"/>\n       <use x=\"63.623047\" xlink:href=\"#DejaVuSans-46\"/>\n       <use x=\"95.410156\" xlink:href=\"#DejaVuSans-49\"/>\n       <use x=\"159.033203\" xlink:href=\"#DejaVuSans-53\"/>\n      </g>\n     </g>\n    </g>\n    <g id=\"ytick_5\">\n     <g id=\"line2d_10\">\n      <g>\n       <use style=\"stroke:#000000;stroke-width:0.8;\" x=\"50.14375\" xlink:href=\"#m668f015ff2\" y=\"56.579866\"/>\n      </g>\n     </g>\n     <g id=\"text_11\">\n      <!-- 0.20 -->\n      <g transform=\"translate(20.878125 60.379085)scale(0.1 -0.1)\">\n       <use xlink:href=\"#DejaVuSans-48\"/>\n       <use x=\"63.623047\" xlink:href=\"#DejaVuSans-46\"/>\n       <use x=\"95.410156\" xlink:href=\"#DejaVuSans-50\"/>\n       <use x=\"159.033203\" xlink:href=\"#DejaVuSans-48\"/>\n      </g>\n     </g>\n    </g>\n    <g id=\"text_12\">\n     <!-- Ordered Values -->\n     <defs>\n      <path d=\"M 39.40625 66.21875 \nQ 28.65625 66.21875 22.328125 58.203125 \nQ 16.015625 50.203125 16.015625 36.375 \nQ 16.015625 22.609375 22.328125 14.59375 \nQ 28.65625 6.59375 39.40625 6.59375 \nQ 50.140625 6.59375 56.421875 14.59375 \nQ 62.703125 22.609375 62.703125 36.375 \nQ 62.703125 50.203125 56.421875 58.203125 \nQ 50.140625 66.21875 39.40625 66.21875 \nz\nM 39.40625 74.21875 \nQ 54.734375 74.21875 63.90625 63.9375 \nQ 73.09375 53.65625 73.09375 36.375 \nQ 73.09375 19.140625 63.90625 8.859375 \nQ 54.734375 -1.421875 39.40625 -1.421875 \nQ 24.03125 -1.421875 14.8125 8.828125 \nQ 5.609375 19.09375 5.609375 36.375 \nQ 5.609375 53.65625 14.8125 63.9375 \nQ 24.03125 74.21875 39.40625 74.21875 \nz\n\" id=\"DejaVuSans-79\"/>\n      <path d=\"M 45.40625 46.390625 \nL 45.40625 75.984375 \nL 54.390625 75.984375 \nL 54.390625 0 \nL 45.40625 0 \nL 45.40625 8.203125 \nQ 42.578125 3.328125 38.25 0.953125 \nQ 33.9375 -1.421875 27.875 -1.421875 \nQ 17.96875 -1.421875 11.734375 6.484375 \nQ 5.515625 14.40625 5.515625 27.296875 \nQ 5.515625 40.1875 11.734375 48.09375 \nQ 17.96875 56 27.875 56 \nQ 33.9375 56 38.25 53.625 \nQ 42.578125 51.265625 45.40625 46.390625 \nz\nM 14.796875 27.296875 \nQ 14.796875 17.390625 18.875 11.75 \nQ 22.953125 6.109375 30.078125 6.109375 \nQ 37.203125 6.109375 41.296875 11.75 \nQ 45.40625 17.390625 45.40625 27.296875 \nQ 45.40625 37.203125 41.296875 42.84375 \nQ 37.203125 48.484375 30.078125 48.484375 \nQ 22.953125 48.484375 18.875 42.84375 \nQ 14.796875 37.203125 14.796875 27.296875 \nz\n\" id=\"DejaVuSans-100\"/>\n      <path d=\"M 28.609375 0 \nL 0.78125 72.90625 \nL 11.078125 72.90625 \nL 34.1875 11.53125 \nL 57.328125 72.90625 \nL 67.578125 72.90625 \nL 39.796875 0 \nz\n\" id=\"DejaVuSans-86\"/>\n     </defs>\n     <g transform=\"translate(14.798438 169.89125)rotate(-90)scale(0.1 -0.1)\">\n      <use xlink:href=\"#DejaVuSans-79\"/>\n      <use x=\"78.710938\" xlink:href=\"#DejaVuSans-114\"/>\n      <use x=\"119.808594\" xlink:href=\"#DejaVuSans-100\"/>\n      <use x=\"183.285156\" xlink:href=\"#DejaVuSans-101\"/>\n      <use x=\"244.808594\" xlink:href=\"#DejaVuSans-114\"/>\n      <use x=\"285.890625\" xlink:href=\"#DejaVuSans-101\"/>\n      <use x=\"347.414062\" xlink:href=\"#DejaVuSans-100\"/>\n      <use x=\"410.890625\" xlink:href=\"#DejaVuSans-32\"/>\n      <use x=\"442.677734\" xlink:href=\"#DejaVuSans-86\"/>\n      <use x=\"510.976562\" xlink:href=\"#DejaVuSans-97\"/>\n      <use x=\"572.255859\" xlink:href=\"#DejaVuSans-108\"/>\n      <use x=\"600.039062\" xlink:href=\"#DejaVuSans-117\"/>\n      <use x=\"663.417969\" xlink:href=\"#DejaVuSans-101\"/>\n      <use x=\"724.941406\" xlink:href=\"#DejaVuSans-115\"/>\n     </g>\n    </g>\n   </g>\n   <g id=\"line2d_11\">\n    <defs>\n     <path d=\"M 0 3 \nC 0.795609 3 1.55874 2.683901 2.12132 2.12132 \nC 2.683901 1.55874 3 0.795609 3 0 \nC 3 -0.795609 2.683901 -1.55874 2.12132 -2.12132 \nC 1.55874 -2.683901 0.795609 -3 0 -3 \nC -0.795609 -3 -1.55874 -2.683901 -2.12132 -2.12132 \nC -2.683901 -1.55874 -3 -0.795609 -3 0 \nC -3 0.795609 -2.683901 1.55874 -2.12132 2.12132 \nC -1.55874 2.683901 -0.795609 3 0 3 \nz\n\" id=\"m30150a1fa9\" style=\"stroke:#0000ff;\"/>\n    </defs>\n    <g clip-path=\"url(#pb88eb22f8b)\">\n     <use style=\"fill:#0000ff;stroke:#0000ff;\" x=\"65.361932\" xlink:href=\"#m30150a1fa9\" y=\"205.03161\"/>\n     <use style=\"fill:#0000ff;stroke:#0000ff;\" x=\"94.073385\" xlink:href=\"#m30150a1fa9\" y=\"205.03161\"/>\n     <use style=\"fill:#0000ff;stroke:#0000ff;\" x=\"111.239604\" xlink:href=\"#m30150a1fa9\" y=\"205.03161\"/>\n     <use style=\"fill:#0000ff;stroke:#0000ff;\" x=\"124.005714\" xlink:href=\"#m30150a1fa9\" y=\"190.933514\"/>\n     <use style=\"fill:#0000ff;stroke:#0000ff;\" x=\"134.437423\" xlink:href=\"#m30150a1fa9\" y=\"188.104023\"/>\n     <use style=\"fill:#0000ff;stroke:#0000ff;\" x=\"143.415389\" xlink:href=\"#m30150a1fa9\" y=\"187.167622\"/>\n     <use style=\"fill:#0000ff;stroke:#0000ff;\" x=\"151.402295\" xlink:href=\"#m30150a1fa9\" y=\"180.214449\"/>\n     <use style=\"fill:#0000ff;stroke:#0000ff;\" x=\"158.673747\" xlink:href=\"#m30150a1fa9\" y=\"177.513\"/>\n     <use style=\"fill:#0000ff;stroke:#0000ff;\" x=\"165.408586\" xlink:href=\"#m30150a1fa9\" y=\"169.320197\"/>\n     <use style=\"fill:#0000ff;stroke:#0000ff;\" x=\"171.730448\" xlink:href=\"#m30150a1fa9\" y=\"159.032694\"/>\n     <use style=\"fill:#0000ff;stroke:#0000ff;\" x=\"177.729178\" xlink:href=\"#m30150a1fa9\" y=\"155.508566\"/>\n     <use style=\"fill:#0000ff;stroke:#0000ff;\" x=\"183.472832\" xlink:href=\"#m30150a1fa9\" y=\"153.211756\"/>\n     <use style=\"fill:#0000ff;stroke:#0000ff;\" x=\"189.014858\" xlink:href=\"#m30150a1fa9\" y=\"151.394839\"/>\n     <use style=\"fill:#0000ff;stroke:#0000ff;\" x=\"194.398654\" xlink:href=\"#m30150a1fa9\" y=\"145.935602\"/>\n     <use style=\"fill:#0000ff;stroke:#0000ff;\" x=\"199.660578\" xlink:href=\"#m30150a1fa9\" y=\"144.504941\"/>\n     <use style=\"fill:#0000ff;stroke:#0000ff;\" x=\"204.832057\" xlink:href=\"#m30150a1fa9\" y=\"138.462245\"/>\n     <use style=\"fill:#0000ff;stroke:#0000ff;\" x=\"209.941117\" xlink:href=\"#m30150a1fa9\" y=\"137.816361\"/>\n     <use style=\"fill:#0000ff;stroke:#0000ff;\" x=\"215.013562\" xlink:href=\"#m30150a1fa9\" y=\"135.974187\"/>\n     <use style=\"fill:#0000ff;stroke:#0000ff;\" x=\"220.073938\" xlink:href=\"#m30150a1fa9\" y=\"132.176933\"/>\n     <use style=\"fill:#0000ff;stroke:#0000ff;\" x=\"225.146383\" xlink:href=\"#m30150a1fa9\" y=\"126.196774\"/>\n     <use style=\"fill:#0000ff;stroke:#0000ff;\" x=\"230.255443\" xlink:href=\"#m30150a1fa9\" y=\"121.346043\"/>\n     <use style=\"fill:#0000ff;stroke:#0000ff;\" x=\"235.426922\" xlink:href=\"#m30150a1fa9\" y=\"120.542804\"/>\n     <use style=\"fill:#0000ff;stroke:#0000ff;\" x=\"240.688846\" xlink:href=\"#m30150a1fa9\" y=\"114.963008\"/>\n     <use style=\"fill:#0000ff;stroke:#0000ff;\" x=\"246.072642\" xlink:href=\"#m30150a1fa9\" y=\"114.678507\"/>\n     <use style=\"fill:#0000ff;stroke:#0000ff;\" x=\"251.614668\" xlink:href=\"#m30150a1fa9\" y=\"113.519441\"/>\n     <use style=\"fill:#0000ff;stroke:#0000ff;\" x=\"257.358322\" xlink:href=\"#m30150a1fa9\" y=\"113.049567\"/>\n     <use style=\"fill:#0000ff;stroke:#0000ff;\" x=\"263.357052\" xlink:href=\"#m30150a1fa9\" y=\"106.26407\"/>\n     <use style=\"fill:#0000ff;stroke:#0000ff;\" x=\"269.678914\" xlink:href=\"#m30150a1fa9\" y=\"101.561006\"/>\n     <use style=\"fill:#0000ff;stroke:#0000ff;\" x=\"276.413753\" xlink:href=\"#m30150a1fa9\" y=\"100.11983\"/>\n     <use style=\"fill:#0000ff;stroke:#0000ff;\" x=\"283.685205\" xlink:href=\"#m30150a1fa9\" y=\"99.256793\"/>\n     <use style=\"fill:#0000ff;stroke:#0000ff;\" x=\"291.672111\" xlink:href=\"#m30150a1fa9\" y=\"82.992688\"/>\n     <use style=\"fill:#0000ff;stroke:#0000ff;\" x=\"300.650077\" xlink:href=\"#m30150a1fa9\" y=\"63.988061\"/>\n     <use style=\"fill:#0000ff;stroke:#0000ff;\" x=\"311.081786\" xlink:href=\"#m30150a1fa9\" y=\"58.558208\"/>\n     <use style=\"fill:#0000ff;stroke:#0000ff;\" x=\"323.847896\" xlink:href=\"#m30150a1fa9\" y=\"49.852617\"/>\n     <use style=\"fill:#0000ff;stroke:#0000ff;\" x=\"341.014115\" xlink:href=\"#m30150a1fa9\" y=\"46.914551\"/>\n     <use style=\"fill:#0000ff;stroke:#0000ff;\" x=\"369.725568\" xlink:href=\"#m30150a1fa9\" y=\"32.201761\"/>\n    </g>\n   </g>\n   <g id=\"line2d_12\">\n    <path clip-path=\"url(#pb88eb22f8b)\" d=\"M 65.361932 229.874489 \nL 94.073385 211.285123 \nL 111.239604 200.170774 \nL 124.005714 191.905295 \nL 134.437423 185.151236 \nL 143.415389 179.338409 \nL 151.402295 174.167249 \nL 158.673747 169.459314 \nL 165.408586 165.098811 \nL 171.730448 161.005691 \nL 177.729178 157.121785 \nL 183.472832 153.403029 \nL 189.014858 149.814818 \nL 194.398654 146.329054 \nL 199.660578 142.922197 \nL 204.832057 139.573898 \nL 209.941117 136.266013 \nL 215.013562 132.981834 \nL 220.073938 129.70547 \nL 225.146383 126.421292 \nL 230.255443 123.113407 \nL 235.426922 119.765108 \nL 240.688846 116.358251 \nL 246.072642 112.872487 \nL 251.614668 109.284276 \nL 257.358322 105.56552 \nL 263.357052 101.681614 \nL 269.678914 97.588494 \nL 276.413753 93.227991 \nL 283.685205 88.520056 \nL 291.672111 83.348896 \nL 300.650077 77.536069 \nL 311.081786 70.78201 \nL 323.847896 62.516531 \nL 341.014115 51.402182 \nL 369.725568 32.812816 \n\" style=\"fill:none;stroke:#ff0000;stroke-linecap:square;stroke-width:1.5;\"/>\n   </g>\n   <g id=\"patch_3\">\n    <path d=\"M 50.14375 239.758125 \nL 50.14375 22.318125 \n\" style=\"fill:none;stroke:#000000;stroke-linecap:square;stroke-linejoin:miter;stroke-width:0.8;\"/>\n   </g>\n   <g id=\"patch_4\">\n    <path d=\"M 384.94375 239.758125 \nL 384.94375 22.318125 \n\" style=\"fill:none;stroke:#000000;stroke-linecap:square;stroke-linejoin:miter;stroke-width:0.8;\"/>\n   </g>\n   <g id=\"patch_5\">\n    <path d=\"M 50.14375 239.758125 \nL 384.94375 239.758125 \n\" style=\"fill:none;stroke:#000000;stroke-linecap:square;stroke-linejoin:miter;stroke-width:0.8;\"/>\n   </g>\n   <g id=\"patch_6\">\n    <path d=\"M 50.14375 22.318125 \nL 384.94375 22.318125 \n\" style=\"fill:none;stroke:#000000;stroke-linecap:square;stroke-linejoin:miter;stroke-width:0.8;\"/>\n   </g>\n   <g id=\"text_13\">\n    <!-- Probability Plot -->\n    <defs>\n     <path d=\"M 19.671875 64.796875 \nL 19.671875 37.40625 \nL 32.078125 37.40625 \nQ 38.96875 37.40625 42.71875 40.96875 \nQ 46.484375 44.53125 46.484375 51.125 \nQ 46.484375 57.671875 42.71875 61.234375 \nQ 38.96875 64.796875 32.078125 64.796875 \nz\nM 9.8125 72.90625 \nL 32.078125 72.90625 \nQ 44.34375 72.90625 50.609375 67.359375 \nQ 56.890625 61.8125 56.890625 51.125 \nQ 56.890625 40.328125 50.609375 34.8125 \nQ 44.34375 29.296875 32.078125 29.296875 \nL 19.671875 29.296875 \nL 19.671875 0 \nL 9.8125 0 \nz\n\" id=\"DejaVuSans-80\"/>\n     <path d=\"M 48.6875 27.296875 \nQ 48.6875 37.203125 44.609375 42.84375 \nQ 40.53125 48.484375 33.40625 48.484375 \nQ 26.265625 48.484375 22.1875 42.84375 \nQ 18.109375 37.203125 18.109375 27.296875 \nQ 18.109375 17.390625 22.1875 11.75 \nQ 26.265625 6.109375 33.40625 6.109375 \nQ 40.53125 6.109375 44.609375 11.75 \nQ 48.6875 17.390625 48.6875 27.296875 \nz\nM 18.109375 46.390625 \nQ 20.953125 51.265625 25.265625 53.625 \nQ 29.59375 56 35.59375 56 \nQ 45.5625 56 51.78125 48.09375 \nQ 58.015625 40.1875 58.015625 27.296875 \nQ 58.015625 14.40625 51.78125 6.484375 \nQ 45.5625 -1.421875 35.59375 -1.421875 \nQ 29.59375 -1.421875 25.265625 0.953125 \nQ 20.953125 3.328125 18.109375 8.203125 \nL 18.109375 0 \nL 9.078125 0 \nL 9.078125 75.984375 \nL 18.109375 75.984375 \nz\n\" id=\"DejaVuSans-98\"/>\n     <path d=\"M 32.171875 -5.078125 \nQ 28.375 -14.84375 24.75 -17.8125 \nQ 21.140625 -20.796875 15.09375 -20.796875 \nL 7.90625 -20.796875 \nL 7.90625 -13.28125 \nL 13.1875 -13.28125 \nQ 16.890625 -13.28125 18.9375 -11.515625 \nQ 21 -9.765625 23.484375 -3.21875 \nL 25.09375 0.875 \nL 2.984375 54.6875 \nL 12.5 54.6875 \nL 29.59375 11.921875 \nL 46.6875 54.6875 \nL 56.203125 54.6875 \nz\n\" id=\"DejaVuSans-121\"/>\n    </defs>\n    <g transform=\"translate(172.376875 16.318125)scale(0.12 -0.12)\">\n     <use xlink:href=\"#DejaVuSans-80\"/>\n     <use x=\"60.287109\" xlink:href=\"#DejaVuSans-114\"/>\n     <use x=\"101.369141\" xlink:href=\"#DejaVuSans-111\"/>\n     <use x=\"162.550781\" xlink:href=\"#DejaVuSans-98\"/>\n     <use x=\"226.027344\" xlink:href=\"#DejaVuSans-97\"/>\n     <use x=\"287.306641\" xlink:href=\"#DejaVuSans-98\"/>\n     <use x=\"350.783203\" xlink:href=\"#DejaVuSans-105\"/>\n     <use x=\"378.566406\" xlink:href=\"#DejaVuSans-108\"/>\n     <use x=\"406.349609\" xlink:href=\"#DejaVuSans-105\"/>\n     <use x=\"434.132812\" xlink:href=\"#DejaVuSans-116\"/>\n     <use x=\"473.341797\" xlink:href=\"#DejaVuSans-121\"/>\n     <use x=\"532.521484\" xlink:href=\"#DejaVuSans-32\"/>\n     <use x=\"564.308594\" xlink:href=\"#DejaVuSans-80\"/>\n     <use x=\"624.611328\" xlink:href=\"#DejaVuSans-108\"/>\n     <use x=\"652.394531\" xlink:href=\"#DejaVuSans-111\"/>\n     <use x=\"713.576172\" xlink:href=\"#DejaVuSans-116\"/>\n    </g>\n   </g>\n  </g>\n </g>\n <defs>\n  <clipPath id=\"pb88eb22f8b\">\n   <rect height=\"217.44\" width=\"334.8\" x=\"50.14375\" y=\"22.318125\"/>\n  </clipPath>\n </defs>\n</svg>\n",
      "text/plain": "<Figure size 432x288 with 1 Axes>"
     },
     "metadata": {
      "needs_background": "light"
     },
     "output_type": "display_data"
    }
   ],
   "source": [
    "# plot1 = probplot(cc_bic, plot=plt)\n",
    "plot2 = probplot(nocc_bic, plot=plt)"
   ]
  },
  {
   "cell_type": "code",
   "execution_count": 25,
   "metadata": {},
   "outputs": [
    {
     "data": {
      "text/plain": "Ttest_indResult(statistic=-0.07699433106654154, pvalue=0.9388477027937747)"
     },
     "execution_count": 25,
     "metadata": {},
     "output_type": "execute_result"
    }
   ],
   "source": [
    "ttest_ind(cc_bic, nocc_bic)"
   ]
  },
  {
   "cell_type": "markdown",
   "metadata": {},
   "outputs": [],
   "source": [
    "## Assumptions of the unpaired t-test\n",
    "\n",
    "* Assumption of independence\n",
    "* Assumption of normality: the dependent variable should be continuous and approximately normally distributed.\n",
    "* Assumption of homogeneity of variance: The variances of the dependent variable should be equal.\n",
    "\n"
   ]
  },
  {
   "cell_type": "code",
   "execution_count": 26,
   "metadata": {},
   "outputs": [],
   "source": [
    "total_bic = total_bic_df['bic_percent']\n",
    "total_bic.name = 'all_commits'\n",
    "\n",
    "cc_bic = cc_bic_df['bic_percent']\n",
    "cc_bic.name = 'cochange_commit'\n",
    "\n",
    "bic_percent = pd.concat([total_bic, cc_bic], keys=['all', 'cochange'], names=['commits', 'projects'], axis=0, sort=False)"
   ]
  },
  {
   "cell_type": "code",
   "execution_count": 27,
   "metadata": {},
   "outputs": [
    {
     "data": {
      "text/html": "<div>\n<style scoped>\n    .dataframe tbody tr th:only-of-type {\n        vertical-align: middle;\n    }\n\n    .dataframe tbody tr th {\n        vertical-align: top;\n    }\n\n    .dataframe thead th {\n        text-align: right;\n    }\n</style>\n<table border=\"1\" class=\"dataframe\">\n  <thead>\n    <tr style=\"text-align: right;\">\n      <th></th>\n      <th>commits</th>\n      <th>bic_percent</th>\n    </tr>\n    <tr>\n      <th>projects</th>\n      <th></th>\n      <th></th>\n    </tr>\n  </thead>\n  <tbody>\n    <tr>\n      <th>accumulo</th>\n      <td>all</td>\n      <td>0.075323</td>\n    </tr>\n    <tr>\n      <th>activemq</th>\n      <td>all</td>\n      <td>0.158988</td>\n    </tr>\n    <tr>\n      <th>ambari</th>\n      <td>all</td>\n      <td>0.286824</td>\n    </tr>\n    <tr>\n      <th>avro</th>\n      <td>all</td>\n      <td>0.139042</td>\n    </tr>\n    <tr>\n      <th>beam</th>\n      <td>all</td>\n      <td>0.088070</td>\n    </tr>\n    <tr>\n      <th>...</th>\n      <td>...</td>\n      <td>...</td>\n    </tr>\n    <tr>\n      <th>storm</th>\n      <td>cochange</td>\n      <td>0.135501</td>\n    </tr>\n    <tr>\n      <th>struts</th>\n      <td>cochange</td>\n      <td>0.137288</td>\n    </tr>\n    <tr>\n      <th>tika</th>\n      <td>cochange</td>\n      <td>0.012917</td>\n    </tr>\n    <tr>\n      <th>wicket</th>\n      <td>cochange</td>\n      <td>0.104147</td>\n    </tr>\n    <tr>\n      <th>zeppelin</th>\n      <td>cochange</td>\n      <td>0.132867</td>\n    </tr>\n  </tbody>\n</table>\n<p>74 rows × 2 columns</p>\n</div>",
      "text/plain": "           commits  bic_percent\nprojects                       \naccumulo       all     0.075323\nactivemq       all     0.158988\nambari         all     0.286824\navro           all     0.139042\nbeam           all     0.088070\n...            ...          ...\nstorm     cochange     0.135501\nstruts    cochange     0.137288\ntika      cochange     0.012917\nwicket    cochange     0.104147\nzeppelin  cochange     0.132867\n\n[74 rows x 2 columns]"
     },
     "execution_count": 27,
     "metadata": {},
     "output_type": "execute_result"
    }
   ],
   "source": [
    "bic_percent = bic_percent.reset_index(level=0).rename(columns={0: 'bic_percent'})\n",
    "bic_percent"
   ]
  },
  {
   "cell_type": "code",
   "execution_count": 28,
   "metadata": {},
   "outputs": [
    {
     "name": "stderr",
     "output_type": "stream",
     "text": "/home/ottok92/Dev/cochange/pyenv/lib/python3.7/site-packages/seaborn/axisgrid.py:375: UserWarning: Tight layout not applied. tight_layout cannot make axes height small enough to accommodate all axes decorations\n  fig.tight_layout()\n/home/ottok92/Dev/cochange/pyenv/lib/python3.7/site-packages/seaborn/axisgrid.py:848: UserWarning: Tight layout not applied. The bottom and top margins cannot be made large enough to accommodate all axes decorations. \n  self.fig.tight_layout()\n/home/ottok92/Dev/cochange/pyenv/lib/python3.7/site-packages/seaborn/axisgrid.py:848: UserWarning: Tight layout not applied. tight_layout cannot make axes height small enough to accommodate all axes decorations\n  self.fig.tight_layout()\n"
    },
    {
     "data": {
      "image/png": "[encoded data removed]",
      "image/svg+xml": "<?xml version=\"1.0\" encoding=\"utf-8\" standalone=\"no\"?>\n<!DOCTYPE svg PUBLIC \"-//W3C//DTD SVG 1.1//EN\"\n  \"http://www.w3.org/Graphics/SVG/1.1/DTD/svg11.dtd\">\n<!-- Created with matplotlib (https://matplotlib.org/) -->\n<svg height=\"104.519687pt\" version=\"1.1\" viewBox=\"0 0 432.9 104.519687\" width=\"432.9pt\" xmlns=\"http://www.w3.org/2000/svg\" xmlns:xlink=\"http://www.w3.org/1999/xlink\">\n <defs>\n  <style type=\"text/css\">\n*{stroke-linecap:butt;stroke-linejoin:round;}\n  </style>\n </defs>\n <g id=\"figure_1\">\n  <g id=\"patch_1\">\n   <path d=\"M 0 104.519687 \nL 432.9 104.519687 \nL 432.9 0 \nL 0 0 \nz\n\" style=\"fill:#ffffff;\"/>\n  </g>\n  <g id=\"axes_1\">\n   <g id=\"patch_2\">\n    <path d=\"M 7.2 38.262857 \nL 425.7 38.262857 \nL 425.7 7.2 \nL 7.2 7.2 \nz\n\" style=\"fill:none;\"/>\n   </g>\n   <g id=\"matplotlib.axis_1\">\n    <g id=\"xtick_1\"/>\n    <g id=\"xtick_2\"/>\n    <g id=\"xtick_3\"/>\n    <g id=\"xtick_4\"/>\n    <g id=\"xtick_5\"/>\n    <g id=\"xtick_6\"/>\n    <g id=\"xtick_7\"/>\n   </g>\n   <g id=\"matplotlib.axis_2\"/>\n   <g id=\"PolyCollection_1\">\n    <defs>\n     <path d=\"M 26.269324 -66.362169 \nL 26.269324 -66.25683 \nL 29.012644 -66.25683 \nL 31.755964 -66.25683 \nL 34.499284 -66.25683 \nL 37.242604 -66.25683 \nL 39.985923 -66.25683 \nL 42.729243 -66.25683 \nL 45.472563 -66.25683 \nL 48.215883 -66.25683 \nL 50.959203 -66.25683 \nL 53.702523 -66.25683 \nL 56.445843 -66.25683 \nL 59.189162 -66.25683 \nL 61.932482 -66.25683 \nL 64.675802 -66.25683 \nL 67.419122 -66.25683 \nL 70.162442 -66.25683 \nL 72.905762 -66.25683 \nL 75.649082 -66.25683 \nL 78.392401 -66.25683 \nL 81.135721 -66.25683 \nL 83.879041 -66.25683 \nL 86.622361 -66.25683 \nL 89.365681 -66.25683 \nL 92.109001 -66.25683 \nL 94.852321 -66.25683 \nL 97.59564 -66.25683 \nL 100.33896 -66.25683 \nL 103.08228 -66.25683 \nL 105.8256 -66.25683 \nL 108.56892 -66.25683 \nL 111.31224 -66.25683 \nL 114.055559 -66.25683 \nL 116.798879 -66.25683 \nL 119.542199 -66.25683 \nL 122.285519 -66.25683 \nL 125.028839 -66.25683 \nL 127.772159 -66.25683 \nL 130.515479 -66.25683 \nL 133.258798 -66.25683 \nL 136.002118 -66.25683 \nL 138.745438 -66.25683 \nL 141.488758 -66.25683 \nL 144.232078 -66.25683 \nL 146.975398 -66.25683 \nL 149.718718 -66.25683 \nL 152.462037 -66.25683 \nL 155.205357 -66.25683 \nL 157.948677 -66.25683 \nL 160.691997 -66.25683 \nL 163.435317 -66.25683 \nL 166.178637 -66.25683 \nL 168.921956 -66.25683 \nL 171.665276 -66.25683 \nL 174.408596 -66.25683 \nL 177.151916 -66.25683 \nL 179.895236 -66.25683 \nL 182.638556 -66.25683 \nL 185.381876 -66.25683 \nL 188.125195 -66.25683 \nL 190.868515 -66.25683 \nL 193.611835 -66.25683 \nL 196.355155 -66.25683 \nL 199.098475 -66.25683 \nL 201.841795 -66.25683 \nL 204.585115 -66.25683 \nL 207.328434 -66.25683 \nL 210.071754 -66.25683 \nL 212.815074 -66.25683 \nL 215.558394 -66.25683 \nL 218.301714 -66.25683 \nL 221.045034 -66.25683 \nL 223.788354 -66.25683 \nL 226.531673 -66.25683 \nL 229.274993 -66.25683 \nL 232.018313 -66.25683 \nL 234.761633 -66.25683 \nL 237.504953 -66.25683 \nL 240.248273 -66.25683 \nL 242.991592 -66.25683 \nL 245.734912 -66.25683 \nL 248.478232 -66.25683 \nL 251.221552 -66.25683 \nL 253.964872 -66.25683 \nL 256.708192 -66.25683 \nL 259.451512 -66.25683 \nL 262.194831 -66.25683 \nL 264.938151 -66.25683 \nL 267.681471 -66.25683 \nL 270.424791 -66.25683 \nL 273.168111 -66.25683 \nL 275.911431 -66.25683 \nL 278.654751 -66.25683 \nL 281.39807 -66.25683 \nL 284.14139 -66.25683 \nL 286.88471 -66.25683 \nL 289.62803 -66.25683 \nL 292.37135 -66.25683 \nL 295.11467 -66.25683 \nL 297.85799 -66.25683 \nL 300.601309 -66.25683 \nL 303.344629 -66.25683 \nL 306.087949 -66.25683 \nL 308.831269 -66.25683 \nL 311.574589 -66.25683 \nL 314.317909 -66.25683 \nL 317.061228 -66.25683 \nL 319.804548 -66.25683 \nL 322.547868 -66.25683 \nL 325.291188 -66.25683 \nL 328.034508 -66.25683 \nL 330.777828 -66.25683 \nL 333.521148 -66.25683 \nL 336.264467 -66.25683 \nL 339.007787 -66.25683 \nL 341.751107 -66.25683 \nL 344.494427 -66.25683 \nL 347.237747 -66.25683 \nL 349.981067 -66.25683 \nL 352.724387 -66.25683 \nL 355.467706 -66.25683 \nL 358.211026 -66.25683 \nL 360.954346 -66.25683 \nL 363.697666 -66.25683 \nL 366.440986 -66.25683 \nL 369.184306 -66.25683 \nL 371.927626 -66.25683 \nL 374.670945 -66.25683 \nL 374.670945 -66.351907 \nL 374.670945 -66.351907 \nL 371.927626 -66.345242 \nL 369.184306 -66.341964 \nL 366.440986 -66.341949 \nL 363.697666 -66.345153 \nL 360.954346 -66.351614 \nL 358.211026 -66.361448 \nL 355.467706 -66.374855 \nL 352.724387 -66.392111 \nL 349.981067 -66.413576 \nL 347.237747 -66.439695 \nL 344.494427 -66.470996 \nL 341.751107 -66.508098 \nL 339.007787 -66.55171 \nL 336.264467 -66.602634 \nL 333.521148 -66.661771 \nL 330.777828 -66.730118 \nL 328.034508 -66.808774 \nL 325.291188 -66.89894 \nL 322.547868 -67.001916 \nL 319.804548 -67.119104 \nL 317.061228 -67.252002 \nL 314.317909 -67.402199 \nL 311.574589 -67.57137 \nL 308.831269 -67.761267 \nL 306.087949 -67.973703 \nL 303.344629 -68.210544 \nL 300.601309 -68.473685 \nL 297.85799 -68.765034 \nL 295.11467 -69.086488 \nL 292.37135 -69.439901 \nL 289.62803 -69.827061 \nL 286.88471 -70.249652 \nL 284.14139 -70.709223 \nL 281.39807 -71.207145 \nL 278.654751 -71.744574 \nL 275.911431 -72.322412 \nL 273.168111 -72.94126 \nL 270.424791 -73.601381 \nL 267.681471 -74.302658 \nL 264.938151 -75.044554 \nL 262.194831 -75.826078 \nL 259.451512 -76.645749 \nL 256.708192 -77.501575 \nL 253.964872 -78.391027 \nL 251.221552 -79.311024 \nL 248.478232 -80.257932 \nL 245.734912 -81.227562 \nL 242.991592 -82.215182 \nL 240.248273 -83.21554 \nL 237.504953 -84.222896 \nL 234.761633 -85.231065 \nL 232.018313 -86.233469 \nL 229.274993 -87.223198 \nL 226.531673 -88.193089 \nL 223.788354 -89.135797 \nL 221.045034 -90.043892 \nL 218.301714 -90.909949 \nL 215.558394 -91.726646 \nL 212.815074 -92.486868 \nL 210.071754 -93.183805 \nL 207.328434 -93.811056 \nL 204.585115 -94.362728 \nL 201.841795 -94.833521 \nL 199.098475 -95.218819 \nL 196.355155 -95.514763 \nL 193.611835 -95.718317 \nL 190.868515 -95.827315 \nL 188.125195 -95.840504 \nL 185.381876 -95.757566 \nL 182.638556 -95.579126 \nL 179.895236 -95.306744 \nL 177.151916 -94.942893 \nL 174.408596 -94.490921 \nL 171.665276 -93.954999 \nL 168.921956 -93.340058 \nL 166.178637 -92.65171 \nL 163.435317 -91.896163 \nL 160.691997 -91.080128 \nL 157.948677 -90.210714 \nL 155.205357 -89.295332 \nL 152.462037 -88.341581 \nL 149.718718 -87.357147 \nL 146.975398 -86.349699 \nL 144.232078 -85.326789 \nL 141.488758 -84.295762 \nL 138.745438 -83.26367 \nL 136.002118 -82.237195 \nL 133.258798 -81.222585 \nL 130.515479 -80.225596 \nL 127.772159 -79.251452 \nL 125.028839 -78.304809 \nL 122.285519 -77.389735 \nL 119.542199 -76.509698 \nL 116.798879 -75.667568 \nL 114.055559 -74.865625 \nL 111.31224 -74.10558 \nL 108.56892 -73.388595 \nL 105.8256 -72.71532 \nL 103.08228 -72.085932 \nL 100.33896 -71.500171 \nL 97.59564 -70.957391 \nL 94.852321 -70.456602 \nL 92.109001 -69.996521 \nL 89.365681 -69.575616 \nL 86.622361 -69.192156 \nL 83.879041 -68.844251 \nL 81.135721 -68.529896 \nL 78.392401 -68.247012 \nL 75.649082 -67.993476 \nL 72.905762 -67.76716 \nL 70.162442 -67.565952 \nL 67.419122 -67.387785 \nL 64.675802 -67.230657 \nL 61.932482 -67.092645 \nL 59.189162 -66.971925 \nL 56.445843 -66.866773 \nL 53.702523 -66.775582 \nL 50.959203 -66.696859 \nL 48.215883 -66.629235 \nL 45.472563 -66.571457 \nL 42.729243 -66.522396 \nL 39.985923 -66.481039 \nL 37.242604 -66.446487 \nL 34.499284 -66.417954 \nL 31.755964 -66.39476 \nL 29.012644 -66.376325 \nL 26.269324 -66.362169 \nz\n\" id=\"m9cd85befc9\" style=\"stroke:#ffffff;\"/>\n    </defs>\n    <g>\n     <use style=\"fill:#90c1c6;stroke:#ffffff;\" x=\"0\" xlink:href=\"#m9cd85befc9\" y=\"104.519687\"/>\n    </g>\n   </g>\n   <g id=\"line2d_1\">\n    <path d=\"M 26.269324 38.157518 \nL 45.472563 37.948231 \nL 56.445843 37.652914 \nL 67.419122 37.131903 \nL 75.649082 36.526211 \nL 83.879041 35.675437 \nL 92.109001 34.523167 \nL 97.59564 33.562297 \nL 103.08228 32.433756 \nL 108.56892 31.131093 \nL 114.055559 29.654062 \nL 119.542199 28.00999 \nL 127.772159 25.268235 \nL 138.745438 21.256018 \nL 152.462037 16.178106 \nL 157.948677 14.308973 \nL 163.435317 12.623524 \nL 168.921956 11.179629 \nL 174.408596 10.028767 \nL 179.895236 9.212943 \nL 185.381876 8.762121 \nL 190.868515 8.692373 \nL 196.355155 9.004924 \nL 201.841795 9.686167 \nL 207.328434 10.708631 \nL 212.815074 12.03282 \nL 218.301714 13.609738 \nL 223.788354 15.383891 \nL 232.018313 18.286219 \nL 251.221552 25.208663 \nL 259.451512 27.873938 \nL 267.681471 30.217029 \nL 273.168111 31.578428 \nL 278.654751 32.775113 \nL 284.14139 33.810464 \nL 292.37135 35.079787 \nL 300.601309 36.046003 \nL 308.831269 36.758421 \nL 317.061228 37.267685 \nL 328.034508 37.710913 \nL 341.751107 38.011589 \nL 360.954346 38.168074 \nL 374.670945 38.167781 \nL 374.670945 38.167781 \n\" style=\"fill:none;stroke:#90c1c6;stroke-linecap:round;stroke-width:1.5;\"/>\n   </g>\n   <g id=\"line2d_2\">\n    <path d=\"M 26.269324 38.157518 \nL 45.472563 37.948231 \nL 56.445843 37.652914 \nL 67.419122 37.131903 \nL 75.649082 36.526211 \nL 83.879041 35.675437 \nL 92.109001 34.523167 \nL 97.59564 33.562297 \nL 103.08228 32.433756 \nL 108.56892 31.131093 \nL 114.055559 29.654062 \nL 119.542199 28.00999 \nL 127.772159 25.268235 \nL 138.745438 21.256018 \nL 152.462037 16.178106 \nL 157.948677 14.308973 \nL 163.435317 12.623524 \nL 168.921956 11.179629 \nL 174.408596 10.028767 \nL 179.895236 9.212943 \nL 185.381876 8.762121 \nL 190.868515 8.692373 \nL 196.355155 9.004924 \nL 201.841795 9.686167 \nL 207.328434 10.708631 \nL 212.815074 12.03282 \nL 218.301714 13.609738 \nL 223.788354 15.383891 \nL 232.018313 18.286219 \nL 251.221552 25.208663 \nL 259.451512 27.873938 \nL 267.681471 30.217029 \nL 273.168111 31.578428 \nL 278.654751 32.775113 \nL 284.14139 33.810464 \nL 292.37135 35.079787 \nL 300.601309 36.046003 \nL 308.831269 36.758421 \nL 317.061228 37.267685 \nL 328.034508 37.710913 \nL 341.751107 38.011589 \nL 360.954346 38.168074 \nL 374.670945 38.167781 \nL 374.670945 38.167781 \n\" style=\"fill:none;stroke:#ffffff;stroke-linecap:round;stroke-width:2;\"/>\n   </g>\n   <g id=\"line2d_3\">\n    <path clip-path=\"url(#p4c389a8a51)\" d=\"M 7.2 38.262857 \nL 425.7 38.262857 \n\" style=\"fill:none;stroke:#90c1c6;stroke-linecap:round;stroke-width:2;\"/>\n   </g>\n   <g id=\"text_1\">\n    <!-- all -->\n    <defs>\n     <path d=\"M 32.90625 24.609375 \nQ 27.4375 24.609375 24.671875 22.75 \nQ 21.921875 20.90625 21.921875 17.28125 \nQ 21.921875 13.96875 24.140625 12.078125 \nQ 26.375 10.203125 30.328125 10.203125 \nQ 35.25 10.203125 38.625 13.734375 \nQ 42 17.28125 42 22.609375 \nL 42 24.609375 \nz\nM 59.625 31.203125 \nL 59.625 0 \nL 42 0 \nL 42 8.109375 \nQ 38.484375 3.125 34.078125 0.84375 \nQ 29.6875 -1.421875 23.390625 -1.421875 \nQ 14.890625 -1.421875 9.59375 3.53125 \nQ 4.296875 8.5 4.296875 16.40625 \nQ 4.296875 26.03125 10.90625 30.515625 \nQ 17.53125 35.015625 31.6875 35.015625 \nL 42 35.015625 \nL 42 36.375 \nQ 42 40.53125 38.71875 42.453125 \nQ 35.453125 44.390625 28.515625 44.390625 \nQ 22.90625 44.390625 18.0625 43.265625 \nQ 13.234375 42.140625 9.078125 39.890625 \nL 9.078125 53.21875 \nQ 14.703125 54.59375 20.359375 55.296875 \nQ 26.03125 56 31.6875 56 \nQ 46.484375 56 53.046875 50.171875 \nQ 59.625 44.34375 59.625 31.203125 \nz\n\" id=\"DejaVuSans-Bold-97\"/>\n     <path d=\"M 8.40625 75.984375 \nL 25.875 75.984375 \nL 25.875 0 \nL 8.40625 0 \nz\n\" id=\"DejaVuSans-Bold-108\"/>\n    </defs>\n    <g style=\"fill:#90c1c6;\" transform=\"translate(7.2 35.361536)scale(0.12 -0.12)\">\n     <use xlink:href=\"#DejaVuSans-Bold-97\"/>\n     <use x=\"67.480469\" xlink:href=\"#DejaVuSans-Bold-108\"/>\n     <use x=\"101.757812\" xlink:href=\"#DejaVuSans-Bold-108\"/>\n    </g>\n   </g>\n  </g>\n  <g id=\"axes_2\">\n   <g id=\"patch_3\">\n    <path d=\"M 7.2 61.56 \nL 425.7 61.56 \nL 425.7 30.497143 \nL 7.2 30.497143 \nz\n\" style=\"fill:none;\"/>\n   </g>\n   <g id=\"matplotlib.axis_3\">\n    <g id=\"xtick_8\">\n     <g id=\"text_2\">\n      <!-- −0.50 -->\n      <defs>\n       <path d=\"M 10.59375 35.5 \nL 73.1875 35.5 \nL 73.1875 27.203125 \nL 10.59375 27.203125 \nz\n\" id=\"DejaVuSans-8722\"/>\n       <path d=\"M 31.78125 66.40625 \nQ 24.171875 66.40625 20.328125 58.90625 \nQ 16.5 51.421875 16.5 36.375 \nQ 16.5 21.390625 20.328125 13.890625 \nQ 24.171875 6.390625 31.78125 6.390625 \nQ 39.453125 6.390625 43.28125 13.890625 \nQ 47.125 21.390625 47.125 36.375 \nQ 47.125 51.421875 43.28125 58.90625 \nQ 39.453125 66.40625 31.78125 66.40625 \nz\nM 31.78125 74.21875 \nQ 44.046875 74.21875 50.515625 64.515625 \nQ 56.984375 54.828125 56.984375 36.375 \nQ 56.984375 17.96875 50.515625 8.265625 \nQ 44.046875 -1.421875 31.78125 -1.421875 \nQ 19.53125 -1.421875 13.0625 8.265625 \nQ 6.59375 17.96875 6.59375 36.375 \nQ 6.59375 54.828125 13.0625 64.515625 \nQ 19.53125 74.21875 31.78125 74.21875 \nz\n\" id=\"DejaVuSans-48\"/>\n       <path d=\"M 10.6875 12.40625 \nL 21 12.40625 \nL 21 0 \nL 10.6875 0 \nz\n\" id=\"DejaVuSans-46\"/>\n       <path d=\"M 10.796875 72.90625 \nL 49.515625 72.90625 \nL 49.515625 64.59375 \nL 19.828125 64.59375 \nL 19.828125 46.734375 \nQ 21.96875 47.46875 24.109375 47.828125 \nQ 26.265625 48.1875 28.421875 48.1875 \nQ 40.625 48.1875 47.75 41.5 \nQ 54.890625 34.8125 54.890625 23.390625 \nQ 54.890625 11.625 47.5625 5.09375 \nQ 40.234375 -1.421875 26.90625 -1.421875 \nQ 22.3125 -1.421875 17.546875 -0.640625 \nQ 12.796875 0.140625 7.71875 1.703125 \nL 7.71875 11.625 \nQ 12.109375 9.234375 16.796875 8.0625 \nQ 21.484375 6.890625 26.703125 6.890625 \nQ 35.15625 6.890625 40.078125 11.328125 \nQ 45.015625 15.765625 45.015625 23.390625 \nQ 45.015625 31 40.078125 35.4375 \nQ 35.15625 39.890625 26.703125 39.890625 \nQ 22.75 39.890625 18.8125 39.015625 \nQ 14.890625 38.140625 10.796875 36.28125 \nz\n\" id=\"DejaVuSans-53\"/>\n      </defs>\n      <g style=\"fill:#262626;\" transform=\"translate(32.13228 79.418281)scale(0.11 -0.11)\">\n       <use xlink:href=\"#DejaVuSans-8722\"/>\n       <use x=\"83.789062\" xlink:href=\"#DejaVuSans-48\"/>\n       <use x=\"147.412109\" xlink:href=\"#DejaVuSans-46\"/>\n       <use x=\"179.199219\" xlink:href=\"#DejaVuSans-53\"/>\n       <use x=\"242.822266\" xlink:href=\"#DejaVuSans-48\"/>\n      </g>\n     </g>\n    </g>\n    <g id=\"xtick_9\">\n     <g id=\"text_3\">\n      <!-- −0.25 -->\n      <defs>\n       <path d=\"M 19.1875 8.296875 \nL 53.609375 8.296875 \nL 53.609375 0 \nL 7.328125 0 \nL 7.328125 8.296875 \nQ 12.9375 14.109375 22.625 23.890625 \nQ 32.328125 33.6875 34.8125 36.53125 \nQ 39.546875 41.84375 41.421875 45.53125 \nQ 43.3125 49.21875 43.3125 52.78125 \nQ 43.3125 58.59375 39.234375 62.25 \nQ 35.15625 65.921875 28.609375 65.921875 \nQ 23.96875 65.921875 18.8125 64.3125 \nQ 13.671875 62.703125 7.8125 59.421875 \nL 7.8125 69.390625 \nQ 13.765625 71.78125 18.9375 73 \nQ 24.125 74.21875 28.421875 74.21875 \nQ 39.75 74.21875 46.484375 68.546875 \nQ 53.21875 62.890625 53.21875 53.421875 \nQ 53.21875 48.921875 51.53125 44.890625 \nQ 49.859375 40.875 45.40625 35.40625 \nQ 44.1875 33.984375 37.640625 27.21875 \nQ 31.109375 20.453125 19.1875 8.296875 \nz\n\" id=\"DejaVuSans-50\"/>\n      </defs>\n      <g style=\"fill:#262626;\" transform=\"translate(89.043465 79.418281)scale(0.11 -0.11)\">\n       <use xlink:href=\"#DejaVuSans-8722\"/>\n       <use x=\"83.789062\" xlink:href=\"#DejaVuSans-48\"/>\n       <use x=\"147.412109\" xlink:href=\"#DejaVuSans-46\"/>\n       <use x=\"179.199219\" xlink:href=\"#DejaVuSans-50\"/>\n       <use x=\"242.822266\" xlink:href=\"#DejaVuSans-53\"/>\n      </g>\n     </g>\n    </g>\n    <g id=\"xtick_10\">\n     <g id=\"text_4\">\n      <!-- 0.00 -->\n      <g style=\"fill:#262626;\" transform=\"translate(150.563479 79.418281)scale(0.11 -0.11)\">\n       <use xlink:href=\"#DejaVuSans-48\"/>\n       <use x=\"63.623047\" xlink:href=\"#DejaVuSans-46\"/>\n       <use x=\"95.410156\" xlink:href=\"#DejaVuSans-48\"/>\n       <use x=\"159.033203\" xlink:href=\"#DejaVuSans-48\"/>\n      </g>\n     </g>\n    </g>\n    <g id=\"xtick_11\">\n     <g id=\"text_5\">\n      <!-- 0.25 -->\n      <g style=\"fill:#262626;\" transform=\"translate(207.474664 79.418281)scale(0.11 -0.11)\">\n       <use xlink:href=\"#DejaVuSans-48\"/>\n       <use x=\"63.623047\" xlink:href=\"#DejaVuSans-46\"/>\n       <use x=\"95.410156\" xlink:href=\"#DejaVuSans-50\"/>\n       <use x=\"159.033203\" xlink:href=\"#DejaVuSans-53\"/>\n      </g>\n     </g>\n    </g>\n    <g id=\"xtick_12\">\n     <g id=\"text_6\">\n      <!-- 0.50 -->\n      <g style=\"fill:#262626;\" transform=\"translate(264.385849 79.418281)scale(0.11 -0.11)\">\n       <use xlink:href=\"#DejaVuSans-48\"/>\n       <use x=\"63.623047\" xlink:href=\"#DejaVuSans-46\"/>\n       <use x=\"95.410156\" xlink:href=\"#DejaVuSans-53\"/>\n       <use x=\"159.033203\" xlink:href=\"#DejaVuSans-48\"/>\n      </g>\n     </g>\n    </g>\n    <g id=\"xtick_13\">\n     <g id=\"text_7\">\n      <!-- 0.75 -->\n      <defs>\n       <path d=\"M 8.203125 72.90625 \nL 55.078125 72.90625 \nL 55.078125 68.703125 \nL 28.609375 0 \nL 18.3125 0 \nL 43.21875 64.59375 \nL 8.203125 64.59375 \nz\n\" id=\"DejaVuSans-55\"/>\n      </defs>\n      <g style=\"fill:#262626;\" transform=\"translate(321.297035 79.418281)scale(0.11 -0.11)\">\n       <use xlink:href=\"#DejaVuSans-48\"/>\n       <use x=\"63.623047\" xlink:href=\"#DejaVuSans-46\"/>\n       <use x=\"95.410156\" xlink:href=\"#DejaVuSans-55\"/>\n       <use x=\"159.033203\" xlink:href=\"#DejaVuSans-53\"/>\n      </g>\n     </g>\n    </g>\n    <g id=\"xtick_14\">\n     <g id=\"text_8\">\n      <!-- 1.00 -->\n      <defs>\n       <path d=\"M 12.40625 8.296875 \nL 28.515625 8.296875 \nL 28.515625 63.921875 \nL 10.984375 60.40625 \nL 10.984375 69.390625 \nL 28.421875 72.90625 \nL 38.28125 72.90625 \nL 38.28125 8.296875 \nL 54.390625 8.296875 \nL 54.390625 0 \nL 12.40625 0 \nz\n\" id=\"DejaVuSans-49\"/>\n      </defs>\n      <g style=\"fill:#262626;\" transform=\"translate(378.20822 79.418281)scale(0.11 -0.11)\">\n       <use xlink:href=\"#DejaVuSans-49\"/>\n       <use x=\"63.623047\" xlink:href=\"#DejaVuSans-46\"/>\n       <use x=\"95.410156\" xlink:href=\"#DejaVuSans-48\"/>\n       <use x=\"159.033203\" xlink:href=\"#DejaVuSans-48\"/>\n      </g>\n     </g>\n    </g>\n    <g id=\"text_9\">\n     <!-- Kernel density estimation -->\n     <defs>\n      <path d=\"M 9.8125 72.90625 \nL 19.671875 72.90625 \nL 19.671875 42.09375 \nL 52.390625 72.90625 \nL 65.09375 72.90625 \nL 28.90625 38.921875 \nL 67.671875 0 \nL 54.6875 0 \nL 19.671875 35.109375 \nL 19.671875 0 \nL 9.8125 0 \nz\n\" id=\"DejaVuSans-75\"/>\n      <path d=\"M 56.203125 29.59375 \nL 56.203125 25.203125 \nL 14.890625 25.203125 \nQ 15.484375 15.921875 20.484375 11.0625 \nQ 25.484375 6.203125 34.421875 6.203125 \nQ 39.59375 6.203125 44.453125 7.46875 \nQ 49.3125 8.734375 54.109375 11.28125 \nL 54.109375 2.78125 \nQ 49.265625 0.734375 44.1875 -0.34375 \nQ 39.109375 -1.421875 33.890625 -1.421875 \nQ 20.796875 -1.421875 13.15625 6.1875 \nQ 5.515625 13.8125 5.515625 26.8125 \nQ 5.515625 40.234375 12.765625 48.109375 \nQ 20.015625 56 32.328125 56 \nQ 43.359375 56 49.78125 48.890625 \nQ 56.203125 41.796875 56.203125 29.59375 \nz\nM 47.21875 32.234375 \nQ 47.125 39.59375 43.09375 43.984375 \nQ 39.0625 48.390625 32.421875 48.390625 \nQ 24.90625 48.390625 20.390625 44.140625 \nQ 15.875 39.890625 15.1875 32.171875 \nz\n\" id=\"DejaVuSans-101\"/>\n      <path d=\"M 41.109375 46.296875 \nQ 39.59375 47.171875 37.8125 47.578125 \nQ 36.03125 48 33.890625 48 \nQ 26.265625 48 22.1875 43.046875 \nQ 18.109375 38.09375 18.109375 28.8125 \nL 18.109375 0 \nL 9.078125 0 \nL 9.078125 54.6875 \nL 18.109375 54.6875 \nL 18.109375 46.1875 \nQ 20.953125 51.171875 25.484375 53.578125 \nQ 30.03125 56 36.53125 56 \nQ 37.453125 56 38.578125 55.875 \nQ 39.703125 55.765625 41.0625 55.515625 \nz\n\" id=\"DejaVuSans-114\"/>\n      <path d=\"M 54.890625 33.015625 \nL 54.890625 0 \nL 45.90625 0 \nL 45.90625 32.71875 \nQ 45.90625 40.484375 42.875 44.328125 \nQ 39.84375 48.1875 33.796875 48.1875 \nQ 26.515625 48.1875 22.3125 43.546875 \nQ 18.109375 38.921875 18.109375 30.90625 \nL 18.109375 0 \nL 9.078125 0 \nL 9.078125 54.6875 \nL 18.109375 54.6875 \nL 18.109375 46.1875 \nQ 21.34375 51.125 25.703125 53.5625 \nQ 30.078125 56 35.796875 56 \nQ 45.21875 56 50.046875 50.171875 \nQ 54.890625 44.34375 54.890625 33.015625 \nz\n\" id=\"DejaVuSans-110\"/>\n      <path d=\"M 9.421875 75.984375 \nL 18.40625 75.984375 \nL 18.40625 0 \nL 9.421875 0 \nz\n\" id=\"DejaVuSans-108\"/>\n      <path id=\"DejaVuSans-32\"/>\n      <path d=\"M 45.40625 46.390625 \nL 45.40625 75.984375 \nL 54.390625 75.984375 \nL 54.390625 0 \nL 45.40625 0 \nL 45.40625 8.203125 \nQ 42.578125 3.328125 38.25 0.953125 \nQ 33.9375 -1.421875 27.875 -1.421875 \nQ 17.96875 -1.421875 11.734375 6.484375 \nQ 5.515625 14.40625 5.515625 27.296875 \nQ 5.515625 40.1875 11.734375 48.09375 \nQ 17.96875 56 27.875 56 \nQ 33.9375 56 38.25 53.625 \nQ 42.578125 51.265625 45.40625 46.390625 \nz\nM 14.796875 27.296875 \nQ 14.796875 17.390625 18.875 11.75 \nQ 22.953125 6.109375 30.078125 6.109375 \nQ 37.203125 6.109375 41.296875 11.75 \nQ 45.40625 17.390625 45.40625 27.296875 \nQ 45.40625 37.203125 41.296875 42.84375 \nQ 37.203125 48.484375 30.078125 48.484375 \nQ 22.953125 48.484375 18.875 42.84375 \nQ 14.796875 37.203125 14.796875 27.296875 \nz\n\" id=\"DejaVuSans-100\"/>\n      <path d=\"M 44.28125 53.078125 \nL 44.28125 44.578125 \nQ 40.484375 46.53125 36.375 47.5 \nQ 32.28125 48.484375 27.875 48.484375 \nQ 21.1875 48.484375 17.84375 46.4375 \nQ 14.5 44.390625 14.5 40.28125 \nQ 14.5 37.15625 16.890625 35.375 \nQ 19.28125 33.59375 26.515625 31.984375 \nL 29.59375 31.296875 \nQ 39.15625 29.25 43.1875 25.515625 \nQ 47.21875 21.78125 47.21875 15.09375 \nQ 47.21875 7.46875 41.1875 3.015625 \nQ 35.15625 -1.421875 24.609375 -1.421875 \nQ 20.21875 -1.421875 15.453125 -0.5625 \nQ 10.6875 0.296875 5.421875 2 \nL 5.421875 11.28125 \nQ 10.40625 8.6875 15.234375 7.390625 \nQ 20.0625 6.109375 24.8125 6.109375 \nQ 31.15625 6.109375 34.5625 8.28125 \nQ 37.984375 10.453125 37.984375 14.40625 \nQ 37.984375 18.0625 35.515625 20.015625 \nQ 33.0625 21.96875 24.703125 23.78125 \nL 21.578125 24.515625 \nQ 13.234375 26.265625 9.515625 29.90625 \nQ 5.8125 33.546875 5.8125 39.890625 \nQ 5.8125 47.609375 11.28125 51.796875 \nQ 16.75 56 26.8125 56 \nQ 31.78125 56 36.171875 55.265625 \nQ 40.578125 54.546875 44.28125 53.078125 \nz\n\" id=\"DejaVuSans-115\"/>\n      <path d=\"M 9.421875 54.6875 \nL 18.40625 54.6875 \nL 18.40625 0 \nL 9.421875 0 \nz\nM 9.421875 75.984375 \nL 18.40625 75.984375 \nL 18.40625 64.59375 \nL 9.421875 64.59375 \nz\n\" id=\"DejaVuSans-105\"/>\n      <path d=\"M 18.3125 70.21875 \nL 18.3125 54.6875 \nL 36.8125 54.6875 \nL 36.8125 47.703125 \nL 18.3125 47.703125 \nL 18.3125 18.015625 \nQ 18.3125 11.328125 20.140625 9.421875 \nQ 21.96875 7.515625 27.59375 7.515625 \nL 36.8125 7.515625 \nL 36.8125 0 \nL 27.59375 0 \nQ 17.1875 0 13.234375 3.875 \nQ 9.28125 7.765625 9.28125 18.015625 \nL 9.28125 47.703125 \nL 2.6875 47.703125 \nL 2.6875 54.6875 \nL 9.28125 54.6875 \nL 9.28125 70.21875 \nz\n\" id=\"DejaVuSans-116\"/>\n      <path d=\"M 32.171875 -5.078125 \nQ 28.375 -14.84375 24.75 -17.8125 \nQ 21.140625 -20.796875 15.09375 -20.796875 \nL 7.90625 -20.796875 \nL 7.90625 -13.28125 \nL 13.1875 -13.28125 \nQ 16.890625 -13.28125 18.9375 -11.515625 \nQ 21 -9.765625 23.484375 -3.21875 \nL 25.09375 0.875 \nL 2.984375 54.6875 \nL 12.5 54.6875 \nL 29.59375 11.921875 \nL 46.6875 54.6875 \nL 56.203125 54.6875 \nz\n\" id=\"DejaVuSans-121\"/>\n      <path d=\"M 52 44.1875 \nQ 55.375 50.25 60.0625 53.125 \nQ 64.75 56 71.09375 56 \nQ 79.640625 56 84.28125 50.015625 \nQ 88.921875 44.046875 88.921875 33.015625 \nL 88.921875 0 \nL 79.890625 0 \nL 79.890625 32.71875 \nQ 79.890625 40.578125 77.09375 44.375 \nQ 74.3125 48.1875 68.609375 48.1875 \nQ 61.625 48.1875 57.5625 43.546875 \nQ 53.515625 38.921875 53.515625 30.90625 \nL 53.515625 0 \nL 44.484375 0 \nL 44.484375 32.71875 \nQ 44.484375 40.625 41.703125 44.40625 \nQ 38.921875 48.1875 33.109375 48.1875 \nQ 26.21875 48.1875 22.15625 43.53125 \nQ 18.109375 38.875 18.109375 30.90625 \nL 18.109375 0 \nL 9.078125 0 \nL 9.078125 54.6875 \nL 18.109375 54.6875 \nL 18.109375 46.1875 \nQ 21.1875 51.21875 25.484375 53.609375 \nQ 29.78125 56 35.6875 56 \nQ 41.65625 56 45.828125 52.96875 \nQ 50 49.953125 52 44.1875 \nz\n\" id=\"DejaVuSans-109\"/>\n      <path d=\"M 34.28125 27.484375 \nQ 23.390625 27.484375 19.1875 25 \nQ 14.984375 22.515625 14.984375 16.5 \nQ 14.984375 11.71875 18.140625 8.90625 \nQ 21.296875 6.109375 26.703125 6.109375 \nQ 34.1875 6.109375 38.703125 11.40625 \nQ 43.21875 16.703125 43.21875 25.484375 \nL 43.21875 27.484375 \nz\nM 52.203125 31.203125 \nL 52.203125 0 \nL 43.21875 0 \nL 43.21875 8.296875 \nQ 40.140625 3.328125 35.546875 0.953125 \nQ 30.953125 -1.421875 24.3125 -1.421875 \nQ 15.921875 -1.421875 10.953125 3.296875 \nQ 6 8.015625 6 15.921875 \nQ 6 25.140625 12.171875 29.828125 \nQ 18.359375 34.515625 30.609375 34.515625 \nL 43.21875 34.515625 \nL 43.21875 35.40625 \nQ 43.21875 41.609375 39.140625 45 \nQ 35.0625 48.390625 27.6875 48.390625 \nQ 23 48.390625 18.546875 47.265625 \nQ 14.109375 46.140625 10.015625 43.890625 \nL 10.015625 52.203125 \nQ 14.9375 54.109375 19.578125 55.046875 \nQ 24.21875 56 28.609375 56 \nQ 40.484375 56 46.34375 49.84375 \nQ 52.203125 43.703125 52.203125 31.203125 \nz\n\" id=\"DejaVuSans-97\"/>\n      <path d=\"M 30.609375 48.390625 \nQ 23.390625 48.390625 19.1875 42.75 \nQ 14.984375 37.109375 14.984375 27.296875 \nQ 14.984375 17.484375 19.15625 11.84375 \nQ 23.34375 6.203125 30.609375 6.203125 \nQ 37.796875 6.203125 41.984375 11.859375 \nQ 46.1875 17.53125 46.1875 27.296875 \nQ 46.1875 37.015625 41.984375 42.703125 \nQ 37.796875 48.390625 30.609375 48.390625 \nz\nM 30.609375 56 \nQ 42.328125 56 49.015625 48.375 \nQ 55.71875 40.765625 55.71875 27.296875 \nQ 55.71875 13.875 49.015625 6.21875 \nQ 42.328125 -1.421875 30.609375 -1.421875 \nQ 18.84375 -1.421875 12.171875 6.21875 \nQ 5.515625 13.875 5.515625 27.296875 \nQ 5.515625 40.765625 12.171875 48.375 \nQ 18.84375 56 30.609375 56 \nz\n\" id=\"DejaVuSans-111\"/>\n     </defs>\n     <g style=\"fill:#262626;\" transform=\"translate(139.5375 94.824062)scale(0.12 -0.12)\">\n      <use xlink:href=\"#DejaVuSans-75\"/>\n      <use x=\"65.498047\" xlink:href=\"#DejaVuSans-101\"/>\n      <use x=\"127.021484\" xlink:href=\"#DejaVuSans-114\"/>\n      <use x=\"168.119141\" xlink:href=\"#DejaVuSans-110\"/>\n      <use x=\"231.498047\" xlink:href=\"#DejaVuSans-101\"/>\n      <use x=\"293.021484\" xlink:href=\"#DejaVuSans-108\"/>\n      <use x=\"320.804688\" xlink:href=\"#DejaVuSans-32\"/>\n      <use x=\"352.591797\" xlink:href=\"#DejaVuSans-100\"/>\n      <use x=\"416.068359\" xlink:href=\"#DejaVuSans-101\"/>\n      <use x=\"477.591797\" xlink:href=\"#DejaVuSans-110\"/>\n      <use x=\"540.970703\" xlink:href=\"#DejaVuSans-115\"/>\n      <use x=\"593.070312\" xlink:href=\"#DejaVuSans-105\"/>\n      <use x=\"620.853516\" xlink:href=\"#DejaVuSans-116\"/>\n      <use x=\"660.0625\" xlink:href=\"#DejaVuSans-121\"/>\n      <use x=\"719.242188\" xlink:href=\"#DejaVuSans-32\"/>\n      <use x=\"751.029297\" xlink:href=\"#DejaVuSans-101\"/>\n      <use x=\"812.552734\" xlink:href=\"#DejaVuSans-115\"/>\n      <use x=\"864.652344\" xlink:href=\"#DejaVuSans-116\"/>\n      <use x=\"903.861328\" xlink:href=\"#DejaVuSans-105\"/>\n      <use x=\"931.644531\" xlink:href=\"#DejaVuSans-109\"/>\n      <use x=\"1029.056641\" xlink:href=\"#DejaVuSans-97\"/>\n      <use x=\"1090.335938\" xlink:href=\"#DejaVuSans-116\"/>\n      <use x=\"1129.544922\" xlink:href=\"#DejaVuSans-105\"/>\n      <use x=\"1157.328125\" xlink:href=\"#DejaVuSans-111\"/>\n      <use x=\"1218.509766\" xlink:href=\"#DejaVuSans-110\"/>\n     </g>\n    </g>\n   </g>\n   <g id=\"matplotlib.axis_4\"/>\n   <g id=\"PolyCollection_2\">\n    <defs>\n     <path d=\"M 26.222727 -43.086167 \nL 26.222727 -42.959687 \nL 29.218432 -42.959687 \nL 32.214137 -42.959687 \nL 35.209843 -42.959687 \nL 38.205548 -42.959687 \nL 41.201253 -42.959687 \nL 44.196958 -42.959687 \nL 47.192663 -42.959687 \nL 50.188368 -42.959687 \nL 53.184073 -42.959687 \nL 56.179778 -42.959687 \nL 59.175483 -42.959687 \nL 62.171188 -42.959687 \nL 65.166893 -42.959687 \nL 68.162598 -42.959687 \nL 71.158304 -42.959687 \nL 74.154009 -42.959687 \nL 77.149714 -42.959687 \nL 80.145419 -42.959687 \nL 83.141124 -42.959687 \nL 86.136829 -42.959687 \nL 89.132534 -42.959687 \nL 92.128239 -42.959687 \nL 95.123944 -42.959687 \nL 98.119649 -42.959687 \nL 101.115354 -42.959687 \nL 104.111059 -42.959687 \nL 107.106764 -42.959687 \nL 110.10247 -42.959687 \nL 113.098175 -42.959687 \nL 116.09388 -42.959687 \nL 119.089585 -42.959687 \nL 122.08529 -42.959687 \nL 125.080995 -42.959687 \nL 128.0767 -42.959687 \nL 131.072405 -42.959687 \nL 134.06811 -42.959687 \nL 137.063815 -42.959687 \nL 140.05952 -42.959687 \nL 143.055225 -42.959687 \nL 146.050931 -42.959687 \nL 149.046636 -42.959687 \nL 152.042341 -42.959687 \nL 155.038046 -42.959687 \nL 158.033751 -42.959687 \nL 161.029456 -42.959687 \nL 164.025161 -42.959687 \nL 167.020866 -42.959687 \nL 170.016571 -42.959687 \nL 173.012276 -42.959687 \nL 176.007981 -42.959687 \nL 179.003686 -42.959687 \nL 181.999392 -42.959687 \nL 184.995097 -42.959687 \nL 187.990802 -42.959687 \nL 190.986507 -42.959687 \nL 193.982212 -42.959687 \nL 196.977917 -42.959687 \nL 199.973622 -42.959687 \nL 202.969327 -42.959687 \nL 205.965032 -42.959687 \nL 208.960737 -42.959687 \nL 211.956442 -42.959687 \nL 214.952147 -42.959687 \nL 217.947853 -42.959687 \nL 220.943558 -42.959687 \nL 223.939263 -42.959687 \nL 226.934968 -42.959687 \nL 229.930673 -42.959687 \nL 232.926378 -42.959687 \nL 235.922083 -42.959687 \nL 238.917788 -42.959687 \nL 241.913493 -42.959687 \nL 244.909198 -42.959687 \nL 247.904903 -42.959687 \nL 250.900608 -42.959687 \nL 253.896314 -42.959687 \nL 256.892019 -42.959687 \nL 259.887724 -42.959687 \nL 262.883429 -42.959687 \nL 265.879134 -42.959687 \nL 268.874839 -42.959687 \nL 271.870544 -42.959687 \nL 274.866249 -42.959687 \nL 277.861954 -42.959687 \nL 280.857659 -42.959687 \nL 283.853364 -42.959687 \nL 286.849069 -42.959687 \nL 289.844775 -42.959687 \nL 292.84048 -42.959687 \nL 295.836185 -42.959687 \nL 298.83189 -42.959687 \nL 301.827595 -42.959687 \nL 304.8233 -42.959687 \nL 307.819005 -42.959687 \nL 310.81471 -42.959687 \nL 313.810415 -42.959687 \nL 316.80612 -42.959687 \nL 319.801825 -42.959687 \nL 322.79753 -42.959687 \nL 325.793236 -42.959687 \nL 328.788941 -42.959687 \nL 331.784646 -42.959687 \nL 334.780351 -42.959687 \nL 337.776056 -42.959687 \nL 340.771761 -42.959687 \nL 343.767466 -42.959687 \nL 346.763171 -42.959687 \nL 349.758876 -42.959687 \nL 352.754581 -42.959687 \nL 355.750286 -42.959687 \nL 358.745991 -42.959687 \nL 361.741696 -42.959687 \nL 364.737402 -42.959687 \nL 367.733107 -42.959687 \nL 370.728812 -42.959687 \nL 373.724517 -42.959687 \nL 376.720222 -42.959687 \nL 379.715927 -42.959687 \nL 382.711632 -42.959687 \nL 385.707337 -42.959687 \nL 388.703042 -42.959687 \nL 391.698747 -42.959687 \nL 394.694452 -42.959687 \nL 397.690157 -42.959687 \nL 400.685863 -42.959687 \nL 403.681568 -42.959687 \nL 406.677273 -42.959687 \nL 406.677273 -43.065757 \nL 406.677273 -43.065757 \nL 403.681568 -43.049687 \nL 400.685863 -43.037396 \nL 397.690157 -43.028419 \nL 394.694452 -43.022379 \nL 391.698747 -43.01898 \nL 388.703042 -43.018 \nL 385.707337 -43.019284 \nL 382.711632 -43.02274 \nL 379.715927 -43.028333 \nL 376.720222 -43.036082 \nL 373.724517 -43.046058 \nL 370.728812 -43.058378 \nL 367.733107 -43.073211 \nL 364.737402 -43.090771 \nL 361.741696 -43.111321 \nL 358.745991 -43.135175 \nL 355.750286 -43.162697 \nL 352.754581 -43.19431 \nL 349.758876 -43.230494 \nL 346.763171 -43.271796 \nL 343.767466 -43.318831 \nL 340.771761 -43.372294 \nL 337.776056 -43.432959 \nL 334.780351 -43.501695 \nL 331.784646 -43.579464 \nL 328.788941 -43.667336 \nL 325.793236 -43.766492 \nL 322.79753 -43.878229 \nL 319.801825 -44.003967 \nL 316.80612 -44.145251 \nL 313.810415 -44.303753 \nL 310.81471 -44.481268 \nL 307.819005 -44.679711 \nL 304.8233 -44.901108 \nL 301.827595 -45.147582 \nL 298.83189 -45.421335 \nL 295.836185 -45.724628 \nL 292.84048 -46.059747 \nL 289.844775 -46.428974 \nL 286.849069 -46.834541 \nL 283.853364 -47.278589 \nL 280.857659 -47.763115 \nL 277.861954 -48.289912 \nL 274.866249 -48.860515 \nL 271.870544 -49.476133 \nL 268.874839 -50.137583 \nL 265.879134 -50.845227 \nL 262.883429 -51.598908 \nL 259.887724 -52.397886 \nL 256.892019 -53.240783 \nL 253.896314 -54.125535 \nL 250.900608 -55.049349 \nL 247.904903 -56.008678 \nL 244.909198 -56.999205 \nL 241.913493 -58.015838 \nL 238.917788 -59.052728 \nL 235.922083 -60.103301 \nL 232.926378 -61.160308 \nL 229.930673 -62.215887 \nL 226.934968 -63.261656 \nL 223.939263 -64.288807 \nL 220.943558 -65.288224 \nL 217.947853 -66.250617 \nL 214.952147 -67.166655 \nL 211.956442 -68.027117 \nL 208.960737 -68.823046 \nL 205.965032 -69.5459 \nL 202.969327 -70.187707 \nL 199.973622 -70.741206 \nL 196.977917 -71.199984 \nL 193.982212 -71.5586 \nL 190.986507 -71.812687 \nL 187.990802 -71.95904 \nL 184.995097 -71.995682 \nL 181.999392 -71.9219 \nL 179.003686 -71.738267 \nL 176.007981 -71.446631 \nL 173.012276 -71.050081 \nL 170.016571 -70.552889 \nL 167.020866 -69.960433 \nL 164.025161 -69.279096 \nL 161.029456 -68.516145 \nL 158.033751 -67.679606 \nL 155.038046 -66.778112 \nL 152.042341 -65.820759 \nL 149.046636 -64.816947 \nL 146.050931 -63.776227 \nL 143.055225 -62.70815 \nL 140.05952 -61.622121 \nL 137.063815 -60.527261 \nL 134.06811 -59.432292 \nL 131.072405 -58.345419 \nL 128.0767 -57.274245 \nL 125.080995 -56.22569 \nL 122.08529 -55.205939 \nL 119.089585 -54.220397 \nL 116.09388 -53.27367 \nL 113.098175 -52.369558 \nL 110.10247 -51.511067 \nL 107.106764 -50.70043 \nL 104.111059 -49.939142 \nL 101.115354 -49.228012 \nL 98.119649 -48.567212 \nL 95.123944 -47.956342 \nL 92.128239 -47.394494 \nL 89.132534 -46.880319 \nL 86.136829 -46.412096 \nL 83.141124 -45.987801 \nL 80.145419 -45.605173 \nL 77.149714 -45.261774 \nL 74.154009 -44.955046 \nL 71.158304 -44.682366 \nL 68.162598 -44.441095 \nL 65.166893 -44.228612 \nL 62.171188 -44.042355 \nL 59.175483 -43.879851 \nL 56.179778 -43.738735 \nL 53.184073 -43.61677 \nL 50.188368 -43.511865 \nL 47.192663 -43.422076 \nL 44.196958 -43.345617 \nL 41.201253 -43.280857 \nL 38.205548 -43.226323 \nL 35.209843 -43.180693 \nL 32.214137 -43.142792 \nL 29.218432 -43.111585 \nL 26.222727 -43.086167 \nz\n\" id=\"m275c76ceda\" style=\"stroke:#ffffff;\"/>\n    </defs>\n    <g>\n     <use style=\"fill:#7eb1bc;stroke:#ffffff;\" x=\"0\" xlink:href=\"#m275c76ceda\" y=\"104.519687\"/>\n    </g>\n   </g>\n   <g id=\"line2d_4\">\n    <path d=\"M 26.222727 61.433521 \nL 44.196958 61.174071 \nL 56.179778 60.780953 \nL 65.166893 60.291076 \nL 74.154009 59.564642 \nL 80.145419 58.914514 \nL 86.136829 58.107592 \nL 92.128239 57.125193 \nL 98.119649 55.952476 \nL 104.111059 54.580546 \nL 110.10247 53.00862 \nL 116.09388 51.246018 \nL 125.080995 48.293998 \nL 137.063815 43.992426 \nL 149.046636 39.702741 \nL 155.038046 37.741575 \nL 161.029456 36.003542 \nL 167.020866 34.559255 \nL 173.012276 33.469607 \nL 179.003686 32.78142 \nL 184.995097 32.524006 \nL 190.986507 32.707 \nL 196.977917 33.319703 \nL 202.969327 34.33198 \nL 208.960737 35.696642 \nL 214.952147 37.353033 \nL 220.943558 39.231463 \nL 229.930673 42.3038 \nL 244.909198 47.520483 \nL 253.896314 50.394153 \nL 259.887724 52.121801 \nL 265.879134 53.67446 \nL 271.870544 55.043555 \nL 277.861954 56.229775 \nL 283.853364 57.241098 \nL 289.844775 58.090714 \nL 298.83189 59.098352 \nL 307.819005 59.839976 \nL 316.80612 60.374436 \nL 328.788941 60.852352 \nL 343.767466 61.200856 \nL 364.737402 61.428916 \nL 394.694452 61.497308 \nL 406.677273 61.453931 \nL 406.677273 61.453931 \n\" style=\"fill:none;stroke:#7eb1bc;stroke-linecap:round;stroke-width:1.5;\"/>\n   </g>\n   <g id=\"line2d_5\">\n    <path d=\"M 26.222727 61.433521 \nL 44.196958 61.174071 \nL 56.179778 60.780953 \nL 65.166893 60.291076 \nL 74.154009 59.564642 \nL 80.145419 58.914514 \nL 86.136829 58.107592 \nL 92.128239 57.125193 \nL 98.119649 55.952476 \nL 104.111059 54.580546 \nL 110.10247 53.00862 \nL 116.09388 51.246018 \nL 125.080995 48.293998 \nL 137.063815 43.992426 \nL 149.046636 39.702741 \nL 155.038046 37.741575 \nL 161.029456 36.003542 \nL 167.020866 34.559255 \nL 173.012276 33.469607 \nL 179.003686 32.78142 \nL 184.995097 32.524006 \nL 190.986507 32.707 \nL 196.977917 33.319703 \nL 202.969327 34.33198 \nL 208.960737 35.696642 \nL 214.952147 37.353033 \nL 220.943558 39.231463 \nL 229.930673 42.3038 \nL 244.909198 47.520483 \nL 253.896314 50.394153 \nL 259.887724 52.121801 \nL 265.879134 53.67446 \nL 271.870544 55.043555 \nL 277.861954 56.229775 \nL 283.853364 57.241098 \nL 289.844775 58.090714 \nL 298.83189 59.098352 \nL 307.819005 59.839976 \nL 316.80612 60.374436 \nL 328.788941 60.852352 \nL 343.767466 61.200856 \nL 364.737402 61.428916 \nL 394.694452 61.497308 \nL 406.677273 61.453931 \nL 406.677273 61.453931 \n\" style=\"fill:none;stroke:#ffffff;stroke-linecap:round;stroke-width:2;\"/>\n   </g>\n   <g id=\"line2d_6\">\n    <path clip-path=\"url(#p671c180aa8)\" d=\"M 7.2 61.56 \nL 425.7 61.56 \n\" style=\"fill:none;stroke:#7eb1bc;stroke-linecap:round;stroke-width:2;\"/>\n   </g>\n   <g id=\"text_10\">\n    <!-- cochange -->\n    <defs>\n     <path d=\"M 52.59375 52.984375 \nL 52.59375 38.71875 \nQ 49.03125 41.15625 45.4375 42.328125 \nQ 41.84375 43.5 37.984375 43.5 \nQ 30.671875 43.5 26.59375 39.234375 \nQ 22.515625 34.96875 22.515625 27.296875 \nQ 22.515625 19.625 26.59375 15.34375 \nQ 30.671875 11.078125 37.984375 11.078125 \nQ 42.09375 11.078125 45.78125 12.296875 \nQ 49.46875 13.53125 52.59375 15.921875 \nL 52.59375 1.609375 \nQ 48.484375 0.09375 44.265625 -0.65625 \nQ 40.046875 -1.421875 35.796875 -1.421875 \nQ 21 -1.421875 12.640625 6.171875 \nQ 4.296875 13.765625 4.296875 27.296875 \nQ 4.296875 40.828125 12.640625 48.40625 \nQ 21 56 35.796875 56 \nQ 40.09375 56 44.265625 55.25 \nQ 48.4375 54.5 52.59375 52.984375 \nz\n\" id=\"DejaVuSans-Bold-99\"/>\n     <path d=\"M 34.421875 43.5 \nQ 28.609375 43.5 25.5625 39.328125 \nQ 22.515625 35.15625 22.515625 27.296875 \nQ 22.515625 19.4375 25.5625 15.25 \nQ 28.609375 11.078125 34.421875 11.078125 \nQ 40.140625 11.078125 43.15625 15.25 \nQ 46.1875 19.4375 46.1875 27.296875 \nQ 46.1875 35.15625 43.15625 39.328125 \nQ 40.140625 43.5 34.421875 43.5 \nz\nM 34.421875 56 \nQ 48.53125 56 56.46875 48.375 \nQ 64.40625 40.765625 64.40625 27.296875 \nQ 64.40625 13.8125 56.46875 6.1875 \nQ 48.53125 -1.421875 34.421875 -1.421875 \nQ 20.265625 -1.421875 12.28125 6.1875 \nQ 4.296875 13.8125 4.296875 27.296875 \nQ 4.296875 40.765625 12.28125 48.375 \nQ 20.265625 56 34.421875 56 \nz\n\" id=\"DejaVuSans-Bold-111\"/>\n     <path d=\"M 63.375 33.296875 \nL 63.375 0 \nL 45.796875 0 \nL 45.796875 5.421875 \nL 45.796875 25.390625 \nQ 45.796875 32.5625 45.484375 35.25 \nQ 45.171875 37.9375 44.390625 39.203125 \nQ 43.359375 40.921875 41.59375 41.875 \nQ 39.84375 42.828125 37.59375 42.828125 \nQ 32.125 42.828125 29 38.59375 \nQ 25.875 34.375 25.875 26.90625 \nL 25.875 0 \nL 8.40625 0 \nL 8.40625 75.984375 \nL 25.875 75.984375 \nL 25.875 46.6875 \nQ 29.828125 51.46875 34.265625 53.734375 \nQ 38.71875 56 44.09375 56 \nQ 53.5625 56 58.46875 50.1875 \nQ 63.375 44.390625 63.375 33.296875 \nz\n\" id=\"DejaVuSans-Bold-104\"/>\n     <path d=\"M 63.375 33.296875 \nL 63.375 0 \nL 45.796875 0 \nL 45.796875 5.421875 \nL 45.796875 25.484375 \nQ 45.796875 32.5625 45.484375 35.25 \nQ 45.171875 37.9375 44.390625 39.203125 \nQ 43.359375 40.921875 41.59375 41.875 \nQ 39.84375 42.828125 37.59375 42.828125 \nQ 32.125 42.828125 29 38.59375 \nQ 25.875 34.375 25.875 26.90625 \nL 25.875 0 \nL 8.40625 0 \nL 8.40625 54.6875 \nL 25.875 54.6875 \nL 25.875 46.6875 \nQ 29.828125 51.46875 34.265625 53.734375 \nQ 38.71875 56 44.09375 56 \nQ 53.5625 56 58.46875 50.1875 \nQ 63.375 44.390625 63.375 33.296875 \nz\n\" id=\"DejaVuSans-Bold-110\"/>\n     <path d=\"M 45.609375 9.28125 \nQ 42 4.5 37.640625 2.25 \nQ 33.296875 0 27.59375 0 \nQ 17.578125 0 11.03125 7.875 \nQ 4.5 15.765625 4.5 27.984375 \nQ 4.5 40.234375 11.03125 48.0625 \nQ 17.578125 55.90625 27.59375 55.90625 \nQ 33.296875 55.90625 37.640625 53.65625 \nQ 42 51.421875 45.609375 46.578125 \nL 45.609375 54.6875 \nL 63.1875 54.6875 \nL 63.1875 5.515625 \nQ 63.1875 -7.671875 54.859375 -14.625 \nQ 46.53125 -21.578125 30.71875 -21.578125 \nQ 25.59375 -21.578125 20.796875 -20.796875 \nQ 16.015625 -20.015625 11.1875 -18.40625 \nL 11.1875 -4.78125 \nQ 15.765625 -7.421875 20.15625 -8.71875 \nQ 24.5625 -10.015625 29 -10.015625 \nQ 37.59375 -10.015625 41.59375 -6.25 \nQ 45.609375 -2.484375 45.609375 5.515625 \nz\nM 34.078125 43.3125 \nQ 28.65625 43.3125 25.625 39.296875 \nQ 22.609375 35.296875 22.609375 27.984375 \nQ 22.609375 20.453125 25.53125 16.578125 \nQ 28.46875 12.703125 34.078125 12.703125 \nQ 39.546875 12.703125 42.578125 16.703125 \nQ 45.609375 20.703125 45.609375 27.984375 \nQ 45.609375 35.296875 42.578125 39.296875 \nQ 39.546875 43.3125 34.078125 43.3125 \nz\n\" id=\"DejaVuSans-Bold-103\"/>\n     <path d=\"M 62.984375 27.484375 \nL 62.984375 22.515625 \nL 22.125 22.515625 \nQ 22.75 16.359375 26.5625 13.28125 \nQ 30.375 10.203125 37.203125 10.203125 \nQ 42.71875 10.203125 48.5 11.84375 \nQ 54.296875 13.484375 60.40625 16.796875 \nL 60.40625 3.328125 \nQ 54.203125 0.984375 48 -0.21875 \nQ 41.796875 -1.421875 35.59375 -1.421875 \nQ 20.75 -1.421875 12.515625 6.125 \nQ 4.296875 13.671875 4.296875 27.296875 \nQ 4.296875 40.671875 12.375 48.328125 \nQ 20.453125 56 34.625 56 \nQ 47.515625 56 55.25 48.234375 \nQ 62.984375 40.484375 62.984375 27.484375 \nz\nM 45.015625 33.296875 \nQ 45.015625 38.28125 42.109375 41.328125 \nQ 39.203125 44.390625 34.515625 44.390625 \nQ 29.4375 44.390625 26.265625 41.53125 \nQ 23.09375 38.671875 22.3125 33.296875 \nz\n\" id=\"DejaVuSans-Bold-101\"/>\n    </defs>\n    <g style=\"fill:#7eb1bc;\" transform=\"translate(7.2 58.611804)scale(0.12 -0.12)\">\n     <use xlink:href=\"#DejaVuSans-Bold-99\"/>\n     <use x=\"59.277344\" xlink:href=\"#DejaVuSans-Bold-111\"/>\n     <use x=\"127.978516\" xlink:href=\"#DejaVuSans-Bold-99\"/>\n     <use x=\"187.255859\" xlink:href=\"#DejaVuSans-Bold-104\"/>\n     <use x=\"258.447266\" xlink:href=\"#DejaVuSans-Bold-97\"/>\n     <use x=\"325.927734\" xlink:href=\"#DejaVuSans-Bold-110\"/>\n     <use x=\"397.119141\" xlink:href=\"#DejaVuSans-Bold-103\"/>\n     <use x=\"468.701172\" xlink:href=\"#DejaVuSans-Bold-101\"/>\n    </g>\n   </g>\n  </g>\n </g>\n <defs>\n  <clipPath id=\"p4c389a8a51\">\n   <rect height=\"31.062857\" width=\"418.5\" x=\"7.2\" y=\"7.2\"/>\n  </clipPath>\n  <clipPath id=\"p671c180aa8\">\n   <rect height=\"31.062857\" width=\"418.5\" x=\"7.2\" y=\"30.497143\"/>\n  </clipPath>\n </defs>\n</svg>\n",
      "text/plain": "<Figure size 540x72 with 2 Axes>"
     },
     "metadata": {},
     "output_type": "display_data"
    }
   ],
   "source": [
    "sns.set(style=\"white\", rc={\"axes.facecolor\": (0, 0, 0, 0)})\n",
    "\n",
    "\n",
    "pal = sns.cubehelix_palette(10, rot=-.25, light=.7)\n",
    "g = sns.FacetGrid(bic_percent, row='commits', hue='commits', aspect=15, height=.5, palette=pal)\n",
    "\n",
    "g.map(sns.kdeplot, 'bic_percent', clip_on=False, shade=True, alpha=1, lw=1.5, bw=.2)\n",
    "g.map(sns.kdeplot, 'bic_percent', clip_on=False, color=\"w\", lw=2, bw=.2)\n",
    "g.map(plt.axhline, y=0, lw=2, clip_on=True)\n",
    "\n",
    "# Define and use a simple function to label the plot in axes coordinates\n",
    "def label(x, color, label):\n",
    "    ax = plt.gca()\n",
    "    ax.text(0, .2, label, fontweight=\"bold\", color=color,\n",
    "            ha=\"left\", va=\"center\", transform=ax.transAxes)\n",
    "\n",
    "\n",
    "g.map(label, 'bic_percent')\n",
    "\n",
    "# Set the subplots to overlap\n",
    "g.fig.subplots_adjust(hspace=-.25)\n",
    "\n",
    "# Remove axes details that don't play well with overlap\n",
    "g.set_titles(\"\")\n",
    "g.set(yticks=[])\n",
    "g.despine(bottom=True, left=True)\n",
    "\n",
    "plt.xlabel('Kernel density estimation')\n",
    "\n",
    "plt.tight_layout\n",
    "plt.show()\n",
    "\n",
    "# sns.violinplot(\n",
    "#     ax=ax,\n",
    "#     # data=bic_percent,\n",
    "#     x=bic_percent['commits'],\n",
    "#     y=bic_percent['bic_percent'],\n",
    "#     # hue=bic_percent['commits'],\n",
    "#     inner=\"quartile\",\n",
    "#     split=True,\n",
    "# )"
   ]
  },
  {
   "cell_type": "code",
   "execution_count": 36,
   "metadata": {},
   "outputs": [],
   "source": [
    "total_bic_count = total_bic_df['bic_count']\n",
    "total_bic_count.name = 'BIC count in all commits'\n",
    "\n",
    "cc_bic_count = cc_bic_df['bic_count']\n",
    "cc_bic_count.name = 'BIC count in commits with cocahnge dependency'\n",
    "\n",
    "bic_agg = pd.concat([total_bic_count, cc_bic_count], axis=1)"
   ]
  },
  {
   "cell_type": "code",
   "execution_count": 38,
   "metadata": {},
   "outputs": [
    {
     "data": {
      "text/plain": "<matplotlib.axes._subplots.AxesSubplot at 0x7fa149928c88>"
     },
     "execution_count": 38,
     "metadata": {},
     "output_type": "execute_result"
    },
    {
     "data": {
      "image/png": "[encoded data removed]",
      "image/svg+xml": "<?xml version=\"1.0\" encoding=\"utf-8\" standalone=\"no\"?>\n<!DOCTYPE svg PUBLIC \"-//W3C//DTD SVG 1.1//EN\"\n  \"http://www.w3.org/Graphics/SVG/1.1/DTD/svg11.dtd\">\n<!-- Created with matplotlib (https://matplotlib.org/) -->\n<svg height=\"490.933906pt\" version=\"1.1\" viewBox=\"0 0 1174.89375 490.933906\" width=\"1174.89375pt\" xmlns=\"http://www.w3.org/2000/svg\" xmlns:xlink=\"http://www.w3.org/1999/xlink\">\n <defs>\n  <style type=\"text/css\">\n*{stroke-linecap:butt;stroke-linejoin:round;}\n  </style>\n </defs>\n <g id=\"figure_1\">\n  <g id=\"patch_1\">\n   <path d=\"M 0 490.933906 \nL 1174.89375 490.933906 \nL 1174.89375 -0 \nL 0 -0 \nz\n\" style=\"fill:#ffffff;\"/>\n  </g>\n  <g id=\"axes_1\">\n   <g id=\"patch_2\">\n    <path d=\"M 51.69375 333.36 \nL 1167.69375 333.36 \nL 1167.69375 7.2 \nL 51.69375 7.2 \nz\n\" style=\"fill:#ffffff;\"/>\n   </g>\n   <g id=\"matplotlib.axis_1\">\n    <g id=\"xtick_1\">\n     <g id=\"text_1\">\n      <!-- accumulo -->\n      <defs>\n       <path d=\"M 34.28125 27.484375 \nQ 23.390625 27.484375 19.1875 25 \nQ 14.984375 22.515625 14.984375 16.5 \nQ 14.984375 11.71875 18.140625 8.90625 \nQ 21.296875 6.109375 26.703125 6.109375 \nQ 34.1875 6.109375 38.703125 11.40625 \nQ 43.21875 16.703125 43.21875 25.484375 \nL 43.21875 27.484375 \nz\nM 52.203125 31.203125 \nL 52.203125 0 \nL 43.21875 0 \nL 43.21875 8.296875 \nQ 40.140625 3.328125 35.546875 0.953125 \nQ 30.953125 -1.421875 24.3125 -1.421875 \nQ 15.921875 -1.421875 10.953125 3.296875 \nQ 6 8.015625 6 15.921875 \nQ 6 25.140625 12.171875 29.828125 \nQ 18.359375 34.515625 30.609375 34.515625 \nL 43.21875 34.515625 \nL 43.21875 35.40625 \nQ 43.21875 41.609375 39.140625 45 \nQ 35.0625 48.390625 27.6875 48.390625 \nQ 23 48.390625 18.546875 47.265625 \nQ 14.109375 46.140625 10.015625 43.890625 \nL 10.015625 52.203125 \nQ 14.9375 54.109375 19.578125 55.046875 \nQ 24.21875 56 28.609375 56 \nQ 40.484375 56 46.34375 49.84375 \nQ 52.203125 43.703125 52.203125 31.203125 \nz\n\" id=\"DejaVuSans-97\"/>\n       <path d=\"M 48.78125 52.59375 \nL 48.78125 44.1875 \nQ 44.96875 46.296875 41.140625 47.34375 \nQ 37.3125 48.390625 33.40625 48.390625 \nQ 24.65625 48.390625 19.8125 42.84375 \nQ 14.984375 37.3125 14.984375 27.296875 \nQ 14.984375 17.28125 19.8125 11.734375 \nQ 24.65625 6.203125 33.40625 6.203125 \nQ 37.3125 6.203125 41.140625 7.25 \nQ 44.96875 8.296875 48.78125 10.40625 \nL 48.78125 2.09375 \nQ 45.015625 0.34375 40.984375 -0.53125 \nQ 36.96875 -1.421875 32.421875 -1.421875 \nQ 20.0625 -1.421875 12.78125 6.34375 \nQ 5.515625 14.109375 5.515625 27.296875 \nQ 5.515625 40.671875 12.859375 48.328125 \nQ 20.21875 56 33.015625 56 \nQ 37.15625 56 41.109375 55.140625 \nQ 45.0625 54.296875 48.78125 52.59375 \nz\n\" id=\"DejaVuSans-99\"/>\n       <path d=\"M 8.5 21.578125 \nL 8.5 54.6875 \nL 17.484375 54.6875 \nL 17.484375 21.921875 \nQ 17.484375 14.15625 20.5 10.265625 \nQ 23.53125 6.390625 29.59375 6.390625 \nQ 36.859375 6.390625 41.078125 11.03125 \nQ 45.3125 15.671875 45.3125 23.6875 \nL 45.3125 54.6875 \nL 54.296875 54.6875 \nL 54.296875 0 \nL 45.3125 0 \nL 45.3125 8.40625 \nQ 42.046875 3.421875 37.71875 1 \nQ 33.40625 -1.421875 27.6875 -1.421875 \nQ 18.265625 -1.421875 13.375 4.4375 \nQ 8.5 10.296875 8.5 21.578125 \nz\nM 31.109375 56 \nz\n\" id=\"DejaVuSans-117\"/>\n       <path d=\"M 52 44.1875 \nQ 55.375 50.25 60.0625 53.125 \nQ 64.75 56 71.09375 56 \nQ 79.640625 56 84.28125 50.015625 \nQ 88.921875 44.046875 88.921875 33.015625 \nL 88.921875 0 \nL 79.890625 0 \nL 79.890625 32.71875 \nQ 79.890625 40.578125 77.09375 44.375 \nQ 74.3125 48.1875 68.609375 48.1875 \nQ 61.625 48.1875 57.5625 43.546875 \nQ 53.515625 38.921875 53.515625 30.90625 \nL 53.515625 0 \nL 44.484375 0 \nL 44.484375 32.71875 \nQ 44.484375 40.625 41.703125 44.40625 \nQ 38.921875 48.1875 33.109375 48.1875 \nQ 26.21875 48.1875 22.15625 43.53125 \nQ 18.109375 38.875 18.109375 30.90625 \nL 18.109375 0 \nL 9.078125 0 \nL 9.078125 54.6875 \nL 18.109375 54.6875 \nL 18.109375 46.1875 \nQ 21.1875 51.21875 25.484375 53.609375 \nQ 29.78125 56 35.6875 56 \nQ 41.65625 56 45.828125 52.96875 \nQ 50 49.953125 52 44.1875 \nz\n\" id=\"DejaVuSans-109\"/>\n       <path d=\"M 9.421875 75.984375 \nL 18.40625 75.984375 \nL 18.40625 0 \nL 9.421875 0 \nz\n\" id=\"DejaVuSans-108\"/>\n       <path d=\"M 30.609375 48.390625 \nQ 23.390625 48.390625 19.1875 42.75 \nQ 14.984375 37.109375 14.984375 27.296875 \nQ 14.984375 17.484375 19.15625 11.84375 \nQ 23.34375 6.203125 30.609375 6.203125 \nQ 37.796875 6.203125 41.984375 11.859375 \nQ 46.1875 17.53125 46.1875 27.296875 \nQ 46.1875 37.015625 41.984375 42.703125 \nQ 37.796875 48.390625 30.609375 48.390625 \nz\nM 30.609375 56 \nQ 42.328125 56 49.015625 48.375 \nQ 55.71875 40.765625 55.71875 27.296875 \nQ 55.71875 13.875 49.015625 6.21875 \nQ 42.328125 -1.421875 30.609375 -1.421875 \nQ 18.84375 -1.421875 12.171875 6.21875 \nQ 5.515625 13.875 5.515625 27.296875 \nQ 5.515625 40.765625 12.171875 48.375 \nQ 18.84375 56 30.609375 56 \nz\n\" id=\"DejaVuSans-111\"/>\n      </defs>\n      <g style=\"fill:#262626;\" transform=\"translate(69.810144 396.14125)rotate(-90)scale(0.11 -0.11)\">\n       <use xlink:href=\"#DejaVuSans-97\"/>\n       <use x=\"61.279297\" xlink:href=\"#DejaVuSans-99\"/>\n       <use x=\"116.259766\" xlink:href=\"#DejaVuSans-99\"/>\n       <use x=\"171.240234\" xlink:href=\"#DejaVuSans-117\"/>\n       <use x=\"234.619141\" xlink:href=\"#DejaVuSans-109\"/>\n       <use x=\"332.03125\" xlink:href=\"#DejaVuSans-117\"/>\n       <use x=\"395.410156\" xlink:href=\"#DejaVuSans-108\"/>\n       <use x=\"423.193359\" xlink:href=\"#DejaVuSans-111\"/>\n      </g>\n     </g>\n    </g>\n    <g id=\"xtick_2\">\n     <g id=\"text_2\">\n      <!-- activemq -->\n      <defs>\n       <path d=\"M 18.3125 70.21875 \nL 18.3125 54.6875 \nL 36.8125 54.6875 \nL 36.8125 47.703125 \nL 18.3125 47.703125 \nL 18.3125 18.015625 \nQ 18.3125 11.328125 20.140625 9.421875 \nQ 21.96875 7.515625 27.59375 7.515625 \nL 36.8125 7.515625 \nL 36.8125 0 \nL 27.59375 0 \nQ 17.1875 0 13.234375 3.875 \nQ 9.28125 7.765625 9.28125 18.015625 \nL 9.28125 47.703125 \nL 2.6875 47.703125 \nL 2.6875 54.6875 \nL 9.28125 54.6875 \nL 9.28125 70.21875 \nz\n\" id=\"DejaVuSans-116\"/>\n       <path d=\"M 9.421875 54.6875 \nL 18.40625 54.6875 \nL 18.40625 0 \nL 9.421875 0 \nz\nM 9.421875 75.984375 \nL 18.40625 75.984375 \nL 18.40625 64.59375 \nL 9.421875 64.59375 \nz\n\" id=\"DejaVuSans-105\"/>\n       <path d=\"M 2.984375 54.6875 \nL 12.5 54.6875 \nL 29.59375 8.796875 \nL 46.6875 54.6875 \nL 56.203125 54.6875 \nL 35.6875 0 \nL 23.484375 0 \nz\n\" id=\"DejaVuSans-118\"/>\n       <path d=\"M 56.203125 29.59375 \nL 56.203125 25.203125 \nL 14.890625 25.203125 \nQ 15.484375 15.921875 20.484375 11.0625 \nQ 25.484375 6.203125 34.421875 6.203125 \nQ 39.59375 6.203125 44.453125 7.46875 \nQ 49.3125 8.734375 54.109375 11.28125 \nL 54.109375 2.78125 \nQ 49.265625 0.734375 44.1875 -0.34375 \nQ 39.109375 -1.421875 33.890625 -1.421875 \nQ 20.796875 -1.421875 13.15625 6.1875 \nQ 5.515625 13.8125 5.515625 26.8125 \nQ 5.515625 40.234375 12.765625 48.109375 \nQ 20.015625 56 32.328125 56 \nQ 43.359375 56 49.78125 48.890625 \nQ 56.203125 41.796875 56.203125 29.59375 \nz\nM 47.21875 32.234375 \nQ 47.125 39.59375 43.09375 43.984375 \nQ 39.0625 48.390625 32.421875 48.390625 \nQ 24.90625 48.390625 20.390625 44.140625 \nQ 15.875 39.890625 15.1875 32.171875 \nz\n\" id=\"DejaVuSans-101\"/>\n       <path d=\"M 14.796875 27.296875 \nQ 14.796875 17.390625 18.875 11.75 \nQ 22.953125 6.109375 30.078125 6.109375 \nQ 37.203125 6.109375 41.296875 11.75 \nQ 45.40625 17.390625 45.40625 27.296875 \nQ 45.40625 37.203125 41.296875 42.84375 \nQ 37.203125 48.484375 30.078125 48.484375 \nQ 22.953125 48.484375 18.875 42.84375 \nQ 14.796875 37.203125 14.796875 27.296875 \nz\nM 45.40625 8.203125 \nQ 42.578125 3.328125 38.25 0.953125 \nQ 33.9375 -1.421875 27.875 -1.421875 \nQ 17.96875 -1.421875 11.734375 6.484375 \nQ 5.515625 14.40625 5.515625 27.296875 \nQ 5.515625 40.1875 11.734375 48.09375 \nQ 17.96875 56 27.875 56 \nQ 33.9375 56 38.25 53.625 \nQ 42.578125 51.265625 45.40625 46.390625 \nL 45.40625 54.6875 \nL 54.390625 54.6875 \nL 54.390625 -20.796875 \nL 45.40625 -20.796875 \nz\n\" id=\"DejaVuSans-113\"/>\n      </defs>\n      <g style=\"fill:#262626;\" transform=\"translate(99.972306 393.994531)rotate(-90)scale(0.11 -0.11)\">\n       <use xlink:href=\"#DejaVuSans-97\"/>\n       <use x=\"61.279297\" xlink:href=\"#DejaVuSans-99\"/>\n       <use x=\"116.259766\" xlink:href=\"#DejaVuSans-116\"/>\n       <use x=\"155.46875\" xlink:href=\"#DejaVuSans-105\"/>\n       <use x=\"183.251953\" xlink:href=\"#DejaVuSans-118\"/>\n       <use x=\"242.431641\" xlink:href=\"#DejaVuSans-101\"/>\n       <use x=\"303.955078\" xlink:href=\"#DejaVuSans-109\"/>\n       <use x=\"401.367188\" xlink:href=\"#DejaVuSans-113\"/>\n      </g>\n     </g>\n    </g>\n    <g id=\"xtick_3\">\n     <g id=\"text_3\">\n      <!-- ambari -->\n      <defs>\n       <path d=\"M 48.6875 27.296875 \nQ 48.6875 37.203125 44.609375 42.84375 \nQ 40.53125 48.484375 33.40625 48.484375 \nQ 26.265625 48.484375 22.1875 42.84375 \nQ 18.109375 37.203125 18.109375 27.296875 \nQ 18.109375 17.390625 22.1875 11.75 \nQ 26.265625 6.109375 33.40625 6.109375 \nQ 40.53125 6.109375 44.609375 11.75 \nQ 48.6875 17.390625 48.6875 27.296875 \nz\nM 18.109375 46.390625 \nQ 20.953125 51.265625 25.265625 53.625 \nQ 29.59375 56 35.59375 56 \nQ 45.5625 56 51.78125 48.09375 \nQ 58.015625 40.1875 58.015625 27.296875 \nQ 58.015625 14.40625 51.78125 6.484375 \nQ 45.5625 -1.421875 35.59375 -1.421875 \nQ 29.59375 -1.421875 25.265625 0.953125 \nQ 20.953125 3.328125 18.109375 8.203125 \nL 18.109375 0 \nL 9.078125 0 \nL 9.078125 75.984375 \nL 18.109375 75.984375 \nz\n\" id=\"DejaVuSans-98\"/>\n       <path d=\"M 41.109375 46.296875 \nQ 39.59375 47.171875 37.8125 47.578125 \nQ 36.03125 48 33.890625 48 \nQ 26.265625 48 22.1875 43.046875 \nQ 18.109375 38.09375 18.109375 28.8125 \nL 18.109375 0 \nL 9.078125 0 \nL 9.078125 54.6875 \nL 18.109375 54.6875 \nL 18.109375 46.1875 \nQ 20.953125 51.171875 25.484375 53.578125 \nQ 30.03125 56 36.53125 56 \nQ 37.453125 56 38.578125 55.875 \nQ 39.703125 55.765625 41.0625 55.515625 \nz\n\" id=\"DejaVuSans-114\"/>\n      </defs>\n      <g style=\"fill:#262626;\" transform=\"translate(130.134468 381.617812)rotate(-90)scale(0.11 -0.11)\">\n       <use xlink:href=\"#DejaVuSans-97\"/>\n       <use x=\"61.279297\" xlink:href=\"#DejaVuSans-109\"/>\n       <use x=\"158.691406\" xlink:href=\"#DejaVuSans-98\"/>\n       <use x=\"222.167969\" xlink:href=\"#DejaVuSans-97\"/>\n       <use x=\"283.447266\" xlink:href=\"#DejaVuSans-114\"/>\n       <use x=\"324.560547\" xlink:href=\"#DejaVuSans-105\"/>\n      </g>\n     </g>\n    </g>\n    <g id=\"xtick_4\">\n     <g id=\"text_4\">\n      <!-- avro -->\n      <g style=\"fill:#262626;\" transform=\"translate(160.29663 367.360781)rotate(-90)scale(0.11 -0.11)\">\n       <use xlink:href=\"#DejaVuSans-97\"/>\n       <use x=\"61.279297\" xlink:href=\"#DejaVuSans-118\"/>\n       <use x=\"120.458984\" xlink:href=\"#DejaVuSans-114\"/>\n       <use x=\"161.541016\" xlink:href=\"#DejaVuSans-111\"/>\n      </g>\n     </g>\n    </g>\n    <g id=\"xtick_5\">\n     <g id=\"text_5\">\n      <!-- beam -->\n      <g style=\"fill:#262626;\" transform=\"translate(190.458792 374.067344)rotate(-90)scale(0.11 -0.11)\">\n       <use xlink:href=\"#DejaVuSans-98\"/>\n       <use x=\"63.476562\" xlink:href=\"#DejaVuSans-101\"/>\n       <use x=\"125\" xlink:href=\"#DejaVuSans-97\"/>\n       <use x=\"186.279297\" xlink:href=\"#DejaVuSans-109\"/>\n      </g>\n     </g>\n    </g>\n    <g id=\"xtick_6\">\n     <g id=\"text_6\">\n      <!-- calcite -->\n      <g style=\"fill:#262626;\" transform=\"translate(220.620954 378.890156)rotate(-90)scale(0.11 -0.11)\">\n       <use xlink:href=\"#DejaVuSans-99\"/>\n       <use x=\"54.980469\" xlink:href=\"#DejaVuSans-97\"/>\n       <use x=\"116.259766\" xlink:href=\"#DejaVuSans-108\"/>\n       <use x=\"144.042969\" xlink:href=\"#DejaVuSans-99\"/>\n       <use x=\"199.023438\" xlink:href=\"#DejaVuSans-105\"/>\n       <use x=\"226.806641\" xlink:href=\"#DejaVuSans-116\"/>\n       <use x=\"266.015625\" xlink:href=\"#DejaVuSans-101\"/>\n      </g>\n     </g>\n    </g>\n    <g id=\"xtick_7\">\n     <g id=\"text_7\">\n      <!-- camel -->\n      <g style=\"fill:#262626;\" transform=\"translate(250.783117 376.188281)rotate(-90)scale(0.11 -0.11)\">\n       <use xlink:href=\"#DejaVuSans-99\"/>\n       <use x=\"54.980469\" xlink:href=\"#DejaVuSans-97\"/>\n       <use x=\"116.259766\" xlink:href=\"#DejaVuSans-109\"/>\n       <use x=\"213.671875\" xlink:href=\"#DejaVuSans-101\"/>\n       <use x=\"275.195312\" xlink:href=\"#DejaVuSans-108\"/>\n      </g>\n     </g>\n    </g>\n    <g id=\"xtick_8\">\n     <g id=\"text_8\">\n      <!-- cassandra -->\n      <defs>\n       <path d=\"M 44.28125 53.078125 \nL 44.28125 44.578125 \nQ 40.484375 46.53125 36.375 47.5 \nQ 32.28125 48.484375 27.875 48.484375 \nQ 21.1875 48.484375 17.84375 46.4375 \nQ 14.5 44.390625 14.5 40.28125 \nQ 14.5 37.15625 16.890625 35.375 \nQ 19.28125 33.59375 26.515625 31.984375 \nL 29.59375 31.296875 \nQ 39.15625 29.25 43.1875 25.515625 \nQ 47.21875 21.78125 47.21875 15.09375 \nQ 47.21875 7.46875 41.1875 3.015625 \nQ 35.15625 -1.421875 24.609375 -1.421875 \nQ 20.21875 -1.421875 15.453125 -0.5625 \nQ 10.6875 0.296875 5.421875 2 \nL 5.421875 11.28125 \nQ 10.40625 8.6875 15.234375 7.390625 \nQ 20.0625 6.109375 24.8125 6.109375 \nQ 31.15625 6.109375 34.5625 8.28125 \nQ 37.984375 10.453125 37.984375 14.40625 \nQ 37.984375 18.0625 35.515625 20.015625 \nQ 33.0625 21.96875 24.703125 23.78125 \nL 21.578125 24.515625 \nQ 13.234375 26.265625 9.515625 29.90625 \nQ 5.8125 33.546875 5.8125 39.890625 \nQ 5.8125 47.609375 11.28125 51.796875 \nQ 16.75 56 26.8125 56 \nQ 31.78125 56 36.171875 55.265625 \nQ 40.578125 54.546875 44.28125 53.078125 \nz\n\" id=\"DejaVuSans-115\"/>\n       <path d=\"M 54.890625 33.015625 \nL 54.890625 0 \nL 45.90625 0 \nL 45.90625 32.71875 \nQ 45.90625 40.484375 42.875 44.328125 \nQ 39.84375 48.1875 33.796875 48.1875 \nQ 26.515625 48.1875 22.3125 43.546875 \nQ 18.109375 38.921875 18.109375 30.90625 \nL 18.109375 0 \nL 9.078125 0 \nL 9.078125 54.6875 \nL 18.109375 54.6875 \nL 18.109375 46.1875 \nQ 21.34375 51.125 25.703125 53.5625 \nQ 30.078125 56 35.796875 56 \nQ 45.21875 56 50.046875 50.171875 \nQ 54.890625 44.34375 54.890625 33.015625 \nz\n\" id=\"DejaVuSans-110\"/>\n       <path d=\"M 45.40625 46.390625 \nL 45.40625 75.984375 \nL 54.390625 75.984375 \nL 54.390625 0 \nL 45.40625 0 \nL 45.40625 8.203125 \nQ 42.578125 3.328125 38.25 0.953125 \nQ 33.9375 -1.421875 27.875 -1.421875 \nQ 17.96875 -1.421875 11.734375 6.484375 \nQ 5.515625 14.40625 5.515625 27.296875 \nQ 5.515625 40.1875 11.734375 48.09375 \nQ 17.96875 56 27.875 56 \nQ 33.9375 56 38.25 53.625 \nQ 42.578125 51.265625 45.40625 46.390625 \nz\nM 14.796875 27.296875 \nQ 14.796875 17.390625 18.875 11.75 \nQ 22.953125 6.109375 30.078125 6.109375 \nQ 37.203125 6.109375 41.296875 11.75 \nQ 45.40625 17.390625 45.40625 27.296875 \nQ 45.40625 37.203125 41.296875 42.84375 \nQ 37.203125 48.484375 30.078125 48.484375 \nQ 22.953125 48.484375 18.875 42.84375 \nQ 14.796875 37.203125 14.796875 27.296875 \nz\n\" id=\"DejaVuSans-100\"/>\n      </defs>\n      <g style=\"fill:#262626;\" transform=\"translate(280.945279 399.068281)rotate(-90)scale(0.11 -0.11)\">\n       <use xlink:href=\"#DejaVuSans-99\"/>\n       <use x=\"54.980469\" xlink:href=\"#DejaVuSans-97\"/>\n       <use x=\"116.259766\" xlink:href=\"#DejaVuSans-115\"/>\n       <use x=\"168.359375\" xlink:href=\"#DejaVuSans-115\"/>\n       <use x=\"220.458984\" xlink:href=\"#DejaVuSans-97\"/>\n       <use x=\"281.738281\" xlink:href=\"#DejaVuSans-110\"/>\n       <use x=\"345.117188\" xlink:href=\"#DejaVuSans-100\"/>\n       <use x=\"408.59375\" xlink:href=\"#DejaVuSans-114\"/>\n       <use x=\"449.707031\" xlink:href=\"#DejaVuSans-97\"/>\n      </g>\n     </g>\n    </g>\n    <g id=\"xtick_9\">\n     <g id=\"text_9\">\n      <!-- commons-lang -->\n      <defs>\n       <path d=\"M 4.890625 31.390625 \nL 31.203125 31.390625 \nL 31.203125 23.390625 \nL 4.890625 23.390625 \nz\n\" id=\"DejaVuSans-45\"/>\n       <path d=\"M 45.40625 27.984375 \nQ 45.40625 37.75 41.375 43.109375 \nQ 37.359375 48.484375 30.078125 48.484375 \nQ 22.859375 48.484375 18.828125 43.109375 \nQ 14.796875 37.75 14.796875 27.984375 \nQ 14.796875 18.265625 18.828125 12.890625 \nQ 22.859375 7.515625 30.078125 7.515625 \nQ 37.359375 7.515625 41.375 12.890625 \nQ 45.40625 18.265625 45.40625 27.984375 \nz\nM 54.390625 6.78125 \nQ 54.390625 -7.171875 48.1875 -13.984375 \nQ 42 -20.796875 29.203125 -20.796875 \nQ 24.46875 -20.796875 20.265625 -20.09375 \nQ 16.0625 -19.390625 12.109375 -17.921875 \nL 12.109375 -9.1875 \nQ 16.0625 -11.328125 19.921875 -12.34375 \nQ 23.78125 -13.375 27.78125 -13.375 \nQ 36.625 -13.375 41.015625 -8.765625 \nQ 45.40625 -4.15625 45.40625 5.171875 \nL 45.40625 9.625 \nQ 42.625 4.78125 38.28125 2.390625 \nQ 33.9375 0 27.875 0 \nQ 17.828125 0 11.671875 7.65625 \nQ 5.515625 15.328125 5.515625 27.984375 \nQ 5.515625 40.671875 11.671875 48.328125 \nQ 17.828125 56 27.875 56 \nQ 33.9375 56 38.28125 53.609375 \nQ 42.625 51.21875 45.40625 46.390625 \nL 45.40625 54.6875 \nL 54.390625 54.6875 \nz\n\" id=\"DejaVuSans-103\"/>\n      </defs>\n      <g style=\"fill:#262626;\" transform=\"translate(311.107441 424.220469)rotate(-90)scale(0.11 -0.11)\">\n       <use xlink:href=\"#DejaVuSans-99\"/>\n       <use x=\"54.980469\" xlink:href=\"#DejaVuSans-111\"/>\n       <use x=\"116.162109\" xlink:href=\"#DejaVuSans-109\"/>\n       <use x=\"213.574219\" xlink:href=\"#DejaVuSans-109\"/>\n       <use x=\"310.986328\" xlink:href=\"#DejaVuSans-111\"/>\n       <use x=\"372.167969\" xlink:href=\"#DejaVuSans-110\"/>\n       <use x=\"435.546875\" xlink:href=\"#DejaVuSans-115\"/>\n       <use x=\"487.646484\" xlink:href=\"#DejaVuSans-45\"/>\n       <use x=\"523.730469\" xlink:href=\"#DejaVuSans-108\"/>\n       <use x=\"551.513672\" xlink:href=\"#DejaVuSans-97\"/>\n       <use x=\"612.792969\" xlink:href=\"#DejaVuSans-110\"/>\n       <use x=\"676.171875\" xlink:href=\"#DejaVuSans-103\"/>\n      </g>\n     </g>\n    </g>\n    <g id=\"xtick_10\">\n     <g id=\"text_10\">\n      <!-- cordova-android -->\n      <g style=\"fill:#262626;\" transform=\"translate(341.269603 433.077187)rotate(-90)scale(0.11 -0.11)\">\n       <use xlink:href=\"#DejaVuSans-99\"/>\n       <use x=\"54.980469\" xlink:href=\"#DejaVuSans-111\"/>\n       <use x=\"116.162109\" xlink:href=\"#DejaVuSans-114\"/>\n       <use x=\"157.259766\" xlink:href=\"#DejaVuSans-100\"/>\n       <use x=\"220.736328\" xlink:href=\"#DejaVuSans-111\"/>\n       <use x=\"281.917969\" xlink:href=\"#DejaVuSans-118\"/>\n       <use x=\"341.097656\" xlink:href=\"#DejaVuSans-97\"/>\n       <use x=\"402.376953\" xlink:href=\"#DejaVuSans-45\"/>\n       <use x=\"438.460938\" xlink:href=\"#DejaVuSans-97\"/>\n       <use x=\"499.740234\" xlink:href=\"#DejaVuSans-110\"/>\n       <use x=\"563.119141\" xlink:href=\"#DejaVuSans-100\"/>\n       <use x=\"626.595703\" xlink:href=\"#DejaVuSans-114\"/>\n       <use x=\"667.677734\" xlink:href=\"#DejaVuSans-111\"/>\n       <use x=\"728.859375\" xlink:href=\"#DejaVuSans-105\"/>\n       <use x=\"756.642578\" xlink:href=\"#DejaVuSans-100\"/>\n      </g>\n     </g>\n    </g>\n    <g id=\"xtick_11\">\n     <g id=\"text_11\">\n      <!-- cxf -->\n      <defs>\n       <path d=\"M 54.890625 54.6875 \nL 35.109375 28.078125 \nL 55.90625 0 \nL 45.3125 0 \nL 29.390625 21.484375 \nL 13.484375 0 \nL 2.875 0 \nL 24.125 28.609375 \nL 4.6875 54.6875 \nL 15.28125 54.6875 \nL 29.78125 35.203125 \nL 44.28125 54.6875 \nz\n\" id=\"DejaVuSans-120\"/>\n       <path d=\"M 37.109375 75.984375 \nL 37.109375 68.5 \nL 28.515625 68.5 \nQ 23.6875 68.5 21.796875 66.546875 \nQ 19.921875 64.59375 19.921875 59.515625 \nL 19.921875 54.6875 \nL 34.71875 54.6875 \nL 34.71875 47.703125 \nL 19.921875 47.703125 \nL 19.921875 0 \nL 10.890625 0 \nL 10.890625 47.703125 \nL 2.296875 47.703125 \nL 2.296875 54.6875 \nL 10.890625 54.6875 \nL 10.890625 58.5 \nQ 10.890625 67.625 15.140625 71.796875 \nQ 19.390625 75.984375 28.609375 75.984375 \nz\n\" id=\"DejaVuSans-102\"/>\n      </defs>\n      <g style=\"fill:#262626;\" transform=\"translate(371.431765 359.29125)rotate(-90)scale(0.11 -0.11)\">\n       <use xlink:href=\"#DejaVuSans-99\"/>\n       <use x=\"54.980469\" xlink:href=\"#DejaVuSans-120\"/>\n       <use x=\"114.160156\" xlink:href=\"#DejaVuSans-102\"/>\n      </g>\n     </g>\n    </g>\n    <g id=\"xtick_12\">\n     <g id=\"text_12\">\n      <!-- eagle -->\n      <g style=\"fill:#262626;\" transform=\"translate(401.593927 373.177031)rotate(-90)scale(0.11 -0.11)\">\n       <use xlink:href=\"#DejaVuSans-101\"/>\n       <use x=\"61.523438\" xlink:href=\"#DejaVuSans-97\"/>\n       <use x=\"122.802734\" xlink:href=\"#DejaVuSans-103\"/>\n       <use x=\"186.279297\" xlink:href=\"#DejaVuSans-108\"/>\n       <use x=\"214.0625\" xlink:href=\"#DejaVuSans-101\"/>\n      </g>\n     </g>\n    </g>\n    <g id=\"xtick_13\">\n     <g id=\"text_13\">\n      <!-- fineract -->\n      <g style=\"fill:#262626;\" transform=\"translate(431.75609 385.151562)rotate(-90)scale(0.11 -0.11)\">\n       <use xlink:href=\"#DejaVuSans-102\"/>\n       <use x=\"35.205078\" xlink:href=\"#DejaVuSans-105\"/>\n       <use x=\"62.988281\" xlink:href=\"#DejaVuSans-110\"/>\n       <use x=\"126.367188\" xlink:href=\"#DejaVuSans-101\"/>\n       <use x=\"187.890625\" xlink:href=\"#DejaVuSans-114\"/>\n       <use x=\"229.003906\" xlink:href=\"#DejaVuSans-97\"/>\n       <use x=\"290.283203\" xlink:href=\"#DejaVuSans-99\"/>\n       <use x=\"345.263672\" xlink:href=\"#DejaVuSans-116\"/>\n      </g>\n     </g>\n    </g>\n    <g id=\"xtick_14\">\n     <g id=\"text_14\">\n      <!-- flink -->\n      <defs>\n       <path d=\"M 9.078125 75.984375 \nL 18.109375 75.984375 \nL 18.109375 31.109375 \nL 44.921875 54.6875 \nL 56.390625 54.6875 \nL 27.390625 29.109375 \nL 57.625 0 \nL 45.90625 0 \nL 18.109375 26.703125 \nL 18.109375 0 \nL 9.078125 0 \nz\n\" id=\"DejaVuSans-107\"/>\n      </defs>\n      <g style=\"fill:#262626;\" transform=\"translate(461.918252 366.185156)rotate(-90)scale(0.11 -0.11)\">\n       <use xlink:href=\"#DejaVuSans-102\"/>\n       <use x=\"35.205078\" xlink:href=\"#DejaVuSans-108\"/>\n       <use x=\"62.988281\" xlink:href=\"#DejaVuSans-105\"/>\n       <use x=\"90.771484\" xlink:href=\"#DejaVuSans-110\"/>\n       <use x=\"154.150391\" xlink:href=\"#DejaVuSans-107\"/>\n      </g>\n     </g>\n    </g>\n    <g id=\"xtick_15\">\n     <g id=\"text_15\">\n      <!-- geode -->\n      <g style=\"fill:#262626;\" transform=\"translate(492.080414 377.094062)rotate(-90)scale(0.11 -0.11)\">\n       <use xlink:href=\"#DejaVuSans-103\"/>\n       <use x=\"63.476562\" xlink:href=\"#DejaVuSans-101\"/>\n       <use x=\"125\" xlink:href=\"#DejaVuSans-111\"/>\n       <use x=\"186.181641\" xlink:href=\"#DejaVuSans-100\"/>\n       <use x=\"249.658203\" xlink:href=\"#DejaVuSans-101\"/>\n      </g>\n     </g>\n    </g>\n    <g id=\"xtick_16\">\n     <g id=\"text_16\">\n      <!-- groovy -->\n      <defs>\n       <path d=\"M 32.171875 -5.078125 \nQ 28.375 -14.84375 24.75 -17.8125 \nQ 21.140625 -20.796875 15.09375 -20.796875 \nL 7.90625 -20.796875 \nL 7.90625 -13.28125 \nL 13.1875 -13.28125 \nQ 16.890625 -13.28125 18.9375 -11.515625 \nQ 21 -9.765625 23.484375 -3.21875 \nL 25.09375 0.875 \nL 2.984375 54.6875 \nL 12.5 54.6875 \nL 29.59375 11.921875 \nL 46.6875 54.6875 \nL 56.203125 54.6875 \nz\n\" id=\"DejaVuSans-121\"/>\n      </defs>\n      <g style=\"fill:#262626;\" transform=\"translate(522.242576 380.844375)rotate(-90)scale(0.11 -0.11)\">\n       <use xlink:href=\"#DejaVuSans-103\"/>\n       <use x=\"63.476562\" xlink:href=\"#DejaVuSans-114\"/>\n       <use x=\"104.558594\" xlink:href=\"#DejaVuSans-111\"/>\n       <use x=\"165.740234\" xlink:href=\"#DejaVuSans-111\"/>\n       <use x=\"226.921875\" xlink:href=\"#DejaVuSans-118\"/>\n       <use x=\"286.101562\" xlink:href=\"#DejaVuSans-121\"/>\n      </g>\n     </g>\n    </g>\n    <g id=\"xtick_17\">\n     <g id=\"text_17\">\n      <!-- james-project -->\n      <defs>\n       <path d=\"M 9.421875 54.6875 \nL 18.40625 54.6875 \nL 18.40625 -0.984375 \nQ 18.40625 -11.421875 14.421875 -16.109375 \nQ 10.453125 -20.796875 1.609375 -20.796875 \nL -1.8125 -20.796875 \nL -1.8125 -13.1875 \nL 0.59375 -13.1875 \nQ 5.71875 -13.1875 7.5625 -10.8125 \nQ 9.421875 -8.453125 9.421875 -0.984375 \nz\nM 9.421875 75.984375 \nL 18.40625 75.984375 \nL 18.40625 64.59375 \nL 9.421875 64.59375 \nz\n\" id=\"DejaVuSans-106\"/>\n       <path d=\"M 18.109375 8.203125 \nL 18.109375 -20.796875 \nL 9.078125 -20.796875 \nL 9.078125 54.6875 \nL 18.109375 54.6875 \nL 18.109375 46.390625 \nQ 20.953125 51.265625 25.265625 53.625 \nQ 29.59375 56 35.59375 56 \nQ 45.5625 56 51.78125 48.09375 \nQ 58.015625 40.1875 58.015625 27.296875 \nQ 58.015625 14.40625 51.78125 6.484375 \nQ 45.5625 -1.421875 35.59375 -1.421875 \nQ 29.59375 -1.421875 25.265625 0.953125 \nQ 20.953125 3.328125 18.109375 8.203125 \nz\nM 48.6875 27.296875 \nQ 48.6875 37.203125 44.609375 42.84375 \nQ 40.53125 48.484375 33.40625 48.484375 \nQ 26.265625 48.484375 22.1875 42.84375 \nQ 18.109375 37.203125 18.109375 27.296875 \nQ 18.109375 17.390625 22.1875 11.75 \nQ 26.265625 6.109375 33.40625 6.109375 \nQ 40.53125 6.109375 44.609375 11.75 \nQ 48.6875 17.390625 48.6875 27.296875 \nz\n\" id=\"DejaVuSans-112\"/>\n      </defs>\n      <g style=\"fill:#262626;\" transform=\"translate(552.404738 418.256406)rotate(-90)scale(0.11 -0.11)\">\n       <use xlink:href=\"#DejaVuSans-106\"/>\n       <use x=\"27.783203\" xlink:href=\"#DejaVuSans-97\"/>\n       <use x=\"89.0625\" xlink:href=\"#DejaVuSans-109\"/>\n       <use x=\"186.474609\" xlink:href=\"#DejaVuSans-101\"/>\n       <use x=\"247.998047\" xlink:href=\"#DejaVuSans-115\"/>\n       <use x=\"300.097656\" xlink:href=\"#DejaVuSans-45\"/>\n       <use x=\"336.181641\" xlink:href=\"#DejaVuSans-112\"/>\n       <use x=\"399.658203\" xlink:href=\"#DejaVuSans-114\"/>\n       <use x=\"440.740234\" xlink:href=\"#DejaVuSans-111\"/>\n       <use x=\"501.921875\" xlink:href=\"#DejaVuSans-106\"/>\n       <use x=\"529.705078\" xlink:href=\"#DejaVuSans-101\"/>\n       <use x=\"591.228516\" xlink:href=\"#DejaVuSans-99\"/>\n       <use x=\"646.208984\" xlink:href=\"#DejaVuSans-116\"/>\n      </g>\n     </g>\n    </g>\n    <g id=\"xtick_18\">\n     <g id=\"text_18\">\n      <!-- jena -->\n      <g style=\"fill:#262626;\" transform=\"translate(582.5669 366.396562)rotate(-90)scale(0.11 -0.11)\">\n       <use xlink:href=\"#DejaVuSans-106\"/>\n       <use x=\"27.783203\" xlink:href=\"#DejaVuSans-101\"/>\n       <use x=\"89.306641\" xlink:href=\"#DejaVuSans-110\"/>\n       <use x=\"152.685547\" xlink:href=\"#DejaVuSans-97\"/>\n      </g>\n     </g>\n    </g>\n    <g id=\"xtick_19\">\n     <g id=\"text_19\">\n      <!-- kafka -->\n      <g style=\"fill:#262626;\" transform=\"translate(612.729063 372.950156)rotate(-90)scale(0.11 -0.11)\">\n       <use xlink:href=\"#DejaVuSans-107\"/>\n       <use x=\"57.894531\" xlink:href=\"#DejaVuSans-97\"/>\n       <use x=\"119.173828\" xlink:href=\"#DejaVuSans-102\"/>\n       <use x=\"154.378906\" xlink:href=\"#DejaVuSans-107\"/>\n       <use x=\"212.273438\" xlink:href=\"#DejaVuSans-97\"/>\n      </g>\n     </g>\n    </g>\n    <g id=\"xtick_20\">\n     <g id=\"text_20\">\n      <!-- karaf -->\n      <g style=\"fill:#262626;\" transform=\"translate(642.891225 371.104219)rotate(-90)scale(0.11 -0.11)\">\n       <use xlink:href=\"#DejaVuSans-107\"/>\n       <use x=\"57.894531\" xlink:href=\"#DejaVuSans-97\"/>\n       <use x=\"119.173828\" xlink:href=\"#DejaVuSans-114\"/>\n       <use x=\"160.287109\" xlink:href=\"#DejaVuSans-97\"/>\n       <use x=\"221.566406\" xlink:href=\"#DejaVuSans-102\"/>\n      </g>\n     </g>\n    </g>\n    <g id=\"xtick_21\">\n     <g id=\"text_21\">\n      <!-- kylin -->\n      <g style=\"fill:#262626;\" transform=\"translate(673.053387 368.818281)rotate(-90)scale(0.11 -0.11)\">\n       <use xlink:href=\"#DejaVuSans-107\"/>\n       <use x=\"57.863281\" xlink:href=\"#DejaVuSans-121\"/>\n       <use x=\"117.042969\" xlink:href=\"#DejaVuSans-108\"/>\n       <use x=\"144.826172\" xlink:href=\"#DejaVuSans-105\"/>\n       <use x=\"172.609375\" xlink:href=\"#DejaVuSans-110\"/>\n      </g>\n     </g>\n    </g>\n    <g id=\"xtick_22\">\n     <g id=\"text_22\">\n      <!-- lucene-solr -->\n      <g style=\"fill:#262626;\" transform=\"translate(703.215549 403.451094)rotate(-90)scale(0.11 -0.11)\">\n       <use xlink:href=\"#DejaVuSans-108\"/>\n       <use x=\"27.783203\" xlink:href=\"#DejaVuSans-117\"/>\n       <use x=\"91.162109\" xlink:href=\"#DejaVuSans-99\"/>\n       <use x=\"146.142578\" xlink:href=\"#DejaVuSans-101\"/>\n       <use x=\"207.666016\" xlink:href=\"#DejaVuSans-110\"/>\n       <use x=\"271.044922\" xlink:href=\"#DejaVuSans-101\"/>\n       <use x=\"332.568359\" xlink:href=\"#DejaVuSans-45\"/>\n       <use x=\"368.652344\" xlink:href=\"#DejaVuSans-115\"/>\n       <use x=\"420.751953\" xlink:href=\"#DejaVuSans-111\"/>\n       <use x=\"481.933594\" xlink:href=\"#DejaVuSans-108\"/>\n       <use x=\"509.716797\" xlink:href=\"#DejaVuSans-114\"/>\n      </g>\n     </g>\n    </g>\n    <g id=\"xtick_23\">\n     <g id=\"text_23\">\n      <!-- mahout -->\n      <defs>\n       <path d=\"M 54.890625 33.015625 \nL 54.890625 0 \nL 45.90625 0 \nL 45.90625 32.71875 \nQ 45.90625 40.484375 42.875 44.328125 \nQ 39.84375 48.1875 33.796875 48.1875 \nQ 26.515625 48.1875 22.3125 43.546875 \nQ 18.109375 38.921875 18.109375 30.90625 \nL 18.109375 0 \nL 9.078125 0 \nL 9.078125 75.984375 \nL 18.109375 75.984375 \nL 18.109375 46.1875 \nQ 21.34375 51.125 25.703125 53.5625 \nQ 30.078125 56 35.796875 56 \nQ 45.21875 56 50.046875 50.171875 \nQ 54.890625 44.34375 54.890625 33.015625 \nz\n\" id=\"DejaVuSans-104\"/>\n      </defs>\n      <g style=\"fill:#262626;\" transform=\"translate(733.377711 385.301094)rotate(-90)scale(0.11 -0.11)\">\n       <use xlink:href=\"#DejaVuSans-109\"/>\n       <use x=\"97.412109\" xlink:href=\"#DejaVuSans-97\"/>\n       <use x=\"158.691406\" xlink:href=\"#DejaVuSans-104\"/>\n       <use x=\"222.070312\" xlink:href=\"#DejaVuSans-111\"/>\n       <use x=\"283.251953\" xlink:href=\"#DejaVuSans-117\"/>\n       <use x=\"346.630859\" xlink:href=\"#DejaVuSans-116\"/>\n      </g>\n     </g>\n    </g>\n    <g id=\"xtick_24\">\n     <g id=\"text_24\">\n      <!-- maven -->\n      <g style=\"fill:#262626;\" transform=\"translate(763.539873 380.565937)rotate(-90)scale(0.11 -0.11)\">\n       <use xlink:href=\"#DejaVuSans-109\"/>\n       <use x=\"97.412109\" xlink:href=\"#DejaVuSans-97\"/>\n       <use x=\"158.691406\" xlink:href=\"#DejaVuSans-118\"/>\n       <use x=\"217.871094\" xlink:href=\"#DejaVuSans-101\"/>\n       <use x=\"279.394531\" xlink:href=\"#DejaVuSans-110\"/>\n      </g>\n     </g>\n    </g>\n    <g id=\"xtick_25\">\n     <g id=\"text_25\">\n      <!-- netbeans -->\n      <g style=\"fill:#262626;\" transform=\"translate(793.702035 394.10625)rotate(-90)scale(0.11 -0.11)\">\n       <use xlink:href=\"#DejaVuSans-110\"/>\n       <use x=\"63.378906\" xlink:href=\"#DejaVuSans-101\"/>\n       <use x=\"124.902344\" xlink:href=\"#DejaVuSans-116\"/>\n       <use x=\"164.111328\" xlink:href=\"#DejaVuSans-98\"/>\n       <use x=\"227.587891\" xlink:href=\"#DejaVuSans-101\"/>\n       <use x=\"289.111328\" xlink:href=\"#DejaVuSans-97\"/>\n       <use x=\"350.390625\" xlink:href=\"#DejaVuSans-110\"/>\n       <use x=\"413.769531\" xlink:href=\"#DejaVuSans-115\"/>\n      </g>\n     </g>\n    </g>\n    <g id=\"xtick_26\">\n     <g id=\"text_26\">\n      <!-- nifi -->\n      <g style=\"fill:#262626;\" transform=\"translate(823.864198 359.815469)rotate(-90)scale(0.11 -0.11)\">\n       <use xlink:href=\"#DejaVuSans-110\"/>\n       <use x=\"63.378906\" xlink:href=\"#DejaVuSans-105\"/>\n       <use x=\"91.162109\" xlink:href=\"#DejaVuSans-102\"/>\n       <use x=\"126.367188\" xlink:href=\"#DejaVuSans-105\"/>\n      </g>\n     </g>\n    </g>\n    <g id=\"xtick_27\">\n     <g id=\"text_27\">\n      <!-- nutch -->\n      <g style=\"fill:#262626;\" transform=\"translate(854.02636 374.134375)rotate(-90)scale(0.11 -0.11)\">\n       <use xlink:href=\"#DejaVuSans-110\"/>\n       <use x=\"63.378906\" xlink:href=\"#DejaVuSans-117\"/>\n       <use x=\"126.757812\" xlink:href=\"#DejaVuSans-116\"/>\n       <use x=\"165.966797\" xlink:href=\"#DejaVuSans-99\"/>\n       <use x=\"220.947266\" xlink:href=\"#DejaVuSans-104\"/>\n      </g>\n     </g>\n    </g>\n    <g id=\"xtick_28\">\n     <g id=\"text_28\">\n      <!-- ofbiz -->\n      <defs>\n       <path d=\"M 5.515625 54.6875 \nL 48.1875 54.6875 \nL 48.1875 46.484375 \nL 14.40625 7.171875 \nL 48.1875 7.171875 \nL 48.1875 0 \nL 4.296875 0 \nL 4.296875 8.203125 \nL 38.09375 47.515625 \nL 5.515625 47.515625 \nz\n\" id=\"DejaVuSans-122\"/>\n      </defs>\n      <g style=\"fill:#262626;\" transform=\"translate(884.188522 369.275469)rotate(-90)scale(0.11 -0.11)\">\n       <use xlink:href=\"#DejaVuSans-111\"/>\n       <use x=\"61.181641\" xlink:href=\"#DejaVuSans-102\"/>\n       <use x=\"96.386719\" xlink:href=\"#DejaVuSans-98\"/>\n       <use x=\"159.863281\" xlink:href=\"#DejaVuSans-105\"/>\n       <use x=\"187.646484\" xlink:href=\"#DejaVuSans-122\"/>\n      </g>\n     </g>\n    </g>\n    <g id=\"xtick_29\">\n     <g id=\"text_29\">\n      <!-- parquet-mr -->\n      <g style=\"fill:#262626;\" transform=\"translate(914.350684 405.345156)rotate(-90)scale(0.11 -0.11)\">\n       <use xlink:href=\"#DejaVuSans-112\"/>\n       <use x=\"63.476562\" xlink:href=\"#DejaVuSans-97\"/>\n       <use x=\"124.755859\" xlink:href=\"#DejaVuSans-114\"/>\n       <use x=\"165.853516\" xlink:href=\"#DejaVuSans-113\"/>\n       <use x=\"229.330078\" xlink:href=\"#DejaVuSans-117\"/>\n       <use x=\"292.708984\" xlink:href=\"#DejaVuSans-101\"/>\n       <use x=\"354.232422\" xlink:href=\"#DejaVuSans-116\"/>\n       <use x=\"393.441406\" xlink:href=\"#DejaVuSans-45\"/>\n       <use x=\"429.525391\" xlink:href=\"#DejaVuSans-109\"/>\n       <use x=\"526.9375\" xlink:href=\"#DejaVuSans-114\"/>\n      </g>\n     </g>\n    </g>\n    <g id=\"xtick_30\">\n     <g id=\"text_30\">\n      <!-- phoenix -->\n      <g style=\"fill:#262626;\" transform=\"translate(944.512846 386.851406)rotate(-90)scale(0.11 -0.11)\">\n       <use xlink:href=\"#DejaVuSans-112\"/>\n       <use x=\"63.476562\" xlink:href=\"#DejaVuSans-104\"/>\n       <use x=\"126.855469\" xlink:href=\"#DejaVuSans-111\"/>\n       <use x=\"188.037109\" xlink:href=\"#DejaVuSans-101\"/>\n       <use x=\"249.560547\" xlink:href=\"#DejaVuSans-110\"/>\n       <use x=\"312.939453\" xlink:href=\"#DejaVuSans-105\"/>\n       <use x=\"340.722656\" xlink:href=\"#DejaVuSans-120\"/>\n      </g>\n     </g>\n    </g>\n    <g id=\"xtick_31\">\n     <g id=\"text_31\">\n      <!-- servicecomb-java-chassis -->\n      <g style=\"fill:#262626;\" transform=\"translate(974.675008 483.733906)rotate(-90)scale(0.11 -0.11)\">\n       <use xlink:href=\"#DejaVuSans-115\"/>\n       <use x=\"52.099609\" xlink:href=\"#DejaVuSans-101\"/>\n       <use x=\"113.623047\" xlink:href=\"#DejaVuSans-114\"/>\n       <use x=\"154.736328\" xlink:href=\"#DejaVuSans-118\"/>\n       <use x=\"213.916016\" xlink:href=\"#DejaVuSans-105\"/>\n       <use x=\"241.699219\" xlink:href=\"#DejaVuSans-99\"/>\n       <use x=\"296.679688\" xlink:href=\"#DejaVuSans-101\"/>\n       <use x=\"358.203125\" xlink:href=\"#DejaVuSans-99\"/>\n       <use x=\"413.183594\" xlink:href=\"#DejaVuSans-111\"/>\n       <use x=\"474.365234\" xlink:href=\"#DejaVuSans-109\"/>\n       <use x=\"571.777344\" xlink:href=\"#DejaVuSans-98\"/>\n       <use x=\"635.253906\" xlink:href=\"#DejaVuSans-45\"/>\n       <use x=\"671.337891\" xlink:href=\"#DejaVuSans-106\"/>\n       <use x=\"699.121094\" xlink:href=\"#DejaVuSans-97\"/>\n       <use x=\"760.400391\" xlink:href=\"#DejaVuSans-118\"/>\n       <use x=\"819.580078\" xlink:href=\"#DejaVuSans-97\"/>\n       <use x=\"880.859375\" xlink:href=\"#DejaVuSans-45\"/>\n       <use x=\"916.943359\" xlink:href=\"#DejaVuSans-99\"/>\n       <use x=\"971.923828\" xlink:href=\"#DejaVuSans-104\"/>\n       <use x=\"1035.302734\" xlink:href=\"#DejaVuSans-97\"/>\n       <use x=\"1096.582031\" xlink:href=\"#DejaVuSans-115\"/>\n       <use x=\"1148.681641\" xlink:href=\"#DejaVuSans-115\"/>\n       <use x=\"1200.78125\" xlink:href=\"#DejaVuSans-105\"/>\n       <use x=\"1228.564453\" xlink:href=\"#DejaVuSans-115\"/>\n      </g>\n     </g>\n    </g>\n    <g id=\"xtick_32\">\n     <g id=\"text_32\">\n      <!-- spark -->\n      <g style=\"fill:#262626;\" transform=\"translate(1004.837171 373.20625)rotate(-90)scale(0.11 -0.11)\">\n       <use xlink:href=\"#DejaVuSans-115\"/>\n       <use x=\"52.099609\" xlink:href=\"#DejaVuSans-112\"/>\n       <use x=\"115.576172\" xlink:href=\"#DejaVuSans-97\"/>\n       <use x=\"176.855469\" xlink:href=\"#DejaVuSans-114\"/>\n       <use x=\"217.96875\" xlink:href=\"#DejaVuSans-107\"/>\n      </g>\n     </g>\n    </g>\n    <g id=\"xtick_33\">\n     <g id=\"text_33\">\n      <!-- storm -->\n      <g style=\"fill:#262626;\" transform=\"translate(1034.999333 374.868281)rotate(-90)scale(0.11 -0.11)\">\n       <use xlink:href=\"#DejaVuSans-115\"/>\n       <use x=\"52.099609\" xlink:href=\"#DejaVuSans-116\"/>\n       <use x=\"91.308594\" xlink:href=\"#DejaVuSans-111\"/>\n       <use x=\"152.490234\" xlink:href=\"#DejaVuSans-114\"/>\n       <use x=\"193.587891\" xlink:href=\"#DejaVuSans-109\"/>\n      </g>\n     </g>\n    </g>\n    <g id=\"xtick_34\">\n     <g id=\"text_34\">\n      <!-- struts -->\n      <g style=\"fill:#262626;\" transform=\"translate(1065.161495 374.438594)rotate(-90)scale(0.11 -0.11)\">\n       <use xlink:href=\"#DejaVuSans-115\"/>\n       <use x=\"52.099609\" xlink:href=\"#DejaVuSans-116\"/>\n       <use x=\"91.308594\" xlink:href=\"#DejaVuSans-114\"/>\n       <use x=\"132.421875\" xlink:href=\"#DejaVuSans-117\"/>\n       <use x=\"195.800781\" xlink:href=\"#DejaVuSans-116\"/>\n       <use x=\"235.009766\" xlink:href=\"#DejaVuSans-115\"/>\n      </g>\n     </g>\n    </g>\n    <g id=\"xtick_35\">\n     <g id=\"text_35\">\n      <!-- tika -->\n      <g style=\"fill:#262626;\" transform=\"translate(1095.323657 363.337187)rotate(-90)scale(0.11 -0.11)\">\n       <use xlink:href=\"#DejaVuSans-116\"/>\n       <use x=\"39.208984\" xlink:href=\"#DejaVuSans-105\"/>\n       <use x=\"66.992188\" xlink:href=\"#DejaVuSans-107\"/>\n       <use x=\"124.886719\" xlink:href=\"#DejaVuSans-97\"/>\n      </g>\n     </g>\n    </g>\n    <g id=\"xtick_36\">\n     <g id=\"text_36\">\n      <!-- wicket -->\n      <defs>\n       <path d=\"M 4.203125 54.6875 \nL 13.1875 54.6875 \nL 24.421875 12.015625 \nL 35.59375 54.6875 \nL 46.1875 54.6875 \nL 57.421875 12.015625 \nL 68.609375 54.6875 \nL 77.59375 54.6875 \nL 63.28125 0 \nL 52.6875 0 \nL 40.921875 44.828125 \nL 29.109375 0 \nL 18.5 0 \nz\n\" id=\"DejaVuSans-119\"/>\n      </defs>\n      <g style=\"fill:#262626;\" transform=\"translate(1125.485819 378.405469)rotate(-90)scale(0.11 -0.11)\">\n       <use xlink:href=\"#DejaVuSans-119\"/>\n       <use x=\"81.787109\" xlink:href=\"#DejaVuSans-105\"/>\n       <use x=\"109.570312\" xlink:href=\"#DejaVuSans-99\"/>\n       <use x=\"164.550781\" xlink:href=\"#DejaVuSans-107\"/>\n       <use x=\"222.414062\" xlink:href=\"#DejaVuSans-101\"/>\n       <use x=\"283.9375\" xlink:href=\"#DejaVuSans-116\"/>\n      </g>\n     </g>\n    </g>\n    <g id=\"xtick_37\">\n     <g id=\"text_37\">\n      <!-- zeppelin -->\n      <g style=\"fill:#262626;\" transform=\"translate(1155.647981 389.219844)rotate(-90)scale(0.11 -0.11)\">\n       <use xlink:href=\"#DejaVuSans-122\"/>\n       <use x=\"52.490234\" xlink:href=\"#DejaVuSans-101\"/>\n       <use x=\"114.013672\" xlink:href=\"#DejaVuSans-112\"/>\n       <use x=\"177.490234\" xlink:href=\"#DejaVuSans-112\"/>\n       <use x=\"240.966797\" xlink:href=\"#DejaVuSans-101\"/>\n       <use x=\"302.490234\" xlink:href=\"#DejaVuSans-108\"/>\n       <use x=\"330.273438\" xlink:href=\"#DejaVuSans-105\"/>\n       <use x=\"358.056641\" xlink:href=\"#DejaVuSans-110\"/>\n      </g>\n     </g>\n    </g>\n   </g>\n   <g id=\"matplotlib.axis_2\">\n    <g id=\"ytick_1\">\n     <g id=\"text_38\">\n      <!-- 0 -->\n      <defs>\n       <path d=\"M 31.78125 66.40625 \nQ 24.171875 66.40625 20.328125 58.90625 \nQ 16.5 51.421875 16.5 36.375 \nQ 16.5 21.390625 20.328125 13.890625 \nQ 24.171875 6.390625 31.78125 6.390625 \nQ 39.453125 6.390625 43.28125 13.890625 \nQ 47.125 21.390625 47.125 36.375 \nQ 47.125 51.421875 43.28125 58.90625 \nQ 39.453125 66.40625 31.78125 66.40625 \nz\nM 31.78125 74.21875 \nQ 44.046875 74.21875 50.515625 64.515625 \nQ 56.984375 54.828125 56.984375 36.375 \nQ 56.984375 17.96875 50.515625 8.265625 \nQ 44.046875 -1.421875 31.78125 -1.421875 \nQ 19.53125 -1.421875 13.0625 8.265625 \nQ 6.59375 17.96875 6.59375 36.375 \nQ 6.59375 54.828125 13.0625 64.515625 \nQ 19.53125 74.21875 31.78125 74.21875 \nz\n\" id=\"DejaVuSans-48\"/>\n      </defs>\n      <g style=\"fill:#262626;\" transform=\"translate(35.195 337.539141)scale(0.11 -0.11)\">\n       <use xlink:href=\"#DejaVuSans-48\"/>\n      </g>\n     </g>\n    </g>\n    <g id=\"ytick_2\">\n     <g id=\"text_39\">\n      <!-- 5000 -->\n      <defs>\n       <path d=\"M 10.796875 72.90625 \nL 49.515625 72.90625 \nL 49.515625 64.59375 \nL 19.828125 64.59375 \nL 19.828125 46.734375 \nQ 21.96875 47.46875 24.109375 47.828125 \nQ 26.265625 48.1875 28.421875 48.1875 \nQ 40.625 48.1875 47.75 41.5 \nQ 54.890625 34.8125 54.890625 23.390625 \nQ 54.890625 11.625 47.5625 5.09375 \nQ 40.234375 -1.421875 26.90625 -1.421875 \nQ 22.3125 -1.421875 17.546875 -0.640625 \nQ 12.796875 0.140625 7.71875 1.703125 \nL 7.71875 11.625 \nQ 12.109375 9.234375 16.796875 8.0625 \nQ 21.484375 6.890625 26.703125 6.890625 \nQ 35.15625 6.890625 40.078125 11.328125 \nQ 45.015625 15.765625 45.015625 23.390625 \nQ 45.015625 31 40.078125 35.4375 \nQ 35.15625 39.890625 26.703125 39.890625 \nQ 22.75 39.890625 18.8125 39.015625 \nQ 14.890625 38.140625 10.796875 36.28125 \nz\n\" id=\"DejaVuSans-53\"/>\n      </defs>\n      <g style=\"fill:#262626;\" transform=\"translate(14.19875 299.358682)scale(0.11 -0.11)\">\n       <use xlink:href=\"#DejaVuSans-53\"/>\n       <use x=\"63.623047\" xlink:href=\"#DejaVuSans-48\"/>\n       <use x=\"127.246094\" xlink:href=\"#DejaVuSans-48\"/>\n       <use x=\"190.869141\" xlink:href=\"#DejaVuSans-48\"/>\n      </g>\n     </g>\n    </g>\n    <g id=\"ytick_3\">\n     <g id=\"text_40\">\n      <!-- 10000 -->\n      <defs>\n       <path d=\"M 12.40625 8.296875 \nL 28.515625 8.296875 \nL 28.515625 63.921875 \nL 10.984375 60.40625 \nL 10.984375 69.390625 \nL 28.421875 72.90625 \nL 38.28125 72.90625 \nL 38.28125 8.296875 \nL 54.390625 8.296875 \nL 54.390625 0 \nL 12.40625 0 \nz\n\" id=\"DejaVuSans-49\"/>\n      </defs>\n      <g style=\"fill:#262626;\" transform=\"translate(7.2 261.178224)scale(0.11 -0.11)\">\n       <use xlink:href=\"#DejaVuSans-49\"/>\n       <use x=\"63.623047\" xlink:href=\"#DejaVuSans-48\"/>\n       <use x=\"127.246094\" xlink:href=\"#DejaVuSans-48\"/>\n       <use x=\"190.869141\" xlink:href=\"#DejaVuSans-48\"/>\n       <use x=\"254.492188\" xlink:href=\"#DejaVuSans-48\"/>\n      </g>\n     </g>\n    </g>\n    <g id=\"ytick_4\">\n     <g id=\"text_41\">\n      <!-- 15000 -->\n      <g style=\"fill:#262626;\" transform=\"translate(7.2 222.997766)scale(0.11 -0.11)\">\n       <use xlink:href=\"#DejaVuSans-49\"/>\n       <use x=\"63.623047\" xlink:href=\"#DejaVuSans-53\"/>\n       <use x=\"127.246094\" xlink:href=\"#DejaVuSans-48\"/>\n       <use x=\"190.869141\" xlink:href=\"#DejaVuSans-48\"/>\n       <use x=\"254.492188\" xlink:href=\"#DejaVuSans-48\"/>\n      </g>\n     </g>\n    </g>\n    <g id=\"ytick_5\">\n     <g id=\"text_42\">\n      <!-- 20000 -->\n      <defs>\n       <path d=\"M 19.1875 8.296875 \nL 53.609375 8.296875 \nL 53.609375 0 \nL 7.328125 0 \nL 7.328125 8.296875 \nQ 12.9375 14.109375 22.625 23.890625 \nQ 32.328125 33.6875 34.8125 36.53125 \nQ 39.546875 41.84375 41.421875 45.53125 \nQ 43.3125 49.21875 43.3125 52.78125 \nQ 43.3125 58.59375 39.234375 62.25 \nQ 35.15625 65.921875 28.609375 65.921875 \nQ 23.96875 65.921875 18.8125 64.3125 \nQ 13.671875 62.703125 7.8125 59.421875 \nL 7.8125 69.390625 \nQ 13.765625 71.78125 18.9375 73 \nQ 24.125 74.21875 28.421875 74.21875 \nQ 39.75 74.21875 46.484375 68.546875 \nQ 53.21875 62.890625 53.21875 53.421875 \nQ 53.21875 48.921875 51.53125 44.890625 \nQ 49.859375 40.875 45.40625 35.40625 \nQ 44.1875 33.984375 37.640625 27.21875 \nQ 31.109375 20.453125 19.1875 8.296875 \nz\n\" id=\"DejaVuSans-50\"/>\n      </defs>\n      <g style=\"fill:#262626;\" transform=\"translate(7.2 184.817308)scale(0.11 -0.11)\">\n       <use xlink:href=\"#DejaVuSans-50\"/>\n       <use x=\"63.623047\" xlink:href=\"#DejaVuSans-48\"/>\n       <use x=\"127.246094\" xlink:href=\"#DejaVuSans-48\"/>\n       <use x=\"190.869141\" xlink:href=\"#DejaVuSans-48\"/>\n       <use x=\"254.492188\" xlink:href=\"#DejaVuSans-48\"/>\n      </g>\n     </g>\n    </g>\n    <g id=\"ytick_6\">\n     <g id=\"text_43\">\n      <!-- 25000 -->\n      <g style=\"fill:#262626;\" transform=\"translate(7.2 146.63685)scale(0.11 -0.11)\">\n       <use xlink:href=\"#DejaVuSans-50\"/>\n       <use x=\"63.623047\" xlink:href=\"#DejaVuSans-53\"/>\n       <use x=\"127.246094\" xlink:href=\"#DejaVuSans-48\"/>\n       <use x=\"190.869141\" xlink:href=\"#DejaVuSans-48\"/>\n       <use x=\"254.492188\" xlink:href=\"#DejaVuSans-48\"/>\n      </g>\n     </g>\n    </g>\n    <g id=\"ytick_7\">\n     <g id=\"text_44\">\n      <!-- 30000 -->\n      <defs>\n       <path d=\"M 40.578125 39.3125 \nQ 47.65625 37.796875 51.625 33 \nQ 55.609375 28.21875 55.609375 21.1875 \nQ 55.609375 10.40625 48.1875 4.484375 \nQ 40.765625 -1.421875 27.09375 -1.421875 \nQ 22.515625 -1.421875 17.65625 -0.515625 \nQ 12.796875 0.390625 7.625 2.203125 \nL 7.625 11.71875 \nQ 11.71875 9.328125 16.59375 8.109375 \nQ 21.484375 6.890625 26.8125 6.890625 \nQ 36.078125 6.890625 40.9375 10.546875 \nQ 45.796875 14.203125 45.796875 21.1875 \nQ 45.796875 27.640625 41.28125 31.265625 \nQ 36.765625 34.90625 28.71875 34.90625 \nL 20.21875 34.90625 \nL 20.21875 43.015625 \nL 29.109375 43.015625 \nQ 36.375 43.015625 40.234375 45.921875 \nQ 44.09375 48.828125 44.09375 54.296875 \nQ 44.09375 59.90625 40.109375 62.90625 \nQ 36.140625 65.921875 28.71875 65.921875 \nQ 24.65625 65.921875 20.015625 65.03125 \nQ 15.375 64.15625 9.8125 62.3125 \nL 9.8125 71.09375 \nQ 15.4375 72.65625 20.34375 73.4375 \nQ 25.25 74.21875 29.59375 74.21875 \nQ 40.828125 74.21875 47.359375 69.109375 \nQ 53.90625 64.015625 53.90625 55.328125 \nQ 53.90625 49.265625 50.4375 45.09375 \nQ 46.96875 40.921875 40.578125 39.3125 \nz\n\" id=\"DejaVuSans-51\"/>\n      </defs>\n      <g style=\"fill:#262626;\" transform=\"translate(7.2 108.456392)scale(0.11 -0.11)\">\n       <use xlink:href=\"#DejaVuSans-51\"/>\n       <use x=\"63.623047\" xlink:href=\"#DejaVuSans-48\"/>\n       <use x=\"127.246094\" xlink:href=\"#DejaVuSans-48\"/>\n       <use x=\"190.869141\" xlink:href=\"#DejaVuSans-48\"/>\n       <use x=\"254.492188\" xlink:href=\"#DejaVuSans-48\"/>\n      </g>\n     </g>\n    </g>\n    <g id=\"ytick_8\">\n     <g id=\"text_45\">\n      <!-- 35000 -->\n      <g style=\"fill:#262626;\" transform=\"translate(7.2 70.275934)scale(0.11 -0.11)\">\n       <use xlink:href=\"#DejaVuSans-51\"/>\n       <use x=\"63.623047\" xlink:href=\"#DejaVuSans-53\"/>\n       <use x=\"127.246094\" xlink:href=\"#DejaVuSans-48\"/>\n       <use x=\"190.869141\" xlink:href=\"#DejaVuSans-48\"/>\n       <use x=\"254.492188\" xlink:href=\"#DejaVuSans-48\"/>\n      </g>\n     </g>\n    </g>\n    <g id=\"ytick_9\">\n     <g id=\"text_46\">\n      <!-- 40000 -->\n      <defs>\n       <path d=\"M 37.796875 64.3125 \nL 12.890625 25.390625 \nL 37.796875 25.390625 \nz\nM 35.203125 72.90625 \nL 47.609375 72.90625 \nL 47.609375 25.390625 \nL 58.015625 25.390625 \nL 58.015625 17.1875 \nL 47.609375 17.1875 \nL 47.609375 0 \nL 37.796875 0 \nL 37.796875 17.1875 \nL 4.890625 17.1875 \nL 4.890625 26.703125 \nz\n\" id=\"DejaVuSans-52\"/>\n      </defs>\n      <g style=\"fill:#262626;\" transform=\"translate(7.2 32.095475)scale(0.11 -0.11)\">\n       <use xlink:href=\"#DejaVuSans-52\"/>\n       <use x=\"63.623047\" xlink:href=\"#DejaVuSans-48\"/>\n       <use x=\"127.246094\" xlink:href=\"#DejaVuSans-48\"/>\n       <use x=\"190.869141\" xlink:href=\"#DejaVuSans-48\"/>\n       <use x=\"254.492188\" xlink:href=\"#DejaVuSans-48\"/>\n      </g>\n     </g>\n    </g>\n   </g>\n   <g id=\"patch_3\">\n    <path clip-path=\"url(#p601d02a7e4)\" d=\"M 59.234291 333.36 \nL 64.261318 333.36 \nL 64.261318 254.792253 \nL 59.234291 254.792253 \nz\n\" style=\"fill:#4c72b0;stroke:#ffffff;stroke-linejoin:miter;\"/>\n   </g>\n   <g id=\"patch_4\">\n    <path clip-path=\"url(#p601d02a7e4)\" d=\"M 89.396453 333.36 \nL 94.42348 333.36 \nL 94.42348 254.303543 \nL 89.396453 254.303543 \nz\n\" style=\"fill:#4c72b0;stroke:#ffffff;stroke-linejoin:miter;\"/>\n   </g>\n   <g id=\"patch_5\">\n    <path clip-path=\"url(#p601d02a7e4)\" d=\"M 119.558615 333.36 \nL 124.585642 333.36 \nL 124.585642 145.641959 \nL 119.558615 145.641959 \nz\n\" style=\"fill:#4c72b0;stroke:#ffffff;stroke-linejoin:miter;\"/>\n   </g>\n   <g id=\"patch_6\">\n    <path clip-path=\"url(#p601d02a7e4)\" d=\"M 149.720777 333.36 \nL 154.747804 333.36 \nL 154.747804 316.774409 \nL 149.720777 316.774409 \nz\n\" style=\"fill:#4c72b0;stroke:#ffffff;stroke-linejoin:miter;\"/>\n   </g>\n   <g id=\"patch_7\">\n    <path clip-path=\"url(#p601d02a7e4)\" d=\"M 179.882939 333.36 \nL 184.909966 333.36 \nL 184.909966 146.772101 \nL 179.882939 146.772101 \nz\n\" style=\"fill:#4c72b0;stroke:#ffffff;stroke-linejoin:miter;\"/>\n   </g>\n   <g id=\"patch_8\">\n    <path clip-path=\"url(#p601d02a7e4)\" d=\"M 210.045101 333.36 \nL 215.072128 333.36 \nL 215.072128 304.724656 \nL 210.045101 304.724656 \nz\n\" style=\"fill:#4c72b0;stroke:#ffffff;stroke-linejoin:miter;\"/>\n   </g>\n   <g id=\"patch_9\">\n    <path clip-path=\"url(#p601d02a7e4)\" d=\"M 240.207264 333.36 \nL 245.234291 333.36 \nL 245.234291 22.731429 \nL 240.207264 22.731429 \nz\n\" style=\"fill:#4c72b0;stroke:#ffffff;stroke-linejoin:miter;\"/>\n   </g>\n   <g id=\"patch_10\">\n    <path clip-path=\"url(#p601d02a7e4)\" d=\"M 270.369426 333.36 \nL 275.396453 333.36 \nL 275.396453 143.786389 \nL 270.369426 143.786389 \nz\n\" style=\"fill:#4c72b0;stroke:#ffffff;stroke-linejoin:miter;\"/>\n   </g>\n   <g id=\"patch_11\">\n    <path clip-path=\"url(#p601d02a7e4)\" d=\"M 300.531588 333.36 \nL 305.558615 333.36 \nL 305.558615 290.643703 \nL 300.531588 290.643703 \nz\n\" style=\"fill:#4c72b0;stroke:#ffffff;stroke-linejoin:miter;\"/>\n   </g>\n   <g id=\"patch_12\">\n    <path clip-path=\"url(#p601d02a7e4)\" d=\"M 330.69375 333.36 \nL 335.720777 333.36 \nL 335.720777 304.426849 \nL 330.69375 304.426849 \nz\n\" style=\"fill:#4c72b0;stroke:#ffffff;stroke-linejoin:miter;\"/>\n   </g>\n   <g id=\"patch_13\">\n    <path clip-path=\"url(#p601d02a7e4)\" d=\"M 360.855912 333.36 \nL 365.882939 333.36 \nL 365.882939 216.466709 \nL 360.855912 216.466709 \nz\n\" style=\"fill:#4c72b0;stroke:#ffffff;stroke-linejoin:miter;\"/>\n   </g>\n   <g id=\"patch_14\">\n    <path clip-path=\"url(#p601d02a7e4)\" d=\"M 391.018074 333.36 \nL 396.045101 333.36 \nL 396.045101 325.342104 \nL 391.018074 325.342104 \nz\n\" style=\"fill:#4c72b0;stroke:#ffffff;stroke-linejoin:miter;\"/>\n   </g>\n   <g id=\"patch_15\">\n    <path clip-path=\"url(#p601d02a7e4)\" d=\"M 421.180236 333.36 \nL 426.207264 333.36 \nL 426.207264 294.67556 \nL 421.180236 294.67556 \nz\n\" style=\"fill:#4c72b0;stroke:#ffffff;stroke-linejoin:miter;\"/>\n   </g>\n   <g id=\"patch_16\">\n    <path clip-path=\"url(#p601d02a7e4)\" d=\"M 451.342399 333.36 \nL 456.369426 333.36 \nL 456.369426 184.043864 \nL 451.342399 184.043864 \nz\n\" style=\"fill:#4c72b0;stroke:#ffffff;stroke-linejoin:miter;\"/>\n   </g>\n   <g id=\"patch_17\">\n    <path clip-path=\"url(#p601d02a7e4)\" d=\"M 481.504561 333.36 \nL 486.531588 333.36 \nL 486.531588 266.704556 \nL 481.504561 266.704556 \nz\n\" style=\"fill:#4c72b0;stroke:#ffffff;stroke-linejoin:miter;\"/>\n   </g>\n   <g id=\"patch_18\">\n    <path clip-path=\"url(#p601d02a7e4)\" d=\"M 511.666723 333.36 \nL 516.69375 333.36 \nL 516.69375 206.959775 \nL 511.666723 206.959775 \nz\n\" style=\"fill:#4c72b0;stroke:#ffffff;stroke-linejoin:miter;\"/>\n   </g>\n   <g id=\"patch_19\">\n    <path clip-path=\"url(#p601d02a7e4)\" d=\"M 541.828885 333.36 \nL 546.855912 333.36 \nL 546.855912 267.269627 \nL 541.828885 267.269627 \nz\n\" style=\"fill:#4c72b0;stroke:#ffffff;stroke-linejoin:miter;\"/>\n   </g>\n   <g id=\"patch_20\">\n    <path clip-path=\"url(#p601d02a7e4)\" d=\"M 571.991047 333.36 \nL 577.018074 333.36 \nL 577.018074 271.377844 \nL 571.991047 271.377844 \nz\n\" style=\"fill:#4c72b0;stroke:#ffffff;stroke-linejoin:miter;\"/>\n   </g>\n   <g id=\"patch_21\">\n    <path clip-path=\"url(#p601d02a7e4)\" d=\"M 602.153209 333.36 \nL 607.180236 333.36 \nL 607.180236 280.915323 \nL 602.153209 280.915323 \nz\n\" style=\"fill:#4c72b0;stroke:#ffffff;stroke-linejoin:miter;\"/>\n   </g>\n   <g id=\"patch_22\">\n    <path clip-path=\"url(#p601d02a7e4)\" d=\"M 632.315372 333.36 \nL 637.342399 333.36 \nL 637.342399 272.645435 \nL 632.315372 272.645435 \nz\n\" style=\"fill:#4c72b0;stroke:#ffffff;stroke-linejoin:miter;\"/>\n   </g>\n   <g id=\"patch_23\">\n    <path clip-path=\"url(#p601d02a7e4)\" d=\"M 662.477534 333.36 \nL 667.504561 333.36 \nL 667.504561 272.347628 \nL 662.477534 272.347628 \nz\n\" style=\"fill:#4c72b0;stroke:#ffffff;stroke-linejoin:miter;\"/>\n   </g>\n   <g id=\"patch_24\">\n    <path clip-path=\"url(#p601d02a7e4)\" d=\"M 692.639696 333.36 \nL 697.666723 333.36 \nL 697.666723 84.102697 \nL 692.639696 84.102697 \nz\n\" style=\"fill:#4c72b0;stroke:#ffffff;stroke-linejoin:miter;\"/>\n   </g>\n   <g id=\"patch_25\">\n    <path clip-path=\"url(#p601d02a7e4)\" d=\"M 722.801858 333.36 \nL 727.828885 333.36 \nL 727.828885 300.440809 \nL 722.801858 300.440809 \nz\n\" style=\"fill:#4c72b0;stroke:#ffffff;stroke-linejoin:miter;\"/>\n   </g>\n   <g id=\"patch_26\">\n    <path clip-path=\"url(#p601d02a7e4)\" d=\"M 752.96402 333.36 \nL 757.991047 333.36 \nL 757.991047 252.547242 \nL 752.96402 252.547242 \nz\n\" style=\"fill:#4c72b0;stroke:#ffffff;stroke-linejoin:miter;\"/>\n   </g>\n   <g id=\"patch_27\">\n    <path clip-path=\"url(#p601d02a7e4)\" d=\"M 783.126182 333.36 \nL 788.153209 333.36 \nL 788.153209 309.000868 \nL 783.126182 309.000868 \nz\n\" style=\"fill:#4c72b0;stroke:#ffffff;stroke-linejoin:miter;\"/>\n   </g>\n   <g id=\"patch_28\">\n    <path clip-path=\"url(#p601d02a7e4)\" d=\"M 813.288345 333.36 \nL 818.315372 333.36 \nL 818.315372 291.476037 \nL 813.288345 291.476037 \nz\n\" style=\"fill:#4c72b0;stroke:#ffffff;stroke-linejoin:miter;\"/>\n   </g>\n   <g id=\"patch_29\">\n    <path clip-path=\"url(#p601d02a7e4)\" d=\"M 843.450507 333.36 \nL 848.477534 333.36 \nL 848.477534 310.543358 \nL 843.450507 310.543358 \nz\n\" style=\"fill:#4c72b0;stroke:#ffffff;stroke-linejoin:miter;\"/>\n   </g>\n   <g id=\"patch_30\">\n    <path clip-path=\"url(#p601d02a7e4)\" d=\"M 873.612669 333.36 \nL 878.639696 333.36 \nL 878.639696 146.83319 \nL 873.612669 146.83319 \nz\n\" style=\"fill:#4c72b0;stroke:#ffffff;stroke-linejoin:miter;\"/>\n   </g>\n   <g id=\"patch_31\">\n    <path clip-path=\"url(#p601d02a7e4)\" d=\"M 903.774831 333.36 \nL 908.801858 333.36 \nL 908.801858 317.125669 \nL 903.774831 317.125669 \nz\n\" style=\"fill:#4c72b0;stroke:#ffffff;stroke-linejoin:miter;\"/>\n   </g>\n   <g id=\"patch_32\">\n    <path clip-path=\"url(#p601d02a7e4)\" d=\"M 933.936993 333.36 \nL 938.96402 333.36 \nL 938.96402 310.367728 \nL 933.936993 310.367728 \nz\n\" style=\"fill:#4c72b0;stroke:#ffffff;stroke-linejoin:miter;\"/>\n   </g>\n   <g id=\"patch_33\">\n    <path clip-path=\"url(#p601d02a7e4)\" d=\"M 964.099155 333.36 \nL 969.126182 333.36 \nL 969.126182 315.422821 \nL 964.099155 315.422821 \nz\n\" style=\"fill:#4c72b0;stroke:#ffffff;stroke-linejoin:miter;\"/>\n   </g>\n   <g id=\"patch_34\">\n    <path clip-path=\"url(#p601d02a7e4)\" d=\"M 994.261318 333.36 \nL 999.288345 333.36 \nL 999.288345 137.028448 \nL 994.261318 137.028448 \nz\n\" style=\"fill:#4c72b0;stroke:#ffffff;stroke-linejoin:miter;\"/>\n   </g>\n   <g id=\"patch_35\">\n    <path clip-path=\"url(#p601d02a7e4)\" d=\"M 1024.42348 333.36 \nL 1029.450507 333.36 \nL 1029.450507 255.723856 \nL 1024.42348 255.723856 \nz\n\" style=\"fill:#4c72b0;stroke:#ffffff;stroke-linejoin:miter;\"/>\n   </g>\n   <g id=\"patch_36\">\n    <path clip-path=\"url(#p601d02a7e4)\" d=\"M 1054.585642 333.36 \nL 1059.612669 333.36 \nL 1059.612669 289.7121 \nL 1054.585642 289.7121 \nz\n\" style=\"fill:#4c72b0;stroke:#ffffff;stroke-linejoin:miter;\"/>\n   </g>\n   <g id=\"patch_37\">\n    <path clip-path=\"url(#p601d02a7e4)\" d=\"M 1084.747804 333.36 \nL 1089.774831 333.36 \nL 1089.774831 298.03544 \nL 1084.747804 298.03544 \nz\n\" style=\"fill:#4c72b0;stroke:#ffffff;stroke-linejoin:miter;\"/>\n   </g>\n   <g id=\"patch_38\">\n    <path clip-path=\"url(#p601d02a7e4)\" d=\"M 1114.909966 333.36 \nL 1119.936993 333.36 \nL 1119.936993 175.468533 \nL 1114.909966 175.468533 \nz\n\" style=\"fill:#4c72b0;stroke:#ffffff;stroke-linejoin:miter;\"/>\n   </g>\n   <g id=\"patch_39\">\n    <path clip-path=\"url(#p601d02a7e4)\" d=\"M 1145.072128 333.36 \nL 1150.099155 333.36 \nL 1150.099155 300.998244 \nL 1145.072128 300.998244 \nz\n\" style=\"fill:#4c72b0;stroke:#ffffff;stroke-linejoin:miter;\"/>\n   </g>\n   <g id=\"patch_40\">\n    <path clip-path=\"url(#p601d02a7e4)\" d=\"M 64.261318 333.36 \nL 69.288345 333.36 \nL 69.288345 327.442029 \nL 64.261318 327.442029 \nz\n\" style=\"fill:#dd8452;stroke:#ffffff;stroke-linejoin:miter;\"/>\n   </g>\n   <g id=\"patch_41\">\n    <path clip-path=\"url(#p601d02a7e4)\" d=\"M 94.42348 333.36 \nL 99.450507 333.36 \nL 99.450507 320.790993 \nL 94.42348 320.790993 \nz\n\" style=\"fill:#dd8452;stroke:#ffffff;stroke-linejoin:miter;\"/>\n   </g>\n   <g id=\"patch_42\">\n    <path clip-path=\"url(#p601d02a7e4)\" d=\"M 124.585642 333.36 \nL 129.612669 333.36 \nL 129.612669 279.517918 \nL 124.585642 279.517918 \nz\n\" style=\"fill:#dd8452;stroke:#ffffff;stroke-linejoin:miter;\"/>\n   </g>\n   <g id=\"patch_43\">\n    <path clip-path=\"url(#p601d02a7e4)\" d=\"M 154.747804 333.36 \nL 159.774831 333.36 \nL 159.774831 331.0539 \nL 154.747804 331.0539 \nz\n\" style=\"fill:#dd8452;stroke:#ffffff;stroke-linejoin:miter;\"/>\n   </g>\n   <g id=\"patch_44\">\n    <path clip-path=\"url(#p601d02a7e4)\" d=\"M 184.909966 333.36 \nL 189.936993 333.36 \nL 189.936993 316.927131 \nL 184.909966 316.927131 \nz\n\" style=\"fill:#dd8452;stroke:#ffffff;stroke-linejoin:miter;\"/>\n   </g>\n   <g id=\"patch_45\">\n    <path clip-path=\"url(#p601d02a7e4)\" d=\"M 215.072128 333.36 \nL 220.099155 333.36 \nL 220.099155 323.891246 \nL 215.072128 323.891246 \nz\n\" style=\"fill:#dd8452;stroke:#ffffff;stroke-linejoin:miter;\"/>\n   </g>\n   <g id=\"patch_46\">\n    <path clip-path=\"url(#p601d02a7e4)\" d=\"M 245.234291 333.36 \nL 250.261318 333.36 \nL 250.261318 307.366744 \nL 245.234291 307.366744 \nz\n\" style=\"fill:#dd8452;stroke:#ffffff;stroke-linejoin:miter;\"/>\n   </g>\n   <g id=\"patch_47\">\n    <path clip-path=\"url(#p601d02a7e4)\" d=\"M 275.396453 333.36 \nL 280.42348 333.36 \nL 280.42348 308.115081 \nL 275.396453 308.115081 \nz\n\" style=\"fill:#dd8452;stroke:#ffffff;stroke-linejoin:miter;\"/>\n   </g>\n   <g id=\"patch_48\">\n    <path clip-path=\"url(#p601d02a7e4)\" d=\"M 305.558615 333.36 \nL 310.585642 333.36 \nL 310.585642 329.541954 \nL 305.558615 329.541954 \nz\n\" style=\"fill:#dd8452;stroke:#ffffff;stroke-linejoin:miter;\"/>\n   </g>\n   <g id=\"patch_49\">\n    <path clip-path=\"url(#p601d02a7e4)\" d=\"M 335.720777 333.36 \nL 340.747804 333.36 \nL 340.747804 329.442685 \nL 335.720777 329.442685 \nz\n\" style=\"fill:#dd8452;stroke:#ffffff;stroke-linejoin:miter;\"/>\n   </g>\n   <g id=\"patch_50\">\n    <path clip-path=\"url(#p601d02a7e4)\" d=\"M 365.882939 333.36 \nL 370.909966 333.36 \nL 370.909966 322.241851 \nL 365.882939 322.241851 \nz\n\" style=\"fill:#dd8452;stroke:#ffffff;stroke-linejoin:miter;\"/>\n   </g>\n   <g id=\"patch_51\">\n    <path clip-path=\"url(#p601d02a7e4)\" d=\"M 396.045101 333.36 \nL 401.072128 333.36 \nL 401.072128 331.580791 \nL 396.045101 331.580791 \nz\n\" style=\"fill:#dd8452;stroke:#ffffff;stroke-linejoin:miter;\"/>\n   </g>\n   <g id=\"patch_52\">\n    <path clip-path=\"url(#p601d02a7e4)\" d=\"M 426.207264 333.36 \nL 431.234291 333.36 \nL 431.234291 330.17575 \nL 426.207264 330.17575 \nz\n\" style=\"fill:#dd8452;stroke:#ffffff;stroke-linejoin:miter;\"/>\n   </g>\n   <g id=\"patch_53\">\n    <path clip-path=\"url(#p601d02a7e4)\" d=\"M 456.369426 333.36 \nL 461.396453 333.36 \nL 461.396453 320.714632 \nL 456.369426 320.714632 \nz\n\" style=\"fill:#dd8452;stroke:#ffffff;stroke-linejoin:miter;\"/>\n   </g>\n   <g id=\"patch_54\">\n    <path clip-path=\"url(#p601d02a7e4)\" d=\"M 486.531588 333.36 \nL 491.558615 333.36 \nL 491.558615 322.280031 \nL 486.531588 322.280031 \nz\n\" style=\"fill:#dd8452;stroke:#ffffff;stroke-linejoin:miter;\"/>\n   </g>\n   <g id=\"patch_55\">\n    <path clip-path=\"url(#p601d02a7e4)\" d=\"M 516.69375 333.36 \nL 521.720777 333.36 \nL 521.720777 311.436781 \nL 516.69375 311.436781 \nz\n\" style=\"fill:#dd8452;stroke:#ffffff;stroke-linejoin:miter;\"/>\n   </g>\n   <g id=\"patch_56\">\n    <path clip-path=\"url(#p601d02a7e4)\" d=\"M 546.855912 333.36 \nL 551.882939 333.36 \nL 551.882939 329.480865 \nL 546.855912 329.480865 \nz\n\" style=\"fill:#dd8452;stroke:#ffffff;stroke-linejoin:miter;\"/>\n   </g>\n   <g id=\"patch_57\">\n    <path clip-path=\"url(#p601d02a7e4)\" d=\"M 577.018074 333.36 \nL 582.045101 333.36 \nL 582.045101 330.794273 \nL 577.018074 330.794273 \nz\n\" style=\"fill:#dd8452;stroke:#ffffff;stroke-linejoin:miter;\"/>\n   </g>\n   <g id=\"patch_58\">\n    <path clip-path=\"url(#p601d02a7e4)\" d=\"M 607.180236 333.36 \nL 612.207264 333.36 \nL 612.207264 328.0071 \nL 607.180236 328.0071 \nz\n\" style=\"fill:#dd8452;stroke:#ffffff;stroke-linejoin:miter;\"/>\n   </g>\n   <g id=\"patch_59\">\n    <path clip-path=\"url(#p601d02a7e4)\" d=\"M 637.342399 333.36 \nL 642.369426 333.36 \nL 642.369426 328.953975 \nL 637.342399 328.953975 \nz\n\" style=\"fill:#dd8452;stroke:#ffffff;stroke-linejoin:miter;\"/>\n   </g>\n   <g id=\"patch_60\">\n    <path clip-path=\"url(#p601d02a7e4)\" d=\"M 667.504561 333.36 \nL 672.531588 333.36 \nL 672.531588 325.739181 \nL 667.504561 325.739181 \nz\n\" style=\"fill:#dd8452;stroke:#ffffff;stroke-linejoin:miter;\"/>\n   </g>\n   <g id=\"patch_61\">\n    <path clip-path=\"url(#p601d02a7e4)\" d=\"M 697.666723 333.36 \nL 702.69375 333.36 \nL 702.69375 308.557974 \nL 697.666723 308.557974 \nz\n\" style=\"fill:#dd8452;stroke:#ffffff;stroke-linejoin:miter;\"/>\n   </g>\n   <g id=\"patch_62\">\n    <path clip-path=\"url(#p601d02a7e4)\" d=\"M 727.828885 333.36 \nL 732.855912 333.36 \nL 732.855912 328.579807 \nL 727.828885 328.579807 \nz\n\" style=\"fill:#dd8452;stroke:#ffffff;stroke-linejoin:miter;\"/>\n   </g>\n   <g id=\"patch_63\">\n    <path clip-path=\"url(#p601d02a7e4)\" d=\"M 757.991047 333.36 \nL 763.018074 333.36 \nL 763.018074 323.196362 \nL 757.991047 323.196362 \nz\n\" style=\"fill:#dd8452;stroke:#ffffff;stroke-linejoin:miter;\"/>\n   </g>\n   <g id=\"patch_64\">\n    <path clip-path=\"url(#p601d02a7e4)\" d=\"M 788.153209 333.36 \nL 793.180236 333.36 \nL 793.180236 332.825474 \nL 788.153209 332.825474 \nz\n\" style=\"fill:#dd8452;stroke:#ffffff;stroke-linejoin:miter;\"/>\n   </g>\n   <g id=\"patch_65\">\n    <path clip-path=\"url(#p601d02a7e4)\" d=\"M 818.315372 333.36 \nL 823.342399 333.36 \nL 823.342399 326.518062 \nL 818.315372 326.518062 \nz\n\" style=\"fill:#dd8452;stroke:#ffffff;stroke-linejoin:miter;\"/>\n   </g>\n   <g id=\"patch_66\">\n    <path clip-path=\"url(#p601d02a7e4)\" d=\"M 848.477534 333.36 \nL 853.504561 333.36 \nL 853.504561 330.954631 \nL 848.477534 330.954631 \nz\n\" style=\"fill:#dd8452;stroke:#ffffff;stroke-linejoin:miter;\"/>\n   </g>\n   <g id=\"patch_67\">\n    <path clip-path=\"url(#p601d02a7e4)\" d=\"M 878.639696 333.36 \nL 883.666723 333.36 \nL 883.666723 333.32182 \nL 878.639696 333.32182 \nz\n\" style=\"fill:#dd8452;stroke:#ffffff;stroke-linejoin:miter;\"/>\n   </g>\n   <g id=\"patch_68\">\n    <path clip-path=\"url(#p601d02a7e4)\" d=\"M 908.801858 333.36 \nL 913.828885 333.36 \nL 913.828885 332.20695 \nL 908.801858 332.20695 \nz\n\" style=\"fill:#dd8452;stroke:#ffffff;stroke-linejoin:miter;\"/>\n   </g>\n   <g id=\"patch_69\">\n    <path clip-path=\"url(#p601d02a7e4)\" d=\"M 938.96402 333.36 \nL 943.991047 333.36 \nL 943.991047 328.595079 \nL 938.96402 328.595079 \nz\n\" style=\"fill:#dd8452;stroke:#ffffff;stroke-linejoin:miter;\"/>\n   </g>\n   <g id=\"patch_70\">\n    <path clip-path=\"url(#p601d02a7e4)\" d=\"M 969.126182 333.36 \nL 974.153209 333.36 \nL 974.153209 332.077137 \nL 969.126182 332.077137 \nz\n\" style=\"fill:#dd8452;stroke:#ffffff;stroke-linejoin:miter;\"/>\n   </g>\n   <g id=\"patch_71\">\n    <path clip-path=\"url(#p601d02a7e4)\" d=\"M 999.288345 333.36 \nL 1004.315372 333.36 \nL 1004.315372 315.17083 \nL 999.288345 315.17083 \nz\n\" style=\"fill:#dd8452;stroke:#ffffff;stroke-linejoin:miter;\"/>\n   </g>\n   <g id=\"patch_72\">\n    <path clip-path=\"url(#p601d02a7e4)\" d=\"M 1029.450507 333.36 \nL 1034.477534 333.36 \nL 1034.477534 328.923431 \nL 1029.450507 328.923431 \nz\n\" style=\"fill:#dd8452;stroke:#ffffff;stroke-linejoin:miter;\"/>\n   </g>\n   <g id=\"patch_73\">\n    <path clip-path=\"url(#p601d02a7e4)\" d=\"M 1059.612669 333.36 \nL 1064.639696 333.36 \nL 1064.639696 328.717256 \nL 1059.612669 328.717256 \nz\n\" style=\"fill:#dd8452;stroke:#ffffff;stroke-linejoin:miter;\"/>\n   </g>\n   <g id=\"patch_74\">\n    <path clip-path=\"url(#p601d02a7e4)\" d=\"M 1089.774831 333.36 \nL 1094.801858 333.36 \nL 1094.801858 328.694348 \nL 1089.774831 328.694348 \nz\n\" style=\"fill:#dd8452;stroke:#ffffff;stroke-linejoin:miter;\"/>\n   </g>\n   <g id=\"patch_75\">\n    <path clip-path=\"url(#p601d02a7e4)\" d=\"M 1119.936993 333.36 \nL 1124.96402 333.36 \nL 1124.96402 322.364028 \nL 1119.936993 322.364028 \nz\n\" style=\"fill:#dd8452;stroke:#ffffff;stroke-linejoin:miter;\"/>\n   </g>\n   <g id=\"patch_76\">\n    <path clip-path=\"url(#p601d02a7e4)\" d=\"M 1150.099155 333.36 \nL 1155.126182 333.36 \nL 1155.126182 326.808233 \nL 1150.099155 326.808233 \nz\n\" style=\"fill:#dd8452;stroke:#ffffff;stroke-linejoin:miter;\"/>\n   </g>\n   <g id=\"patch_77\">\n    <path clip-path=\"url(#p601d02a7e4)\" d=\"M 69.288345 333.36 \nL 74.315372 333.36 \nL 74.315372 332.741477 \nL 69.288345 332.741477 \nz\n\" style=\"fill:#55a868;stroke:#ffffff;stroke-linejoin:miter;\"/>\n   </g>\n   <g id=\"patch_78\">\n    <path clip-path=\"url(#p601d02a7e4)\" d=\"M 99.450507 333.36 \nL 104.477534 333.36 \nL 104.477534 332.802565 \nL 99.450507 332.802565 \nz\n\" style=\"fill:#55a868;stroke:#ffffff;stroke-linejoin:miter;\"/>\n   </g>\n   <g id=\"patch_79\">\n    <path clip-path=\"url(#p601d02a7e4)\" d=\"M 129.612669 333.36 \nL 134.639696 333.36 \nL 134.639696 330.756093 \nL 129.612669 330.756093 \nz\n\" style=\"fill:#55a868;stroke:#ffffff;stroke-linejoin:miter;\"/>\n   </g>\n   <g id=\"patch_80\">\n    <path clip-path=\"url(#p601d02a7e4)\" d=\"M 159.774831 333.36 \nL 164.801858 333.36 \nL 164.801858 333.062192 \nL 159.774831 333.062192 \nz\n\" style=\"fill:#55a868;stroke:#ffffff;stroke-linejoin:miter;\"/>\n   </g>\n   <g id=\"patch_81\">\n    <path clip-path=\"url(#p601d02a7e4)\" d=\"M 189.936993 333.36 \nL 194.96402 333.36 \nL 194.96402 331.817509 \nL 189.936993 331.817509 \nz\n\" style=\"fill:#55a868;stroke:#ffffff;stroke-linejoin:miter;\"/>\n   </g>\n   <g id=\"patch_82\">\n    <path clip-path=\"url(#p601d02a7e4)\" d=\"M 220.099155 333.36 \nL 225.126182 333.36 \nL 225.126182 332.428397 \nL 220.099155 332.428397 \nz\n\" style=\"fill:#55a868;stroke:#ffffff;stroke-linejoin:miter;\"/>\n   </g>\n   <g id=\"patch_83\">\n    <path clip-path=\"url(#p601d02a7e4)\" d=\"M 250.261318 333.36 \nL 255.288345 333.36 \nL 255.288345 329.778673 \nL 250.261318 329.778673 \nz\n\" style=\"fill:#55a868;stroke:#ffffff;stroke-linejoin:miter;\"/>\n   </g>\n   <g id=\"patch_84\">\n    <path clip-path=\"url(#p601d02a7e4)\" d=\"M 280.42348 333.36 \nL 285.450507 333.36 \nL 285.450507 332.268039 \nL 280.42348 332.268039 \nz\n\" style=\"fill:#55a868;stroke:#ffffff;stroke-linejoin:miter;\"/>\n   </g>\n   <g id=\"patch_85\">\n    <path clip-path=\"url(#p601d02a7e4)\" d=\"M 310.585642 333.36 \nL 315.612669 333.36 \nL 315.612669 333.001104 \nL 310.585642 333.001104 \nz\n\" style=\"fill:#55a868;stroke:#ffffff;stroke-linejoin:miter;\"/>\n   </g>\n   <g id=\"patch_86\">\n    <path clip-path=\"url(#p601d02a7e4)\" d=\"M 340.747804 333.36 \nL 345.774831 333.36 \nL 345.774831 333.276003 \nL 340.747804 333.276003 \nz\n\" style=\"fill:#55a868;stroke:#ffffff;stroke-linejoin:miter;\"/>\n   </g>\n   <g id=\"patch_87\">\n    <path clip-path=\"url(#p601d02a7e4)\" d=\"M 370.909966 333.36 \nL 375.936993 333.36 \nL 375.936993 332.993468 \nL 370.909966 332.993468 \nz\n\" style=\"fill:#55a868;stroke:#ffffff;stroke-linejoin:miter;\"/>\n   </g>\n   <g id=\"patch_88\">\n    <path clip-path=\"url(#p601d02a7e4)\" d=\"M 401.072128 333.36 \nL 406.099155 333.36 \nL 406.099155 333.36 \nL 401.072128 333.36 \nz\n\" style=\"fill:#55a868;stroke:#ffffff;stroke-linejoin:miter;\"/>\n   </g>\n   <g id=\"patch_89\">\n    <path clip-path=\"url(#p601d02a7e4)\" d=\"M 431.234291 333.36 \nL 436.261318 333.36 \nL 436.261318 333.36 \nL 431.234291 333.36 \nz\n\" style=\"fill:#55a868;stroke:#ffffff;stroke-linejoin:miter;\"/>\n   </g>\n   <g id=\"patch_90\">\n    <path clip-path=\"url(#p601d02a7e4)\" d=\"M 461.396453 333.36 \nL 466.42348 333.36 \nL 466.42348 333.253095 \nL 461.396453 333.253095 \nz\n\" style=\"fill:#55a868;stroke:#ffffff;stroke-linejoin:miter;\"/>\n   </g>\n   <g id=\"patch_91\">\n    <path clip-path=\"url(#p601d02a7e4)\" d=\"M 491.558615 333.36 \nL 496.585642 333.36 \nL 496.585642 332.122953 \nL 491.558615 332.122953 \nz\n\" style=\"fill:#55a868;stroke:#ffffff;stroke-linejoin:miter;\"/>\n   </g>\n   <g id=\"patch_92\">\n    <path clip-path=\"url(#p601d02a7e4)\" d=\"M 521.720777 333.36 \nL 526.747804 333.36 \nL 526.747804 333.214914 \nL 521.720777 333.214914 \nz\n\" style=\"fill:#55a868;stroke:#ffffff;stroke-linejoin:miter;\"/>\n   </g>\n   <g id=\"patch_93\">\n    <path clip-path=\"url(#p601d02a7e4)\" d=\"M 551.882939 333.36 \nL 556.909966 333.36 \nL 556.909966 332.016048 \nL 551.882939 332.016048 \nz\n\" style=\"fill:#55a868;stroke:#ffffff;stroke-linejoin:miter;\"/>\n   </g>\n   <g id=\"patch_94\">\n    <path clip-path=\"url(#p601d02a7e4)\" d=\"M 582.045101 333.36 \nL 587.072128 333.36 \nL 587.072128 333.153826 \nL 582.045101 333.153826 \nz\n\" style=\"fill:#55a868;stroke:#ffffff;stroke-linejoin:miter;\"/>\n   </g>\n   <g id=\"patch_95\">\n    <path clip-path=\"url(#p601d02a7e4)\" d=\"M 612.207264 333.36 \nL 617.234291 333.36 \nL 617.234291 331.863326 \nL 612.207264 331.863326 \nz\n\" style=\"fill:#55a868;stroke:#ffffff;stroke-linejoin:miter;\"/>\n   </g>\n   <g id=\"patch_96\">\n    <path clip-path=\"url(#p601d02a7e4)\" d=\"M 642.369426 333.36 \nL 647.396453 333.36 \nL 647.396453 332.764385 \nL 642.369426 332.764385 \nz\n\" style=\"fill:#55a868;stroke:#ffffff;stroke-linejoin:miter;\"/>\n   </g>\n   <g id=\"patch_97\">\n    <path clip-path=\"url(#p601d02a7e4)\" d=\"M 672.531588 333.36 \nL 677.558615 333.36 \nL 677.558615 332.978195 \nL 672.531588 332.978195 \nz\n\" style=\"fill:#55a868;stroke:#ffffff;stroke-linejoin:miter;\"/>\n   </g>\n   <g id=\"patch_98\">\n    <path clip-path=\"url(#p601d02a7e4)\" d=\"M 702.69375 333.36 \nL 707.720777 333.36 \nL 707.720777 330.794273 \nL 702.69375 330.794273 \nz\n\" style=\"fill:#55a868;stroke:#ffffff;stroke-linejoin:miter;\"/>\n   </g>\n   <g id=\"patch_99\">\n    <path clip-path=\"url(#p601d02a7e4)\" d=\"M 732.855912 333.36 \nL 737.882939 333.36 \nL 737.882939 333.36 \nL 732.855912 333.36 \nz\n\" style=\"fill:#55a868;stroke:#ffffff;stroke-linejoin:miter;\"/>\n   </g>\n   <g id=\"patch_100\">\n    <path clip-path=\"url(#p601d02a7e4)\" d=\"M 763.018074 333.36 \nL 768.045101 333.36 \nL 768.045101 333.115645 \nL 763.018074 333.115645 \nz\n\" style=\"fill:#55a868;stroke:#ffffff;stroke-linejoin:miter;\"/>\n   </g>\n   <g id=\"patch_101\">\n    <path clip-path=\"url(#p601d02a7e4)\" d=\"M 793.180236 333.36 \nL 798.207264 333.36 \nL 798.207264 333.253095 \nL 793.180236 333.253095 \nz\n\" style=\"fill:#55a868;stroke:#ffffff;stroke-linejoin:miter;\"/>\n   </g>\n   <g id=\"patch_102\">\n    <path clip-path=\"url(#p601d02a7e4)\" d=\"M 823.342399 333.36 \nL 828.369426 333.36 \nL 828.369426 332.611663 \nL 823.342399 332.611663 \nz\n\" style=\"fill:#55a868;stroke:#ffffff;stroke-linejoin:miter;\"/>\n   </g>\n   <g id=\"patch_103\">\n    <path clip-path=\"url(#p601d02a7e4)\" d=\"M 853.504561 333.36 \nL 858.531588 333.36 \nL 858.531588 332.825474 \nL 853.504561 332.825474 \nz\n\" style=\"fill:#55a868;stroke:#ffffff;stroke-linejoin:miter;\"/>\n   </g>\n   <g id=\"patch_104\">\n    <path clip-path=\"url(#p601d02a7e4)\" d=\"M 883.666723 333.36 \nL 888.69375 333.36 \nL 888.69375 333.291275 \nL 883.666723 333.291275 \nz\n\" style=\"fill:#55a868;stroke:#ffffff;stroke-linejoin:miter;\"/>\n   </g>\n   <g id=\"patch_105\">\n    <path clip-path=\"url(#p601d02a7e4)\" d=\"M 913.828885 333.36 \nL 918.855912 333.36 \nL 918.855912 333.04692 \nL 913.828885 333.04692 \nz\n\" style=\"fill:#55a868;stroke:#ffffff;stroke-linejoin:miter;\"/>\n   </g>\n   <g id=\"patch_106\">\n    <path clip-path=\"url(#p601d02a7e4)\" d=\"M 943.991047 333.36 \nL 949.018074 333.36 \nL 949.018074 333.199642 \nL 943.991047 333.199642 \nz\n\" style=\"fill:#55a868;stroke:#ffffff;stroke-linejoin:miter;\"/>\n   </g>\n   <g id=\"patch_107\">\n    <path clip-path=\"url(#p601d02a7e4)\" d=\"M 974.153209 333.36 \nL 979.180236 333.36 \nL 979.180236 333.230186 \nL 974.153209 333.230186 \nz\n\" style=\"fill:#55a868;stroke:#ffffff;stroke-linejoin:miter;\"/>\n   </g>\n   <g id=\"patch_108\">\n    <path clip-path=\"url(#p601d02a7e4)\" d=\"M 1004.315372 333.36 \nL 1009.342399 333.36 \nL 1009.342399 332.290947 \nL 1004.315372 332.290947 \nz\n\" style=\"fill:#55a868;stroke:#ffffff;stroke-linejoin:miter;\"/>\n   </g>\n   <g id=\"patch_109\">\n    <path clip-path=\"url(#p601d02a7e4)\" d=\"M 1034.477534 333.36 \nL 1039.504561 333.36 \nL 1039.504561 332.978195 \nL 1034.477534 332.978195 \nz\n\" style=\"fill:#55a868;stroke:#ffffff;stroke-linejoin:miter;\"/>\n   </g>\n   <g id=\"patch_110\">\n    <path clip-path=\"url(#p601d02a7e4)\" d=\"M 1064.639696 333.36 \nL 1069.666723 333.36 \nL 1069.666723 332.741477 \nL 1064.639696 332.741477 \nz\n\" style=\"fill:#55a868;stroke:#ffffff;stroke-linejoin:miter;\"/>\n   </g>\n   <g id=\"patch_111\">\n    <path clip-path=\"url(#p601d02a7e4)\" d=\"M 1094.801858 333.36 \nL 1099.828885 333.36 \nL 1099.828885 333.268367 \nL 1094.801858 333.268367 \nz\n\" style=\"fill:#55a868;stroke:#ffffff;stroke-linejoin:miter;\"/>\n   </g>\n   <g id=\"patch_112\">\n    <path clip-path=\"url(#p601d02a7e4)\" d=\"M 1124.96402 333.36 \nL 1129.991047 333.36 \nL 1129.991047 332.497122 \nL 1124.96402 332.497122 \nz\n\" style=\"fill:#55a868;stroke:#ffffff;stroke-linejoin:miter;\"/>\n   </g>\n   <g id=\"patch_113\">\n    <path clip-path=\"url(#p601d02a7e4)\" d=\"M 1155.126182 333.36 \nL 1160.153209 333.36 \nL 1160.153209 333.069829 \nL 1155.126182 333.069829 \nz\n\" style=\"fill:#55a868;stroke:#ffffff;stroke-linejoin:miter;\"/>\n   </g>\n   <g id=\"patch_114\">\n    <path d=\"M 51.69375 333.36 \nL 51.69375 7.2 \n\" style=\"fill:none;stroke:#262626;stroke-linecap:square;stroke-linejoin:miter;stroke-width:1.25;\"/>\n   </g>\n   <g id=\"patch_115\">\n    <path d=\"M 1167.69375 333.36 \nL 1167.69375 7.2 \n\" style=\"fill:none;stroke:#262626;stroke-linecap:square;stroke-linejoin:miter;stroke-width:1.25;\"/>\n   </g>\n   <g id=\"patch_116\">\n    <path d=\"M 51.69375 333.36 \nL 1167.69375 333.36 \n\" style=\"fill:none;stroke:#262626;stroke-linecap:square;stroke-linejoin:miter;stroke-width:1.25;\"/>\n   </g>\n   <g id=\"patch_117\">\n    <path d=\"M 51.69375 7.2 \nL 1167.69375 7.2 \n\" style=\"fill:none;stroke:#262626;stroke-linecap:square;stroke-linejoin:miter;stroke-width:1.25;\"/>\n   </g>\n   <g id=\"legend_1\">\n    <g id=\"patch_118\">\n     <path d=\"M 852.622813 64.437812 \nL 1159.99375 64.437812 \nQ 1162.19375 64.437812 1162.19375 62.237812 \nL 1162.19375 14.9 \nQ 1162.19375 12.7 1159.99375 12.7 \nL 852.622813 12.7 \nQ 850.422813 12.7 850.422813 14.9 \nL 850.422813 62.237812 \nQ 850.422813 64.437812 852.622813 64.437812 \nz\n\" style=\"fill:#ffffff;opacity:0.8;stroke:#cccccc;stroke-linejoin:miter;\"/>\n    </g>\n    <g id=\"patch_119\">\n     <path d=\"M 854.822813 25.458281 \nL 876.822813 25.458281 \nL 876.822813 17.758281 \nL 854.822813 17.758281 \nz\n\" style=\"fill:#4c72b0;stroke:#ffffff;stroke-linejoin:miter;\"/>\n    </g>\n    <g id=\"text_47\">\n     <!-- count -->\n     <g style=\"fill:#262626;\" transform=\"translate(885.622813 25.458281)scale(0.11 -0.11)\">\n      <use xlink:href=\"#DejaVuSans-99\"/>\n      <use x=\"54.980469\" xlink:href=\"#DejaVuSans-111\"/>\n      <use x=\"116.162109\" xlink:href=\"#DejaVuSans-117\"/>\n      <use x=\"179.541016\" xlink:href=\"#DejaVuSans-110\"/>\n      <use x=\"242.919922\" xlink:href=\"#DejaVuSans-116\"/>\n     </g>\n    </g>\n    <g id=\"patch_120\">\n     <path d=\"M 854.822813 41.604219 \nL 876.822813 41.604219 \nL 876.822813 33.904219 \nL 854.822813 33.904219 \nz\n\" style=\"fill:#dd8452;stroke:#ffffff;stroke-linejoin:miter;\"/>\n    </g>\n    <g id=\"text_48\">\n     <!-- BIC count in all commits -->\n     <defs>\n      <path d=\"M 19.671875 34.8125 \nL 19.671875 8.109375 \nL 35.5 8.109375 \nQ 43.453125 8.109375 47.28125 11.40625 \nQ 51.125 14.703125 51.125 21.484375 \nQ 51.125 28.328125 47.28125 31.5625 \nQ 43.453125 34.8125 35.5 34.8125 \nz\nM 19.671875 64.796875 \nL 19.671875 42.828125 \nL 34.28125 42.828125 \nQ 41.5 42.828125 45.03125 45.53125 \nQ 48.578125 48.25 48.578125 53.8125 \nQ 48.578125 59.328125 45.03125 62.0625 \nQ 41.5 64.796875 34.28125 64.796875 \nz\nM 9.8125 72.90625 \nL 35.015625 72.90625 \nQ 46.296875 72.90625 52.390625 68.21875 \nQ 58.5 63.53125 58.5 54.890625 \nQ 58.5 48.1875 55.375 44.234375 \nQ 52.25 40.28125 46.1875 39.3125 \nQ 53.46875 37.75 57.5 32.78125 \nQ 61.53125 27.828125 61.53125 20.40625 \nQ 61.53125 10.640625 54.890625 5.3125 \nQ 48.25 0 35.984375 0 \nL 9.8125 0 \nz\n\" id=\"DejaVuSans-66\"/>\n      <path d=\"M 9.8125 72.90625 \nL 19.671875 72.90625 \nL 19.671875 0 \nL 9.8125 0 \nz\n\" id=\"DejaVuSans-73\"/>\n      <path d=\"M 64.40625 67.28125 \nL 64.40625 56.890625 \nQ 59.421875 61.53125 53.78125 63.8125 \nQ 48.140625 66.109375 41.796875 66.109375 \nQ 29.296875 66.109375 22.65625 58.46875 \nQ 16.015625 50.828125 16.015625 36.375 \nQ 16.015625 21.96875 22.65625 14.328125 \nQ 29.296875 6.6875 41.796875 6.6875 \nQ 48.140625 6.6875 53.78125 8.984375 \nQ 59.421875 11.28125 64.40625 15.921875 \nL 64.40625 5.609375 \nQ 59.234375 2.09375 53.4375 0.328125 \nQ 47.65625 -1.421875 41.21875 -1.421875 \nQ 24.65625 -1.421875 15.125 8.703125 \nQ 5.609375 18.84375 5.609375 36.375 \nQ 5.609375 53.953125 15.125 64.078125 \nQ 24.65625 74.21875 41.21875 74.21875 \nQ 47.75 74.21875 53.53125 72.484375 \nQ 59.328125 70.75 64.40625 67.28125 \nz\n\" id=\"DejaVuSans-67\"/>\n      <path id=\"DejaVuSans-32\"/>\n     </defs>\n     <g style=\"fill:#262626;\" transform=\"translate(885.622813 41.604219)scale(0.11 -0.11)\">\n      <use xlink:href=\"#DejaVuSans-66\"/>\n      <use x=\"68.603516\" xlink:href=\"#DejaVuSans-73\"/>\n      <use x=\"98.095703\" xlink:href=\"#DejaVuSans-67\"/>\n      <use x=\"167.919922\" xlink:href=\"#DejaVuSans-32\"/>\n      <use x=\"199.707031\" xlink:href=\"#DejaVuSans-99\"/>\n      <use x=\"254.6875\" xlink:href=\"#DejaVuSans-111\"/>\n      <use x=\"315.869141\" xlink:href=\"#DejaVuSans-117\"/>\n      <use x=\"379.248047\" xlink:href=\"#DejaVuSans-110\"/>\n      <use x=\"442.626953\" xlink:href=\"#DejaVuSans-116\"/>\n      <use x=\"481.835938\" xlink:href=\"#DejaVuSans-32\"/>\n      <use x=\"513.623047\" xlink:href=\"#DejaVuSans-105\"/>\n      <use x=\"541.40625\" xlink:href=\"#DejaVuSans-110\"/>\n      <use x=\"604.785156\" xlink:href=\"#DejaVuSans-32\"/>\n      <use x=\"636.572266\" xlink:href=\"#DejaVuSans-97\"/>\n      <use x=\"697.851562\" xlink:href=\"#DejaVuSans-108\"/>\n      <use x=\"725.634766\" xlink:href=\"#DejaVuSans-108\"/>\n      <use x=\"753.417969\" xlink:href=\"#DejaVuSans-32\"/>\n      <use x=\"785.205078\" xlink:href=\"#DejaVuSans-99\"/>\n      <use x=\"840.185547\" xlink:href=\"#DejaVuSans-111\"/>\n      <use x=\"901.367188\" xlink:href=\"#DejaVuSans-109\"/>\n      <use x=\"998.779297\" xlink:href=\"#DejaVuSans-109\"/>\n      <use x=\"1096.191406\" xlink:href=\"#DejaVuSans-105\"/>\n      <use x=\"1123.974609\" xlink:href=\"#DejaVuSans-116\"/>\n      <use x=\"1163.183594\" xlink:href=\"#DejaVuSans-115\"/>\n     </g>\n    </g>\n    <g id=\"patch_121\">\n     <path d=\"M 854.822813 57.750156 \nL 876.822813 57.750156 \nL 876.822813 50.050156 \nL 854.822813 50.050156 \nz\n\" style=\"fill:#55a868;stroke:#ffffff;stroke-linejoin:miter;\"/>\n    </g>\n    <g id=\"text_49\">\n     <!-- BIC count in commits with cocahnge dependency -->\n     <g style=\"fill:#262626;\" transform=\"translate(885.622813 57.750156)scale(0.11 -0.11)\">\n      <use xlink:href=\"#DejaVuSans-66\"/>\n      <use x=\"68.603516\" xlink:href=\"#DejaVuSans-73\"/>\n      <use x=\"98.095703\" xlink:href=\"#DejaVuSans-67\"/>\n      <use x=\"167.919922\" xlink:href=\"#DejaVuSans-32\"/>\n      <use x=\"199.707031\" xlink:href=\"#DejaVuSans-99\"/>\n      <use x=\"254.6875\" xlink:href=\"#DejaVuSans-111\"/>\n      <use x=\"315.869141\" xlink:href=\"#DejaVuSans-117\"/>\n      <use x=\"379.248047\" xlink:href=\"#DejaVuSans-110\"/>\n      <use x=\"442.626953\" xlink:href=\"#DejaVuSans-116\"/>\n      <use x=\"481.835938\" xlink:href=\"#DejaVuSans-32\"/>\n      <use x=\"513.623047\" xlink:href=\"#DejaVuSans-105\"/>\n      <use x=\"541.40625\" xlink:href=\"#DejaVuSans-110\"/>\n      <use x=\"604.785156\" xlink:href=\"#DejaVuSans-32\"/>\n      <use x=\"636.572266\" xlink:href=\"#DejaVuSans-99\"/>\n      <use x=\"691.552734\" xlink:href=\"#DejaVuSans-111\"/>\n      <use x=\"752.734375\" xlink:href=\"#DejaVuSans-109\"/>\n      <use x=\"850.146484\" xlink:href=\"#DejaVuSans-109\"/>\n      <use x=\"947.558594\" xlink:href=\"#DejaVuSans-105\"/>\n      <use x=\"975.341797\" xlink:href=\"#DejaVuSans-116\"/>\n      <use x=\"1014.550781\" xlink:href=\"#DejaVuSans-115\"/>\n      <use x=\"1066.650391\" xlink:href=\"#DejaVuSans-32\"/>\n      <use x=\"1098.4375\" xlink:href=\"#DejaVuSans-119\"/>\n      <use x=\"1180.224609\" xlink:href=\"#DejaVuSans-105\"/>\n      <use x=\"1208.007812\" xlink:href=\"#DejaVuSans-116\"/>\n      <use x=\"1247.216797\" xlink:href=\"#DejaVuSans-104\"/>\n      <use x=\"1310.595703\" xlink:href=\"#DejaVuSans-32\"/>\n      <use x=\"1342.382812\" xlink:href=\"#DejaVuSans-99\"/>\n      <use x=\"1397.363281\" xlink:href=\"#DejaVuSans-111\"/>\n      <use x=\"1458.544922\" xlink:href=\"#DejaVuSans-99\"/>\n      <use x=\"1513.525391\" xlink:href=\"#DejaVuSans-97\"/>\n      <use x=\"1574.804688\" xlink:href=\"#DejaVuSans-104\"/>\n      <use x=\"1638.183594\" xlink:href=\"#DejaVuSans-110\"/>\n      <use x=\"1701.5625\" xlink:href=\"#DejaVuSans-103\"/>\n      <use x=\"1765.039062\" xlink:href=\"#DejaVuSans-101\"/>\n      <use x=\"1826.5625\" xlink:href=\"#DejaVuSans-32\"/>\n      <use x=\"1858.349609\" xlink:href=\"#DejaVuSans-100\"/>\n      <use x=\"1921.826172\" xlink:href=\"#DejaVuSans-101\"/>\n      <use x=\"1983.349609\" xlink:href=\"#DejaVuSans-112\"/>\n      <use x=\"2046.826172\" xlink:href=\"#DejaVuSans-101\"/>\n      <use x=\"2108.349609\" xlink:href=\"#DejaVuSans-110\"/>\n      <use x=\"2171.728516\" xlink:href=\"#DejaVuSans-100\"/>\n      <use x=\"2235.205078\" xlink:href=\"#DejaVuSans-101\"/>\n      <use x=\"2296.728516\" xlink:href=\"#DejaVuSans-110\"/>\n      <use x=\"2360.107422\" xlink:href=\"#DejaVuSans-99\"/>\n      <use x=\"2415.087891\" xlink:href=\"#DejaVuSans-121\"/>\n     </g>\n    </g>\n   </g>\n  </g>\n </g>\n <defs>\n  <clipPath id=\"p601d02a7e4\">\n   <rect height=\"326.16\" width=\"1116\" x=\"51.69375\" y=\"7.2\"/>\n  </clipPath>\n </defs>\n</svg>\n",
      "text/plain": "<Figure size 1440x432 with 1 Axes>"
     },
     "metadata": {},
     "output_type": "display_data"
    }
   ],
   "source": [
    "sns.set(style=\"white\")\n",
    "fig, ax = plt.subplots(1, 1, figsize=(20, 6))\n",
    "\n",
    "pd.concat([total_bic_df['count'], bic_agg], axis=1).plot(kind='bar', ax=ax)\n"
   ]
  },
  {
   "cell_type": "code",
   "execution_count": 219,
   "metadata": {},
   "outputs": [
    {
     "data": {
      "text/plain": "commits   projects\nall       accumulo    False\n          activemq     True\n          ambari       True\n          avro         True\n          beam        False\n                      ...  \ncochange  storm        True\n          struts       True\n          tika        False\n          wicket       True\n          zeppelin     True\nLength: 74, dtype: bool"
     },
     "execution_count": 219,
     "metadata": {},
     "output_type": "execute_result"
    }
   ],
   "source": [
    "# bic_percent = pd.concat([total_bic, cc_bic], keys=['all', 'cochange'], names=['commits', 'projects'], axis=0, sort=False)\n",
    "# list(bic_agg['BIC count in all commits'].apply(lambda x: round(x*0.001, 3)).values)\n",
    "# preprocessing.minmax_scale(bic_agg['BIC count in all commits'].values, feature_range=(0.0, 0.9))\n",
    "\n",
    "# removes small and large values to improve viz\n",
    "detect_small = lambda x: .1 < x\n",
    "bic_percent.groupby(level='commits').apply(detect_small)"
   ]
  },
  {
   "cell_type": "code",
   "execution_count": 201,
   "metadata": {},
   "outputs": [
    {
     "data": {
      "application/vnd.plotly.v1+json": {
       "config": {
        "plotlyServerURL": "https://plot.ly"
       },
       "data": [
        {
         "base": [
          "accumulo",
          "activemq",
          "ambari",
          "avro",
          "beam",
          "calcite",
          "camel",
          "cassandra",
          "commons-lang",
          "cordova-android",
          "cxf",
          "eagle",
          "fineract",
          "flink",
          "geode",
          "groovy",
          "james-project",
          "jena",
          "kafka",
          "karaf",
          "kylin",
          "lucene-solr",
          "mahout",
          "maven",
          "netbeans",
          "nifi",
          "nutch",
          "ofbiz",
          "parquet-mr",
          "phoenix",
          "servicecomb-java-chassis",
          "spark",
          "storm",
          "struts",
          "tika",
          "wicket",
          "zeppelin"
         ],
         "marker": {
          "color": [
           "rgb(0.0, 0.0, 0.8562872551802441)",
           "rgb(0.0, 0.0, 0.8068407607152994)",
           "rgb(0.0, 0.0, 0.5)",
           "rgb(0.0, 0.0, 0.883139369855237)",
           "rgb(0.0, 0.0, 0.7781152426908884)",
           "rgb(0.0, 0.0, 0.8298892988929889)",
           "rgb(0.0, 0.0, 0.7070394550099347)",
           "rgb(0.0, 0.0, 0.7126028952597219)",
           "rgb(0.0, 0.0, 0.8718989497587284)",
           "rgb(0.0, 0.0, 0.8711609423786546)",
           "rgb(0.0, 0.0, 0.8176270224240704)",
           "rgb(0.0, 0.0, 0.8870564859494748)",
           "rgb(0.0, 0.0, 0.8766108430315073)",
           "rgb(0.0, 0.0, 0.8062730627306273)",
           "rgb(0.0, 0.0, 0.8179108714164065)",
           "rgb(0.0, 0.0, 0.7372977575929605)",
           "rgb(0.0, 0.0, 0.8714447913709906)",
           "rgb(0.0, 0.0, 0.8812091967073516)",
           "rgb(0.0, 0.0, 0.860488220266818)",
           "rgb(0.0, 0.0, 0.8675276752767528)",
           "rgb(0.0, 0.0, 0.8436275901220551)",
           "rgb(0.0, 0.0, 0.7158955435708203)",
           "rgb(0.0, 0.0, 0.8647459551518593)",
           "rgb(0.0, 0.0, 0.8247232472324724)",
           "rgb(0.0, 0.0, 0.896309963099631)",
           "rgb(0.0, 0.0, 0.8494181095657111)",
           "rgb(0.0, 0.0, 0.8824013624751632)",
           "rgb(0.0, 0.0, 0.9)",
           "rgb(0.0, 0.0, 0.8917116094237866)",
           "rgb(0.0, 0.0, 0.8648594947487936)",
           "rgb(0.0, 0.0, 0.8907465228498439)",
           "rgb(0.0, 0.0, 0.7650581890434289)",
           "rgb(0.0, 0.0, 0.8673005960828839)",
           "rgb(0.0, 0.0, 0.8657678115242691)",
           "rgb(0.0, 0.0, 0.8655975021288674)",
           "rgb(0.0, 0.0, 0.8185353391995458)",
           "rgb(0.0, 0.0, 0.8515753619074652)"
          ],
          "line": {
           "color": "white",
           "width": 1.5
          }
         },
         "name": "All commits",
         "opacity": 1,
         "r": [
          0.075,
          0.159,
          0.287,
          0.139,
          0.088,
          0.331,
          0.084,
          0.133,
          0.089,
          0.135,
          0.095,
          0.222,
          0.082,
          0.085,
          0.166,
          0.173,
          0.059,
          0.041,
          0.102,
          0.073,
          0.125,
          0.1,
          0.145,
          0.126,
          0.022,
          0.163,
          0.105,
          0,
          0.071,
          0.207,
          0.072,
          0.093,
          0.057,
          0.106,
          0.132,
          0.07,
          0.202
         ],
         "theta": [
          "accumulo",
          "activemq",
          "ambari",
          "avro",
          "beam",
          "calcite",
          "camel",
          "cassandra",
          "commons-lang",
          "cordova-android",
          "cxf",
          "eagle",
          "fineract",
          "flink",
          "geode",
          "groovy",
          "james-project",
          "jena",
          "kafka",
          "karaf",
          "kylin",
          "lucene-solr",
          "mahout",
          "maven",
          "netbeans",
          "nifi",
          "nutch",
          "ofbiz",
          "parquet-mr",
          "phoenix",
          "servicecomb-java-chassis",
          "spark",
          "storm",
          "struts",
          "tika",
          "wicket",
          "zeppelin"
         ],
         "type": "barpolar"
        },
        {
         "marker": {
          "color": [
           "rgb(0.0, 0.6562872551802441, 0.0)",
           "rgb(0.0, 0.6068407607152995, 0.0)",
           "rgb(0.0, 0.30000000000000004, 0.0)",
           "rgb(0.0, 0.683139369855237, 0.0)",
           "rgb(0.0, 0.5781152426908884, 0.0)",
           "rgb(0.0, 0.629889298892989, 0.0)",
           "rgb(0.0, 0.5070394550099347, 0.0)",
           "rgb(0.0, 0.5126028952597219, 0.0)",
           "rgb(0.0, 0.6718989497587284, 0.0)",
           "rgb(0.0, 0.6711609423786546, 0.0)",
           "rgb(0.0, 0.6176270224240704, 0.0)",
           "rgb(0.0, 0.6870564859494749, 0.0)",
           "rgb(0.0, 0.6766108430315072, 0.0)",
           "rgb(0.0, 0.6062730627306273, 0.0)",
           "rgb(0.0, 0.6179108714164065, 0.0)",
           "rgb(0.0, 0.5372977575929605, 0.0)",
           "rgb(0.0, 0.6714447913709907, 0.0)",
           "rgb(0.0, 0.6812091967073517, 0.0)",
           "rgb(0.0, 0.6604882202668181, 0.0)",
           "rgb(0.0, 0.6675276752767527, 0.0)",
           "rgb(0.0, 0.6436275901220551, 0.0)",
           "rgb(0.0, 0.5158955435708203, 0.0)",
           "rgb(0.0, 0.6647459551518593, 0.0)",
           "rgb(0.0, 0.6247232472324724, 0.0)",
           "rgb(0.0, 0.696309963099631, 0.0)",
           "rgb(0.0, 0.649418109565711, 0.0)",
           "rgb(0.0, 0.6824013624751633, 0.0)",
           "rgb(0.0, 0.7, 0.0)",
           "rgb(0.0, 0.6917116094237865, 0.0)",
           "rgb(0.0, 0.6648594947487936, 0.0)",
           "rgb(0.0, 0.690746522849844, 0.0)",
           "rgb(0.0, 0.565058189043429, 0.0)",
           "rgb(0.0, 0.667300596082884, 0.0)",
           "rgb(0.0, 0.6657678115242691, 0.0)",
           "rgb(0.0, 0.6655975021288675, 0.0)",
           "rgb(0.0, 0.6185353391995458, 0.0)",
           "rgb(0.0, 0.6515753619074652, 0.0)"
          ],
          "line": {
           "color": "white",
           "width": 1.5
          }
         },
         "name": "Commits with cochange dependency",
         "opacity": 1,
         "r": [
          0.118,
          0.077,
          0.115,
          0.176,
          0.071,
          0.208,
          0.13,
          0.096,
          0.099,
          0.099,
          0.016,
          0,
          0,
          0.007,
          0.179,
          0.049,
          0.124,
          0.04,
          0.163,
          0.143,
          0.052,
          0.094,
          0,
          0.069,
          0.125,
          0.127,
          0.193,
          0.257,
          0.471,
          0.031,
          0.048,
          0.108,
          0.136,
          0.137,
          0.013,
          0.104,
          0.133
         ],
         "theta": [
          "accumulo",
          "activemq",
          "ambari",
          "avro",
          "beam",
          "calcite",
          "camel",
          "cassandra",
          "commons-lang",
          "cordova-android",
          "cxf",
          "eagle",
          "fineract",
          "flink",
          "geode",
          "groovy",
          "james-project",
          "jena",
          "kafka",
          "karaf",
          "kylin",
          "lucene-solr",
          "mahout",
          "maven",
          "netbeans",
          "nifi",
          "nutch",
          "ofbiz",
          "parquet-mr",
          "phoenix",
          "servicecomb-java-chassis",
          "spark",
          "storm",
          "struts",
          "tika",
          "wicket",
          "zeppelin"
         ],
         "type": "barpolar"
        }
       ],
       "layout": {
        "barmode": "overlay",
        "polar": {
         "angularaxis": {
          "direction": "clockwise",
          "showticklabels": true,
          "tickangle": 0,
          "ticks": ""
         },
         "radialaxis": {
          "range": [
           0,
           0.3
          ],
          "showticklabels": false,
          "ticks": ""
         }
        },
        "template": {
         "data": {
          "bar": [
           {
            "error_x": {
             "color": "#2a3f5f"
            },
            "error_y": {
             "color": "#2a3f5f"
            },
            "marker": {
             "line": {
              "color": "#E5ECF6",
              "width": 0.5
             }
            },
            "type": "bar"
           }
          ],
          "barpolar": [
           {
            "marker": {
             "line": {
              "color": "#E5ECF6",
              "width": 0.5
             }
            },
            "type": "barpolar"
           }
          ],
          "carpet": [
           {
            "aaxis": {
             "endlinecolor": "#2a3f5f",
             "gridcolor": "white",
             "linecolor": "white",
             "minorgridcolor": "white",
             "startlinecolor": "#2a3f5f"
            },
            "baxis": {
             "endlinecolor": "#2a3f5f",
             "gridcolor": "white",
             "linecolor": "white",
             "minorgridcolor": "white",
             "startlinecolor": "#2a3f5f"
            },
            "type": "carpet"
           }
          ],
          "choropleth": [
           {
            "colorbar": {
             "outlinewidth": 0,
             "ticks": ""
            },
            "type": "choropleth"
           }
          ],
          "contour": [
           {
            "colorbar": {
             "outlinewidth": 0,
             "ticks": ""
            },
            "colorscale": [
             [
              0,
              "#0d0887"
             ],
             [
              0.1111111111111111,
              "#46039f"
             ],
             [
              0.2222222222222222,
              "#7201a8"
             ],
             [
              0.3333333333333333,
              "#9c179e"
             ],
             [
              0.4444444444444444,
              "#bd3786"
             ],
             [
              0.5555555555555556,
              "#d8576b"
             ],
             [
              0.6666666666666666,
              "#ed7953"
             ],
             [
              0.7777777777777778,
              "#fb9f3a"
             ],
             [
              0.8888888888888888,
              "#fdca26"
             ],
             [
              1,
              "#f0f921"
             ]
            ],
            "type": "contour"
           }
          ],
          "contourcarpet": [
           {
            "colorbar": {
             "outlinewidth": 0,
             "ticks": ""
            },
            "type": "contourcarpet"
           }
          ],
          "heatmap": [
           {
            "colorbar": {
             "outlinewidth": 0,
             "ticks": ""
            },
            "colorscale": [
             [
              0,
              "#0d0887"
             ],
             [
              0.1111111111111111,
              "#46039f"
             ],
             [
              0.2222222222222222,
              "#7201a8"
             ],
             [
              0.3333333333333333,
              "#9c179e"
             ],
             [
              0.4444444444444444,
              "#bd3786"
             ],
             [
              0.5555555555555556,
              "#d8576b"
             ],
             [
              0.6666666666666666,
              "#ed7953"
             ],
             [
              0.7777777777777778,
              "#fb9f3a"
             ],
             [
              0.8888888888888888,
              "#fdca26"
             ],
             [
              1,
              "#f0f921"
             ]
            ],
            "type": "heatmap"
           }
          ],
          "heatmapgl": [
           {
            "colorbar": {
             "outlinewidth": 0,
             "ticks": ""
            },
            "colorscale": [
             [
              0,
              "#0d0887"
             ],
             [
              0.1111111111111111,
              "#46039f"
             ],
             [
              0.2222222222222222,
              "#7201a8"
             ],
             [
              0.3333333333333333,
              "#9c179e"
             ],
             [
              0.4444444444444444,
              "#bd3786"
             ],
             [
              0.5555555555555556,
              "#d8576b"
             ],
             [
              0.6666666666666666,
              "#ed7953"
             ],
             [
              0.7777777777777778,
              "#fb9f3a"
             ],
             [
              0.8888888888888888,
              "#fdca26"
             ],
             [
              1,
              "#f0f921"
             ]
            ],
            "type": "heatmapgl"
           }
          ],
          "histogram": [
           {
            "marker": {
             "colorbar": {
              "outlinewidth": 0,
              "ticks": ""
             }
            },
            "type": "histogram"
           }
          ],
          "histogram2d": [
           {
            "colorbar": {
             "outlinewidth": 0,
             "ticks": ""
            },
            "colorscale": [
             [
              0,
              "#0d0887"
             ],
             [
              0.1111111111111111,
              "#46039f"
             ],
             [
              0.2222222222222222,
              "#7201a8"
             ],
             [
              0.3333333333333333,
              "#9c179e"
             ],
             [
              0.4444444444444444,
              "#bd3786"
             ],
             [
              0.5555555555555556,
              "#d8576b"
             ],
             [
              0.6666666666666666,
              "#ed7953"
             ],
             [
              0.7777777777777778,
              "#fb9f3a"
             ],
             [
              0.8888888888888888,
              "#fdca26"
             ],
             [
              1,
              "#f0f921"
             ]
            ],
            "type": "histogram2d"
           }
          ],
          "histogram2dcontour": [
           {
            "colorbar": {
             "outlinewidth": 0,
             "ticks": ""
            },
            "colorscale": [
             [
              0,
              "#0d0887"
             ],
             [
              0.1111111111111111,
              "#46039f"
             ],
             [
              0.2222222222222222,
              "#7201a8"
             ],
             [
              0.3333333333333333,
              "#9c179e"
             ],
             [
              0.4444444444444444,
              "#bd3786"
             ],
             [
              0.5555555555555556,
              "#d8576b"
             ],
             [
              0.6666666666666666,
              "#ed7953"
             ],
             [
              0.7777777777777778,
              "#fb9f3a"
             ],
             [
              0.8888888888888888,
              "#fdca26"
             ],
             [
              1,
              "#f0f921"
             ]
            ],
            "type": "histogram2dcontour"
           }
          ],
          "mesh3d": [
           {
            "colorbar": {
             "outlinewidth": 0,
             "ticks": ""
            },
            "type": "mesh3d"
           }
          ],
          "parcoords": [
           {
            "line": {
             "colorbar": {
              "outlinewidth": 0,
              "ticks": ""
             }
            },
            "type": "parcoords"
           }
          ],
          "pie": [
           {
            "automargin": true,
            "type": "pie"
           }
          ],
          "scatter": [
           {
            "marker": {
             "colorbar": {
              "outlinewidth": 0,
              "ticks": ""
             }
            },
            "type": "scatter"
           }
          ],
          "scatter3d": [
           {
            "line": {
             "colorbar": {
              "outlinewidth": 0,
              "ticks": ""
             }
            },
            "marker": {
             "colorbar": {
              "outlinewidth": 0,
              "ticks": ""
             }
            },
            "type": "scatter3d"
           }
          ],
          "scattercarpet": [
           {
            "marker": {
             "colorbar": {
              "outlinewidth": 0,
              "ticks": ""
             }
            },
            "type": "scattercarpet"
           }
          ],
          "scattergeo": [
           {
            "marker": {
             "colorbar": {
              "outlinewidth": 0,
              "ticks": ""
             }
            },
            "type": "scattergeo"
           }
          ],
          "scattergl": [
           {
            "marker": {
             "colorbar": {
              "outlinewidth": 0,
              "ticks": ""
             }
            },
            "type": "scattergl"
           }
          ],
          "scattermapbox": [
           {
            "marker": {
             "colorbar": {
              "outlinewidth": 0,
              "ticks": ""
             }
            },
            "type": "scattermapbox"
           }
          ],
          "scatterpolar": [
           {
            "marker": {
             "colorbar": {
              "outlinewidth": 0,
              "ticks": ""
             }
            },
            "type": "scatterpolar"
           }
          ],
          "scatterpolargl": [
           {
            "marker": {
             "colorbar": {
              "outlinewidth": 0,
              "ticks": ""
             }
            },
            "type": "scatterpolargl"
           }
          ],
          "scatterternary": [
           {
            "marker": {
             "colorbar": {
              "outlinewidth": 0,
              "ticks": ""
             }
            },
            "type": "scatterternary"
           }
          ],
          "surface": [
           {
            "colorbar": {
             "outlinewidth": 0,
             "ticks": ""
            },
            "colorscale": [
             [
              0,
              "#0d0887"
             ],
             [
              0.1111111111111111,
              "#46039f"
             ],
             [
              0.2222222222222222,
              "#7201a8"
             ],
             [
              0.3333333333333333,
              "#9c179e"
             ],
             [
              0.4444444444444444,
              "#bd3786"
             ],
             [
              0.5555555555555556,
              "#d8576b"
             ],
             [
              0.6666666666666666,
              "#ed7953"
             ],
             [
              0.7777777777777778,
              "#fb9f3a"
             ],
             [
              0.8888888888888888,
              "#fdca26"
             ],
             [
              1,
              "#f0f921"
             ]
            ],
            "type": "surface"
           }
          ],
          "table": [
           {
            "cells": {
             "fill": {
              "color": "#EBF0F8"
             },
             "line": {
              "color": "white"
             }
            },
            "header": {
             "fill": {
              "color": "#C8D4E3"
             },
             "line": {
              "color": "white"
             }
            },
            "type": "table"
           }
          ]
         },
         "layout": {
          "annotationdefaults": {
           "arrowcolor": "#2a3f5f",
           "arrowhead": 0,
           "arrowwidth": 1
          },
          "coloraxis": {
           "colorbar": {
            "outlinewidth": 0,
            "ticks": ""
           }
          },
          "colorscale": {
           "diverging": [
            [
             0,
             "#8e0152"
            ],
            [
             0.1,
             "#c51b7d"
            ],
            [
             0.2,
             "#de77ae"
            ],
            [
             0.3,
             "#f1b6da"
            ],
            [
             0.4,
             "#fde0ef"
            ],
            [
             0.5,
             "#f7f7f7"
            ],
            [
             0.6,
             "#e6f5d0"
            ],
            [
             0.7,
             "#b8e186"
            ],
            [
             0.8,
             "#7fbc41"
            ],
            [
             0.9,
             "#4d9221"
            ],
            [
             1,
             "#276419"
            ]
           ],
           "sequential": [
            [
             0,
             "#0d0887"
            ],
            [
             0.1111111111111111,
             "#46039f"
            ],
            [
             0.2222222222222222,
             "#7201a8"
            ],
            [
             0.3333333333333333,
             "#9c179e"
            ],
            [
             0.4444444444444444,
             "#bd3786"
            ],
            [
             0.5555555555555556,
             "#d8576b"
            ],
            [
             0.6666666666666666,
             "#ed7953"
            ],
            [
             0.7777777777777778,
             "#fb9f3a"
            ],
            [
             0.8888888888888888,
             "#fdca26"
            ],
            [
             1,
             "#f0f921"
            ]
           ],
           "sequentialminus": [
            [
             0,
             "#0d0887"
            ],
            [
             0.1111111111111111,
             "#46039f"
            ],
            [
             0.2222222222222222,
             "#7201a8"
            ],
            [
             0.3333333333333333,
             "#9c179e"
            ],
            [
             0.4444444444444444,
             "#bd3786"
            ],
            [
             0.5555555555555556,
             "#d8576b"
            ],
            [
             0.6666666666666666,
             "#ed7953"
            ],
            [
             0.7777777777777778,
             "#fb9f3a"
            ],
            [
             0.8888888888888888,
             "#fdca26"
            ],
            [
             1,
             "#f0f921"
            ]
           ]
          },
          "colorway": [
           "#636efa",
           "#EF553B",
           "#00cc96",
           "#ab63fa",
           "#FFA15A",
           "#19d3f3",
           "#FF6692",
           "#B6E880",
           "#FF97FF",
           "#FECB52"
          ],
          "font": {
           "color": "#2a3f5f"
          },
          "geo": {
           "bgcolor": "white",
           "lakecolor": "white",
           "landcolor": "#E5ECF6",
           "showlakes": true,
           "showland": true,
           "subunitcolor": "white"
          },
          "hoverlabel": {
           "align": "left"
          },
          "hovermode": "closest",
          "mapbox": {
           "style": "light"
          },
          "paper_bgcolor": "white",
          "plot_bgcolor": "#E5ECF6",
          "polar": {
           "angularaxis": {
            "gridcolor": "white",
            "linecolor": "white",
            "ticks": ""
           },
           "bgcolor": "#E5ECF6",
           "radialaxis": {
            "gridcolor": "white",
            "linecolor": "white",
            "ticks": ""
           }
          },
          "scene": {
           "xaxis": {
            "backgroundcolor": "#E5ECF6",
            "gridcolor": "white",
            "gridwidth": 2,
            "linecolor": "white",
            "showbackground": true,
            "ticks": "",
            "zerolinecolor": "white"
           },
           "yaxis": {
            "backgroundcolor": "#E5ECF6",
            "gridcolor": "white",
            "gridwidth": 2,
            "linecolor": "white",
            "showbackground": true,
            "ticks": "",
            "zerolinecolor": "white"
           },
           "zaxis": {
            "backgroundcolor": "#E5ECF6",
            "gridcolor": "white",
            "gridwidth": 2,
            "linecolor": "white",
            "showbackground": true,
            "ticks": "",
            "zerolinecolor": "white"
           }
          },
          "shapedefaults": {
           "line": {
            "color": "#2a3f5f"
           }
          },
          "ternary": {
           "aaxis": {
            "gridcolor": "white",
            "linecolor": "white",
            "ticks": ""
           },
           "baxis": {
            "gridcolor": "white",
            "linecolor": "white",
            "ticks": ""
           },
           "bgcolor": "#E5ECF6",
           "caxis": {
            "gridcolor": "white",
            "linecolor": "white",
            "ticks": ""
           }
          },
          "title": {
           "x": 0.05
          },
          "xaxis": {
           "automargin": true,
           "gridcolor": "white",
           "linecolor": "white",
           "ticks": "",
           "title": {
            "standoff": 15
           },
           "zerolinecolor": "white",
           "zerolinewidth": 2
          },
          "yaxis": {
           "automargin": true,
           "gridcolor": "white",
           "linecolor": "white",
           "ticks": "",
           "title": {
            "standoff": 15
           },
           "zerolinecolor": "white",
           "zerolinewidth": 2
          }
         }
        },
        "title": {
         "text": "Comparative percentual of BICs"
        }
       }
      }
     },
     "metadata": {},
     "output_type": "display_data"
    }
   ],
   "source": [
    "import plotly.graph_objects as go\n",
    "\n",
    "fig = go.Figure(\n",
    "    go.Barpolar(\n",
    "        name='All commits',\n",
    "        r=list(bic_percent.xs('all', level='commits').apply(lambda x: round(x, 3)).values),\n",
    "        theta=list(bic_percent.index.get_level_values(1).unique()),\n",
    "        base=list(bic_percent.index.get_level_values(1).unique()),\n",
    "        marker_color=[\n",
    "            'rgb'+ '(0.0, 0.0, ' + str(1-x) + ')' \n",
    "            for x in preprocessing.minmax_scale(bic_agg['BIC count in all commits'].values, feature_range=(0.1, 0.5))\n",
    "        ],\n",
    "        marker_line_color=\"white\",\n",
    "        marker_line_width=1.5,\n",
    "        opacity=1.0\n",
    "    )\n",
    ")\n",
    "\n",
    "fig.add_trace(\n",
    "    go.Barpolar(\n",
    "        name='Commits with cochange dependency',\n",
    "        r=list(bic_percent.xs('cochange', level='commits').apply(lambda x: round(x, 3)).values),\n",
    "        theta=list(bic_percent.index.get_level_values(1).unique()),\n",
    "        # base=list(bic_percent.index.get_level_values(1).unique()),\n",
    "        marker_color=[\n",
    "            'rgb'+ '(0.0, ' + str(1-x) + ', 0.0)' \n",
    "            for x in preprocessing.minmax_scale(bic_agg['BIC count in all commits'].values, feature_range=(0.3, 0.7))\n",
    "        ],\n",
    "        marker_line_color=\"white\",\n",
    "        marker_line_width=1.5,\n",
    "        opacity=1.0\n",
    "    )\n",
    ")\n",
    "\n",
    "fig.update_layout(\n",
    "    # template='plotly_dark',\n",
    "    title='Comparative percentual of BICs',\n",
    "    barmode='overlay',\n",
    "    polar = dict(\n",
    "        radialaxis = dict(range=[0.0, 0.3], showticklabels=False, ticks=''),\n",
    "        angularaxis = dict(\n",
    "            showticklabels=True,\n",
    "            ticks='',\n",
    "            direction='clockwise',\n",
    "            tickangle=0\n",
    "        )\n",
    "    )\n",
    ")\n",
    "\n",
    "fig.show()"
   ]
  },
  {
   "cell_type": "code",
   "execution_count": 0,
   "metadata": {},
   "outputs": [],
   "source": [
    "# def transform_skew(df: pd.DataFrame) -> pd.DataFrame:\n",
    "#     '''\n",
    "#     Transforms data with Boxcox transformation\n",
    "#     Keeps the transformation only if it is less skewed than the original\n",
    "#     '''\n",
    "#     data = df.values\n",
    "#     posdata = data[data > 0]\n",
    "#     # posdata = eda.data[eda.data[feat]>0][feat]\n",
    "\n",
    "#     x, lmbda = boxcox(posdata, lmbda=None)\n",
    "    \n",
    "#     transform = np.empty_like(data)\n",
    "#     transform[data > 0] = x\n",
    "#     transform[data == 0] = -1/lmbda\n",
    "\n",
    "#     if abs(skew(transform)) < abs(skew(data)):\n",
    "#         return transform\n",
    "\n",
    "#     else:\n",
    "#         return data"
   ]
  },
  {
   "cell_type": "code",
   "execution_count": 0,
   "metadata": {},
   "outputs": [],
   "source": [
    "# '''\n",
    "# standardizes (and transforms skewness)\n",
    "# '''\n",
    "# print('> performs standardization on both variables...')\n",
    "# std_cc_bic = preprocessing.scale(cc_bic)\n",
    "# std_total_bic = preprocessing.scale(total_bic)"
   ]
  },
  {
   "cell_type": "code",
   "execution_count": 0,
   "metadata": {},
   "outputs": [],
   "source": [
    "# print(\n",
    "#     '\\t\\t---Shapiro Wilk Normality Test - Individual Samples---\\n',\n",
    "#     'Assume normality if p-value > 0.05\\n\\n'\n",
    "#     '\\t\\tTotal BICs\\n W-statistic\\t\\tp-value\\n',\n",
    "#     shapiro(std_total_bic),\n",
    "#     '\\n\\n\\t\\tCochange BICs\\n W-statistic\\t\\tp-value\\n',\n",
    "#     shapiro(std_cc_bic)\n",
    "# )"
   ]
  },
  {
   "cell_type": "code",
   "execution_count": 0,
   "metadata": {},
   "outputs": [],
   "source": [
    "# bic_diff = std_total_bic - std_cc_bic\n",
    "# print(\n",
    "#     '\\t\\t---Shapiro Wilk Normality Test---\\n',\n",
    "#     'Assume normality if p-value > 0.05\\n\\n'\n",
    "#     '\\t\\tDifference of BICs (total - cocahnge)\\n W-statistic\\t\\tp-value\\n',\n",
    "#     shapiro(bic_diff),\n",
    "#     '\\n\\n'\n",
    "# )\n",
    "# print(pd.Series(bic_diff).plot(kind='hist'))"
   ]
  },
  {
   "cell_type": "code",
   "execution_count": 0,
   "metadata": {},
   "outputs": [],
   "source": [
    "# set(new.values) & set_rcc & set(nbic.values)\n",
    "# new_g.apply(lambda x: len(set(x.values) & set(set_rcc) & set(nbic.values)))"
   ]
  },
  {
   "cell_type": "code",
   "execution_count": 12,
   "metadata": {},
   "outputs": [
    {
     "data": {
      "text/plain": "{4, 5, 6}"
     },
     "execution_count": 12,
     "metadata": {},
     "output_type": "execute_result"
    }
   ],
   "source": [
    "{1,2,3,4,5,6} - {1,2,3}"
   ]
  }
 ]
}