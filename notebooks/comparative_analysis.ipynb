{
 "nbformat": 4,
 "nbformat_minor": 2,
 "metadata": {
  "language_info": {
   "name": "python",
   "codemirror_mode": {
    "name": "ipython",
    "version": 3
   },
   "version": "3.7.3"
  },
  "orig_nbformat": 2,
  "file_extension": ".py",
  "mimetype": "text/x-python",
  "name": "python",
  "npconvert_exporter": "python",
  "pygments_lexer": "ipython3",
  "version": 3
 },
 "cells": [
  {
   "cell_type": "code",
   "execution_count": 1,
   "metadata": {},
   "outputs": [],
   "source": [
    "import sys\n",
    "sys.path.append('../')\n",
    "import numpy as np\n",
    "import pandas as pd\n",
    "import seaborn as sns\n",
    "import matplotlib.pyplot as plt\n",
    "from src.eda_methods import show_barplot, load_data, load_data_all\n",
    "from pandas.plotting import register_matplotlib_converters\n",
    "from scipy.stats import boxcox, skew, shapiro, probplot, ttest_rel\n",
    "from sklearn import preprocessing\n",
    "\n",
    "pd.set_option('display.max_colwidth', 125)\n",
    "register_matplotlib_converters()"
   ]
  },
  {
   "cell_type": "code",
   "execution_count": 2,
   "metadata": {},
   "outputs": [],
   "source": [
    "# IMPORTANT - Figure out how to correctly convert old hashes to new hashes\n",
    "\n",
    "# project_name = 'zeppelin'\n",
    "# try:\n",
    "#     tmp =\\\n",
    "#         pd.read_csv(\n",
    "#             'assets/data/{0}/new_{0}_commits.csv'.format(project_name),\n",
    "#             nrows=None,\n",
    "#             header=None\n",
    "#         )\n",
    "# except UnicodeDecodeError:\n",
    "#     tmp =\\\n",
    "#         pd.read_csv(\n",
    "#             'assets/data/{0}/new_{0}_commits.csv'.format(project_name),\n",
    "#             nrows=None,\n",
    "#             header=None,\n",
    "#             encoding='utf-16'\n",
    "#         )\n",
    "# tmp = tmp.set_index(0).apply(pd.to_datetime, axis=1)\n",
    "# tmp['dates_match'] = tmp.apply(lambda x: x.duplicated().sum(), axis=1).astype('bool')\n",
    "\n",
    "# # finds\n",
    "# grouped = tmp.groupby(2)\n",
    "# g_index =\\\n",
    "#     [\n",
    "#             x for x in grouped[1].apply(\n",
    "#                 lambda x: pd.to_datetime(x[0], utc=True) \n",
    "#                 if (x.count() > 1).sum() else ''\n",
    "#             ).values if x\n",
    "#     ]\n",
    "# tmp = tmp.reset_index().set_index(1)\n",
    "# tmp.index = pd.to_datetime(tmp.index, utc=True, infer_datetime_format=True)\n",
    "\n",
    "# transforms date column into datetime_index\n",
    "# new_commits =\\\n",
    "#     pd.Series(\n",
    "#         tmp[0].values,\n",
    "#         index=pd.to_datetime(\n",
    "#                 tmp[1].values,\n",
    "#                 infer_datetime_format=True,\n",
    "#                 utc=True\n",
    "#             )\n",
    "#     )\n",
    "# new_commits.name = project_name"
   ]
  },
  {
   "cell_type": "code",
   "execution_count": 3,
   "metadata": {},
   "outputs": [],
   "source": [
    "old, new, cc, bic = load_data_all()"
   ]
  },
  {
   "cell_type": "code",
   "execution_count": 4,
   "metadata": {},
   "outputs": [
    {
     "name": "stdout",
     "output_type": "stream",
     "text": "Total and duplicated bug introducing commits (BIC) for each project:\n\n\t\t\t(total, duplicated)\n"
    },
    {
     "data": {
      "text/plain": "accumulo                      (3603, 2828)\nactivemq                      (8803, 7157)\nambari                      (47658, 40607)\navro                           (1099, 797)\nbeam                          (5690, 3538)\ncalcite                       (9083, 7843)\ncamel                        (10091, 6687)\ncassandra                   (52036, 48730)\ncommons-lang                  (1503, 1003)\ncordova-android                (1435, 922)\ncxf                           (4902, 3446)\neagle                           (689, 456)\nfineract                       (1051, 634)\nflink                         (4421, 2765)\ngeode                        (10888, 9437)\ngroovy                      (17500, 14629)\njames-project                  (1019, 511)\njena                            (930, 594)\nkafka                         (1875, 1174)\nkaraf                         (1795, 1218)\nkylin                         (3278, 2280)\nlucene-solr                   (9854, 6606)\nmahout                        (1824, 1198)\nmaven                         (6792, 5461)\nnetbeans                        (552, 482)\nnifi                          (3603, 2707)\nnutch                         (1495, 1180)\nofbiz                         (4239, 3088)\nparquet-mr                      (468, 317)\nphoenix                       (3274, 2650)\nservicecomb-java-chassis        (340, 172)\nspark                         (6835, 4453)\nstorm                          (1530, 949)\nstruts                        (2517, 1909)\ntika                          (1973, 1362)\nwicket                        (4573, 3133)\nzeppelin                      (3299, 2441)\ndtype: object"
     },
     "execution_count": 4,
     "metadata": {},
     "output_type": "execute_result"
    }
   ],
   "source": [
    "# shows duplicated bug introducing commits (BIC) for each project\n",
    "print('Total and duplicated bug introducing commits (BIC) for each project:\\n\\n\\t\\t\\t(total, duplicated)')\n",
    "bic.groupby(level=0).apply(lambda x: (x.count(), x.duplicated().sum()))"
   ]
  },
  {
   "cell_type": "code",
   "execution_count": 5,
   "metadata": {},
   "outputs": [
    {
     "name": "stdout",
     "output_type": "stream",
     "text": "Total BICs after removal of duplicates:\n\naccumulo                     775\nactivemq                    1646\nambari                      7051\navro                         302\nbeam                        2152\ncalcite                     1240\ncamel                       3404\ncassandra                   3306\ncommons-lang                 500\ncordova-android              513\ncxf                         1456\neagle                        233\nfineract                     417\nflink                       1656\ngeode                       1451\ngroovy                      2871\njames-project                508\njena                         336\nkafka                        701\nkaraf                        577\nkylin                        998\nlucene-solr                 3248\nmahout                       626\nmaven                       1331\nnetbeans                      70\nnifi                         896\nnutch                        315\nofbiz                       1151\nparquet-mr                   151\nphoenix                      624\nservicecomb-java-chassis     168\nspark                       2382\nstorm                        581\nstruts                       608\ntika                         611\nwicket                      1440\nzeppelin                     858\ndtype: int64\n"
    }
   ],
   "source": [
    "# removes duplicated BICs\n",
    "print('Total BICs after removal of duplicates:\\n')\n",
    "\n",
    "project_bic = bic.groupby(level=0)\n",
    "\n",
    "# saves unique BICs\n",
    "ubic = project_bic.apply(lambda x: x.drop_duplicates(keep='first')).droplevel(0, axis=0)\n",
    "\n",
    "print(ubic.groupby(level=0, axis=0).count())\n",
    "# del bic"
   ]
  },
  {
   "cell_type": "code",
   "execution_count": 6,
   "metadata": {},
   "outputs": [],
   "source": [
    "# '''\n",
    "# shows all conflicting 'created_at' commits\n",
    "# proceed with manual investigation of how to solve this (HUGE ISSUE!!!)\n",
    "# '''\n",
    "# old.droplevel(0, axis=0)[old.droplevel(0, axis=0).index.duplicated(keep=False)]\n",
    "# new.droplevel(0, axis=0)[new.droplevel(0, axis=0).index.duplicated(keep=False)]"
   ]
  },
  {
   "cell_type": "code",
   "execution_count": 7,
   "metadata": {},
   "outputs": [
    {
     "name": "stdout",
     "output_type": "stream",
     "text": "camel 96\nlucene-solr 30\nnetbeans 2\n"
    }
   ],
   "source": [
    "# new.reset_index().iloc[old.reset_index().index][0].values\n",
    "'''\n",
    "prints projects with different number of commits\n",
    "'''\n",
    "new_g = new.groupby(level=0)\n",
    "old_g = old.groupby(level=0)\n",
    "\n",
    "for ng, og in zip(new_g, old_g):\n",
    "    # ng[1] = ng[1][ng[1].index.isin(og[1].index)]\n",
    "    if len(ng[1])-1 != len(og[1]):\n",
    "        print(ng[0], (len(ng[1]) - len(og[1]))-1)"
   ]
  },
  {
   "cell_type": "code",
   "execution_count": 8,
   "metadata": {},
   "outputs": [],
   "source": [
    "# '''\n",
    "# ensures that only commits present in 'old' are considered\n",
    "# '''\n",
    "# new_g = new.groupby(level=0)\n",
    "# old_g = old.groupby(level=0)\n",
    "# tmp = []\n",
    "\n",
    "# for ng, og in zip(new_g, old_g):\n",
    "#     tmp.append(ng[1][ng[1].index.isin(og[1].index)])\n",
    "\n",
    "# new = pd.concat(tmp)\n",
    "# del tmp\n",
    "# del new_g, old_g"
   ]
  },
  {
   "cell_type": "code",
   "execution_count": 9,
   "metadata": {},
   "outputs": [],
   "source": [
    "# drops the latest commit of each project, since it is actually from the tool not the project itself\n",
    "new = new_g.apply(lambda x: x.iloc[1:]).droplevel(0)"
   ]
  },
  {
   "cell_type": "code",
   "execution_count": 10,
   "metadata": {},
   "outputs": [],
   "source": [
    "# aggregates old and new commits to facilitate conversion\n",
    "convert = pd.DataFrame()\n",
    "\n",
    "convert['old_hash'] = old\n",
    "convert['new_hash'] =\\\n",
    "    new.reset_index()\\\n",
    "    .iloc[old.reset_index()\\\n",
    "    .index][0].values\n",
    "\n",
    "# converts bic commits to their equivalent in 'new'\n",
    "nbic =\\\n",
    "    convert.set_index('old_hash')\\\n",
    "    .squeeze()[ubic.values]\\\n",
    "    .dropna()\\\n",
    "    .reset_index(drop=True)\n",
    "\n",
    "del convert"
   ]
  },
  {
   "cell_type": "code",
   "execution_count": 11,
   "metadata": {},
   "outputs": [
    {
     "name": "stdout",
     "output_type": "stream",
     "text": "Selects components with relevant cochange dependency\n Of 8932894 entries, 312681 (3.50%) were found to have support_count > 1 and confidence >= 0.5\n"
    }
   ],
   "source": [
    "'''\n",
    "selects relevant support count (>1) and confidence (>=0.5)\n",
    "'''\n",
    "# selects cochange of at least two components with confidence higher that 0.5\n",
    "rcc = cc[\n",
    "    (cc.support_count > 1) & (cc.confidence >= 0.5)\n",
    "].reset_index(drop=True)\n",
    "\n",
    "print(\n",
    "    'Selects components with relevant cochange dependency\\n',\n",
    "    'Of {0} entries, {1} ({2:.2f}%) were found to have support_count > 1 and confidence >= 0.5'\n",
    "    .format(len(cc), len(rcc), (100*len(rcc)/len(cc)))\n",
    ")\n",
    "\n",
    "del cc"
   ]
  },
  {
   "cell_type": "code",
   "execution_count": 28,
   "metadata": {},
   "outputs": [
    {
     "data": {
      "text/plain": "{4, 5, 6}"
     },
     "execution_count": 28,
     "metadata": {},
     "output_type": "execute_result"
    }
   ],
   "source": [
    "{1,2,3,4,5,6} - {1,2,3}"
   ]
  },
  {
   "cell_type": "code",
   "execution_count": 33,
   "metadata": {},
   "outputs": [],
   "source": [
    "import itertools\n",
    "\n",
    "# operates with sets due to performance gains\n",
    "set_rcc = set(itertools.chain.from_iterable(rcc['commit_hash'].values))\n",
    "set_bic = set(bic.values)\n",
    "\n",
    "# defines implicit functions to compute count and percentage metrics\n",
    "get_total_bic_count = lambda x: len(set_bic) - (len(set_bic - set(x.values)))\n",
    "get_total_bic_percent = lambda x: (len(set_bic) - (len(set_bic - set(x.values)))) / len(x)\n",
    "\n",
    "get_cochange_count = lambda x: len(set(x.values) & set(set_rcc))\n",
    "get_cochange_bic_count = lambda x: len(set(x.values) & set(set_rcc) & set(nbic.values))\n",
    "get_cochange_bic_percent = lambda x:\\\n",
    "    len(set(x.values) & set(set_rcc) & set(nbic.values)) / len(set(x.values) & set_rcc) if len(set(x.values) & set_rcc) != 0 else 0.0\n",
    "\n",
    "get_nocochange_count = lambda x: len(set(x.values) - set(set_rcc))\n",
    "get_nocochange_bic_count = lambda x: len((set(x.values) - set(set_rcc)) & set(nbic.values))\n",
    "get_nocochange_bic_percent = lambda x:\\\n",
    "    len((set(x.values) - set(set_rcc)) & set(nbic.values)) / len(set(x.values) - set_rcc) if len(set(x.values) & set_rcc) != 0 else 0.0\n",
    "\n",
    "# applies count functions over each group (project)\n",
    "total_bic_df =\\\n",
    "    old_g.agg(['count', get_total_bic_count, get_total_bic_percent])\\\n",
    "    .rename(columns={\n",
    "        '<lambda_0>': 'bic_count', '<lambda_1>': 'bic_percent'\n",
    "    })\n",
    "\n",
    "cc_bic_df =\\\n",
    "    new_g.agg([get_cochange_count, get_cochange_bic_count, get_cochange_bic_percent])\\\n",
    "    .rename(columns={\n",
    "        '<lambda_0>': 'cochange_count', '<lambda_1>': 'bic_count', '<lambda_2>': 'bic_percent'\n",
    "    })\n",
    "\n",
    "nocc_bic_df =\\\n",
    "    new_g.agg([get_nocochange_count, get_nocochange_bic_count, get_nocochange_bic_percent])\\\n",
    "    .rename(columns={\n",
    "        '<lambda_0>': 'nocochange_count', '<lambda_1>': 'bic_count', '<lambda_2>': 'bic_percent'\n",
    "    })"
   ]
  },
  {
   "cell_type": "markdown",
   "execution_count": null,
   "metadata": {},
   "outputs": [],
   "source": [
    "## Assumptions of the paired t-test\n",
    "* The dependent variable (DV) must be continuous which is measured on an interval or ratio scale\n",
    "* The DV should not contain any significant outliers\n",
    "* The DV should be approximately normally distributed\n",
    "    * Testing for normality needs to be conducted on the differences between the two conditions, not the raw values of each condition itself\n",
    "    * If there is a violation of normality, as long as it’s not in a major violation, the test results can be considered valid"
   ]
  },
  {
   "cell_type": "code",
   "execution_count": 14,
   "metadata": {},
   "outputs": [],
   "source": [
    "'''\n",
    "Assumption 2. Outliers\n",
    "'''\n",
    "mean = cc_bic_df['bic_percent'].mean()\n",
    "std = cc_bic_df['bic_percent'].std()\n",
    "cc_bic = cc_bic_df['bic_percent'][cc_bic_df['bic_percent'].apply(lambda x: (x > mean - 2*std) and (x < mean + 2*std))]\n",
    "\n",
    "mean = total_bic_df['bic_percent'].mean()\n",
    "std = total_bic_df['bic_percent'].std()\n",
    "total_bic = total_bic_df['bic_percent'][total_bic_df['bic_percent'].apply(lambda x: (x > mean - 2*std) and (x < mean + 2*std))]"
   ]
  },
  {
   "cell_type": "code",
   "execution_count": 15,
   "metadata": {},
   "outputs": [
    {
     "name": "stdout",
     "output_type": "stream",
     "text": "---Summary of Variables---\n\n Percentage of BICs in all commits:\n count    35.000000\nmean      0.108511\nstd       0.050879\nmin       0.000205\n25%       0.073946\n50%       0.099504\n75%       0.137217\nmax       0.221905\nName: percent, dtype: float64 \n------------------------------------------------------\n\nPercentage of BICs in commits with cochange dependency:\n count    36.000000\nmean      0.098130\nstd       0.063570\nmin       0.000000\n25%       0.048638\n50%       0.101623\n75%       0.133526\nmax       0.257143\nName: percent, dtype: float64\n"
    }
   ],
   "source": [
    "print(\n",
    "    '\\t\\t---Summary of Variables---\\n\\n',\n",
    "    'Percentage of BICs in all commits:\\n',\n",
    "    total_bic.describe(),\n",
    "    '\\n------------------------------------------------------\\n'\n",
    "    '\\nPercentage of BICs in commits with cochange dependency:\\n',\n",
    "    cc_bic.describe(),\n",
    ")"
   ]
  },
  {
   "cell_type": "code",
   "execution_count": 16,
   "metadata": {},
   "outputs": [
    {
     "name": "stdout",
     "output_type": "stream",
     "text": "---Shapiro Wilk Normality Test - Individual Samples---\n \tAssume normality if p-value > 0.05\n\n\t\tTotal BICs\n W-statistic\t\tp-value\n (0.9772871732711792, 0.6693524122238159) \n\n\t\tCochange BICs\n W-statistic\t\tp-value\n (0.9681053161621094, 0.37607207894325256)\n"
    }
   ],
   "source": [
    "'''\n",
    "test both samples for normality\n",
    "'''\n",
    "print(\n",
    "    '\\t\\t---Shapiro Wilk Normality Test - Individual Samples---\\n',\n",
    "    '\\tAssume normality if p-value > 0.05\\n\\n'\n",
    "    '\\t\\tTotal BICs\\n W-statistic\\t\\tp-value\\n',\n",
    "    shapiro(total_bic.values),\n",
    "    '\\n\\n\\t\\tCochange BICs\\n W-statistic\\t\\tp-value\\n',\n",
    "    shapiro(cc_bic.values)\n",
    ")"
   ]
  },
  {
   "cell_type": "code",
   "execution_count": 17,
   "metadata": {},
   "outputs": [],
   "source": [
    "'''\n",
    "pairs the two variables\n",
    "'''\n",
    "total_bic = total_bic[total_bic.index.isin(cc_bic.index)]\n",
    "cc_bic = cc_bic[cc_bic.index.isin(total_bic.index)]"
   ]
  },
  {
   "cell_type": "code",
   "execution_count": 25,
   "metadata": {},
   "outputs": [
    {
     "name": "stdout",
     "output_type": "stream",
     "text": "---Shapiro Wilk Normality Test - Paired Samples---\n \tAssume normality if p-value > 0.05\n\n\tDifference of BICs (total - cocahnge)\n W-statistic\t\tp-value\n (0.9722103476524353, 0.5250150561332703) \n\n\n"
    },
    {
     "data": {
      "image/png": "[encoded data removed]",
      "image/svg+xml": "<?xml version=\"1.0\" encoding=\"utf-8\" standalone=\"no\"?>\n<!DOCTYPE svg PUBLIC \"-//W3C//DTD SVG 1.1//EN\"\n  \"http://www.w3.org/Graphics/SVG/1.1/DTD/svg11.dtd\">\n<!-- Created with matplotlib (https://matplotlib.org/) -->\n<svg height=\"248.518125pt\" version=\"1.1\" viewBox=\"0 0 376.240625 248.518125\" width=\"376.240625pt\" xmlns=\"http://www.w3.org/2000/svg\" xmlns:xlink=\"http://www.w3.org/1999/xlink\">\n <defs>\n  <style type=\"text/css\">\n*{stroke-linecap:butt;stroke-linejoin:round;}\n  </style>\n </defs>\n <g id=\"figure_1\">\n  <g id=\"patch_1\">\n   <path d=\"M 0 248.518125 \nL 376.240625 248.518125 \nL 376.240625 0 \nL 0 0 \nz\n\" style=\"fill:none;\"/>\n  </g>\n  <g id=\"axes_1\">\n   <g id=\"patch_2\">\n    <path d=\"M 34.240625 224.64 \nL 369.040625 224.64 \nL 369.040625 7.2 \nL 34.240625 7.2 \nz\n\" style=\"fill:#ffffff;\"/>\n   </g>\n   <g id=\"patch_3\">\n    <path clip-path=\"url(#p0eddab33ef)\" d=\"M 49.458807 224.64 \nL 79.89517 224.64 \nL 79.89517 195.056327 \nL 49.458807 195.056327 \nz\n\" style=\"fill:#1f77b4;\"/>\n   </g>\n   <g id=\"patch_4\">\n    <path clip-path=\"url(#p0eddab33ef)\" d=\"M 79.89517 224.64 \nL 110.331534 224.64 \nL 110.331534 224.64 \nL 79.89517 224.64 \nz\n\" style=\"fill:#1f77b4;\"/>\n   </g>\n   <g id=\"patch_5\">\n    <path clip-path=\"url(#p0eddab33ef)\" d=\"M 110.331534 224.64 \nL 140.767898 224.64 \nL 140.767898 224.64 \nL 110.331534 224.64 \nz\n\" style=\"fill:#1f77b4;\"/>\n   </g>\n   <g id=\"patch_6\">\n    <path clip-path=\"url(#p0eddab33ef)\" d=\"M 140.767898 224.64 \nL 171.204261 224.64 \nL 171.204261 106.305306 \nL 140.767898 106.305306 \nz\n\" style=\"fill:#1f77b4;\"/>\n   </g>\n   <g id=\"patch_7\">\n    <path clip-path=\"url(#p0eddab33ef)\" d=\"M 171.204261 224.64 \nL 201.640625 224.64 \nL 201.640625 17.554286 \nL 171.204261 17.554286 \nz\n\" style=\"fill:#1f77b4;\"/>\n   </g>\n   <g id=\"patch_8\">\n    <path clip-path=\"url(#p0eddab33ef)\" d=\"M 201.640625 224.64 \nL 232.076989 224.64 \nL 232.076989 17.554286 \nL 201.640625 17.554286 \nz\n\" style=\"fill:#1f77b4;\"/>\n   </g>\n   <g id=\"patch_9\">\n    <path clip-path=\"url(#p0eddab33ef)\" d=\"M 232.076989 224.64 \nL 262.513352 224.64 \nL 262.513352 17.554286 \nL 232.076989 17.554286 \nz\n\" style=\"fill:#1f77b4;\"/>\n   </g>\n   <g id=\"patch_10\">\n    <path clip-path=\"url(#p0eddab33ef)\" d=\"M 262.513352 224.64 \nL 292.949716 224.64 \nL 292.949716 76.721633 \nL 262.513352 76.721633 \nz\n\" style=\"fill:#1f77b4;\"/>\n   </g>\n   <g id=\"patch_11\">\n    <path clip-path=\"url(#p0eddab33ef)\" d=\"M 292.949716 224.64 \nL 323.38608 224.64 \nL 323.38608 195.056327 \nL 292.949716 195.056327 \nz\n\" style=\"fill:#1f77b4;\"/>\n   </g>\n   <g id=\"patch_12\">\n    <path clip-path=\"url(#p0eddab33ef)\" d=\"M 323.38608 224.64 \nL 353.822443 224.64 \nL 353.822443 165.472653 \nL 323.38608 165.472653 \nz\n\" style=\"fill:#1f77b4;\"/>\n   </g>\n   <g id=\"matplotlib.axis_1\">\n    <g id=\"xtick_1\">\n     <g id=\"line2d_1\">\n      <defs>\n       <path d=\"M 0 0 \nL 0 3.5 \n\" id=\"md4763c02f8\" style=\"stroke:#000000;stroke-width:0.8;\"/>\n      </defs>\n      <g>\n       <use style=\"stroke:#000000;stroke-width:0.8;\" x=\"85.650021\" xlink:href=\"#md4763c02f8\" y=\"224.64\"/>\n      </g>\n     </g>\n     <g id=\"text_1\">\n      <!-- −0.2 -->\n      <defs>\n       <path d=\"M 10.59375 35.5 \nL 73.1875 35.5 \nL 73.1875 27.203125 \nL 10.59375 27.203125 \nz\n\" id=\"DejaVuSans-8722\"/>\n       <path d=\"M 31.78125 66.40625 \nQ 24.171875 66.40625 20.328125 58.90625 \nQ 16.5 51.421875 16.5 36.375 \nQ 16.5 21.390625 20.328125 13.890625 \nQ 24.171875 6.390625 31.78125 6.390625 \nQ 39.453125 6.390625 43.28125 13.890625 \nQ 47.125 21.390625 47.125 36.375 \nQ 47.125 51.421875 43.28125 58.90625 \nQ 39.453125 66.40625 31.78125 66.40625 \nz\nM 31.78125 74.21875 \nQ 44.046875 74.21875 50.515625 64.515625 \nQ 56.984375 54.828125 56.984375 36.375 \nQ 56.984375 17.96875 50.515625 8.265625 \nQ 44.046875 -1.421875 31.78125 -1.421875 \nQ 19.53125 -1.421875 13.0625 8.265625 \nQ 6.59375 17.96875 6.59375 36.375 \nQ 6.59375 54.828125 13.0625 64.515625 \nQ 19.53125 74.21875 31.78125 74.21875 \nz\n\" id=\"DejaVuSans-48\"/>\n       <path d=\"M 10.6875 12.40625 \nL 21 12.40625 \nL 21 0 \nL 10.6875 0 \nz\n\" id=\"DejaVuSans-46\"/>\n       <path d=\"M 19.1875 8.296875 \nL 53.609375 8.296875 \nL 53.609375 0 \nL 7.328125 0 \nL 7.328125 8.296875 \nQ 12.9375 14.109375 22.625 23.890625 \nQ 32.328125 33.6875 34.8125 36.53125 \nQ 39.546875 41.84375 41.421875 45.53125 \nQ 43.3125 49.21875 43.3125 52.78125 \nQ 43.3125 58.59375 39.234375 62.25 \nQ 35.15625 65.921875 28.609375 65.921875 \nQ 23.96875 65.921875 18.8125 64.3125 \nQ 13.671875 62.703125 7.8125 59.421875 \nL 7.8125 69.390625 \nQ 13.765625 71.78125 18.9375 73 \nQ 24.125 74.21875 28.421875 74.21875 \nQ 39.75 74.21875 46.484375 68.546875 \nQ 53.21875 62.890625 53.21875 53.421875 \nQ 53.21875 48.921875 51.53125 44.890625 \nQ 49.859375 40.875 45.40625 35.40625 \nQ 44.1875 33.984375 37.640625 27.21875 \nQ 31.109375 20.453125 19.1875 8.296875 \nz\n\" id=\"DejaVuSans-50\"/>\n      </defs>\n      <g transform=\"translate(73.508615 239.238437)scale(0.1 -0.1)\">\n       <use xlink:href=\"#DejaVuSans-8722\"/>\n       <use x=\"83.789062\" xlink:href=\"#DejaVuSans-48\"/>\n       <use x=\"147.412109\" xlink:href=\"#DejaVuSans-46\"/>\n       <use x=\"179.199219\" xlink:href=\"#DejaVuSans-50\"/>\n      </g>\n     </g>\n    </g>\n    <g id=\"xtick_2\">\n     <g id=\"line2d_2\">\n      <g>\n       <use style=\"stroke:#000000;stroke-width:0.8;\" x=\"149.212334\" xlink:href=\"#md4763c02f8\" y=\"224.64\"/>\n      </g>\n     </g>\n     <g id=\"text_2\">\n      <!-- −0.1 -->\n      <defs>\n       <path d=\"M 12.40625 8.296875 \nL 28.515625 8.296875 \nL 28.515625 63.921875 \nL 10.984375 60.40625 \nL 10.984375 69.390625 \nL 28.421875 72.90625 \nL 38.28125 72.90625 \nL 38.28125 8.296875 \nL 54.390625 8.296875 \nL 54.390625 0 \nL 12.40625 0 \nz\n\" id=\"DejaVuSans-49\"/>\n      </defs>\n      <g transform=\"translate(137.070927 239.238437)scale(0.1 -0.1)\">\n       <use xlink:href=\"#DejaVuSans-8722\"/>\n       <use x=\"83.789062\" xlink:href=\"#DejaVuSans-48\"/>\n       <use x=\"147.412109\" xlink:href=\"#DejaVuSans-46\"/>\n       <use x=\"179.199219\" xlink:href=\"#DejaVuSans-49\"/>\n      </g>\n     </g>\n    </g>\n    <g id=\"xtick_3\">\n     <g id=\"line2d_3\">\n      <g>\n       <use style=\"stroke:#000000;stroke-width:0.8;\" x=\"212.774646\" xlink:href=\"#md4763c02f8\" y=\"224.64\"/>\n      </g>\n     </g>\n     <g id=\"text_3\">\n      <!-- 0.0 -->\n      <g transform=\"translate(204.823083 239.238437)scale(0.1 -0.1)\">\n       <use xlink:href=\"#DejaVuSans-48\"/>\n       <use x=\"63.623047\" xlink:href=\"#DejaVuSans-46\"/>\n       <use x=\"95.410156\" xlink:href=\"#DejaVuSans-48\"/>\n      </g>\n     </g>\n    </g>\n    <g id=\"xtick_4\">\n     <g id=\"line2d_4\">\n      <g>\n       <use style=\"stroke:#000000;stroke-width:0.8;\" x=\"276.336958\" xlink:href=\"#md4763c02f8\" y=\"224.64\"/>\n      </g>\n     </g>\n     <g id=\"text_4\">\n      <!-- 0.1 -->\n      <g transform=\"translate(268.385395 239.238437)scale(0.1 -0.1)\">\n       <use xlink:href=\"#DejaVuSans-48\"/>\n       <use x=\"63.623047\" xlink:href=\"#DejaVuSans-46\"/>\n       <use x=\"95.410156\" xlink:href=\"#DejaVuSans-49\"/>\n      </g>\n     </g>\n    </g>\n    <g id=\"xtick_5\">\n     <g id=\"line2d_5\">\n      <g>\n       <use style=\"stroke:#000000;stroke-width:0.8;\" x=\"339.89927\" xlink:href=\"#md4763c02f8\" y=\"224.64\"/>\n      </g>\n     </g>\n     <g id=\"text_5\">\n      <!-- 0.2 -->\n      <g transform=\"translate(331.947708 239.238437)scale(0.1 -0.1)\">\n       <use xlink:href=\"#DejaVuSans-48\"/>\n       <use x=\"63.623047\" xlink:href=\"#DejaVuSans-46\"/>\n       <use x=\"95.410156\" xlink:href=\"#DejaVuSans-50\"/>\n      </g>\n     </g>\n    </g>\n   </g>\n   <g id=\"matplotlib.axis_2\">\n    <g id=\"ytick_1\">\n     <g id=\"line2d_6\">\n      <defs>\n       <path d=\"M 0 0 \nL -3.5 0 \n\" id=\"m7aea866595\" style=\"stroke:#000000;stroke-width:0.8;\"/>\n      </defs>\n      <g>\n       <use style=\"stroke:#000000;stroke-width:0.8;\" x=\"34.240625\" xlink:href=\"#m7aea866595\" y=\"224.64\"/>\n      </g>\n     </g>\n     <g id=\"text_6\">\n      <!-- 0 -->\n      <g transform=\"translate(20.878125 228.439219)scale(0.1 -0.1)\">\n       <use xlink:href=\"#DejaVuSans-48\"/>\n      </g>\n     </g>\n    </g>\n    <g id=\"ytick_2\">\n     <g id=\"line2d_7\">\n      <g>\n       <use style=\"stroke:#000000;stroke-width:0.8;\" x=\"34.240625\" xlink:href=\"#m7aea866595\" y=\"195.056327\"/>\n      </g>\n     </g>\n     <g id=\"text_7\">\n      <!-- 1 -->\n      <g transform=\"translate(20.878125 198.855545)scale(0.1 -0.1)\">\n       <use xlink:href=\"#DejaVuSans-49\"/>\n      </g>\n     </g>\n    </g>\n    <g id=\"ytick_3\">\n     <g id=\"line2d_8\">\n      <g>\n       <use style=\"stroke:#000000;stroke-width:0.8;\" x=\"34.240625\" xlink:href=\"#m7aea866595\" y=\"165.472653\"/>\n      </g>\n     </g>\n     <g id=\"text_8\">\n      <!-- 2 -->\n      <g transform=\"translate(20.878125 169.271872)scale(0.1 -0.1)\">\n       <use xlink:href=\"#DejaVuSans-50\"/>\n      </g>\n     </g>\n    </g>\n    <g id=\"ytick_4\">\n     <g id=\"line2d_9\">\n      <g>\n       <use style=\"stroke:#000000;stroke-width:0.8;\" x=\"34.240625\" xlink:href=\"#m7aea866595\" y=\"135.88898\"/>\n      </g>\n     </g>\n     <g id=\"text_9\">\n      <!-- 3 -->\n      <defs>\n       <path d=\"M 40.578125 39.3125 \nQ 47.65625 37.796875 51.625 33 \nQ 55.609375 28.21875 55.609375 21.1875 \nQ 55.609375 10.40625 48.1875 4.484375 \nQ 40.765625 -1.421875 27.09375 -1.421875 \nQ 22.515625 -1.421875 17.65625 -0.515625 \nQ 12.796875 0.390625 7.625 2.203125 \nL 7.625 11.71875 \nQ 11.71875 9.328125 16.59375 8.109375 \nQ 21.484375 6.890625 26.8125 6.890625 \nQ 36.078125 6.890625 40.9375 10.546875 \nQ 45.796875 14.203125 45.796875 21.1875 \nQ 45.796875 27.640625 41.28125 31.265625 \nQ 36.765625 34.90625 28.71875 34.90625 \nL 20.21875 34.90625 \nL 20.21875 43.015625 \nL 29.109375 43.015625 \nQ 36.375 43.015625 40.234375 45.921875 \nQ 44.09375 48.828125 44.09375 54.296875 \nQ 44.09375 59.90625 40.109375 62.90625 \nQ 36.140625 65.921875 28.71875 65.921875 \nQ 24.65625 65.921875 20.015625 65.03125 \nQ 15.375 64.15625 9.8125 62.3125 \nL 9.8125 71.09375 \nQ 15.4375 72.65625 20.34375 73.4375 \nQ 25.25 74.21875 29.59375 74.21875 \nQ 40.828125 74.21875 47.359375 69.109375 \nQ 53.90625 64.015625 53.90625 55.328125 \nQ 53.90625 49.265625 50.4375 45.09375 \nQ 46.96875 40.921875 40.578125 39.3125 \nz\n\" id=\"DejaVuSans-51\"/>\n      </defs>\n      <g transform=\"translate(20.878125 139.688198)scale(0.1 -0.1)\">\n       <use xlink:href=\"#DejaVuSans-51\"/>\n      </g>\n     </g>\n    </g>\n    <g id=\"ytick_5\">\n     <g id=\"line2d_10\">\n      <g>\n       <use style=\"stroke:#000000;stroke-width:0.8;\" x=\"34.240625\" xlink:href=\"#m7aea866595\" y=\"106.305306\"/>\n      </g>\n     </g>\n     <g id=\"text_10\">\n      <!-- 4 -->\n      <defs>\n       <path d=\"M 37.796875 64.3125 \nL 12.890625 25.390625 \nL 37.796875 25.390625 \nz\nM 35.203125 72.90625 \nL 47.609375 72.90625 \nL 47.609375 25.390625 \nL 58.015625 25.390625 \nL 58.015625 17.1875 \nL 47.609375 17.1875 \nL 47.609375 0 \nL 37.796875 0 \nL 37.796875 17.1875 \nL 4.890625 17.1875 \nL 4.890625 26.703125 \nz\n\" id=\"DejaVuSans-52\"/>\n      </defs>\n      <g transform=\"translate(20.878125 110.104525)scale(0.1 -0.1)\">\n       <use xlink:href=\"#DejaVuSans-52\"/>\n      </g>\n     </g>\n    </g>\n    <g id=\"ytick_6\">\n     <g id=\"line2d_11\">\n      <g>\n       <use style=\"stroke:#000000;stroke-width:0.8;\" x=\"34.240625\" xlink:href=\"#m7aea866595\" y=\"76.721633\"/>\n      </g>\n     </g>\n     <g id=\"text_11\">\n      <!-- 5 -->\n      <defs>\n       <path d=\"M 10.796875 72.90625 \nL 49.515625 72.90625 \nL 49.515625 64.59375 \nL 19.828125 64.59375 \nL 19.828125 46.734375 \nQ 21.96875 47.46875 24.109375 47.828125 \nQ 26.265625 48.1875 28.421875 48.1875 \nQ 40.625 48.1875 47.75 41.5 \nQ 54.890625 34.8125 54.890625 23.390625 \nQ 54.890625 11.625 47.5625 5.09375 \nQ 40.234375 -1.421875 26.90625 -1.421875 \nQ 22.3125 -1.421875 17.546875 -0.640625 \nQ 12.796875 0.140625 7.71875 1.703125 \nL 7.71875 11.625 \nQ 12.109375 9.234375 16.796875 8.0625 \nQ 21.484375 6.890625 26.703125 6.890625 \nQ 35.15625 6.890625 40.078125 11.328125 \nQ 45.015625 15.765625 45.015625 23.390625 \nQ 45.015625 31 40.078125 35.4375 \nQ 35.15625 39.890625 26.703125 39.890625 \nQ 22.75 39.890625 18.8125 39.015625 \nQ 14.890625 38.140625 10.796875 36.28125 \nz\n\" id=\"DejaVuSans-53\"/>\n      </defs>\n      <g transform=\"translate(20.878125 80.520851)scale(0.1 -0.1)\">\n       <use xlink:href=\"#DejaVuSans-53\"/>\n      </g>\n     </g>\n    </g>\n    <g id=\"ytick_7\">\n     <g id=\"line2d_12\">\n      <g>\n       <use style=\"stroke:#000000;stroke-width:0.8;\" x=\"34.240625\" xlink:href=\"#m7aea866595\" y=\"47.137959\"/>\n      </g>\n     </g>\n     <g id=\"text_12\">\n      <!-- 6 -->\n      <defs>\n       <path d=\"M 33.015625 40.375 \nQ 26.375 40.375 22.484375 35.828125 \nQ 18.609375 31.296875 18.609375 23.390625 \nQ 18.609375 15.53125 22.484375 10.953125 \nQ 26.375 6.390625 33.015625 6.390625 \nQ 39.65625 6.390625 43.53125 10.953125 \nQ 47.40625 15.53125 47.40625 23.390625 \nQ 47.40625 31.296875 43.53125 35.828125 \nQ 39.65625 40.375 33.015625 40.375 \nz\nM 52.59375 71.296875 \nL 52.59375 62.3125 \nQ 48.875 64.0625 45.09375 64.984375 \nQ 41.3125 65.921875 37.59375 65.921875 \nQ 27.828125 65.921875 22.671875 59.328125 \nQ 17.53125 52.734375 16.796875 39.40625 \nQ 19.671875 43.65625 24.015625 45.921875 \nQ 28.375 48.1875 33.59375 48.1875 \nQ 44.578125 48.1875 50.953125 41.515625 \nQ 57.328125 34.859375 57.328125 23.390625 \nQ 57.328125 12.15625 50.6875 5.359375 \nQ 44.046875 -1.421875 33.015625 -1.421875 \nQ 20.359375 -1.421875 13.671875 8.265625 \nQ 6.984375 17.96875 6.984375 36.375 \nQ 6.984375 53.65625 15.1875 63.9375 \nQ 23.390625 74.21875 37.203125 74.21875 \nQ 40.921875 74.21875 44.703125 73.484375 \nQ 48.484375 72.75 52.59375 71.296875 \nz\n\" id=\"DejaVuSans-54\"/>\n      </defs>\n      <g transform=\"translate(20.878125 50.937178)scale(0.1 -0.1)\">\n       <use xlink:href=\"#DejaVuSans-54\"/>\n      </g>\n     </g>\n    </g>\n    <g id=\"ytick_8\">\n     <g id=\"line2d_13\">\n      <g>\n       <use style=\"stroke:#000000;stroke-width:0.8;\" x=\"34.240625\" xlink:href=\"#m7aea866595\" y=\"17.554286\"/>\n      </g>\n     </g>\n     <g id=\"text_13\">\n      <!-- 7 -->\n      <defs>\n       <path d=\"M 8.203125 72.90625 \nL 55.078125 72.90625 \nL 55.078125 68.703125 \nL 28.609375 0 \nL 18.3125 0 \nL 43.21875 64.59375 \nL 8.203125 64.59375 \nz\n\" id=\"DejaVuSans-55\"/>\n      </defs>\n      <g transform=\"translate(20.878125 21.353504)scale(0.1 -0.1)\">\n       <use xlink:href=\"#DejaVuSans-55\"/>\n      </g>\n     </g>\n    </g>\n    <g id=\"text_14\">\n     <!-- Frequency -->\n     <defs>\n      <path d=\"M 9.8125 72.90625 \nL 51.703125 72.90625 \nL 51.703125 64.59375 \nL 19.671875 64.59375 \nL 19.671875 43.109375 \nL 48.578125 43.109375 \nL 48.578125 34.8125 \nL 19.671875 34.8125 \nL 19.671875 0 \nL 9.8125 0 \nz\n\" id=\"DejaVuSans-70\"/>\n      <path d=\"M 41.109375 46.296875 \nQ 39.59375 47.171875 37.8125 47.578125 \nQ 36.03125 48 33.890625 48 \nQ 26.265625 48 22.1875 43.046875 \nQ 18.109375 38.09375 18.109375 28.8125 \nL 18.109375 0 \nL 9.078125 0 \nL 9.078125 54.6875 \nL 18.109375 54.6875 \nL 18.109375 46.1875 \nQ 20.953125 51.171875 25.484375 53.578125 \nQ 30.03125 56 36.53125 56 \nQ 37.453125 56 38.578125 55.875 \nQ 39.703125 55.765625 41.0625 55.515625 \nz\n\" id=\"DejaVuSans-114\"/>\n      <path d=\"M 56.203125 29.59375 \nL 56.203125 25.203125 \nL 14.890625 25.203125 \nQ 15.484375 15.921875 20.484375 11.0625 \nQ 25.484375 6.203125 34.421875 6.203125 \nQ 39.59375 6.203125 44.453125 7.46875 \nQ 49.3125 8.734375 54.109375 11.28125 \nL 54.109375 2.78125 \nQ 49.265625 0.734375 44.1875 -0.34375 \nQ 39.109375 -1.421875 33.890625 -1.421875 \nQ 20.796875 -1.421875 13.15625 6.1875 \nQ 5.515625 13.8125 5.515625 26.8125 \nQ 5.515625 40.234375 12.765625 48.109375 \nQ 20.015625 56 32.328125 56 \nQ 43.359375 56 49.78125 48.890625 \nQ 56.203125 41.796875 56.203125 29.59375 \nz\nM 47.21875 32.234375 \nQ 47.125 39.59375 43.09375 43.984375 \nQ 39.0625 48.390625 32.421875 48.390625 \nQ 24.90625 48.390625 20.390625 44.140625 \nQ 15.875 39.890625 15.1875 32.171875 \nz\n\" id=\"DejaVuSans-101\"/>\n      <path d=\"M 14.796875 27.296875 \nQ 14.796875 17.390625 18.875 11.75 \nQ 22.953125 6.109375 30.078125 6.109375 \nQ 37.203125 6.109375 41.296875 11.75 \nQ 45.40625 17.390625 45.40625 27.296875 \nQ 45.40625 37.203125 41.296875 42.84375 \nQ 37.203125 48.484375 30.078125 48.484375 \nQ 22.953125 48.484375 18.875 42.84375 \nQ 14.796875 37.203125 14.796875 27.296875 \nz\nM 45.40625 8.203125 \nQ 42.578125 3.328125 38.25 0.953125 \nQ 33.9375 -1.421875 27.875 -1.421875 \nQ 17.96875 -1.421875 11.734375 6.484375 \nQ 5.515625 14.40625 5.515625 27.296875 \nQ 5.515625 40.1875 11.734375 48.09375 \nQ 17.96875 56 27.875 56 \nQ 33.9375 56 38.25 53.625 \nQ 42.578125 51.265625 45.40625 46.390625 \nL 45.40625 54.6875 \nL 54.390625 54.6875 \nL 54.390625 -20.796875 \nL 45.40625 -20.796875 \nz\n\" id=\"DejaVuSans-113\"/>\n      <path d=\"M 8.5 21.578125 \nL 8.5 54.6875 \nL 17.484375 54.6875 \nL 17.484375 21.921875 \nQ 17.484375 14.15625 20.5 10.265625 \nQ 23.53125 6.390625 29.59375 6.390625 \nQ 36.859375 6.390625 41.078125 11.03125 \nQ 45.3125 15.671875 45.3125 23.6875 \nL 45.3125 54.6875 \nL 54.296875 54.6875 \nL 54.296875 0 \nL 45.3125 0 \nL 45.3125 8.40625 \nQ 42.046875 3.421875 37.71875 1 \nQ 33.40625 -1.421875 27.6875 -1.421875 \nQ 18.265625 -1.421875 13.375 4.4375 \nQ 8.5 10.296875 8.5 21.578125 \nz\nM 31.109375 56 \nz\n\" id=\"DejaVuSans-117\"/>\n      <path d=\"M 54.890625 33.015625 \nL 54.890625 0 \nL 45.90625 0 \nL 45.90625 32.71875 \nQ 45.90625 40.484375 42.875 44.328125 \nQ 39.84375 48.1875 33.796875 48.1875 \nQ 26.515625 48.1875 22.3125 43.546875 \nQ 18.109375 38.921875 18.109375 30.90625 \nL 18.109375 0 \nL 9.078125 0 \nL 9.078125 54.6875 \nL 18.109375 54.6875 \nL 18.109375 46.1875 \nQ 21.34375 51.125 25.703125 53.5625 \nQ 30.078125 56 35.796875 56 \nQ 45.21875 56 50.046875 50.171875 \nQ 54.890625 44.34375 54.890625 33.015625 \nz\n\" id=\"DejaVuSans-110\"/>\n      <path d=\"M 48.78125 52.59375 \nL 48.78125 44.1875 \nQ 44.96875 46.296875 41.140625 47.34375 \nQ 37.3125 48.390625 33.40625 48.390625 \nQ 24.65625 48.390625 19.8125 42.84375 \nQ 14.984375 37.3125 14.984375 27.296875 \nQ 14.984375 17.28125 19.8125 11.734375 \nQ 24.65625 6.203125 33.40625 6.203125 \nQ 37.3125 6.203125 41.140625 7.25 \nQ 44.96875 8.296875 48.78125 10.40625 \nL 48.78125 2.09375 \nQ 45.015625 0.34375 40.984375 -0.53125 \nQ 36.96875 -1.421875 32.421875 -1.421875 \nQ 20.0625 -1.421875 12.78125 6.34375 \nQ 5.515625 14.109375 5.515625 27.296875 \nQ 5.515625 40.671875 12.859375 48.328125 \nQ 20.21875 56 33.015625 56 \nQ 37.15625 56 41.109375 55.140625 \nQ 45.0625 54.296875 48.78125 52.59375 \nz\n\" id=\"DejaVuSans-99\"/>\n      <path d=\"M 32.171875 -5.078125 \nQ 28.375 -14.84375 24.75 -17.8125 \nQ 21.140625 -20.796875 15.09375 -20.796875 \nL 7.90625 -20.796875 \nL 7.90625 -13.28125 \nL 13.1875 -13.28125 \nQ 16.890625 -13.28125 18.9375 -11.515625 \nQ 21 -9.765625 23.484375 -3.21875 \nL 25.09375 0.875 \nL 2.984375 54.6875 \nL 12.5 54.6875 \nL 29.59375 11.921875 \nL 46.6875 54.6875 \nL 56.203125 54.6875 \nz\n\" id=\"DejaVuSans-121\"/>\n     </defs>\n     <g transform=\"translate(14.798437 142.217656)rotate(-90)scale(0.1 -0.1)\">\n      <use xlink:href=\"#DejaVuSans-70\"/>\n      <use x=\"57.410156\" xlink:href=\"#DejaVuSans-114\"/>\n      <use x=\"98.492188\" xlink:href=\"#DejaVuSans-101\"/>\n      <use x=\"160.015625\" xlink:href=\"#DejaVuSans-113\"/>\n      <use x=\"223.492188\" xlink:href=\"#DejaVuSans-117\"/>\n      <use x=\"286.871094\" xlink:href=\"#DejaVuSans-101\"/>\n      <use x=\"348.394531\" xlink:href=\"#DejaVuSans-110\"/>\n      <use x=\"411.773438\" xlink:href=\"#DejaVuSans-99\"/>\n      <use x=\"466.753906\" xlink:href=\"#DejaVuSans-121\"/>\n     </g>\n    </g>\n   </g>\n   <g id=\"patch_13\">\n    <path d=\"M 34.240625 224.64 \nL 34.240625 7.2 \n\" style=\"fill:none;stroke:#000000;stroke-linecap:square;stroke-linejoin:miter;stroke-width:0.8;\"/>\n   </g>\n   <g id=\"patch_14\">\n    <path d=\"M 369.040625 224.64 \nL 369.040625 7.2 \n\" style=\"fill:none;stroke:#000000;stroke-linecap:square;stroke-linejoin:miter;stroke-width:0.8;\"/>\n   </g>\n   <g id=\"patch_15\">\n    <path d=\"M 34.240625 224.64 \nL 369.040625 224.64 \n\" style=\"fill:none;stroke:#000000;stroke-linecap:square;stroke-linejoin:miter;stroke-width:0.8;\"/>\n   </g>\n   <g id=\"patch_16\">\n    <path d=\"M 34.240625 7.2 \nL 369.040625 7.2 \n\" style=\"fill:none;stroke:#000000;stroke-linecap:square;stroke-linejoin:miter;stroke-width:0.8;\"/>\n   </g>\n  </g>\n </g>\n <defs>\n  <clipPath id=\"p0eddab33ef\">\n   <rect height=\"217.44\" width=\"334.8\" x=\"34.240625\" y=\"7.2\"/>\n  </clipPath>\n </defs>\n</svg>\n",
      "text/plain": "<Figure size 432x288 with 1 Axes>"
     },
     "metadata": {
      "needs_background": "light"
     },
     "output_type": "display_data"
    }
   ],
   "source": [
    "'''\n",
    "Assumption 3. Normality of the differences\n",
    "'''\n",
    "bic_diff = total_bic - cc_bic\n",
    "print(\n",
    "    '\\t\\t---Shapiro Wilk Normality Test - Paired Samples---\\n',\n",
    "    '\\tAssume normality if p-value > 0.05\\n\\n'\n",
    "    '\\tDifference of BICs (total - cocahnge)\\n W-statistic\\t\\tp-value\\n',\n",
    "    shapiro(bic_diff.values),\n",
    "    '\\n\\n'\n",
    ")\n",
    "bic_diff.plot(kind='hist')\n",
    "plt.show()"
   ]
  },
  {
   "cell_type": "code",
   "execution_count": 19,
   "metadata": {},
   "outputs": [
    {
     "data": {
      "image/png": "[encoded data removed]",
      "image/svg+xml": "<?xml version=\"1.0\" encoding=\"utf-8\" standalone=\"no\"?>\n<!DOCTYPE svg PUBLIC \"-//W3C//DTD SVG 1.1//EN\"\n  \"http://www.w3.org/Graphics/SVG/1.1/DTD/svg11.dtd\">\n<!-- Created with matplotlib (https://matplotlib.org/) -->\n<svg height=\"277.314375pt\" version=\"1.1\" viewBox=\"0 0 394.160937 277.314375\" width=\"394.160937pt\" xmlns=\"http://www.w3.org/2000/svg\" xmlns:xlink=\"http://www.w3.org/1999/xlink\">\n <defs>\n  <style type=\"text/css\">\n*{stroke-linecap:butt;stroke-linejoin:round;}\n  </style>\n </defs>\n <g id=\"figure_1\">\n  <g id=\"patch_1\">\n   <path d=\"M 0 277.314375 \nL 394.160937 277.314375 \nL 394.160937 0 \nL 0 0 \nz\n\" style=\"fill:none;\"/>\n  </g>\n  <g id=\"axes_1\">\n   <g id=\"patch_2\">\n    <path d=\"M 52.160938 239.758125 \nL 386.960938 239.758125 \nL 386.960938 22.318125 \nL 52.160938 22.318125 \nz\n\" style=\"fill:#ffffff;\"/>\n   </g>\n   <g id=\"matplotlib.axis_1\">\n    <g id=\"xtick_1\">\n     <g id=\"line2d_1\">\n      <defs>\n       <path d=\"M 0 0 \nL 0 3.5 \n\" id=\"mecd0579df7\" style=\"stroke:#000000;stroke-width:0.8;\"/>\n      </defs>\n      <g>\n       <use style=\"stroke:#000000;stroke-width:0.8;\" x=\"71.093746\" xlink:href=\"#mecd0579df7\" y=\"239.758125\"/>\n      </g>\n     </g>\n     <g id=\"text_1\">\n      <!-- −2 -->\n      <defs>\n       <path d=\"M 10.59375 35.5 \nL 73.1875 35.5 \nL 73.1875 27.203125 \nL 10.59375 27.203125 \nz\n\" id=\"DejaVuSans-8722\"/>\n       <path d=\"M 19.1875 8.296875 \nL 53.609375 8.296875 \nL 53.609375 0 \nL 7.328125 0 \nL 7.328125 8.296875 \nQ 12.9375 14.109375 22.625 23.890625 \nQ 32.328125 33.6875 34.8125 36.53125 \nQ 39.546875 41.84375 41.421875 45.53125 \nQ 43.3125 49.21875 43.3125 52.78125 \nQ 43.3125 58.59375 39.234375 62.25 \nQ 35.15625 65.921875 28.609375 65.921875 \nQ 23.96875 65.921875 18.8125 64.3125 \nQ 13.671875 62.703125 7.8125 59.421875 \nL 7.8125 69.390625 \nQ 13.765625 71.78125 18.9375 73 \nQ 24.125 74.21875 28.421875 74.21875 \nQ 39.75 74.21875 46.484375 68.546875 \nQ 53.21875 62.890625 53.21875 53.421875 \nQ 53.21875 48.921875 51.53125 44.890625 \nQ 49.859375 40.875 45.40625 35.40625 \nQ 44.1875 33.984375 37.640625 27.21875 \nQ 31.109375 20.453125 19.1875 8.296875 \nz\n\" id=\"DejaVuSans-50\"/>\n      </defs>\n      <g transform=\"translate(63.722653 254.356562)scale(0.1 -0.1)\">\n       <use xlink:href=\"#DejaVuSans-8722\"/>\n       <use x=\"83.789062\" xlink:href=\"#DejaVuSans-50\"/>\n      </g>\n     </g>\n    </g>\n    <g id=\"xtick_2\">\n     <g id=\"line2d_2\">\n      <g>\n       <use style=\"stroke:#000000;stroke-width:0.8;\" x=\"145.327342\" xlink:href=\"#mecd0579df7\" y=\"239.758125\"/>\n      </g>\n     </g>\n     <g id=\"text_2\">\n      <!-- −1 -->\n      <defs>\n       <path d=\"M 12.40625 8.296875 \nL 28.515625 8.296875 \nL 28.515625 63.921875 \nL 10.984375 60.40625 \nL 10.984375 69.390625 \nL 28.421875 72.90625 \nL 38.28125 72.90625 \nL 38.28125 8.296875 \nL 54.390625 8.296875 \nL 54.390625 0 \nL 12.40625 0 \nz\n\" id=\"DejaVuSans-49\"/>\n      </defs>\n      <g transform=\"translate(137.956248 254.356562)scale(0.1 -0.1)\">\n       <use xlink:href=\"#DejaVuSans-8722\"/>\n       <use x=\"83.789062\" xlink:href=\"#DejaVuSans-49\"/>\n      </g>\n     </g>\n    </g>\n    <g id=\"xtick_3\">\n     <g id=\"line2d_3\">\n      <g>\n       <use style=\"stroke:#000000;stroke-width:0.8;\" x=\"219.560937\" xlink:href=\"#mecd0579df7\" y=\"239.758125\"/>\n      </g>\n     </g>\n     <g id=\"text_3\">\n      <!-- 0 -->\n      <defs>\n       <path d=\"M 31.78125 66.40625 \nQ 24.171875 66.40625 20.328125 58.90625 \nQ 16.5 51.421875 16.5 36.375 \nQ 16.5 21.390625 20.328125 13.890625 \nQ 24.171875 6.390625 31.78125 6.390625 \nQ 39.453125 6.390625 43.28125 13.890625 \nQ 47.125 21.390625 47.125 36.375 \nQ 47.125 51.421875 43.28125 58.90625 \nQ 39.453125 66.40625 31.78125 66.40625 \nz\nM 31.78125 74.21875 \nQ 44.046875 74.21875 50.515625 64.515625 \nQ 56.984375 54.828125 56.984375 36.375 \nQ 56.984375 17.96875 50.515625 8.265625 \nQ 44.046875 -1.421875 31.78125 -1.421875 \nQ 19.53125 -1.421875 13.0625 8.265625 \nQ 6.59375 17.96875 6.59375 36.375 \nQ 6.59375 54.828125 13.0625 64.515625 \nQ 19.53125 74.21875 31.78125 74.21875 \nz\n\" id=\"DejaVuSans-48\"/>\n      </defs>\n      <g transform=\"translate(216.379687 254.356562)scale(0.1 -0.1)\">\n       <use xlink:href=\"#DejaVuSans-48\"/>\n      </g>\n     </g>\n    </g>\n    <g id=\"xtick_4\">\n     <g id=\"line2d_4\">\n      <g>\n       <use style=\"stroke:#000000;stroke-width:0.8;\" x=\"293.794533\" xlink:href=\"#mecd0579df7\" y=\"239.758125\"/>\n      </g>\n     </g>\n     <g id=\"text_4\">\n      <!-- 1 -->\n      <g transform=\"translate(290.613283 254.356562)scale(0.1 -0.1)\">\n       <use xlink:href=\"#DejaVuSans-49\"/>\n      </g>\n     </g>\n    </g>\n    <g id=\"xtick_5\">\n     <g id=\"line2d_5\">\n      <g>\n       <use style=\"stroke:#000000;stroke-width:0.8;\" x=\"368.028129\" xlink:href=\"#mecd0579df7\" y=\"239.758125\"/>\n      </g>\n     </g>\n     <g id=\"text_5\">\n      <!-- 2 -->\n      <g transform=\"translate(364.846879 254.356562)scale(0.1 -0.1)\">\n       <use xlink:href=\"#DejaVuSans-50\"/>\n      </g>\n     </g>\n    </g>\n    <g id=\"text_6\">\n     <!-- Theoretical quantiles -->\n     <defs>\n      <path d=\"M -0.296875 72.90625 \nL 61.375 72.90625 \nL 61.375 64.59375 \nL 35.5 64.59375 \nL 35.5 0 \nL 25.59375 0 \nL 25.59375 64.59375 \nL -0.296875 64.59375 \nz\n\" id=\"DejaVuSans-84\"/>\n      <path d=\"M 54.890625 33.015625 \nL 54.890625 0 \nL 45.90625 0 \nL 45.90625 32.71875 \nQ 45.90625 40.484375 42.875 44.328125 \nQ 39.84375 48.1875 33.796875 48.1875 \nQ 26.515625 48.1875 22.3125 43.546875 \nQ 18.109375 38.921875 18.109375 30.90625 \nL 18.109375 0 \nL 9.078125 0 \nL 9.078125 75.984375 \nL 18.109375 75.984375 \nL 18.109375 46.1875 \nQ 21.34375 51.125 25.703125 53.5625 \nQ 30.078125 56 35.796875 56 \nQ 45.21875 56 50.046875 50.171875 \nQ 54.890625 44.34375 54.890625 33.015625 \nz\n\" id=\"DejaVuSans-104\"/>\n      <path d=\"M 56.203125 29.59375 \nL 56.203125 25.203125 \nL 14.890625 25.203125 \nQ 15.484375 15.921875 20.484375 11.0625 \nQ 25.484375 6.203125 34.421875 6.203125 \nQ 39.59375 6.203125 44.453125 7.46875 \nQ 49.3125 8.734375 54.109375 11.28125 \nL 54.109375 2.78125 \nQ 49.265625 0.734375 44.1875 -0.34375 \nQ 39.109375 -1.421875 33.890625 -1.421875 \nQ 20.796875 -1.421875 13.15625 6.1875 \nQ 5.515625 13.8125 5.515625 26.8125 \nQ 5.515625 40.234375 12.765625 48.109375 \nQ 20.015625 56 32.328125 56 \nQ 43.359375 56 49.78125 48.890625 \nQ 56.203125 41.796875 56.203125 29.59375 \nz\nM 47.21875 32.234375 \nQ 47.125 39.59375 43.09375 43.984375 \nQ 39.0625 48.390625 32.421875 48.390625 \nQ 24.90625 48.390625 20.390625 44.140625 \nQ 15.875 39.890625 15.1875 32.171875 \nz\n\" id=\"DejaVuSans-101\"/>\n      <path d=\"M 30.609375 48.390625 \nQ 23.390625 48.390625 19.1875 42.75 \nQ 14.984375 37.109375 14.984375 27.296875 \nQ 14.984375 17.484375 19.15625 11.84375 \nQ 23.34375 6.203125 30.609375 6.203125 \nQ 37.796875 6.203125 41.984375 11.859375 \nQ 46.1875 17.53125 46.1875 27.296875 \nQ 46.1875 37.015625 41.984375 42.703125 \nQ 37.796875 48.390625 30.609375 48.390625 \nz\nM 30.609375 56 \nQ 42.328125 56 49.015625 48.375 \nQ 55.71875 40.765625 55.71875 27.296875 \nQ 55.71875 13.875 49.015625 6.21875 \nQ 42.328125 -1.421875 30.609375 -1.421875 \nQ 18.84375 -1.421875 12.171875 6.21875 \nQ 5.515625 13.875 5.515625 27.296875 \nQ 5.515625 40.765625 12.171875 48.375 \nQ 18.84375 56 30.609375 56 \nz\n\" id=\"DejaVuSans-111\"/>\n      <path d=\"M 41.109375 46.296875 \nQ 39.59375 47.171875 37.8125 47.578125 \nQ 36.03125 48 33.890625 48 \nQ 26.265625 48 22.1875 43.046875 \nQ 18.109375 38.09375 18.109375 28.8125 \nL 18.109375 0 \nL 9.078125 0 \nL 9.078125 54.6875 \nL 18.109375 54.6875 \nL 18.109375 46.1875 \nQ 20.953125 51.171875 25.484375 53.578125 \nQ 30.03125 56 36.53125 56 \nQ 37.453125 56 38.578125 55.875 \nQ 39.703125 55.765625 41.0625 55.515625 \nz\n\" id=\"DejaVuSans-114\"/>\n      <path d=\"M 18.3125 70.21875 \nL 18.3125 54.6875 \nL 36.8125 54.6875 \nL 36.8125 47.703125 \nL 18.3125 47.703125 \nL 18.3125 18.015625 \nQ 18.3125 11.328125 20.140625 9.421875 \nQ 21.96875 7.515625 27.59375 7.515625 \nL 36.8125 7.515625 \nL 36.8125 0 \nL 27.59375 0 \nQ 17.1875 0 13.234375 3.875 \nQ 9.28125 7.765625 9.28125 18.015625 \nL 9.28125 47.703125 \nL 2.6875 47.703125 \nL 2.6875 54.6875 \nL 9.28125 54.6875 \nL 9.28125 70.21875 \nz\n\" id=\"DejaVuSans-116\"/>\n      <path d=\"M 9.421875 54.6875 \nL 18.40625 54.6875 \nL 18.40625 0 \nL 9.421875 0 \nz\nM 9.421875 75.984375 \nL 18.40625 75.984375 \nL 18.40625 64.59375 \nL 9.421875 64.59375 \nz\n\" id=\"DejaVuSans-105\"/>\n      <path d=\"M 48.78125 52.59375 \nL 48.78125 44.1875 \nQ 44.96875 46.296875 41.140625 47.34375 \nQ 37.3125 48.390625 33.40625 48.390625 \nQ 24.65625 48.390625 19.8125 42.84375 \nQ 14.984375 37.3125 14.984375 27.296875 \nQ 14.984375 17.28125 19.8125 11.734375 \nQ 24.65625 6.203125 33.40625 6.203125 \nQ 37.3125 6.203125 41.140625 7.25 \nQ 44.96875 8.296875 48.78125 10.40625 \nL 48.78125 2.09375 \nQ 45.015625 0.34375 40.984375 -0.53125 \nQ 36.96875 -1.421875 32.421875 -1.421875 \nQ 20.0625 -1.421875 12.78125 6.34375 \nQ 5.515625 14.109375 5.515625 27.296875 \nQ 5.515625 40.671875 12.859375 48.328125 \nQ 20.21875 56 33.015625 56 \nQ 37.15625 56 41.109375 55.140625 \nQ 45.0625 54.296875 48.78125 52.59375 \nz\n\" id=\"DejaVuSans-99\"/>\n      <path d=\"M 34.28125 27.484375 \nQ 23.390625 27.484375 19.1875 25 \nQ 14.984375 22.515625 14.984375 16.5 \nQ 14.984375 11.71875 18.140625 8.90625 \nQ 21.296875 6.109375 26.703125 6.109375 \nQ 34.1875 6.109375 38.703125 11.40625 \nQ 43.21875 16.703125 43.21875 25.484375 \nL 43.21875 27.484375 \nz\nM 52.203125 31.203125 \nL 52.203125 0 \nL 43.21875 0 \nL 43.21875 8.296875 \nQ 40.140625 3.328125 35.546875 0.953125 \nQ 30.953125 -1.421875 24.3125 -1.421875 \nQ 15.921875 -1.421875 10.953125 3.296875 \nQ 6 8.015625 6 15.921875 \nQ 6 25.140625 12.171875 29.828125 \nQ 18.359375 34.515625 30.609375 34.515625 \nL 43.21875 34.515625 \nL 43.21875 35.40625 \nQ 43.21875 41.609375 39.140625 45 \nQ 35.0625 48.390625 27.6875 48.390625 \nQ 23 48.390625 18.546875 47.265625 \nQ 14.109375 46.140625 10.015625 43.890625 \nL 10.015625 52.203125 \nQ 14.9375 54.109375 19.578125 55.046875 \nQ 24.21875 56 28.609375 56 \nQ 40.484375 56 46.34375 49.84375 \nQ 52.203125 43.703125 52.203125 31.203125 \nz\n\" id=\"DejaVuSans-97\"/>\n      <path d=\"M 9.421875 75.984375 \nL 18.40625 75.984375 \nL 18.40625 0 \nL 9.421875 0 \nz\n\" id=\"DejaVuSans-108\"/>\n      <path id=\"DejaVuSans-32\"/>\n      <path d=\"M 14.796875 27.296875 \nQ 14.796875 17.390625 18.875 11.75 \nQ 22.953125 6.109375 30.078125 6.109375 \nQ 37.203125 6.109375 41.296875 11.75 \nQ 45.40625 17.390625 45.40625 27.296875 \nQ 45.40625 37.203125 41.296875 42.84375 \nQ 37.203125 48.484375 30.078125 48.484375 \nQ 22.953125 48.484375 18.875 42.84375 \nQ 14.796875 37.203125 14.796875 27.296875 \nz\nM 45.40625 8.203125 \nQ 42.578125 3.328125 38.25 0.953125 \nQ 33.9375 -1.421875 27.875 -1.421875 \nQ 17.96875 -1.421875 11.734375 6.484375 \nQ 5.515625 14.40625 5.515625 27.296875 \nQ 5.515625 40.1875 11.734375 48.09375 \nQ 17.96875 56 27.875 56 \nQ 33.9375 56 38.25 53.625 \nQ 42.578125 51.265625 45.40625 46.390625 \nL 45.40625 54.6875 \nL 54.390625 54.6875 \nL 54.390625 -20.796875 \nL 45.40625 -20.796875 \nz\n\" id=\"DejaVuSans-113\"/>\n      <path d=\"M 8.5 21.578125 \nL 8.5 54.6875 \nL 17.484375 54.6875 \nL 17.484375 21.921875 \nQ 17.484375 14.15625 20.5 10.265625 \nQ 23.53125 6.390625 29.59375 6.390625 \nQ 36.859375 6.390625 41.078125 11.03125 \nQ 45.3125 15.671875 45.3125 23.6875 \nL 45.3125 54.6875 \nL 54.296875 54.6875 \nL 54.296875 0 \nL 45.3125 0 \nL 45.3125 8.40625 \nQ 42.046875 3.421875 37.71875 1 \nQ 33.40625 -1.421875 27.6875 -1.421875 \nQ 18.265625 -1.421875 13.375 4.4375 \nQ 8.5 10.296875 8.5 21.578125 \nz\nM 31.109375 56 \nz\n\" id=\"DejaVuSans-117\"/>\n      <path d=\"M 54.890625 33.015625 \nL 54.890625 0 \nL 45.90625 0 \nL 45.90625 32.71875 \nQ 45.90625 40.484375 42.875 44.328125 \nQ 39.84375 48.1875 33.796875 48.1875 \nQ 26.515625 48.1875 22.3125 43.546875 \nQ 18.109375 38.921875 18.109375 30.90625 \nL 18.109375 0 \nL 9.078125 0 \nL 9.078125 54.6875 \nL 18.109375 54.6875 \nL 18.109375 46.1875 \nQ 21.34375 51.125 25.703125 53.5625 \nQ 30.078125 56 35.796875 56 \nQ 45.21875 56 50.046875 50.171875 \nQ 54.890625 44.34375 54.890625 33.015625 \nz\n\" id=\"DejaVuSans-110\"/>\n      <path d=\"M 44.28125 53.078125 \nL 44.28125 44.578125 \nQ 40.484375 46.53125 36.375 47.5 \nQ 32.28125 48.484375 27.875 48.484375 \nQ 21.1875 48.484375 17.84375 46.4375 \nQ 14.5 44.390625 14.5 40.28125 \nQ 14.5 37.15625 16.890625 35.375 \nQ 19.28125 33.59375 26.515625 31.984375 \nL 29.59375 31.296875 \nQ 39.15625 29.25 43.1875 25.515625 \nQ 47.21875 21.78125 47.21875 15.09375 \nQ 47.21875 7.46875 41.1875 3.015625 \nQ 35.15625 -1.421875 24.609375 -1.421875 \nQ 20.21875 -1.421875 15.453125 -0.5625 \nQ 10.6875 0.296875 5.421875 2 \nL 5.421875 11.28125 \nQ 10.40625 8.6875 15.234375 7.390625 \nQ 20.0625 6.109375 24.8125 6.109375 \nQ 31.15625 6.109375 34.5625 8.28125 \nQ 37.984375 10.453125 37.984375 14.40625 \nQ 37.984375 18.0625 35.515625 20.015625 \nQ 33.0625 21.96875 24.703125 23.78125 \nL 21.578125 24.515625 \nQ 13.234375 26.265625 9.515625 29.90625 \nQ 5.8125 33.546875 5.8125 39.890625 \nQ 5.8125 47.609375 11.28125 51.796875 \nQ 16.75 56 26.8125 56 \nQ 31.78125 56 36.171875 55.265625 \nQ 40.578125 54.546875 44.28125 53.078125 \nz\n\" id=\"DejaVuSans-115\"/>\n     </defs>\n     <g transform=\"translate(166.935938 268.034687)scale(0.1 -0.1)\">\n      <use xlink:href=\"#DejaVuSans-84\"/>\n      <use x=\"61.083984\" xlink:href=\"#DejaVuSans-104\"/>\n      <use x=\"124.462891\" xlink:href=\"#DejaVuSans-101\"/>\n      <use x=\"185.986328\" xlink:href=\"#DejaVuSans-111\"/>\n      <use x=\"247.167969\" xlink:href=\"#DejaVuSans-114\"/>\n      <use x=\"288.25\" xlink:href=\"#DejaVuSans-101\"/>\n      <use x=\"349.773438\" xlink:href=\"#DejaVuSans-116\"/>\n      <use x=\"388.982422\" xlink:href=\"#DejaVuSans-105\"/>\n      <use x=\"416.765625\" xlink:href=\"#DejaVuSans-99\"/>\n      <use x=\"471.746094\" xlink:href=\"#DejaVuSans-97\"/>\n      <use x=\"533.025391\" xlink:href=\"#DejaVuSans-108\"/>\n      <use x=\"560.808594\" xlink:href=\"#DejaVuSans-32\"/>\n      <use x=\"592.595703\" xlink:href=\"#DejaVuSans-113\"/>\n      <use x=\"656.072266\" xlink:href=\"#DejaVuSans-117\"/>\n      <use x=\"719.451172\" xlink:href=\"#DejaVuSans-97\"/>\n      <use x=\"780.730469\" xlink:href=\"#DejaVuSans-110\"/>\n      <use x=\"844.109375\" xlink:href=\"#DejaVuSans-116\"/>\n      <use x=\"883.318359\" xlink:href=\"#DejaVuSans-105\"/>\n      <use x=\"911.101562\" xlink:href=\"#DejaVuSans-108\"/>\n      <use x=\"938.884766\" xlink:href=\"#DejaVuSans-101\"/>\n      <use x=\"1000.408203\" xlink:href=\"#DejaVuSans-115\"/>\n     </g>\n    </g>\n   </g>\n   <g id=\"matplotlib.axis_2\">\n    <g id=\"ytick_1\">\n     <g id=\"line2d_6\">\n      <defs>\n       <path d=\"M 0 0 \nL -3.5 0 \n\" id=\"mf3bf242da3\" style=\"stroke:#000000;stroke-width:0.8;\"/>\n      </defs>\n      <g>\n       <use style=\"stroke:#000000;stroke-width:0.8;\" x=\"52.160938\" xlink:href=\"#mf3bf242da3\" y=\"206.369657\"/>\n      </g>\n     </g>\n     <g id=\"text_7\">\n      <!-- −0.2 -->\n      <defs>\n       <path d=\"M 10.6875 12.40625 \nL 21 12.40625 \nL 21 0 \nL 10.6875 0 \nz\n\" id=\"DejaVuSans-46\"/>\n      </defs>\n      <g transform=\"translate(20.878125 210.168876)scale(0.1 -0.1)\">\n       <use xlink:href=\"#DejaVuSans-8722\"/>\n       <use x=\"83.789062\" xlink:href=\"#DejaVuSans-48\"/>\n       <use x=\"147.412109\" xlink:href=\"#DejaVuSans-46\"/>\n       <use x=\"179.199219\" xlink:href=\"#DejaVuSans-50\"/>\n      </g>\n     </g>\n    </g>\n    <g id=\"ytick_2\">\n     <g id=\"line2d_7\">\n      <g>\n       <use style=\"stroke:#000000;stroke-width:0.8;\" x=\"52.160938\" xlink:href=\"#mf3bf242da3\" y=\"165.088327\"/>\n      </g>\n     </g>\n     <g id=\"text_8\">\n      <!-- −0.1 -->\n      <g transform=\"translate(20.878125 168.887546)scale(0.1 -0.1)\">\n       <use xlink:href=\"#DejaVuSans-8722\"/>\n       <use x=\"83.789062\" xlink:href=\"#DejaVuSans-48\"/>\n       <use x=\"147.412109\" xlink:href=\"#DejaVuSans-46\"/>\n       <use x=\"179.199219\" xlink:href=\"#DejaVuSans-49\"/>\n      </g>\n     </g>\n    </g>\n    <g id=\"ytick_3\">\n     <g id=\"line2d_8\">\n      <g>\n       <use style=\"stroke:#000000;stroke-width:0.8;\" x=\"52.160938\" xlink:href=\"#mf3bf242da3\" y=\"123.806998\"/>\n      </g>\n     </g>\n     <g id=\"text_9\">\n      <!-- 0.0 -->\n      <g transform=\"translate(29.257812 127.606216)scale(0.1 -0.1)\">\n       <use xlink:href=\"#DejaVuSans-48\"/>\n       <use x=\"63.623047\" xlink:href=\"#DejaVuSans-46\"/>\n       <use x=\"95.410156\" xlink:href=\"#DejaVuSans-48\"/>\n      </g>\n     </g>\n    </g>\n    <g id=\"ytick_4\">\n     <g id=\"line2d_9\">\n      <g>\n       <use style=\"stroke:#000000;stroke-width:0.8;\" x=\"52.160938\" xlink:href=\"#mf3bf242da3\" y=\"82.525668\"/>\n      </g>\n     </g>\n     <g id=\"text_10\">\n      <!-- 0.1 -->\n      <g transform=\"translate(29.257812 86.324887)scale(0.1 -0.1)\">\n       <use xlink:href=\"#DejaVuSans-48\"/>\n       <use x=\"63.623047\" xlink:href=\"#DejaVuSans-46\"/>\n       <use x=\"95.410156\" xlink:href=\"#DejaVuSans-49\"/>\n      </g>\n     </g>\n    </g>\n    <g id=\"ytick_5\">\n     <g id=\"line2d_10\">\n      <g>\n       <use style=\"stroke:#000000;stroke-width:0.8;\" x=\"52.160938\" xlink:href=\"#mf3bf242da3\" y=\"41.244338\"/>\n      </g>\n     </g>\n     <g id=\"text_11\">\n      <!-- 0.2 -->\n      <g transform=\"translate(29.257812 45.043557)scale(0.1 -0.1)\">\n       <use xlink:href=\"#DejaVuSans-48\"/>\n       <use x=\"63.623047\" xlink:href=\"#DejaVuSans-46\"/>\n       <use x=\"95.410156\" xlink:href=\"#DejaVuSans-50\"/>\n      </g>\n     </g>\n    </g>\n    <g id=\"text_12\">\n     <!-- Ordered Values -->\n     <defs>\n      <path d=\"M 39.40625 66.21875 \nQ 28.65625 66.21875 22.328125 58.203125 \nQ 16.015625 50.203125 16.015625 36.375 \nQ 16.015625 22.609375 22.328125 14.59375 \nQ 28.65625 6.59375 39.40625 6.59375 \nQ 50.140625 6.59375 56.421875 14.59375 \nQ 62.703125 22.609375 62.703125 36.375 \nQ 62.703125 50.203125 56.421875 58.203125 \nQ 50.140625 66.21875 39.40625 66.21875 \nz\nM 39.40625 74.21875 \nQ 54.734375 74.21875 63.90625 63.9375 \nQ 73.09375 53.65625 73.09375 36.375 \nQ 73.09375 19.140625 63.90625 8.859375 \nQ 54.734375 -1.421875 39.40625 -1.421875 \nQ 24.03125 -1.421875 14.8125 8.828125 \nQ 5.609375 19.09375 5.609375 36.375 \nQ 5.609375 53.65625 14.8125 63.9375 \nQ 24.03125 74.21875 39.40625 74.21875 \nz\n\" id=\"DejaVuSans-79\"/>\n      <path d=\"M 45.40625 46.390625 \nL 45.40625 75.984375 \nL 54.390625 75.984375 \nL 54.390625 0 \nL 45.40625 0 \nL 45.40625 8.203125 \nQ 42.578125 3.328125 38.25 0.953125 \nQ 33.9375 -1.421875 27.875 -1.421875 \nQ 17.96875 -1.421875 11.734375 6.484375 \nQ 5.515625 14.40625 5.515625 27.296875 \nQ 5.515625 40.1875 11.734375 48.09375 \nQ 17.96875 56 27.875 56 \nQ 33.9375 56 38.25 53.625 \nQ 42.578125 51.265625 45.40625 46.390625 \nz\nM 14.796875 27.296875 \nQ 14.796875 17.390625 18.875 11.75 \nQ 22.953125 6.109375 30.078125 6.109375 \nQ 37.203125 6.109375 41.296875 11.75 \nQ 45.40625 17.390625 45.40625 27.296875 \nQ 45.40625 37.203125 41.296875 42.84375 \nQ 37.203125 48.484375 30.078125 48.484375 \nQ 22.953125 48.484375 18.875 42.84375 \nQ 14.796875 37.203125 14.796875 27.296875 \nz\n\" id=\"DejaVuSans-100\"/>\n      <path d=\"M 28.609375 0 \nL 0.78125 72.90625 \nL 11.078125 72.90625 \nL 34.1875 11.53125 \nL 57.328125 72.90625 \nL 67.578125 72.90625 \nL 39.796875 0 \nz\n\" id=\"DejaVuSans-86\"/>\n     </defs>\n     <g transform=\"translate(14.798437 169.89125)rotate(-90)scale(0.1 -0.1)\">\n      <use xlink:href=\"#DejaVuSans-79\"/>\n      <use x=\"78.710938\" xlink:href=\"#DejaVuSans-114\"/>\n      <use x=\"119.808594\" xlink:href=\"#DejaVuSans-100\"/>\n      <use x=\"183.285156\" xlink:href=\"#DejaVuSans-101\"/>\n      <use x=\"244.808594\" xlink:href=\"#DejaVuSans-114\"/>\n      <use x=\"285.890625\" xlink:href=\"#DejaVuSans-101\"/>\n      <use x=\"347.414062\" xlink:href=\"#DejaVuSans-100\"/>\n      <use x=\"410.890625\" xlink:href=\"#DejaVuSans-32\"/>\n      <use x=\"442.677734\" xlink:href=\"#DejaVuSans-86\"/>\n      <use x=\"510.976562\" xlink:href=\"#DejaVuSans-97\"/>\n      <use x=\"572.255859\" xlink:href=\"#DejaVuSans-108\"/>\n      <use x=\"600.039062\" xlink:href=\"#DejaVuSans-117\"/>\n      <use x=\"663.417969\" xlink:href=\"#DejaVuSans-101\"/>\n      <use x=\"724.941406\" xlink:href=\"#DejaVuSans-115\"/>\n     </g>\n    </g>\n   </g>\n   <g id=\"line2d_11\">\n    <defs>\n     <path d=\"M 0 3 \nC 0.795609 3 1.55874 2.683901 2.12132 2.12132 \nC 2.683901 1.55874 3 0.795609 3 0 \nC 3 -0.795609 2.683901 -1.55874 2.12132 -2.12132 \nC 1.55874 -2.683901 0.795609 -3 0 -3 \nC -0.795609 -3 -1.55874 -2.683901 -2.12132 -2.12132 \nC -2.683901 -1.55874 -3 -0.795609 -3 0 \nC -3 0.795609 -2.683901 1.55874 -2.12132 2.12132 \nC -1.55874 2.683901 -0.795609 3 0 3 \nz\n\" id=\"mbb34fd5799\" style=\"stroke:#0000ff;\"/>\n    </defs>\n    <g clip-path=\"url(#p2ce8c8aae8)\">\n     <use style=\"fill:#0000ff;stroke:#0000ff;\" x=\"67.379119\" xlink:href=\"#mbb34fd5799\" y=\"229.874489\"/>\n     <use style=\"fill:#0000ff;stroke:#0000ff;\" x=\"96.702469\" xlink:href=\"#mbb34fd5799\" y=\"166.350061\"/>\n     <use style=\"fill:#0000ff;stroke:#0000ff;\" x=\"114.279231\" xlink:href=\"#mbb34fd5799\" y=\"159.893393\"/>\n     <use style=\"fill:#0000ff;stroke:#0000ff;\" x=\"127.378972\" xlink:href=\"#mbb34fd5799\" y=\"156.153267\"/>\n     <use style=\"fill:#0000ff;stroke:#0000ff;\" x=\"138.105325\" xlink:href=\"#mbb34fd5799\" y=\"152.822676\"/>\n     <use style=\"fill:#0000ff;stroke:#0000ff;\" x=\"147.355706\" xlink:href=\"#mbb34fd5799\" y=\"150.563234\"/>\n     <use style=\"fill:#0000ff;stroke:#0000ff;\" x=\"155.602009\" xlink:href=\"#mbb34fd5799\" y=\"148.76287\"/>\n     <use style=\"fill:#0000ff;stroke:#0000ff;\" x=\"163.125682\" xlink:href=\"#mbb34fd5799\" y=\"143.118169\"/>\n     <use style=\"fill:#0000ff;stroke:#0000ff;\" x=\"170.109694\" xlink:href=\"#mbb34fd5799\" y=\"141.455856\"/>\n     <use style=\"fill:#0000ff;stroke:#0000ff;\" x=\"176.680884\" xlink:href=\"#mbb34fd5799\" y=\"138.929718\"/>\n     <use style=\"fill:#0000ff;stroke:#0000ff;\" x=\"182.931785\" xlink:href=\"#mbb34fd5799\" y=\"138.051066\"/>\n     <use style=\"fill:#0000ff;stroke:#0000ff;\" x=\"188.932883\" xlink:href=\"#mbb34fd5799\" y=\"136.571204\"/>\n     <use style=\"fill:#0000ff;stroke:#0000ff;\" x=\"194.739967\" xlink:href=\"#mbb34fd5799\" y=\"130.259334\"/>\n     <use style=\"fill:#0000ff;stroke:#0000ff;\" x=\"200.398808\" xlink:href=\"#mbb34fd5799\" y=\"128.918983\"/>\n     <use style=\"fill:#0000ff;stroke:#0000ff;\" x=\"205.948289\" xlink:href=\"#mbb34fd5799\" y=\"127.584658\"/>\n     <use style=\"fill:#0000ff;stroke:#0000ff;\" x=\"211.42262\" xlink:href=\"#mbb34fd5799\" y=\"123.182505\"/>\n     <use style=\"fill:#0000ff;stroke:#0000ff;\" x=\"216.852989\" xlink:href=\"#mbb34fd5799\" y=\"121.485858\"/>\n     <use style=\"fill:#0000ff;stroke:#0000ff;\" x=\"222.268886\" xlink:href=\"#mbb34fd5799\" y=\"116.947464\"/>\n     <use style=\"fill:#0000ff;stroke:#0000ff;\" x=\"227.699255\" xlink:href=\"#mbb34fd5799\" y=\"114.107042\"/>\n     <use style=\"fill:#0000ff;stroke:#0000ff;\" x=\"233.173586\" xlink:href=\"#mbb34fd5799\" y=\"108.824837\"/>\n     <use style=\"fill:#0000ff;stroke:#0000ff;\" x=\"238.723067\" xlink:href=\"#mbb34fd5799\" y=\"108.640395\"/>\n     <use style=\"fill:#0000ff;stroke:#0000ff;\" x=\"244.381908\" xlink:href=\"#mbb34fd5799\" y=\"108.294049\"/>\n     <use style=\"fill:#0000ff;stroke:#0000ff;\" x=\"250.188992\" xlink:href=\"#mbb34fd5799\" y=\"100.175394\"/>\n     <use style=\"fill:#0000ff;stroke:#0000ff;\" x=\"256.19009\" xlink:href=\"#mbb34fd5799\" y=\"95.080619\"/>\n     <use style=\"fill:#0000ff;stroke:#0000ff;\" x=\"262.440991\" xlink:href=\"#mbb34fd5799\" y=\"93.789664\"/>\n     <use style=\"fill:#0000ff;stroke:#0000ff;\" x=\"269.012181\" xlink:href=\"#mbb34fd5799\" y=\"91.575136\"/>\n     <use style=\"fill:#0000ff;stroke:#0000ff;\" x=\"275.996193\" xlink:href=\"#mbb34fd5799\" y=\"91.172132\"/>\n     <use style=\"fill:#0000ff;stroke:#0000ff;\" x=\"283.519866\" xlink:href=\"#mbb34fd5799\" y=\"89.862834\"/>\n     <use style=\"fill:#0000ff;stroke:#0000ff;\" x=\"291.766169\" xlink:href=\"#mbb34fd5799\" y=\"89.826906\"/>\n     <use style=\"fill:#0000ff;stroke:#0000ff;\" x=\"301.01655\" xlink:href=\"#mbb34fd5799\" y=\"74.61516\"/>\n     <use style=\"fill:#0000ff;stroke:#0000ff;\" x=\"311.742903\" xlink:href=\"#mbb34fd5799\" y=\"72.370588\"/>\n     <use style=\"fill:#0000ff;stroke:#0000ff;\" x=\"324.842644\" xlink:href=\"#mbb34fd5799\" y=\"63.862409\"/>\n     <use style=\"fill:#0000ff;stroke:#0000ff;\" x=\"342.419406\" xlink:href=\"#mbb34fd5799\" y=\"50.855927\"/>\n     <use style=\"fill:#0000ff;stroke:#0000ff;\" x=\"371.742756\" xlink:href=\"#mbb34fd5799\" y=\"32.201761\"/>\n    </g>\n   </g>\n   <g id=\"line2d_12\">\n    <path clip-path=\"url(#p2ce8c8aae8)\" d=\"M 67.379119 196.462725 \nL 96.702469 181.254376 \nL 114.279231 172.138312 \nL 127.378972 165.344224 \nL 138.105325 159.781076 \nL 147.355706 154.983431 \nL 155.602009 150.706544 \nL 163.125682 146.804444 \nL 170.109694 143.182235 \nL 176.680884 139.774134 \nL 182.931785 136.532148 \nL 188.932883 133.419721 \nL 194.739967 130.407917 \nL 200.398808 127.472999 \nL 205.948289 124.5948 \nL 211.42262 121.755577 \nL 216.852989 118.939154 \nL 222.268886 116.130237 \nL 227.699255 113.313815 \nL 233.173586 110.474592 \nL 238.723067 107.596392 \nL 244.381908 104.661474 \nL 250.188992 101.649671 \nL 256.19009 98.537244 \nL 262.440991 95.295258 \nL 269.012181 91.887157 \nL 275.996193 88.264948 \nL 283.519866 84.362848 \nL 291.766169 80.08596 \nL 301.01655 75.288316 \nL 311.742903 69.725168 \nL 324.842644 62.93108 \nL 342.419406 53.815016 \nL 371.742756 38.606667 \n\" style=\"fill:none;stroke:#ff0000;stroke-linecap:square;stroke-width:1.5;\"/>\n   </g>\n   <g id=\"patch_3\">\n    <path d=\"M 52.160938 239.758125 \nL 52.160938 22.318125 \n\" style=\"fill:none;stroke:#000000;stroke-linecap:square;stroke-linejoin:miter;stroke-width:0.8;\"/>\n   </g>\n   <g id=\"patch_4\">\n    <path d=\"M 386.960938 239.758125 \nL 386.960938 22.318125 \n\" style=\"fill:none;stroke:#000000;stroke-linecap:square;stroke-linejoin:miter;stroke-width:0.8;\"/>\n   </g>\n   <g id=\"patch_5\">\n    <path d=\"M 52.160937 239.758125 \nL 386.960938 239.758125 \n\" style=\"fill:none;stroke:#000000;stroke-linecap:square;stroke-linejoin:miter;stroke-width:0.8;\"/>\n   </g>\n   <g id=\"patch_6\">\n    <path d=\"M 52.160937 22.318125 \nL 386.960938 22.318125 \n\" style=\"fill:none;stroke:#000000;stroke-linecap:square;stroke-linejoin:miter;stroke-width:0.8;\"/>\n   </g>\n   <g id=\"text_13\">\n    <!-- Probability Plot -->\n    <defs>\n     <path d=\"M 19.671875 64.796875 \nL 19.671875 37.40625 \nL 32.078125 37.40625 \nQ 38.96875 37.40625 42.71875 40.96875 \nQ 46.484375 44.53125 46.484375 51.125 \nQ 46.484375 57.671875 42.71875 61.234375 \nQ 38.96875 64.796875 32.078125 64.796875 \nz\nM 9.8125 72.90625 \nL 32.078125 72.90625 \nQ 44.34375 72.90625 50.609375 67.359375 \nQ 56.890625 61.8125 56.890625 51.125 \nQ 56.890625 40.328125 50.609375 34.8125 \nQ 44.34375 29.296875 32.078125 29.296875 \nL 19.671875 29.296875 \nL 19.671875 0 \nL 9.8125 0 \nz\n\" id=\"DejaVuSans-80\"/>\n     <path d=\"M 48.6875 27.296875 \nQ 48.6875 37.203125 44.609375 42.84375 \nQ 40.53125 48.484375 33.40625 48.484375 \nQ 26.265625 48.484375 22.1875 42.84375 \nQ 18.109375 37.203125 18.109375 27.296875 \nQ 18.109375 17.390625 22.1875 11.75 \nQ 26.265625 6.109375 33.40625 6.109375 \nQ 40.53125 6.109375 44.609375 11.75 \nQ 48.6875 17.390625 48.6875 27.296875 \nz\nM 18.109375 46.390625 \nQ 20.953125 51.265625 25.265625 53.625 \nQ 29.59375 56 35.59375 56 \nQ 45.5625 56 51.78125 48.09375 \nQ 58.015625 40.1875 58.015625 27.296875 \nQ 58.015625 14.40625 51.78125 6.484375 \nQ 45.5625 -1.421875 35.59375 -1.421875 \nQ 29.59375 -1.421875 25.265625 0.953125 \nQ 20.953125 3.328125 18.109375 8.203125 \nL 18.109375 0 \nL 9.078125 0 \nL 9.078125 75.984375 \nL 18.109375 75.984375 \nz\n\" id=\"DejaVuSans-98\"/>\n     <path d=\"M 32.171875 -5.078125 \nQ 28.375 -14.84375 24.75 -17.8125 \nQ 21.140625 -20.796875 15.09375 -20.796875 \nL 7.90625 -20.796875 \nL 7.90625 -13.28125 \nL 13.1875 -13.28125 \nQ 16.890625 -13.28125 18.9375 -11.515625 \nQ 21 -9.765625 23.484375 -3.21875 \nL 25.09375 0.875 \nL 2.984375 54.6875 \nL 12.5 54.6875 \nL 29.59375 11.921875 \nL 46.6875 54.6875 \nL 56.203125 54.6875 \nz\n\" id=\"DejaVuSans-121\"/>\n    </defs>\n    <g transform=\"translate(174.394063 16.318125)scale(0.12 -0.12)\">\n     <use xlink:href=\"#DejaVuSans-80\"/>\n     <use x=\"60.287109\" xlink:href=\"#DejaVuSans-114\"/>\n     <use x=\"101.369141\" xlink:href=\"#DejaVuSans-111\"/>\n     <use x=\"162.550781\" xlink:href=\"#DejaVuSans-98\"/>\n     <use x=\"226.027344\" xlink:href=\"#DejaVuSans-97\"/>\n     <use x=\"287.306641\" xlink:href=\"#DejaVuSans-98\"/>\n     <use x=\"350.783203\" xlink:href=\"#DejaVuSans-105\"/>\n     <use x=\"378.566406\" xlink:href=\"#DejaVuSans-108\"/>\n     <use x=\"406.349609\" xlink:href=\"#DejaVuSans-105\"/>\n     <use x=\"434.132812\" xlink:href=\"#DejaVuSans-116\"/>\n     <use x=\"473.341797\" xlink:href=\"#DejaVuSans-121\"/>\n     <use x=\"532.521484\" xlink:href=\"#DejaVuSans-32\"/>\n     <use x=\"564.308594\" xlink:href=\"#DejaVuSans-80\"/>\n     <use x=\"624.611328\" xlink:href=\"#DejaVuSans-108\"/>\n     <use x=\"652.394531\" xlink:href=\"#DejaVuSans-111\"/>\n     <use x=\"713.576172\" xlink:href=\"#DejaVuSans-116\"/>\n    </g>\n   </g>\n  </g>\n </g>\n <defs>\n  <clipPath id=\"p2ce8c8aae8\">\n   <rect height=\"217.44\" width=\"334.8\" x=\"52.160938\" y=\"22.318125\"/>\n  </clipPath>\n </defs>\n</svg>\n",
      "text/plain": "<Figure size 432x288 with 1 Axes>"
     },
     "metadata": {
      "needs_background": "light"
     },
     "output_type": "display_data"
    }
   ],
   "source": [
    "plot = probplot(bic_diff, plot=plt)"
   ]
  },
  {
   "cell_type": "markdown",
   "execution_count": null,
   "metadata": {},
   "outputs": [],
   "source": [
    "### Normality can be assumed."
   ]
  },
  {
   "cell_type": "code",
   "execution_count": 20,
   "metadata": {},
   "outputs": [
    {
     "data": {
      "text/plain": "Ttest_relResult(statistic=0.9637708999732242, pvalue=0.34217056660914646)"
     },
     "execution_count": 20,
     "metadata": {},
     "output_type": "execute_result"
    }
   ],
   "source": [
    "ttest_rel(total_bic, cc_bic)"
   ]
  },
  {
   "cell_type": "markdown",
   "execution_count": null,
   "metadata": {},
   "outputs": [],
   "source": [
    "## Assumptions of the unpaired t-test\n",
    "\n",
    "* Assumption of independence\n",
    "* Assumption of normality: the dependent variable should be continuous and approximately normally distributed.\n",
    "* Assumption of homogeneity of variance: The variances of the dependent variable should be equal.\n",
    "\n"
   ]
  },
  {
   "cell_type": "code",
   "execution_count": 21,
   "metadata": {},
   "outputs": [],
   "source": [
    "# def transform_skew(df: pd.DataFrame) -> pd.DataFrame:\n",
    "#     '''\n",
    "#     Transforms data with Boxcox transformation\n",
    "#     Keeps the transformation only if it is less skewed than the original\n",
    "#     '''\n",
    "#     data = df.values\n",
    "#     posdata = data[data > 0]\n",
    "#     # posdata = eda.data[eda.data[feat]>0][feat]\n",
    "\n",
    "#     x, lmbda = boxcox(posdata, lmbda=None)\n",
    "    \n",
    "#     transform = np.empty_like(data)\n",
    "#     transform[data > 0] = x\n",
    "#     transform[data == 0] = -1/lmbda\n",
    "\n",
    "#     if abs(skew(transform)) < abs(skew(data)):\n",
    "#         return transform\n",
    "\n",
    "#     else:\n",
    "#         return data"
   ]
  },
  {
   "cell_type": "code",
   "execution_count": 22,
   "metadata": {},
   "outputs": [],
   "source": [
    "# '''\n",
    "# standardizes (and transforms skewness)\n",
    "# '''\n",
    "# print('> performs standardization on both variables...')\n",
    "# std_cc_bic = preprocessing.scale(cc_bic)\n",
    "# std_total_bic = preprocessing.scale(total_bic)"
   ]
  },
  {
   "cell_type": "code",
   "execution_count": 23,
   "metadata": {},
   "outputs": [],
   "source": [
    "# print(\n",
    "#     '\\t\\t---Shapiro Wilk Normality Test - Individual Samples---\\n',\n",
    "#     'Assume normality if p-value > 0.05\\n\\n'\n",
    "#     '\\t\\tTotal BICs\\n W-statistic\\t\\tp-value\\n',\n",
    "#     shapiro(std_total_bic),\n",
    "#     '\\n\\n\\t\\tCochange BICs\\n W-statistic\\t\\tp-value\\n',\n",
    "#     shapiro(std_cc_bic)\n",
    "# )"
   ]
  },
  {
   "cell_type": "code",
   "execution_count": 24,
   "metadata": {},
   "outputs": [],
   "source": [
    "# bic_diff = std_total_bic - std_cc_bic\n",
    "# print(\n",
    "#     '\\t\\t---Shapiro Wilk Normality Test---\\n',\n",
    "#     'Assume normality if p-value > 0.05\\n\\n'\n",
    "#     '\\t\\tDifference of BICs (total - cocahnge)\\n W-statistic\\t\\tp-value\\n',\n",
    "#     shapiro(bic_diff),\n",
    "#     '\\n\\n'\n",
    "# )\n",
    "# print(pd.Series(bic_diff).plot(kind='hist'))"
   ]
  },
  {
   "cell_type": "code",
   "execution_count": 12,
   "metadata": {},
   "outputs": [],
   "source": [
    "# set(new.values) & set_rcc & set(nbic.values)\n",
    "# new_g.apply(lambda x: len(set(x.values) & set(set_rcc) & set(nbic.values)))"
   ]
  }
 ]
}