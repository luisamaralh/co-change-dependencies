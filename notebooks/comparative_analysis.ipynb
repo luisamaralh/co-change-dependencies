{
 "nbformat": 4,
 "nbformat_minor": 2,
 "metadata": {
  "language_info": {
   "name": "python",
   "codemirror_mode": {
    "name": "ipython",
    "version": 3
   },
   "version": "3.7.3"
  },
  "orig_nbformat": 2,
  "file_extension": ".py",
  "mimetype": "text/x-python",
  "name": "python",
  "npconvert_exporter": "python",
  "pygments_lexer": "ipython3",
  "version": 3
 },
 "cells": [
  {
   "cell_type": "code",
   "execution_count": 1,
   "metadata": {},
   "outputs": [],
   "source": [
    "import sys\n",
    "sys.path.append('../')\n",
    "import numpy as np\n",
    "import pandas as pd\n",
    "import seaborn as sns\n",
    "import matplotlib.pyplot as plt\n",
    "from src.eda_methods import show_barplot, load_data, load_data_all\n",
    "from pandas.plotting import register_matplotlib_converters\n",
    "\n",
    "pd.set_option('display.max_colwidth', 125)\n",
    "register_matplotlib_converters()"
   ]
  },
  {
   "cell_type": "code",
   "execution_count": 2,
   "metadata": {},
   "outputs": [],
   "source": [
    "# IMPORTANT - Figure out how to correctly convert old hashes to new hashes\n",
    "\n",
    "# project_name = 'zeppelin'\n",
    "# try:\n",
    "#     tmp =\\\n",
    "#         pd.read_csv(\n",
    "#             'assets/data/{0}/new_{0}_commits.csv'.format(project_name),\n",
    "#             nrows=None,\n",
    "#             header=None\n",
    "#         )\n",
    "# except UnicodeDecodeError:\n",
    "#     tmp =\\\n",
    "#         pd.read_csv(\n",
    "#             'assets/data/{0}/new_{0}_commits.csv'.format(project_name),\n",
    "#             nrows=None,\n",
    "#             header=None,\n",
    "#             encoding='utf-16'\n",
    "#         )\n",
    "# tmp = tmp.set_index(0).apply(pd.to_datetime, axis=1)\n",
    "# tmp['dates_match'] = tmp.apply(lambda x: x.duplicated().sum(), axis=1).astype('bool')\n",
    "\n",
    "# # finds\n",
    "# grouped = tmp.groupby(2)\n",
    "# g_index =\\\n",
    "#     [\n",
    "#             x for x in grouped[1].apply(\n",
    "#                 lambda x: pd.to_datetime(x[0], utc=True) \n",
    "#                 if (x.count() > 1).sum() else ''\n",
    "#             ).values if x\n",
    "#     ]\n",
    "# tmp = tmp.reset_index().set_index(1)\n",
    "# tmp.index = pd.to_datetime(tmp.index, utc=True, infer_datetime_format=True)\n",
    "\n",
    "# transforms date column into datetime_index\n",
    "# new_commits =\\\n",
    "#     pd.Series(\n",
    "#         tmp[0].values,\n",
    "#         index=pd.to_datetime(\n",
    "#                 tmp[1].values,\n",
    "#                 infer_datetime_format=True,\n",
    "#                 utc=True\n",
    "#             )\n",
    "#     )\n",
    "# new_commits.name = project_name"
   ]
  },
  {
   "cell_type": "code",
   "execution_count": 4,
   "metadata": {},
   "outputs": [],
   "source": [
    "old, new, cc, bic = load_data_all(nrows=300)"
   ]
  },
  {
   "cell_type": "code",
   "execution_count": 5,
   "metadata": {},
   "outputs": [
    {
     "name": "stdout",
     "output_type": "stream",
     "text": "Total and duplicated bic for each project:\n\n\t\t\t(total, duplicated)\n"
    },
    {
     "data": {
      "text/plain": "accumulo                      (3603, 2828)\nactivemq                      (8803, 7157)\nambari                      (47658, 40607)\navro                           (1099, 797)\nbeam                          (5690, 3538)\ncalcite                       (9083, 7843)\ncamel                        (10091, 6687)\ncassandra                   (52036, 48730)\ncommons-lang                  (1503, 1003)\ncordova-android                (1435, 922)\ncxf                           (4902, 3446)\neagle                           (689, 456)\nfineract                       (1051, 634)\nflink                         (4421, 2765)\ngeode                        (10888, 9437)\ngroovy                      (17500, 14629)\njames-project                  (1019, 511)\njena                            (930, 594)\nkafka                         (1875, 1174)\nkaraf                         (1795, 1218)\nkylin                         (3278, 2280)\nlucene-solr                   (9854, 6606)\nmahout                        (1824, 1198)\nmaven                         (6792, 5461)\nnetbeans                        (552, 482)\nnifi                          (3603, 2707)\nnutch                         (1495, 1180)\nofbiz                         (4239, 3088)\nparquet-mr                      (468, 317)\nphoenix                       (3274, 2650)\nservicecomb-java-chassis        (340, 172)\nspark                         (6835, 4453)\nstorm                          (1530, 949)\nstruts                        (2517, 1909)\ntika                          (1973, 1362)\nwicket                        (4573, 3133)\nzeppelin                      (3299, 2441)\ndtype: object"
     },
     "execution_count": 5,
     "metadata": {},
     "output_type": "execute_result"
    }
   ],
   "source": [
    "# shows duplicated bug introducing commits (BIC) for each project\n",
    "print('Total and duplicated bic for each project:\\n\\n\\t\\t\\t(total, duplicated)')\n",
    "bic.groupby(level=0).apply(lambda x: (x.count(), x.duplicated().sum()))"
   ]
  },
  {
   "cell_type": "code",
   "execution_count": 12,
   "metadata": {},
   "outputs": [
    {
     "name": "stdout",
     "output_type": "stream",
     "text": "Total BICs after removal of duplicates:\n\naccumulo                     775\nactivemq                    1646\nambari                      7051\navro                         302\nbeam                        2152\ncalcite                     1240\ncamel                       3404\ncassandra                   3306\ncommons-lang                 500\ncordova-android              513\ncxf                         1456\neagle                        233\nfineract                     417\nflink                       1656\ngeode                       1451\ngroovy                      2871\njames-project                508\njena                         336\nkafka                        701\nkaraf                        577\nkylin                        998\nlucene-solr                 3248\nmahout                       626\nmaven                       1331\nnetbeans                      70\nnifi                         896\nnutch                        315\nofbiz                       1151\nparquet-mr                   151\nphoenix                      624\nservicecomb-java-chassis     168\nspark                       2382\nstorm                        581\nstruts                       608\ntika                         611\nwicket                      1440\nzeppelin                     858\ndtype: int64\n"
    }
   ],
   "source": [
    "# removes duplicated BICs\n",
    "print('Total BICs after removal of duplicates:\\n')\n",
    "\n",
    "project_bic = bic.groupby(level=0)\n",
    "\n",
    "# saves unique BICs\n",
    "ubic = project_bic.apply(lambda x: x.drop_duplicates(keep='first')).droplevel(0, axis=0)\n",
    "\n",
    "print(ubic.groupby(level=0, axis=0).count())"
   ]
  },
  {
   "cell_type": "code",
   "execution_count": 19,
   "metadata": {},
   "outputs": [
    {
     "data": {
      "text/plain": "2019-10-25 21:18:21+00:00    85a631dbb540895be4944966ef998a392db642f4\n2019-10-25 21:18:21+00:00    c8de1ab06a3bed2e1c250d53ec91a39feaa452ff\n2019-11-27 21:32:45+00:00    5593b18f76337f7e233381fee47cc793c1e38b10\n2019-11-27 21:32:45+00:00    b4bbe1d56a9a3f03fab1baf9d8946bf261138fbb\n2019-11-27 21:32:45+00:00    57cc008dc5a678c5e0d176bc9692fe26b017665c\n                                               ...                   \n2019-04-22 17:00:28+00:00    1d884fc894a88a9ba6f693deb70595e562a9f748\n2019-04-22 17:00:28+00:00    67c01251588532e09f73a67dca3de4b7daf84f64\n2019-04-22 17:00:28+00:00    7fe35a7a49a630cd0a344a22c32604d6c085cb77\n2019-10-29 08:26:03+00:00    f417260d6f07e08bd3b302d4c242cbc687f812d1\n2019-10-29 08:26:03+00:00    38a8a13cf4e5848cccc0a7a77fbbfda9f0f6be2e\nLength: 1335, dtype: object"
     },
     "execution_count": 19,
     "metadata": {},
     "output_type": "execute_result"
    }
   ],
   "source": [
    "'''\n",
    "shows all conflicting 'created_at' commits\n",
    "proceed with manual investigation of how to solve this (HUGE ISSUE!!!)\n",
    "'''\n",
    "# old.droplevel(0, axis=0)[old.droplevel(0, axis=0).index.duplicated(keep=False)]\n",
    "new.droplevel(0, axis=0)[new.droplevel(0, axis=0).index.duplicated(keep=False)]"
   ]
  },
  {
   "cell_type": "code",
   "execution_count": 0,
   "metadata": {},
   "outputs": [],
   "source": [
    "# # creates a dataframe to support conversion of old hashes into new ones\n",
    "# conv_df = pd.DataFrame()\n",
    "\n",
    "# conv_df['old_hash'] = old.sort_index()\n",
    "# conv_df['new_hash'] =\\\n",
    "#     new.sort_index()\\\n",
    "#     .reset_index(drop=True)[\n",
    "#         old.sort_index()\\\n",
    "#         .reset_index(drop=True)\\\n",
    "#         .index\n",
    "#     ].values"
   ]
  }
 ]
}